{
 "cells": [
  {
   "cell_type": "code",
   "execution_count": null,
   "metadata": {},
   "outputs": [],
   "source": [
    "import os, sys\n",
    "import numpy as np\n",
    "import pandas as pd\n",
    "import matplotlib.pyplot as plt\n",
    "import sklearn as sklearn"
   ]
  },
  {
   "cell_type": "markdown",
   "metadata": {},
   "source": [
    "## Read imputed files and creating training matrix using windows"
   ]
  },
  {
   "cell_type": "code",
   "execution_count": 337,
   "metadata": {
    "code_folding": [
     6
    ]
   },
   "outputs": [],
   "source": [
    "def create_train_data(window_size=6, impute_method='mean'):\n",
    "    X_train = []\n",
    "    y_train = []\n",
    "    features = None\n",
    "\n",
    "    i = 0\n",
    "    for file in os.listdir('../data/train_%s_imputed/'%impute_method):\n",
    "\n",
    "        # Read file\n",
    "        patient_df = []\n",
    "        with open('../data/train_%s_imputed/%s' % (impute_method, file)) as f:\n",
    "\n",
    "            if not features:\n",
    "                features = f.readline().rstrip('\\n').split('|')\n",
    "            else:\n",
    "                # This skips the headers\n",
    "                f.readline()\n",
    "\n",
    "            for idx, line in enumerate(f):\n",
    "                line = line.rstrip('\\n')\n",
    "                patient_df.append(line.split('|'))\n",
    "\n",
    "        patient_df = np.array(patient_df)\n",
    "        \n",
    "        # Get sliding-window data\n",
    "        window_start = 0\n",
    "        while (window_start + window_size) <= patient_df.shape[0]:\n",
    "            window_data = patient_df[window_start:window_start + window_size, 1:37].astype(np.float)\n",
    "            assert window_data.shape[0] == window_size\n",
    "\n",
    "            x_i = np.reshape(window_data, (window_size*window_data.shape[1],))\n",
    "            X_train.append(x_i)\n",
    "\n",
    "            label = int(patient_df[window_start + window_size - 1, 41])\n",
    "            y_train.append(label)\n",
    "\n",
    "            window_start += 1\n",
    "    \n",
    "    return np.array(X_train), np.array(y_train), features"
   ]
  },
  {
   "cell_type": "code",
   "execution_count": 338,
   "metadata": {},
   "outputs": [],
   "source": [
    "X_train, y_train, features = create_train_data()"
   ]
  },
  {
   "cell_type": "code",
   "execution_count": 339,
   "metadata": {},
   "outputs": [
    {
     "data": {
      "text/plain": [
       "((130976, 216), (130976,))"
      ]
     },
     "execution_count": 339,
     "metadata": {},
     "output_type": "execute_result"
    }
   ],
   "source": [
    "X_train.shape, y_train.shape"
   ]
  },
  {
   "cell_type": "code",
   "execution_count": 388,
   "metadata": {},
   "outputs": [
    {
     "data": {
      "text/plain": [
       "['HR',\n",
       " 'O2Sat',\n",
       " 'Temp',\n",
       " 'SBP',\n",
       " 'MAP',\n",
       " 'DBP',\n",
       " 'Resp',\n",
       " 'EtCO2',\n",
       " 'BaseExcess',\n",
       " 'HCO3',\n",
       " 'FiO2',\n",
       " 'pH',\n",
       " 'PaCO2',\n",
       " 'SaO2',\n",
       " 'AST',\n",
       " 'BUN',\n",
       " 'Alkalinephos',\n",
       " 'Calcium',\n",
       " 'Chloride',\n",
       " 'Creatinine',\n",
       " 'Bilirubin_direct',\n",
       " 'Glucose',\n",
       " 'Lactate',\n",
       " 'Magnesium',\n",
       " 'Phosphate',\n",
       " 'Potassium',\n",
       " 'Bilirubin_total',\n",
       " 'TroponinI',\n",
       " 'Hct',\n",
       " 'Hgb',\n",
       " 'PTT',\n",
       " 'WBC',\n",
       " 'Fibrinogen',\n",
       " 'Platelets',\n",
       " 'Age',\n",
       " 'Gender']"
      ]
     },
     "execution_count": 388,
     "metadata": {},
     "output_type": "execute_result"
    }
   ],
   "source": [
    "features[1:37]"
   ]
  },
  {
   "cell_type": "code",
   "execution_count": 341,
   "metadata": {},
   "outputs": [
    {
     "data": {
      "text/plain": [
       "1799"
      ]
     },
     "execution_count": 341,
     "metadata": {},
     "output_type": "execute_result"
    }
   ],
   "source": [
    "y_train.sum()"
   ]
  },
  {
   "cell_type": "markdown",
   "metadata": {},
   "source": [
    "## Train Models and Predict"
   ]
  },
  {
   "cell_type": "code",
   "execution_count": 259,
   "metadata": {},
   "outputs": [],
   "source": [
    "from sklearn.metrics import roc_auc_score, f1_score, confusion_matrix, precision_score, recall_score"
   ]
  },
  {
   "cell_type": "code",
   "execution_count": 371,
   "metadata": {
    "code_folding": [
     12
    ]
   },
   "outputs": [],
   "source": [
    "# Read test files, create windows, and predict. \n",
    "def predict(model, model_type, window_size=6, impute_method='mean'):\n",
    "    X_test = []\n",
    "    y_test = []\n",
    "    features = None\n",
    "    \n",
    "    for file in os.listdir('../data/test_%s_imputed/'%(impute_method)):\n",
    "        X = []\n",
    "        y = []\n",
    "        \n",
    "        # Read file \n",
    "        patient_df = []\n",
    "        with open('../data/test_%s_imputed/%s' % (impute_method, file)) as f:\n",
    "\n",
    "            if not features:\n",
    "                features = f.readline().rstrip('\\n').split('|')\n",
    "            else:\n",
    "                # This skips the headers\n",
    "                f.readline()\n",
    "\n",
    "            for idx, line in enumerate(f):\n",
    "                line = line.rstrip('\\n') \n",
    "                patient_df.append(line.split('|'))\n",
    "        \n",
    "        # Create patient df\n",
    "        patient_df = np.array(patient_df)\n",
    "        X_patient = np.concatenate((patient_df[:,1:37], patient_df[:,41][:,None]), axis=1).astype(np.float)\n",
    "        \n",
    "        assert X_patient.shape[0] == patient_df.shape[0]\n",
    "        \n",
    "        # Append 5 rows of mean values to top of df \n",
    "        mean_vals = np.mean(X_patient, axis=0)\n",
    "        X_patient = np.concatenate(([mean_vals]*max(1,window_size-1), X_patient))\n",
    "    \n",
    "        # Get data for every window\n",
    "        window_start = 0\n",
    "        while (window_start + window_size) <= X_patient.shape[0]:\n",
    "            window_data = X_patient[window_start:window_start + window_size, 0:X_patient.shape[1]-1]\n",
    "            assert window_data.shape[0] == window_size\n",
    "\n",
    "            x_i = np.reshape(window_data, (window_size*window_data.shape[1],))\n",
    "            X.append(x_i)\n",
    "            \n",
    "            label = int(X_patient[window_start+window_size-1, X_patient.shape[1]-1])\n",
    "            y.append(label)\n",
    "\n",
    "            window_start += 1\n",
    "        \n",
    "        # Add X_test to X\n",
    "        X_test.extend(list(X))\n",
    "        y_test.extend(list(y))\n",
    "        \n",
    "        # Predict for every time step\n",
    "        y_pred = model.predict(X)\n",
    "        y_pred_prob = model.predict_proba(X)\n",
    "        \n",
    "        assert y_pred.shape[0] == len(y)\n",
    "        \n",
    "        # Save to file\n",
    "        if not os.path.isdir('../data/model_predictions/%s_pred_%s_imputed_%d'%(model_type, impute_method, window_size)):\n",
    "            os.mkdir('../data/model_predictions/%s_pred_%s_imputed_%d'%(model_type, impute_method, window_size))\n",
    "            \n",
    "        pred = np.transpose(np.vstack((y_pred_prob[:,1], y_pred)))\n",
    "\n",
    "        pred_df = pd.DataFrame(pred, columns=[\"PredictedProbability\", \"PredictedLabel\"])\n",
    "        pred_df.to_csv('../data/model_predictions/%s_pred_%s_imputed_%d/%s'%(model_type, impute_method, window_size, file), sep='|', index=False)\n",
    "        \n",
    "    return np.array(X_test), np.array(y_test)"
   ]
  },
  {
   "cell_type": "markdown",
   "metadata": {},
   "source": [
    "## Regularized Log. Reg. "
   ]
  },
  {
   "cell_type": "code",
   "execution_count": 374,
   "metadata": {
    "code_folding": [],
    "hide_input": false
   },
   "outputs": [],
   "source": [
    "from sklearn.linear_model import LogisticRegression, LogisticRegressionCV\n",
    "\n",
    "lr_model = LogisticRegressionCV(cv=5, solver='lbfgs', max_iter=1000, class_weight='balanced')\n",
    "\n",
    "# window size, imp method, train acc, train recall, train prec., test acc, test auc, \n",
    "# test recall, test prec.\n",
    " \n",
    "lr_results = []\n",
    "\n",
    "for ws in range(1,7):\n",
    "    for imp in ['mean', 'forw']:\n",
    "        res = [ws, imp]\n",
    "        print(\"Working on ws: %d, imp: %s\"%(ws,imp))\n",
    "        \n",
    "        X_train, y_train, _ = create_train_data(window_size=ws, impute_method=imp)\n",
    "        lr_model = lr_model.fit(X_train, y_train)\n",
    "        \n",
    "        res.append(lr_model.score(X_train, y_train))\n",
    "        y_pred = lr_model.predict(X_train)\n",
    "        res.extend([recall_score(y_train, y_pred), precision_score(y_train, y_pred)])\n",
    "        \n",
    "        X_test, y_test = predict(lr_model, 'RLR', window_size=ws, impute_method=imp)\n",
    "        res.append(lr_model.score(X_test, y_test))\n",
    "        \n",
    "        y_pred_prob = lr_model.predict_proba(X_test)\n",
    "        res.append(roc_auc_score(y_test, y_pred_prob[:,1]))\n",
    "        \n",
    "        y_pred = lr_model.predict(X_test)\n",
    "        res.extend([recall_score(y_test, y_pred), precision_score(y_test, y_pred)])\n",
    "        \n",
    "        results.append(res)"
   ]
  },
  {
   "cell_type": "code",
   "execution_count": 380,
   "metadata": {},
   "outputs": [],
   "source": [
    "lr_results = np.array(results)"
   ]
  },
  {
   "cell_type": "code",
   "execution_count": 392,
   "metadata": {},
   "outputs": [],
   "source": [
    "lr_results.tofile('../results/lr_results', sep='\\n')"
   ]
  },
  {
   "cell_type": "markdown",
   "metadata": {},
   "source": [
    "## Random Forest"
   ]
  },
  {
   "cell_type": "code",
   "execution_count": null,
   "metadata": {
    "code_folding": [
     7
    ]
   },
   "outputs": [],
   "source": [
    "from sklearn.ensemble import RandomForestClassifier\n",
    "\n",
    "rf_model = RandomForestClassifier(max_depth=5, class_weight='balanced')\n",
    "\n",
    "rf_results = []\n",
    "\n",
    "for ws in range(1,7):\n",
    "    for imp in ['mean', 'forw']:\n",
    "        res = [ws, imp]\n",
    "        print(\"Working on ws: %d, imp: %s\"%(ws,imp))\n",
    "        \n",
    "        X_train, y_train, _ = create_train_data(window_size=ws, impute_method=imp)\n",
    "        rf_model = rf_model.fit(X_train, y_train)\n",
    "        \n",
    "        res.append(rf_model.score(X_train, y_train))\n",
    "        y_pred = rf_model.predict(X_train)\n",
    "        res.extend([recall_score(y_train, y_pred), precision_score(y_train, y_pred)])\n",
    "        \n",
    "        X_test, y_test = predict(rf_model, 'RF', window_size=ws, impute_method=imp)\n",
    "        res.append(rf_model.score(X_test, y_test))\n",
    "        \n",
    "        y_pred_prob = rf_model.predict_proba(X_test)\n",
    "        res.append(roc_auc_score(y_test, y_pred_prob[:,1]))\n",
    "        \n",
    "        y_pred = rf_model.predict(X_test)\n",
    "        res.extend([recall_score(y_test, y_pred), precision_score(y_test, y_pred)])\n",
    "        \n",
    "        rf_results.append(res)"
   ]
  },
  {
   "cell_type": "code",
   "execution_count": 389,
   "metadata": {},
   "outputs": [],
   "source": [
    "rf_results = np.array(rf_results)"
   ]
  },
  {
   "cell_type": "code",
   "execution_count": 396,
   "metadata": {},
   "outputs": [],
   "source": [
    "rf_results.tofile('../results/rf_results', sep='\\n')"
   ]
  },
  {
   "cell_type": "markdown",
   "metadata": {},
   "source": [
    "## SVM"
   ]
  },
  {
   "cell_type": "code",
   "execution_count": null,
   "metadata": {
    "code_folding": [
     7
    ]
   },
   "outputs": [],
   "source": [
    "from sklearn.svm import SVC\n",
    "\n",
    "svm_model = SVC(class_weight='balanced', max_iter=1000, probability=True)\n",
    "\n",
    "svm_results = []\n",
    "\n",
    "for ws in range(1,7):\n",
    "    for imp in ['mean', 'forw']:\n",
    "        res = [ws, imp]\n",
    "        print(\"Working on ws: %d, imp: %s\"%(ws,imp))\n",
    "        \n",
    "        X_train, y_train, _ = create_train_data(window_size=ws, impute_method=imp)\n",
    "        svm_model = svm_model.fit(X_train, y_train)\n",
    "        \n",
    "        res.append(svm_model.score(X_train, y_train))\n",
    "        y_pred = svm_model.predict(X_train)\n",
    "        res.extend([recall_score(y_train, y_pred), precision_score(y_train, y_pred)])\n",
    "        \n",
    "        X_test, y_test = predict(svm_model, 'SVM', window_size=ws, impute_method=imp)\n",
    "        res.append(svm_model.score(X_test, y_test))\n",
    "        \n",
    "        y_pred_prob = svm_model.predict_proba(X_test)\n",
    "        res.append(roc_auc_score(y_test, y_pred_prob[:,1]))\n",
    "        \n",
    "        y_pred = svm_model.predict(X_test)\n",
    "        res.extend([recall_score(y_test, y_pred), precision_score(y_test, y_pred)])\n",
    "        \n",
    "        svm_results.append(res)"
   ]
  },
  {
   "cell_type": "markdown",
   "metadata": {},
   "source": [
    "## XG Boost"
   ]
  },
  {
   "cell_type": "code",
   "execution_count": 393,
   "metadata": {},
   "outputs": [
    {
     "name": "stdout",
     "output_type": "stream",
     "text": [
      "Working on ws: 1, imp: mean\n",
      "Working on ws: 1, imp: forw\n",
      "Working on ws: 2, imp: mean\n",
      "Working on ws: 2, imp: forw\n",
      "Working on ws: 3, imp: mean\n",
      "Working on ws: 3, imp: forw\n",
      "Working on ws: 4, imp: mean\n",
      "Working on ws: 4, imp: forw\n",
      "Working on ws: 5, imp: mean\n",
      "Working on ws: 5, imp: forw\n",
      "Working on ws: 6, imp: mean\n",
      "Working on ws: 6, imp: forw\n"
     ]
    }
   ],
   "source": [
    "from sklearn.ensemble import GradientBoostingClassifier\n",
    "\n",
    "xg_model = GradientBoostingClassifier(max_features='auto')\n",
    "\n",
    "xg_results = []\n",
    "\n",
    "for ws in range(1,7):\n",
    "    for imp in ['mean', 'forw']:\n",
    "        res = [ws, imp]\n",
    "        print(\"Working on ws: %d, imp: %s\"%(ws,imp))\n",
    "        \n",
    "        X_train, y_train, _ = create_train_data(window_size=ws, impute_method=imp)\n",
    "        xg_model = xg_model.fit(X_train, y_train)\n",
    "        \n",
    "        res.append(xg_model.score(X_train, y_train))\n",
    "        y_pred = xg_model.predict(X_train)\n",
    "        res.extend([recall_score(y_train, y_pred), precision_score(y_train, y_pred)])\n",
    "        \n",
    "        X_test, y_test = predict(xg_model, 'XG', window_size=ws, impute_method=imp)\n",
    "        res.append(xg_model.score(X_test, y_test))\n",
    "        \n",
    "        y_pred_prob = xg_model.predict_proba(X_test)\n",
    "        res.append(roc_auc_score(y_test, y_pred_prob[:,1]))\n",
    "        \n",
    "        y_pred = xg_model.predict(X_test)\n",
    "        res.extend([recall_score(y_test, y_pred), precision_score(y_test, y_pred)])\n",
    "        \n",
    "        xg_results.append(res)"
   ]
  },
  {
   "cell_type": "code",
   "execution_count": 394,
   "metadata": {},
   "outputs": [],
   "source": [
    "xg_results = np.array(xg_results)"
   ]
  },
  {
   "cell_type": "code",
   "execution_count": 397,
   "metadata": {},
   "outputs": [],
   "source": [
    "xg_results.tofile('../results/xg_results', sep='\\n')"
   ]
  },
  {
   "cell_type": "code",
   "execution_count": 399,
   "metadata": {},
   "outputs": [
    {
     "data": {
      "text/plain": [
       "array([['1', 'mean', '0.986872085629504', '0.05225311601150527',\n",
       "        '0.956140350877193', '0.9852899134547912', '0.7632749368086555',\n",
       "        '0.007285974499089253', '0.16'],\n",
       "       ['1', 'forw', '0.9877530203476049', '0.12607861936720996',\n",
       "        '0.9100346020761245', '0.9823790836083894', '0.7116494381646905',\n",
       "        '0.0', '0.0'],\n",
       "       ['2', 'mean', '0.9871543653385587', '0.0803921568627451',\n",
       "        '0.9318181818181818', '0.9846572564506231', '0.7707686176889597',\n",
       "        '0.0037243947858473', '0.047619047619047616'],\n",
       "       ['2', 'forw', '0.9875966144132375', '0.11372549019607843',\n",
       "        '0.9392712550607287', '0.9812151452891107', '0.7286990630535802',\n",
       "        '0.0037243947858473', '0.011695906432748537'],\n",
       "       ['3', 'mean', '0.9871936548791406', '0.08651911468812877',\n",
       "        '0.9197860962566845', '0.9843904261280252', '0.7788484320539926',\n",
       "        '0.00186219739292365', '0.02'],\n",
       "       ['3', 'forw', '0.9880259623992838', '0.14738430583501005',\n",
       "        '0.9451612903225807', '0.981668756837527', '0.7402951739143148',\n",
       "        '0.0037243947858473', '0.012987012987012988'],\n",
       "       ['4', 'mean', '0.9874942436104076', '0.10529045643153527',\n",
       "        '0.9398148148148148', '0.9847639885796622', '0.779394740477033',\n",
       "        '0.00558659217877095', '0.075'],\n",
       "       ['4', 'forw', '0.9880986645176145', '0.1524896265560166',\n",
       "        '0.9363057324840764', '0.9831630066440751', '0.741550871663647',\n",
       "        '0.01303538175046555', '0.06481481481481481'],\n",
       "       ['5', 'mean', '0.9877015173067805', '0.11474530831099196',\n",
       "        '0.9596412556053812', '0.9844971582570643', '0.7756019626169166',\n",
       "        '0.00931098696461825', '0.09259259259259259'],\n",
       "       ['5', 'forw', '0.9881830844001896', '0.15388739946380697',\n",
       "        '0.944078947368421', '0.9831896896763348', '0.7383143080681442',\n",
       "        '0.0037243947858473', '0.020618556701030927'],\n",
       "       ['6', 'mean', '0.9878756413388713', '0.12340188993885493',\n",
       "        '0.9527896995708155', '0.984043546708648', '0.7741658928515618',\n",
       "        '0.00931098696461825', '0.07042253521126761'],\n",
       "       ['6', 'forw', '0.9883108355729294', '0.15786548082267926',\n",
       "        '0.9466666666666667', '0.9826293459988793', '0.7301017352614687',\n",
       "        '0.0148975791433892', '0.06153846153846154']], dtype='<U21')"
      ]
     },
     "execution_count": 399,
     "metadata": {},
     "output_type": "execute_result"
    }
   ],
   "source": [
    "xg_results"
   ]
  },
  {
   "cell_type": "markdown",
   "metadata": {},
   "source": [
    "# AdaBoost"
   ]
  },
  {
   "cell_type": "code",
   "execution_count": 395,
   "metadata": {},
   "outputs": [
    {
     "name": "stdout",
     "output_type": "stream",
     "text": [
      "Working on ws: 1, imp: mean\n",
      "Working on ws: 1, imp: forw\n",
      "Working on ws: 2, imp: mean\n",
      "Working on ws: 2, imp: forw\n",
      "Working on ws: 3, imp: mean\n",
      "Working on ws: 3, imp: forw\n",
      "Working on ws: 4, imp: mean\n",
      "Working on ws: 4, imp: forw\n",
      "Working on ws: 5, imp: mean\n",
      "Working on ws: 5, imp: forw\n",
      "Working on ws: 6, imp: mean\n",
      "Working on ws: 6, imp: forw\n"
     ]
    }
   ],
   "source": [
    "from sklearn.ensemble import AdaBoostClassifier\n",
    "\n",
    "ab_model = AdaBoostClassifier(n_estimators=100)\n",
    "\n",
    "ab_results = []\n",
    "\n",
    "for ws in range(1,7):\n",
    "    for imp in ['mean', 'forw']:\n",
    "        res = [ws, imp]\n",
    "        print(\"Working on ws: %d, imp: %s\"%(ws,imp))\n",
    "        \n",
    "        X_train, y_train, _ = create_train_data(window_size=ws, impute_method=imp)\n",
    "        ab_model = ab_model.fit(X_train, y_train)\n",
    "        \n",
    "        res.append(ab_model.score(X_train, y_train))\n",
    "        y_pred = ab_model.predict(X_train)\n",
    "        res.extend([recall_score(y_train, y_pred), precision_score(y_train, y_pred)])\n",
    "        \n",
    "        X_test, y_test = predict(ab_model, 'AB', window_size=ws, impute_method=imp)\n",
    "        res.append(ab_model.score(X_test, y_test))\n",
    "        \n",
    "        y_pred_prob = ab_model.predict_proba(X_test)\n",
    "        res.append(roc_auc_score(y_test, y_pred_prob[:,1]))\n",
    "        \n",
    "        y_pred = ab_model.predict(X_test)\n",
    "        res.extend([recall_score(y_test, y_pred), precision_score(y_test, y_pred)])\n",
    "        \n",
    "        ab_results.append(res)\n",
    "\n",
    "ab_results = np.array(ab_results)"
   ]
  },
  {
   "cell_type": "code",
   "execution_count": 398,
   "metadata": {},
   "outputs": [],
   "source": [
    "ab_results.tofile('../results/ab_results', sep='\\n')"
   ]
  },
  {
   "cell_type": "code",
   "execution_count": 400,
   "metadata": {},
   "outputs": [
    {
     "data": {
      "text/plain": [
       "array([['1', 'mean', '0.9860706337431114', '0.004314477468839885',\n",
       "        '0.2571428571428571', '0.9853938716635913', '0.7433725448160046',\n",
       "        '0.0018214936247723133', '0.06666666666666667'],\n",
       "       ['1', 'forw', '0.9860573866044934', '0.003835091083413231',\n",
       "        '0.22857142857142856', '0.9835486134573901',\n",
       "        '0.6740974606665338', '0.020036429872495445',\n",
       "        '0.10377358490566038'],\n",
       "       ['2', 'mean', '0.9858208142826039', '0.011274509803921568',\n",
       "        '0.25555555555555554', '0.9851375510312992', '0.762122784040555',\n",
       "        '0.00931098696461825', '0.16666666666666666'],\n",
       "       ['2', 'forw', '0.9859909100805574', '0.003431372549019608',\n",
       "        '0.21212121212121213', '0.9828961763214772',\n",
       "        '0.6838627539348625', '0.027932960893854747',\n",
       "        '0.11194029850746269'],\n",
       "       ['3', 'mean', '0.9856549350940018', '0.012575452716297788',\n",
       "        '0.22123893805309736', '0.9850041358700002',\n",
       "        '0.7446418219085961', '0.00931098696461825',\n",
       "        '0.14285714285714285'],\n",
       "       ['3', 'forw', '0.9859766674127126', '0.007545271629778672',\n",
       "        '0.3191489361702128', '0.9833231048376337', '0.6563834705027731',\n",
       "        '0.0297951582867784', '0.13333333333333333'],\n",
       "       ['4', 'mean', '0.9856521989408243', '0.01711618257261411', '0.25',\n",
       "        '0.984924086773221', '0.7547622396376831', '0.0037243947858473',\n",
       "        '0.0625'],\n",
       "       ['4', 'forw', '0.9860911236472485', '0.01867219917012448',\n",
       "        '0.4675324675324675', '0.983669984257011', '0.6864460108949133',\n",
       "        '0.024208566108007448', '0.12871287128712872'],\n",
       "       ['5', 'mean', '0.9855159435751542', '0.014477211796246649',\n",
       "        '0.1875', '0.9846839394828828', '0.7572389016765826',\n",
       "        '0.0111731843575419', '0.12244897959183673'],\n",
       "       ['5', 'forw', '0.986138276434329', '0.019839142091152815',\n",
       "        '0.4625', '0.9837233503215306', '0.6352975886207337',\n",
       "        '0.0223463687150838', '0.12371134020618557'],\n",
       "       ['6', 'mean', '0.9854782555582702', '0.018343524180100056',\n",
       "        '0.1952662721893491', '0.9844437921925447', '0.743433863762163',\n",
       "        '0.00558659217877095', '0.057692307692307696'],\n",
       "       ['6', 'forw', '0.9863715489860738', '0.022234574763757644',\n",
       "        '0.6060606060606061', '0.984790671611922', '0.6431993751001928',\n",
       "        '0.020484171322160148', '0.2']], dtype='<U21')"
      ]
     },
     "execution_count": 400,
     "metadata": {},
     "output_type": "execute_result"
    }
   ],
   "source": [
    "ab_results"
   ]
  },
  {
   "cell_type": "code",
   "execution_count": null,
   "metadata": {},
   "outputs": [],
   "source": []
  }
 ],
 "metadata": {
  "hide_input": false,
  "kernelspec": {
   "display_name": "Python 3",
   "language": "python",
   "name": "python3"
  }
 },
 "nbformat": 4,
 "nbformat_minor": 2
}
