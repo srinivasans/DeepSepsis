{
 "cells": [
  {
   "cell_type": "code",
   "execution_count": 1,
   "metadata": {},
   "outputs": [],
   "source": [
    "import os, sys\n",
    "import numpy as np\n",
    "import pandas as pd\n",
    "import matplotlib.pyplot as plt\n",
    "import sklearn as sklearn"
   ]
  },
  {
   "cell_type": "markdown",
   "metadata": {},
   "source": [
    "## Read imputed files and creating training matrix using windows"
   ]
  },
  {
   "cell_type": "code",
   "execution_count": 337,
   "metadata": {
    "code_folding": []
   },
   "outputs": [],
   "source": [
    "def create_train_data(window_size=6, impute_method='mean'):\n",
    "    X_train = []\n",
    "    y_train = []\n",
    "    features = None\n",
    "\n",
    "    i = 0\n",
    "    for file in os.listdir('../data/train_%s_imputed/'%impute_method):\n",
    "\n",
    "        # Read file\n",
    "        patient_df = []\n",
    "        with open('../data/train_%s_imputed/%s' % (impute_method, file)) as f:\n",
    "\n",
    "            if not features:\n",
    "                features = f.readline().rstrip('\\n').split('|')\n",
    "            else:\n",
    "                # This skips the headers\n",
    "                f.readline()\n",
    "\n",
    "            for idx, line in enumerate(f):\n",
    "                line = line.rstrip('\\n')\n",
    "                patient_df.append(line.split('|'))\n",
    "\n",
    "        patient_df = np.array(patient_df)\n",
    "        \n",
    "        # Get sliding-window data\n",
    "        window_start = 0\n",
    "        while (window_start + window_size) <= patient_df.shape[0]:\n",
    "            window_data = patient_df[window_start:window_start + window_size, 1:37].astype(np.float)\n",
    "            assert window_data.shape[0] == window_size\n",
    "\n",
    "            x_i = np.reshape(window_data, (window_size*window_data.shape[1],))\n",
    "            X_train.append(x_i)\n",
    "\n",
    "            label = int(patient_df[window_start + window_size - 1, 41])\n",
    "            y_train.append(label)\n",
    "\n",
    "            window_start += 1\n",
    "    \n",
    "    return np.array(X_train), np.array(y_train), features"
   ]
  },
  {
   "cell_type": "code",
   "execution_count": 338,
   "metadata": {},
   "outputs": [],
   "source": [
    "X_train, y_train, features = create_train_data()"
   ]
  },
  {
   "cell_type": "code",
   "execution_count": 339,
   "metadata": {},
   "outputs": [
    {
     "data": {
      "text/plain": [
       "((130976, 216), (130976,))"
      ]
     },
     "execution_count": 339,
     "metadata": {},
     "output_type": "execute_result"
    }
   ],
   "source": [
    "X_train.shape, y_train.shape"
   ]
  },
  {
   "cell_type": "code",
   "execution_count": 340,
   "metadata": {},
   "outputs": [
    {
     "data": {
      "text/plain": [
       "['HR',\n",
       " 'O2Sat',\n",
       " 'Temp',\n",
       " 'SBP',\n",
       " 'MAP',\n",
       " 'DBP',\n",
       " 'Resp',\n",
       " 'EtCO2',\n",
       " 'BaseExcess',\n",
       " 'HCO3',\n",
       " 'FiO2',\n",
       " 'pH',\n",
       " 'PaCO2',\n",
       " 'SaO2',\n",
       " 'AST',\n",
       " 'BUN',\n",
       " 'Alkalinephos',\n",
       " 'Calcium',\n",
       " 'Chloride',\n",
       " 'Creatinine',\n",
       " 'Bilirubin_direct',\n",
       " 'Glucose',\n",
       " 'Lactate',\n",
       " 'Magnesium',\n",
       " 'Phosphate',\n",
       " 'Potassium',\n",
       " 'Bilirubin_total',\n",
       " 'TroponinI',\n",
       " 'Hct',\n",
       " 'Hgb',\n",
       " 'PTT',\n",
       " 'WBC',\n",
       " 'Fibrinogen',\n",
       " 'Platelets',\n",
       " 'Age',\n",
       " 'Gender']"
      ]
     },
     "execution_count": 340,
     "metadata": {},
     "output_type": "execute_result"
    }
   ],
   "source": [
    "features[1:37]"
   ]
  },
  {
   "cell_type": "code",
   "execution_count": 341,
   "metadata": {},
   "outputs": [
    {
     "data": {
      "text/plain": [
       "1799"
      ]
     },
     "execution_count": 341,
     "metadata": {},
     "output_type": "execute_result"
    }
   ],
   "source": [
    "y_train.sum()"
   ]
  },
  {
   "cell_type": "markdown",
   "metadata": {},
   "source": [
    "## Train Models and Predict"
   ]
  },
  {
   "cell_type": "code",
   "execution_count": 259,
   "metadata": {},
   "outputs": [],
   "source": [
    "from sklearn.metrics import roc_auc_score, f1_score, confusion_matrix, precision_score, recall_score"
   ]
  },
  {
   "cell_type": "code",
   "execution_count": 371,
   "metadata": {
    "code_folding": [
     12
    ]
   },
   "outputs": [],
   "source": [
    "# Read test files, create windows, and predict. \n",
    "def predict(model, model_type, window_size=6, impute_method='mean'):\n",
    "    X_test = []\n",
    "    y_test = []\n",
    "    features = None\n",
    "    \n",
    "    for file in os.listdir('../data/test_%s_imputed/'%(impute_method)):\n",
    "        X = []\n",
    "        y = []\n",
    "        \n",
    "        # Read file \n",
    "        patient_df = []\n",
    "        with open('../data/test_%s_imputed/%s' % (impute_method, file)) as f:\n",
    "\n",
    "            if not features:\n",
    "                features = f.readline().rstrip('\\n').split('|')\n",
    "            else:\n",
    "                # This skips the headers\n",
    "                f.readline()\n",
    "\n",
    "            for idx, line in enumerate(f):\n",
    "                line = line.rstrip('\\n') \n",
    "                patient_df.append(line.split('|'))\n",
    "        \n",
    "        # Create patient df\n",
    "        patient_df = np.array(patient_df)\n",
    "        X_patient = np.concatenate((patient_df[:,1:37], patient_df[:,41][:,None]), axis=1).astype(np.float)\n",
    "        \n",
    "        assert X_patient.shape[0] == patient_df.shape[0]\n",
    "        \n",
    "        # Append 5 rows of mean values to top of df \n",
    "        mean_vals = np.mean(X_patient, axis=0)\n",
    "        X_patient = np.concatenate(([mean_vals]*max(1,window_size-1), X_patient))\n",
    "    \n",
    "        # Get data for every window\n",
    "        window_start = 0\n",
    "        while (window_start + window_size) <= X_patient.shape[0]:\n",
    "            window_data = X_patient[window_start:window_start + window_size, 0:X_patient.shape[1]-1]\n",
    "            assert window_data.shape[0] == window_size\n",
    "\n",
    "            x_i = np.reshape(window_data, (window_size*window_data.shape[1],))\n",
    "            X.append(x_i)\n",
    "            \n",
    "            label = int(X_patient[window_start+window_size-1, X_patient.shape[1]-1])\n",
    "            y.append(label)\n",
    "\n",
    "            window_start += 1\n",
    "        \n",
    "        # Add X_test to X\n",
    "        X_test.extend(list(X))\n",
    "        y_test.extend(list(y))\n",
    "        \n",
    "        # Predict for every time step\n",
    "        y_pred = model.predict(X)\n",
    "        y_pred_prob = model.predict_proba(X)\n",
    "        \n",
    "        assert y_pred.shape[0] == len(y)\n",
    "        \n",
    "        # Save to file\n",
    "        if not os.path.isdir('../data/model_predictions/%s_pred_%s_imputed_%d'%(model_type, impute_method, window_size)):\n",
    "            os.mkdir('../data/model_predictions/%s_pred_%s_imputed_%d'%(model_type, impute_method, window_size))\n",
    "            \n",
    "        pred = np.transpose(np.vstack((y_pred_prob[:,1], y_pred)))\n",
    "\n",
    "        pred_df = pd.DataFrame(pred, columns=[\"PredictedProbability\", \"PredictedLabel\"])\n",
    "        pred_df.to_csv('../data/model_predictions/%s_pred_%s_imputed_%d/%s'%(model_type, impute_method, window_size, file), sep='|', index=False)\n",
    "        \n",
    "    return np.array(X_test), np.array(y_test)"
   ]
  },
  {
   "cell_type": "markdown",
   "metadata": {},
   "source": [
    "## Regularized Log. Reg. "
   ]
  },
  {
   "cell_type": "code",
   "execution_count": 374,
   "metadata": {
    "hide_input": false
   },
   "outputs": [],
   "source": [
    "from sklearn.linear_model import LogisticRegression, LogisticRegressionCV\n",
    "\n",
    "lr_model = LogisticRegressionCV(cv=5, solver='lbfgs', max_iter=1000, class_weight='balanced')\n",
    "\n",
    "# window size, imp method, train acc, train recall, train prec., test acc, test auc, \n",
    "# test recall, test prec.\n",
    " \n",
    "lr_results = []\n",
    "\n",
    "for ws in range(1,7):\n",
    "    for imp in ['mean', 'forw']:\n",
    "        res = [ws, imp]\n",
    "        print(\"Working on ws: %d, imp: %s\"%(ws,imp))\n",
    "        \n",
    "        X_train, y_train, _ = create_train_data(window_size=ws, impute_method=imp)\n",
    "        lr_model = lr_model.fit(X_train, y_train)\n",
    "        \n",
    "        res.append(lr_model.score(X_train, y_train))\n",
    "        y_pred = lr_model.predict(X_train)\n",
    "        res.extend([recall_score(y_train, y_pred), precision_score(y_train, y_pred)])\n",
    "        \n",
    "        X_test, y_test = predict(lr_model, 'RLR', window_size=ws, impute_method=imp)\n",
    "        res.append(lr_model.score(X_test, y_test))\n",
    "        \n",
    "        y_pred_prob = lr_model.predict_proba(X_test)\n",
    "        res.append(roc_auc_score(y_test, y_pred_prob[:,1]))\n",
    "        \n",
    "        y_pred = lr_model.predict(X_test)\n",
    "        res.extend([recall_score(y_test, y_pred), precision_score(y_test, y_pred)])\n",
    "        \n",
    "        results.append(res)"
   ]
  },
  {
   "cell_type": "code",
   "execution_count": 380,
   "metadata": {},
   "outputs": [],
   "source": [
    "lr_results = np.array(results)"
   ]
  },
  {
   "cell_type": "markdown",
   "metadata": {},
   "source": [
    "## Random Forest"
   ]
  },
  {
   "cell_type": "code",
   "execution_count": 382,
   "metadata": {},
   "outputs": [
    {
     "name": "stdout",
     "output_type": "stream",
     "text": [
      "Working on ws: 1, imp: mean\n"
     ]
    },
    {
     "name": "stderr",
     "output_type": "stream",
     "text": [
      "/usr/local/Cellar/python3/3.5.2_3/Frameworks/Python.framework/Versions/3.5/lib/python3.5/site-packages/sklearn/ensemble/forest.py:248: FutureWarning: The default value of n_estimators will change from 10 in version 0.20 to 100 in 0.22.\n",
      "  \"10 in version 0.20 to 100 in 0.22.\", FutureWarning)\n"
     ]
    },
    {
     "name": "stdout",
     "output_type": "stream",
     "text": [
      "Working on ws: 1, imp: forw\n",
      "Working on ws: 2, imp: mean\n",
      "Working on ws: 2, imp: forw\n",
      "Working on ws: 3, imp: mean\n",
      "Working on ws: 3, imp: forw\n",
      "Working on ws: 4, imp: mean\n",
      "Working on ws: 4, imp: forw\n",
      "Working on ws: 5, imp: mean\n",
      "Working on ws: 5, imp: forw\n",
      "Working on ws: 6, imp: mean\n",
      "Working on ws: 6, imp: forw\n"
     ]
    }
   ],
   "source": [
    "from sklearn.ensemble import RandomForestClassifier\n",
    "\n",
    "rf_model = RandomForestClassifier(max_depth=5, class_weight='balanced')\n",
    "\n",
    "rf_results = []\n",
    "\n",
    "for ws in range(1,7):\n",
    "    for imp in ['mean', 'forw']:\n",
    "        res = [ws, imp]\n",
    "        print(\"Working on ws: %d, imp: %s\"%(ws,imp))\n",
    "        \n",
    "        X_train, y_train, _ = create_train_data(window_size=ws, impute_method=imp)\n",
    "        rf_model = rf_model.fit(X_train, y_train)\n",
    "        \n",
    "        res.append(rf_model.score(X_train, y_train))\n",
    "        y_pred = rf_model.predict(X_train)\n",
    "        res.extend([recall_score(y_train, y_pred), precision_score(y_train, y_pred)])\n",
    "        \n",
    "        X_test, y_test = predict(rf_model, 'RF', window_size=ws, impute_method=imp)\n",
    "        res.append(rf_model.score(X_test, y_test))\n",
    "        \n",
    "        y_pred_prob = rf_model.predict_proba(X_test)\n",
    "        res.append(roc_auc_score(y_test, y_pred_prob[:,1]))\n",
    "        \n",
    "        y_pred = rf_model.predict(X_test)\n",
    "        res.extend([recall_score(y_test, y_pred), precision_score(y_test, y_pred)])\n",
    "        \n",
    "        rf_results.append(res)"
   ]
  },
  {
   "cell_type": "code",
   "execution_count": 384,
   "metadata": {},
   "outputs": [
    {
     "data": {
      "text/plain": [
       "array([['1', 'mean', '0.841935142009326', '0.48801534036433364',\n",
       "        '0.042747963382884016', '0.8386048808379032',\n",
       "        '0.7370893571137952', '0.48816029143898', '0.04324673228981765'],\n",
       "       ['1', 'forw', '0.8308671576939382', '0.6860019175455417',\n",
       "        '0.054387898597544754', '0.811575746549887',\n",
       "        '0.7223680742613077', '0.4972677595628415',\n",
       "        '0.037670760314612944'],\n",
       "       ['2', 'mean', '0.8398037774874809', '0.49754901960784315',\n",
       "        '0.04312725727639686', '0.8389679003121915', '0.743989422678479',\n",
       "        '0.5344506517690876', '0.04726613965744401'],\n",
       "       ['2', 'forw', '0.8299790441976922', '0.7029411764705882',\n",
       "        '0.05554479606460859', '0.8127918456653415',\n",
       "        '0.7180933347045236', '0.4767225325884544',\n",
       "        '0.03661850951223001'],\n",
       "       ['3', 'mean', '0.862886078782453', '0.5231388329979879',\n",
       "        '0.05280259951259139', '0.858233049603757', '0.7532411762392888',\n",
       "        '0.48044692737430167', '0.048752834467120185'],\n",
       "       ['3', 'forw', '0.8378818822739481', '0.6971830985915493',\n",
       "        '0.05783916871844093', '0.8134055554073165',\n",
       "        '0.7471546793380781', '0.547486033519553',\n",
       "        '0.041737649063032366'],\n",
       "       ['4', 'mean', '0.8756547893161409', '0.49118257261410786',\n",
       "        '0.05490809995941323', '0.8746697974757851',\n",
       "        '0.7273261083704109', '0.441340782122905', '0.05114372032801036'],\n",
       "       ['4', 'forw', '0.8458151047662906', '0.7007261410788381',\n",
       "        '0.06085037384019458', '0.8286949328921739',\n",
       "        '0.7408413563088364', '0.43947858472998136',\n",
       "        '0.03713611329661684'],\n",
       "       ['5', 'mean', '0.8556187766714083', '0.5158176943699732',\n",
       "        '0.04921471325523098', '0.8548443045067642',\n",
       "        '0.7251269359240763', '0.49162011173184356',\n",
       "        '0.048609832443380595'],\n",
       "       ['5', 'forw', '0.8382379089615932', '0.739946380697051',\n",
       "        '0.060715385630692065', '0.8094031005683486',\n",
       "        '0.7269227162876233', '0.49906890130353815',\n",
       "        '0.037524502940352845'],\n",
       "       ['6', 'mean', '0.8749312851209382', '0.4980544747081712',\n",
       "        '0.05472089898619763', '0.8685327000560343',\n",
       "        '0.7512757866952197', '0.4823091247672253',\n",
       "        '0.052770986145069275'],\n",
       "       ['6', 'forw', '0.8384665892988028', '0.745414118954975',\n",
       "        '0.060843920145190564', '0.8152733676655015',\n",
       "        '0.7375924419184967', '0.48044692737430167',\n",
       "        '0.03738046942915097']], dtype='<U21')"
      ]
     },
     "execution_count": 384,
     "metadata": {},
     "output_type": "execute_result"
    }
   ],
   "source": [
    "rf_results = np.array(rf_results)\n",
    "rf_results"
   ]
  },
  {
   "cell_type": "markdown",
   "metadata": {},
   "source": [
    "## SVM"
   ]
  },
  {
   "cell_type": "code",
   "execution_count": null,
   "metadata": {},
   "outputs": [],
   "source": [
    "from sklearn.linear import SVC"
   ]
  },
  {
   "cell_type": "markdown",
   "metadata": {},
   "source": [
    "## XG Boost"
   ]
  },
  {
   "cell_type": "code",
   "execution_count": null,
   "metadata": {},
   "outputs": [],
   "source": []
  },
  {
   "cell_type": "markdown",
   "metadata": {},
   "source": [
    "# AdaBoost"
   ]
  },
  {
   "cell_type": "code",
   "execution_count": 230,
   "metadata": {},
   "outputs": [],
   "source": [
    "from sklearn.ensemble import AdaBoostClassifier\n",
    "adaboost_model = AdaBoostClassifier(n_estimators=100).fit(X_train, y_train)"
   ]
  },
  {
   "cell_type": "code",
   "execution_count": 226,
   "metadata": {},
   "outputs": [
    {
     "data": {
      "text/plain": [
       "0.8549199853408258"
      ]
     },
     "execution_count": 226,
     "metadata": {},
     "output_type": "execute_result"
    }
   ],
   "source": [
    "adaboost_model.score(X_train, y_train)"
   ]
  },
  {
   "cell_type": "code",
   "execution_count": 235,
   "metadata": {},
   "outputs": [
    {
     "data": {
      "text/plain": [
       "(0.018343524180100056, 0.1952662721893491)"
      ]
     },
     "execution_count": 235,
     "metadata": {},
     "output_type": "execute_result"
    }
   ],
   "source": [
    "y_pred = adaboost_model.predict(X_train)\n",
    "recall_score(y_train, y_pred), precision_score(y_train, y_pred)"
   ]
  },
  {
   "cell_type": "code",
   "execution_count": 236,
   "metadata": {},
   "outputs": [
    {
     "data": {
      "text/plain": [
       "array([[129041,    136],\n",
       "       [  1766,     33]])"
      ]
     },
     "execution_count": 236,
     "metadata": {},
     "output_type": "execute_result"
    }
   ],
   "source": [
    "confusion_matrix(y_train, y_pred)"
   ]
  },
  {
   "cell_type": "code",
   "execution_count": 229,
   "metadata": {},
   "outputs": [],
   "source": [
    "X_test, y_test = predict(adaboost_model, 'AB')"
   ]
  },
  {
   "cell_type": "code",
   "execution_count": 231,
   "metadata": {},
   "outputs": [],
   "source": [
    "X_test = X_test.astype(np.float)\n",
    "y_test = y_test.astype(np.int)"
   ]
  },
  {
   "cell_type": "code",
   "execution_count": 232,
   "metadata": {},
   "outputs": [
    {
     "data": {
      "text/plain": [
       "(0.00558659217877095, 0.057692307692307696)"
      ]
     },
     "execution_count": 232,
     "metadata": {},
     "output_type": "execute_result"
    }
   ],
   "source": [
    "y_pred = adaboost_model.predict(X_test)\n",
    "recall_score(y_test, y_pred), precision_score(y_test, y_pred)"
   ]
  },
  {
   "cell_type": "code",
   "execution_count": 233,
   "metadata": {},
   "outputs": [
    {
     "data": {
      "text/plain": [
       "array([[36891,    49],\n",
       "       [  534,     3]])"
      ]
     },
     "execution_count": 233,
     "metadata": {},
     "output_type": "execute_result"
    }
   ],
   "source": [
    "roc_auc_score(y_test, adaboost_model.predict_proba(X_test)[:,1])\n",
    "confusion_matrix(y_test, y_pred)"
   ]
  },
  {
   "cell_type": "code",
   "execution_count": null,
   "metadata": {},
   "outputs": [],
   "source": []
  }
 ],
 "metadata": {
  "hide_input": false,
  "kernelspec": {
   "display_name": "Python 3",
   "language": "python",
   "name": "python3"
  },
  "language_info": {
   "codemirror_mode": {
    "name": "ipython",
    "version": 3
   },
   "file_extension": ".py",
   "mimetype": "text/x-python",
   "name": "python",
   "nbconvert_exporter": "python",
   "pygments_lexer": "ipython3",
   "version": "3.5.2"
  }
 },
 "nbformat": 4,
 "nbformat_minor": 2
}
