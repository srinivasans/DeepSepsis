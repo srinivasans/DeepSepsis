{
 "cells": [
  {
   "cell_type": "code",
   "execution_count": 2,
   "metadata": {},
   "outputs": [],
   "source": [
    "import os, sys\n",
    "import numpy as np\n",
    "import pandas as pd\n",
    "import matplotlib.pyplot as plt\n",
    "import sklearn as sklearn"
   ]
  },
  {
   "cell_type": "code",
   "execution_count": 69,
   "metadata": {},
   "outputs": [],
   "source": [
    "train_df = pd.read_csv('../data/train_forw_mean_imputed').drop(columns=['Unnamed: 0'])\n",
    "test_df = pd.read_csv('../data/test_forw_mean_imputed').drop(columns=['Unnamed: 0'])"
   ]
  },
  {
   "cell_type": "code",
   "execution_count": 70,
   "metadata": {},
   "outputs": [
    {
     "data": {
      "text/plain": [
       "((150976, 42), (37477, 42))"
      ]
     },
     "execution_count": 70,
     "metadata": {},
     "output_type": "execute_result"
    }
   ],
   "source": [
    "train_df.shape, test_df.shape"
   ]
  },
  {
   "cell_type": "code",
   "execution_count": 71,
   "metadata": {},
   "outputs": [
    {
     "data": {
      "text/plain": [
       "Index(['pid', 'HR', 'O2Sat', 'Temp', 'SBP', 'MAP', 'DBP', 'Resp', 'EtCO2',\n",
       "       'BaseExcess', 'HCO3', 'FiO2', 'pH', 'PaCO2', 'SaO2', 'AST', 'BUN',\n",
       "       'Alkalinephos', 'Calcium', 'Chloride', 'Creatinine', 'Bilirubin_direct',\n",
       "       'Glucose', 'Lactate', 'Magnesium', 'Phosphate', 'Potassium',\n",
       "       'Bilirubin_total', 'TroponinI', 'Hct', 'Hgb', 'PTT', 'WBC',\n",
       "       'Fibrinogen', 'Platelets', 'Age', 'Gender', 'Unit1', 'Unit2',\n",
       "       'HospAdmTime', 'ICULOS', 'SepsisLabel'],\n",
       "      dtype='object')"
      ]
     },
     "execution_count": 71,
     "metadata": {},
     "output_type": "execute_result"
    }
   ],
   "source": [
    "train_df.columns"
   ]
  },
  {
   "cell_type": "markdown",
   "metadata": {},
   "source": [
    "## Extract sliding-window data from patients and create new dataset"
   ]
  },
  {
   "cell_type": "code",
   "execution_count": 72,
   "metadata": {},
   "outputs": [],
   "source": [
    "train_df.drop(columns=['Unit1', 'Unit2', 'ICULOS'], inplace=True)\n",
    "test_df.drop(columns=['Unit1', 'Unit2', 'ICULOS'], inplace=True)"
   ]
  },
  {
   "cell_type": "code",
   "execution_count": 73,
   "metadata": {},
   "outputs": [],
   "source": [
    "X_train = []\n",
    "y_train = []\n",
    "window_size = 6\n",
    "\n",
    "for pid, data in train_df.groupby('pid'):\n",
    "    data.reset_index(drop=True, inplace=True)\n",
    "    \n",
    "    # Check if septic\n",
    "    if data['SepsisLabel'].max():\n",
    "        first_sepsis_idx =  data['SepsisLabel'].idxmax() # t-6\n",
    "        end_idx = min(first_sepsis_idx + 9, data.shape[0]) # t+3\n",
    "    else:\n",
    "        end_idx = data.shape[0]\n",
    "    \n",
    "    window_start = 0\n",
    "    while (window_start + window_size) <= end_idx:\n",
    "        new_data = data.iloc[window_start:window_start + window_size].drop(columns=['pid', 'SepsisLabel'])\n",
    "        assert new_data.shape[0] == 6\n",
    "        \n",
    "        x_i = new_data.stack().values # concat rows into one vector\n",
    "        X_train.append(x_i)\n",
    "        \n",
    "        label = data.iloc[window_start + window_size - 1]['SepsisLabel']\n",
    "        y_train.append(label)\n",
    "        \n",
    "        window_start += 1"
   ]
  },
  {
   "cell_type": "code",
   "execution_count": 74,
   "metadata": {},
   "outputs": [],
   "source": [
    "X_train, y_train = np.array(X_train), np.array(y_train)"
   ]
  },
  {
   "cell_type": "code",
   "execution_count": 75,
   "metadata": {},
   "outputs": [
    {
     "data": {
      "text/plain": [
       "((130840, 222), (130840,))"
      ]
     },
     "execution_count": 75,
     "metadata": {},
     "output_type": "execute_result"
    }
   ],
   "source": [
    "X_train.shape, y_train.shape"
   ]
  },
  {
   "cell_type": "code",
   "execution_count": 76,
   "metadata": {},
   "outputs": [],
   "source": [
    "from sklearn.metrics import roc_auc_score, f1_score, confusion_matrix, precision_score, recall_score"
   ]
  },
  {
   "cell_type": "markdown",
   "metadata": {},
   "source": [
    "## Regularized Log. Reg. "
   ]
  },
  {
   "cell_type": "code",
   "execution_count": null,
   "metadata": {
    "hide_input": false
   },
   "outputs": [],
   "source": [
    "from sklearn.linear_model import LogisticRegressionCV\n",
    "\n",
    "lr_model = LogisticRegressionCV(solver='lbfgs', cv=5, max_iter=500, verbose=0).fit(X_train, y_train)"
   ]
  },
  {
   "cell_type": "code",
   "execution_count": 68,
   "metadata": {
    "code_folding": [
     1
    ]
   },
   "outputs": [
    {
     "data": {
      "text/plain": [
       "1.0"
      ]
     },
     "execution_count": 68,
     "metadata": {},
     "output_type": "execute_result"
    }
   ],
   "source": [
    "# Given patient df and model, predict at each time step using window size = 6\n",
    "def predict_patient(data, model, window_size=6):\n",
    "    X = []\n",
    "    y_test = []\n",
    "    \n",
    "    if data['SepsisLabel'].max():\n",
    "        first_sepsis_idx =  data['SepsisLabel'].idxmax()\n",
    "        end_idx = min(first_sepsis_idx + 9, data.shape[0])\n",
    "    else:\n",
    "        end_idx = data.shape[0]\n",
    "        \n",
    "    window_start = 0\n",
    "    \n",
    "    while (window_start + window_size) <= end_idx:\n",
    "        new_data = data.iloc[window_start:window_start + window_size].drop(columns=['pid', 'SepsisLabel'])\n",
    "        assert new_data.shape[0] == 6\n",
    "        \n",
    "        x_i = new_data.stack().values\n",
    "        X.append(x_i)\n",
    "        \n",
    "        label= data.iloc[window_start + window_size - 1]['SepsisLabel']\n",
    "        y_test.append(label)\n",
    "        \n",
    "        window_start += 1\n",
    "    \n",
    "    X, y_test = np.array(X), np.array(y_test)\n",
    "    return model.score(X, y_test)\n",
    "\n",
    "predict_patient(test_df[test_df.pid == 'p01455'], lr_model)"
   ]
  },
  {
   "cell_type": "code",
   "execution_count": 78,
   "metadata": {},
   "outputs": [],
   "source": [
    "X_test, y_test = [], []\n",
    "\n",
    "for pid, data in test_df.groupby('pid'):\n",
    "    data.reset_index(drop=True, inplace=True)\n",
    "    \n",
    "    if data['SepsisLabel'].max():\n",
    "        first_sepsis_idx =  data['SepsisLabel'].idxmax() # t-6\n",
    "        end_idx = min(first_sepsis_idx + 9, data.shape[0]) # t+3\n",
    "    else:\n",
    "        end_idx = data.shape[0]\n",
    "    \n",
    "    window_start = 0\n",
    "    while (window_start + window_size) <= end_idx:\n",
    "        new_data = data.iloc[window_start:window_start + window_size].drop(columns=['pid', 'SepsisLabel'])\n",
    "        assert new_data.shape[0] == 6\n",
    "        \n",
    "        x_i = new_data.stack().values # concat rows into one vector\n",
    "        X_test.append(x_i)\n",
    "        \n",
    "        label = data.iloc[window_start + window_size - 1]['SepsisLabel']\n",
    "        y_test.append(label)\n",
    "        \n",
    "        window_start += 1\n",
    "\n",
    "X_test, y_test = np.array(X_test), np.array(y_test)"
   ]
  },
  {
   "cell_type": "code",
   "execution_count": 82,
   "metadata": {},
   "outputs": [
    {
     "data": {
      "text/plain": [
       "((32441, 222), (32441,))"
      ]
     },
     "execution_count": 82,
     "metadata": {},
     "output_type": "execute_result"
    }
   ],
   "source": [
    "X_test.shape, y_test.shape"
   ]
  },
  {
   "cell_type": "code",
   "execution_count": 79,
   "metadata": {},
   "outputs": [
    {
     "data": {
      "text/plain": [
       "0.6952558418756009"
      ]
     },
     "execution_count": 79,
     "metadata": {},
     "output_type": "execute_result"
    }
   ],
   "source": [
    "y_pred = lr_model.predict_proba(X_test)\n",
    "roc_auc_score(y_test, y_pred[:,1])"
   ]
  },
  {
   "cell_type": "code",
   "execution_count": 80,
   "metadata": {},
   "outputs": [
    {
     "name": "stderr",
     "output_type": "stream",
     "text": [
      "/usr/local/Cellar/python3/3.5.2_3/Frameworks/Python.framework/Versions/3.5/lib/python3.5/site-packages/sklearn/metrics/classification.py:1143: UndefinedMetricWarning: F-score is ill-defined and being set to 0.0 due to no predicted samples.\n",
      "  'precision', 'predicted', average, warn_for)\n"
     ]
    },
    {
     "data": {
      "text/plain": [
       "0.0"
      ]
     },
     "execution_count": 80,
     "metadata": {},
     "output_type": "execute_result"
    }
   ],
   "source": [
    "y_hat = lr_model.predict(X_test)\n",
    "f1_score(y_test, y_hat)"
   ]
  },
  {
   "cell_type": "code",
   "execution_count": 87,
   "metadata": {},
   "outputs": [
    {
     "data": {
      "text/plain": [
       "array([[32004,     0],\n",
       "       [  437,     0]])"
      ]
     },
     "execution_count": 87,
     "metadata": {},
     "output_type": "execute_result"
    }
   ],
   "source": [
    "confusion_matrix(y_test, y_hat)"
   ]
  },
  {
   "cell_type": "markdown",
   "metadata": {},
   "source": [
    "## Random Forest"
   ]
  },
  {
   "cell_type": "code",
   "execution_count": 88,
   "metadata": {},
   "outputs": [
    {
     "name": "stderr",
     "output_type": "stream",
     "text": [
      "/usr/local/Cellar/python3/3.5.2_3/Frameworks/Python.framework/Versions/3.5/lib/python3.5/site-packages/sklearn/ensemble/forest.py:248: FutureWarning: The default value of n_estimators will change from 10 in version 0.20 to 100 in 0.22.\n",
      "  \"10 in version 0.20 to 100 in 0.22.\", FutureWarning)\n"
     ]
    }
   ],
   "source": [
    "from sklearn.ensemble import RandomForestClassifier\n",
    "\n",
    "rf_model = RandomForestClassifier().fit(X_train, y_train)"
   ]
  },
  {
   "cell_type": "code",
   "execution_count": 89,
   "metadata": {},
   "outputs": [
    {
     "data": {
      "text/plain": [
       "0.6184415020204854"
      ]
     },
     "execution_count": 89,
     "metadata": {},
     "output_type": "execute_result"
    }
   ],
   "source": [
    "y_pred = rf_model.predict_proba(X_test)\n",
    "roc_auc_score(y_test, y_pred[:,1])"
   ]
  },
  {
   "cell_type": "code",
   "execution_count": 90,
   "metadata": {},
   "outputs": [
    {
     "data": {
      "text/plain": [
       "array([[31980,    24],\n",
       "       [  432,     5]])"
      ]
     },
     "execution_count": 90,
     "metadata": {},
     "output_type": "execute_result"
    }
   ],
   "source": [
    "y_hat = rf_model.predict(X_test)\n",
    "confusion_matrix(y_test, y_hat)"
   ]
  },
  {
   "cell_type": "code",
   "execution_count": null,
   "metadata": {},
   "outputs": [],
   "source": []
  }
 ],
 "metadata": {
  "hide_input": false,
  "kernelspec": {
   "display_name": "Python 3",
   "language": "python",
   "name": "python3"
  },
  "language_info": {
   "codemirror_mode": {
    "name": "ipython",
    "version": 3
   },
   "file_extension": ".py",
   "mimetype": "text/x-python",
   "name": "python",
   "nbconvert_exporter": "python",
   "pygments_lexer": "ipython3",
   "version": "3.5.2"
  }
 },
 "nbformat": 4,
 "nbformat_minor": 2
}
