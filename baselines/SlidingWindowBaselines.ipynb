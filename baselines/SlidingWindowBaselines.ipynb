{
 "cells": [
  {
   "cell_type": "code",
   "execution_count": null,
   "metadata": {},
   "outputs": [],
   "source": [
    "import os, sys\n",
    "import numpy as np\n",
    "import pandas as pd\n",
    "import matplotlib.pyplot as plt\n",
    "import sklearn as sklearn"
   ]
  },
  {
   "cell_type": "markdown",
   "metadata": {},
   "source": [
    "## Competition Utility Function"
   ]
  },
  {
   "cell_type": "code",
   "execution_count": 404,
   "metadata": {
    "code_folding": [
     0,
     36,
     53,
     169,
     227,
     348,
     415
    ]
   },
   "outputs": [],
   "source": [
    "#!/usr/bin/env python3\n",
    "\n",
    "# This file contains functions for computing scores for the 2019 PhysioNet/CinC\n",
    "# challenge.\n",
    "#\n",
    "# Written by M. Reyna on 1 February 2019.  Last updated on 18 February 2019.\n",
    "#\n",
    "# The compute_scores_2019 function computes a normalized utility score for a\n",
    "# cohort of patients as well as several traditional scoring metrics.\n",
    "#\n",
    "# Inputs:\n",
    "#   'labels_directory' is a directory of pipe-delimited text files containing a\n",
    "#   binary vector of labels indicating whether a patient is not septic (0) or\n",
    "#   septic (1).\n",
    "#\n",
    "#   'predictions_directory' is a directory of pipe-delimited text files, where\n",
    "#   the first column of the file gives the  predicted probability that the\n",
    "#   patient is septic at each time, and the second column of the file is a\n",
    "#   binarized version of this vector. Note that there must be a prediction for\n",
    "#   every label.\n",
    "#\n",
    "#   Note: Currently, filenames in labels_directory and predictions_directory\n",
    "#   must be the same, and the extension must be .psv.\n",
    "#\n",
    "# Output:\n",
    "#   'output_file' is a pipe-delimited text file (optional) that gives AUROC,\n",
    "#   AUPRC, accuracy, F-measure, and utility scores for a cohort of patients.\n",
    "#\n",
    "# Example:\n",
    "#\n",
    "#   In [1]: compute_scores_2019('labels', 'predictions')\n",
    "#   Out[1]: auroc, auprc, accuracy, f_measure, utility\n",
    "\n",
    "import numpy as np, os, os.path, sys, argparse\n",
    "from collections import defaultdict\n",
    "\n",
    "def compute_scores_2019(label_directory, prediction_directory):\n",
    "    # Set parameters.\n",
    "    label_header       = 'SepsisLabel'\n",
    "    prediction_header  = 'PredictedLabel'\n",
    "    probability_header = 'PredictedProbability'\n",
    "\n",
    "    dt_early   = -12\n",
    "    dt_optimal = -6\n",
    "    dt_late    = 3\n",
    "\n",
    "    max_u_tp = 1\n",
    "    min_u_fn = -2\n",
    "    u_fp     = -0.05\n",
    "    u_tn     = 0\n",
    "\n",
    "    # Find label and prediction files.\n",
    "    label_files = []\n",
    "    for filename in os.listdir(label_directory):\n",
    "        full_filename = os.path.join(label_directory, filename)\n",
    "        if os.path.isfile(full_filename) and full_filename.endswith(''):\n",
    "            label_files.append(filename)\n",
    "    label_files = sorted(label_files)\n",
    "\n",
    "    prediction_files = []\n",
    "    for filename in os.listdir(prediction_directory):\n",
    "        full_filename = os.path.join(prediction_directory, filename)\n",
    "        if os.path.isfile(full_filename) and full_filename.endswith(''):\n",
    "            prediction_files.append(filename)\n",
    "    prediction_files = sorted(prediction_files)\n",
    "\n",
    "    if len(label_files) != len(prediction_files):\n",
    "        raise Exception('Numbers of labels and predictions must be the same.')\n",
    "\n",
    "    # Load labels and predictions.\n",
    "    num_files            = len(label_files)\n",
    "    cohort_labels        = []\n",
    "    cohort_predictions   = []\n",
    "    cohort_probabilities = []\n",
    "\n",
    "    for k in range(num_files):\n",
    "        labels        = load_column(os.path.join(label_directory, label_files[k]), label_header)\n",
    "        predictions   = load_column(os.path.join(prediction_directory, prediction_files[k]), prediction_header)\n",
    "        probabilities = load_column(os.path.join(prediction_directory, prediction_files[k]), probability_header)\n",
    "\n",
    "        # Check labels and predictions for errors.\n",
    "        if not (len(labels) == len(predictions) and len(predictions) == len(probabilities)):\n",
    "            raise Exception('Numbers of labels and predictions must be the same.')\n",
    "\n",
    "        num_records = len(labels)\n",
    "\n",
    "        for i in range(num_records):\n",
    "            if labels[i] not in (0, 1):\n",
    "                raise Exception('Labels must satisfy label == 0 or label == 1.')\n",
    "\n",
    "            if predictions[i] not in (0, 1):\n",
    "                raise Exception('Predictions must satisfy prediction == 0 or prediction == 1.')\n",
    "\n",
    "            if not 0 <= probabilities[i] <= 1:\n",
    "                raise Exception('Probabilities must satisfy 0 <= probability <= 1.')\n",
    "\n",
    "        if 0<np.sum(predictions)<num_records:\n",
    "            min_probability_positive = np.min(probabilities[predictions == 1])\n",
    "            max_probability_negative = np.max(probabilities[predictions == 0])\n",
    "\n",
    "            if min_probability_positive <= max_probability_negative:\n",
    "                raise Exception('Predictions are inconsistent with probabilities, i.e., a positive prediction has a lower (or equal) probability than a negative prediction.')\n",
    "\n",
    "        # Record labels and predictions.\n",
    "        cohort_labels.append(labels)\n",
    "        cohort_predictions.append(predictions)\n",
    "        cohort_probabilities.append(probabilities)\n",
    "\n",
    "    # Compute AUC, accuracy, and F-measure.\n",
    "    labels        = np.concatenate(cohort_labels)\n",
    "    predictions   = np.concatenate(cohort_predictions)\n",
    "    probabilities = np.concatenate(cohort_probabilities)\n",
    "\n",
    "    auroc, auprc        = compute_auc(labels, probabilities)\n",
    "    accuracy, f_measure = compute_accuracy_f_measure(labels, predictions)\n",
    "\n",
    "    # Compute utility.\n",
    "    observed_utilities = np.zeros(num_files)\n",
    "    best_utilities     = np.zeros(num_files)\n",
    "    worst_utilities    = np.zeros(num_files)\n",
    "    inaction_utilities = np.zeros(num_files)\n",
    "\n",
    "    for k in range(num_files):\n",
    "        labels = cohort_labels[k]\n",
    "        num_records          = len(labels)\n",
    "        observed_predictions = cohort_predictions[k]\n",
    "        best_predictions     = np.zeros(num_records)\n",
    "        worst_predictions    = np.zeros(num_records)\n",
    "        inaction_predictions = np.zeros(num_records)\n",
    "\n",
    "        if any(labels):\n",
    "            t_sepsis = min(i for i, label in enumerate(labels) if label) - dt_optimal\n",
    "            best_predictions[max(0, t_sepsis + dt_early) : min(t_sepsis + dt_late, num_records)] = 1\n",
    "        else:\n",
    "            best_predictions[:] = 0\n",
    "        worst_predictions = 1 - best_predictions\n",
    "\n",
    "        observed_utilities[k] = compute_prediction_utility(labels, observed_predictions, dt_early, dt_optimal, dt_late, max_u_tp, min_u_fn, u_fp, u_tn)\n",
    "        best_utilities[k]     = compute_prediction_utility(labels, best_predictions, dt_early, dt_optimal, dt_late, max_u_tp, min_u_fn, u_fp, u_tn)\n",
    "        worst_utilities[k]    = compute_prediction_utility(labels, worst_predictions, dt_early, dt_optimal, dt_late, max_u_tp, min_u_fn, u_fp, u_tn)\n",
    "        inaction_utilities[k] = compute_prediction_utility(labels, inaction_predictions, dt_early, dt_optimal, dt_late, max_u_tp, min_u_fn, u_fp, u_tn)\n",
    "\n",
    "    unnormalized_observed_utility = np.sum(observed_utilities)\n",
    "    unnormalized_best_utility     = np.sum(best_utilities)\n",
    "    unnormalized_worst_utility    = np.sum(worst_utilities)\n",
    "    unnormalized_inaction_utility = np.sum(inaction_utilities)\n",
    "\n",
    "    if not (unnormalized_worst_utility <= unnormalized_best_utility and unnormalized_inaction_utility <= unnormalized_best_utility):\n",
    "        raise Exception('Optimal utility must be higher than inaction utility.')\n",
    "\n",
    "    normalized_observed_utility = (unnormalized_observed_utility - unnormalized_inaction_utility) / (unnormalized_best_utility - unnormalized_inaction_utility)\n",
    "\n",
    "    return auroc, auprc, accuracy, f_measure, normalized_observed_utility\n",
    "\n",
    "# The load_column function loads a column from a table.\n",
    "#\n",
    "# Inputs:\n",
    "#   'filename' is a string containing a filename.\n",
    "#\n",
    "#   'header' is a string containing a header.\n",
    "#\n",
    "# Outputs:\n",
    "#   'column' is a vector containing a column from the file with the given\n",
    "#   header.\n",
    "#\n",
    "# Example:\n",
    "#\n",
    "#   Omitted.\n",
    "\n",
    "def load_column(filename, *headers):\n",
    "    header_to_index = defaultdict(list)\n",
    "    header_to_column = defaultdict(list)\n",
    "    with open(filename, 'r') as f:\n",
    "        for i, l in enumerate(f):\n",
    "            arrs = l.strip().split('|')\n",
    "            if i == 0:\n",
    "                for header in headers:\n",
    "                    try:\n",
    "                        header_to_index[header] = arrs.index(header)\n",
    "                    except:\n",
    "                        raise Exception('{} must contain column with header {} containing numerical entries.'.format(filename, header))\n",
    "            else:\n",
    "                for header in headers:\n",
    "                    try:\n",
    "                        header_to_column[header].append(float(arrs[header_to_index[header]]))\n",
    "                    except:\n",
    "                        raise Exception('{} must contain column with header {} containing numerical entries.'.format(filename, header))\n",
    "    columns = [np.array(header_to_column[header]) for header in headers]\n",
    "\n",
    "    if len(headers) == 1:\n",
    "        return columns[0]\n",
    "    else:\n",
    "        return columns\n",
    "\n",
    "# The compute_auc function computes AUROC and AUPRC as well as other summary\n",
    "# statistics (TP, FP, FN, TN, TPR, TNR, PPV, NPV, etc.) that can be exposed\n",
    "# from this function.\n",
    "#\n",
    "# Inputs:\n",
    "#   'labels' is a binary vector, where labels[i] == 0 if the patient is not\n",
    "#   labeled as septic at time i and labels[i] == 1 if the patient is labeled as\n",
    "#   septic at time i.\n",
    "#\n",
    "#   'predictions' is a probability vector, where predictions[i] gives the\n",
    "#   predicted probability that the patient is septic at time i.  Note that there\n",
    "#   must be a prediction for every label, i.e, len(labels) ==\n",
    "#   len(predictions).\n",
    "#\n",
    "# Outputs:\n",
    "#   'auroc' is a scalar that gives the AUROC of the classifier using its\n",
    "#   predicted probabilities, where specificity is interpolated for intermediate\n",
    "#   sensitivity values.\n",
    "#\n",
    "#   'auprc' is a scalar that gives the AUPRC of the classifier using its\n",
    "#   predicted probabilities, where precision is a piecewise constant function of\n",
    "#   recall.\n",
    "#\n",
    "# Example:\n",
    "#\n",
    "#   In [1]: labels = [0, 0, 0, 0, 1, 1]\n",
    "#   In [2]: predictions = [0.3, 0.4, 0.6, 0.7, 0.8, 0.8]\n",
    "#   In [3]: auroc, auprc = compute_auc(labels, predictions)\n",
    "#   In [4]: auroc\n",
    "#   Out[4]: 1.0\n",
    "#   In [5]: auprc\n",
    "#   Out[5]: 1.0\n",
    "\n",
    "def compute_auc(labels, predictions):\n",
    "    # Check inputs for errors.\n",
    "    if len(predictions) != len(labels):\n",
    "        raise Exception('Numbers of predictions and labels must be the same.')\n",
    "\n",
    "    n = len(labels)\n",
    "    for i in range(n):\n",
    "        if not labels[i] in (0, 1):\n",
    "            raise Exception('Labels must satisfy label == 0 or label == 1.')\n",
    "\n",
    "    for i in range(n):\n",
    "        if not 0 <= predictions[i] <= 1:\n",
    "            raise Exception('Predictions must satisfy 0 <= prediction <= 1.')\n",
    "\n",
    "    # Find prediction thresholds.\n",
    "    thresholds = np.unique(predictions)[::-1]\n",
    "    if thresholds[0] != 1:\n",
    "        thresholds = np.concatenate((np.array([1]), thresholds))\n",
    "\n",
    "    if thresholds[-1] != 0:\n",
    "        thresholds = np.concatenate((thresholds, np.array([0])))\n",
    "    m = len(thresholds)\n",
    "\n",
    "    # Populate contingency table across prediction thresholds.\n",
    "    tp = np.zeros(m)\n",
    "    fp = np.zeros(m)\n",
    "    fn = np.zeros(m)\n",
    "    tn = np.zeros(m)\n",
    "\n",
    "    # Find indices that sort predicted probabilities from largest to smallest.\n",
    "    idx = np.argsort(predictions)[::-1]\n",
    "\n",
    "    i = 0\n",
    "    for j in range(m):\n",
    "        # Initialize contingency table for j-th prediction threshold.\n",
    "        if j == 0:\n",
    "            tp[j] = 0\n",
    "            fp[j] = 0\n",
    "            fn[j] = np.sum(labels == 1)\n",
    "            tn[j] = np.sum(labels == 0)\n",
    "        else:\n",
    "            tp[j] = tp[j - 1]\n",
    "            fp[j] = fp[j - 1]\n",
    "            fn[j] = fn[j - 1]\n",
    "            tn[j] = tn[j - 1]\n",
    "\n",
    "        # Update contingency table for i-th largest prediction probability.\n",
    "        while i < n and predictions[idx[i]] >= thresholds[j]:\n",
    "            if labels[idx[i]]:\n",
    "                tp[j] += 1\n",
    "                fn[j] -= 1\n",
    "            else:\n",
    "                fp[j] += 1\n",
    "                tn[j] -= 1\n",
    "            i += 1\n",
    "\n",
    "    # Summarize contingency table.\n",
    "    tpr = np.zeros(m)\n",
    "    tnr = np.zeros(m)\n",
    "    ppv = np.zeros(m)\n",
    "    npv = np.zeros(m)\n",
    "\n",
    "    for j in range(m):\n",
    "        if tp[j] + fn[j]:\n",
    "            tpr[j] = tp[j] / (tp[j] + fn[j])\n",
    "        else:\n",
    "            tpr[j] = 1\n",
    "        if fp[j] + tn[j]:\n",
    "            tnr[j] = tn[j] / (fp[j] + tn[j])\n",
    "        else:\n",
    "            tnr[j] = 1\n",
    "        if tp[j] + fp[j]:\n",
    "            ppv[j] = tp[j] / (tp[j] + fp[j])\n",
    "        else:\n",
    "            ppv[j] = 1\n",
    "        if fn[j] + tn[j]:\n",
    "            npv[j] = tn[j] / (fn[j] + tn[j])\n",
    "        else:\n",
    "            npv[j] = 1\n",
    "\n",
    "    # Compute AUROC as the area under a piecewise linear function of TPR /\n",
    "    # sensitivity (x-axis) and TNR / specificity (y-axis) and AUPRC as the area\n",
    "    # under a piecewise constant of TPR / recall (x-axis) and PPV / precision\n",
    "    # (y-axis).\n",
    "    auroc = 0\n",
    "    auprc = 0\n",
    "    for j in range(m-1):\n",
    "        auroc += 0.5 * (tpr[j + 1] - tpr[j]) * (tnr[j + 1] + tnr[j])\n",
    "        auprc += (tpr[j + 1] - tpr[j]) * ppv[j + 1]\n",
    "\n",
    "    return auroc, auprc\n",
    "\n",
    "# The compute_accuracy_f_measure function computes the accuracy and F-measure\n",
    "# for a patient.\n",
    "#\n",
    "# Inputs:\n",
    "#   'labels' is a binary vector, where labels[i] == 0 if the patient is not\n",
    "#   labeled as septic at time i and labels[i] == 1 if the patient is labeled as\n",
    "#   septic at time i.\n",
    "#\n",
    "#   'predictions' is a binary vector, where predictions[i] == 0 if the patient\n",
    "#   is not predicted to be septic at time i and predictions[i] == 1 if the\n",
    "#   patient is predicted to be septic at time i.  Note that there must be a\n",
    "#   prediction for every label, i.e, len(labels) == len(predictions).\n",
    "#\n",
    "# Output:\n",
    "#   'accuracy' is a scalar that gives the accuracy of the classifier using its\n",
    "#   binarized predictions.\n",
    "#\n",
    "#   'f_measure' is a scalar that gives the F-measure of the classifier using its\n",
    "#   binarized predictions.\n",
    "#\n",
    "# Example:\n",
    "#   In [1]: labels = [0, 0, 0, 0, 1, 1]\n",
    "#   In [2]: predictions = [0, 0, 1, 1, 1, 1]\n",
    "#   In [3]: accuracy, f_measure = compute_prediction_utility(labels, predictions)\n",
    "#   In [4]: accuracy\n",
    "#   Out[4]: 0.666666666667\n",
    "#   In [5]: f_measure\n",
    "#   Out[5]: 0.666666666667\n",
    "\n",
    "def compute_accuracy_f_measure(labels, predictions):\n",
    "    # Check inputs for errors.\n",
    "    if len(predictions) != len(labels):\n",
    "        raise Exception('Numbers of predictions and labels must be the same.')\n",
    "\n",
    "    n = len(labels)\n",
    "    for i in range(n):\n",
    "        if not labels[i] in (0, 1):\n",
    "            raise Exception('Labels must satisfy label == 0 or label == 1.')\n",
    "\n",
    "    for i in range(n):\n",
    "        if not predictions[i] in (0, 1):\n",
    "            raise Exception('Predictions must satisfy prediction == 0 or prediction == 1.')\n",
    "\n",
    "    # Populate contingency table.\n",
    "    tp = 0\n",
    "    fp = 0\n",
    "    fn = 0\n",
    "    tn = 0\n",
    "\n",
    "    for i in range(n):\n",
    "        if labels[i] and predictions[i]:\n",
    "            tp += 1\n",
    "        elif labels[i] and not predictions[i]:\n",
    "            fp += 1\n",
    "        elif not labels[i] and predictions[i]:\n",
    "            fn += 1\n",
    "        elif not labels[i] and not predictions[i]:\n",
    "            tn += 1\n",
    "\n",
    "    # Summarize contingency table.\n",
    "    if tp + fp + fn + tn:\n",
    "        accuracy = float(tp + tn) / float(tp + fp + fn + tn)\n",
    "    else:\n",
    "        accuracy = 1.0\n",
    "\n",
    "    if 2 * tp + fp + fn:\n",
    "        f_measure = float(2 * tp) / float(2 * tp + fp + fn)\n",
    "    else:\n",
    "        f_measure = 1.0\n",
    "\n",
    "    return accuracy, f_measure\n",
    "\n",
    "# The compute_prediction_utility function computes the total time-dependent\n",
    "# utility for a patient.\n",
    "#\n",
    "# Inputs:\n",
    "#   'labels' is a binary vector, where labels[i] == 0 if the patient is not\n",
    "#   labeled as septic at time i and labels[i] == 1 if the patient is labeled as\n",
    "#   septic at time i.\n",
    "#\n",
    "#   'predictions' is a binary vector, where predictions[i] == 0 if the patient\n",
    "#   is not predicted to be septic at time i and predictions[i] == 1 if the\n",
    "#   patient is predicted to be septic at time i.  Note that there must be a\n",
    "#   prediction for every label, i.e, len(labels) == len(predictions).\n",
    "#\n",
    "# Output:\n",
    "#   'utility' is a scalar that gives the total time-dependent utility of the\n",
    "#   classifier using its binarized predictions.\n",
    "#\n",
    "# Example:\n",
    "#   In [1]: labels = [0 0 0 0 1 1]\n",
    "#   In [2]: predictions = [0 0 1 1 1 1]\n",
    "#   In [3]: utility = compute_prediction_utility(labels, predictions)\n",
    "#   In [4]: utility\n",
    "#   Out[4]: 0.444444444444\n",
    "\n",
    "def compute_prediction_utility(labels, predictions, dt_early=-12, dt_optimal=-6, dt_late=3.0, max_u_tp=1, min_u_fn=-2, u_fp=-0.05, u_tn=0):\n",
    "    # Check inputs for errors.\n",
    "    if len(predictions) != len(labels):\n",
    "        raise Exception('Numbers of predictions and labels must be the same.')\n",
    "\n",
    "    n = len(labels)\n",
    "    for i in range(n):\n",
    "        if not labels[i] in (0, 1):\n",
    "            raise Exception('Labels must satisfy label == 0 or label == 1.')\n",
    "\n",
    "    for i in range(n):\n",
    "        if not predictions[i] in (0, 1):\n",
    "            raise Exception('Predictions must satisfy prediction == 0 or prediction == 1.')\n",
    "\n",
    "    if dt_early >= dt_optimal:\n",
    "        raise Exception('The earliest beneficial time for predictions must be before the optimal time.')\n",
    "\n",
    "    if dt_optimal >= dt_late:\n",
    "        raise Exception('The optimal time for predictions must be before the latest beneficial time.')\n",
    "\n",
    "    # Does the patient eventually have sepsis?\n",
    "    if any(labels):\n",
    "        is_septic = True\n",
    "        t_sepsis = min(i for i, label in enumerate(labels) if label) - dt_optimal\n",
    "    else:\n",
    "        is_septic = False\n",
    "        t_sepsis = float('inf')\n",
    "\n",
    "    # Define slopes and intercept points for affine utility functions of the\n",
    "    # form u = m * t + b.\n",
    "    m_1 = float(max_u_tp) / float(dt_optimal - dt_early)\n",
    "    b_1 = -m_1 * dt_early\n",
    "    m_2 = float(-max_u_tp) / float(dt_late - dt_optimal)\n",
    "    b_2 = -m_2 * dt_late\n",
    "    m_3 = float(min_u_fn) / float(dt_late - dt_optimal)\n",
    "    b_3 = -m_3 * dt_optimal\n",
    "\n",
    "    # Compare predicted and true conditions.\n",
    "    u = np.zeros(n)\n",
    "    for t in range(n):\n",
    "        if t <= t_sepsis + dt_late:\n",
    "            # TP\n",
    "            if is_septic and predictions[t]:\n",
    "                if t <= t_sepsis + dt_optimal:\n",
    "                    u[t] = max(m_1 * (t - t_sepsis) + b_1, u_fp)\n",
    "                elif t <= t_sepsis + dt_late:\n",
    "                    u[t] = m_2 * (t - t_sepsis) + b_2\n",
    "            # FN\n",
    "            elif is_septic and not predictions[t]:\n",
    "                if t <= t_sepsis + dt_optimal:\n",
    "                    u[t] = 0\n",
    "                elif t <= t_sepsis + dt_late:\n",
    "                    u[t] = m_3 * (t - t_sepsis) + b_3\n",
    "            # FP\n",
    "            elif not is_septic and predictions[t]:\n",
    "                u[t] = u_fp\n",
    "            # TN\n",
    "            elif not is_septic and not predictions[t]:\n",
    "                u[t] = u_tn\n",
    "\n",
    "    # Find total utility for patient.\n",
    "    return np.sum(u)\n"
   ]
  },
  {
   "cell_type": "markdown",
   "metadata": {},
   "source": [
    "## Read imputed files and creating training matrix using windows"
   ]
  },
  {
   "cell_type": "code",
   "execution_count": 492,
   "metadata": {
    "code_folding": []
   },
   "outputs": [],
   "source": [
    "def create_train_data(window_size=6, impute_method='mean'):\n",
    "    X_train = []\n",
    "    y_train = []\n",
    "    features = None\n",
    "\n",
    "    i = 0\n",
    "    for file in os.listdir('../data/train_%s_imputed/'%impute_method):\n",
    "\n",
    "        # Read file\n",
    "        patient_df = []\n",
    "        with open('../data/train_%s_imputed/%s' % (impute_method, file)) as f:\n",
    "\n",
    "            if not features:\n",
    "                features = f.readline().rstrip('\\n').split('|')\n",
    "            else:\n",
    "                # This skips the headers\n",
    "                f.readline()\n",
    "\n",
    "            for idx, line in enumerate(f):\n",
    "                line = line.rstrip('\\n')\n",
    "                patient_df.append(line.split('|'))\n",
    "\n",
    "        patient_df = np.array(patient_df)\n",
    "        \n",
    "        # Get sliding-window data\n",
    "        window_start = 0\n",
    "        while (window_start + window_size) <= patient_df.shape[0]:\n",
    "            window_data = patient_df[window_start:window_start + window_size, 0:34].astype(np.float)\n",
    "            assert window_data.shape[0] == window_size\n",
    "\n",
    "            x_i = np.reshape(window_data, (window_size*window_data.shape[1],))\n",
    "            X_train.append(x_i)\n",
    "\n",
    "            label = int(patient_df[window_start + window_size - 1, 40])\n",
    "            y_train.append(label)\n",
    "\n",
    "            window_start += 1\n",
    "    \n",
    "    return np.array(X_train), np.array(y_train), features"
   ]
  },
  {
   "cell_type": "code",
   "execution_count": null,
   "metadata": {},
   "outputs": [],
   "source": [
    "X_train, y_train, features = create_train_data()"
   ]
  },
  {
   "cell_type": "code",
   "execution_count": 339,
   "metadata": {},
   "outputs": [
    {
     "data": {
      "text/plain": [
       "((130976, 216), (130976,))"
      ]
     },
     "execution_count": 339,
     "metadata": {},
     "output_type": "execute_result"
    }
   ],
   "source": [
    "X_train.shape, y_train.shape"
   ]
  },
  {
   "cell_type": "code",
   "execution_count": 388,
   "metadata": {},
   "outputs": [
    {
     "data": {
      "text/plain": [
       "['HR',\n",
       " 'O2Sat',\n",
       " 'Temp',\n",
       " 'SBP',\n",
       " 'MAP',\n",
       " 'DBP',\n",
       " 'Resp',\n",
       " 'EtCO2',\n",
       " 'BaseExcess',\n",
       " 'HCO3',\n",
       " 'FiO2',\n",
       " 'pH',\n",
       " 'PaCO2',\n",
       " 'SaO2',\n",
       " 'AST',\n",
       " 'BUN',\n",
       " 'Alkalinephos',\n",
       " 'Calcium',\n",
       " 'Chloride',\n",
       " 'Creatinine',\n",
       " 'Bilirubin_direct',\n",
       " 'Glucose',\n",
       " 'Lactate',\n",
       " 'Magnesium',\n",
       " 'Phosphate',\n",
       " 'Potassium',\n",
       " 'Bilirubin_total',\n",
       " 'TroponinI',\n",
       " 'Hct',\n",
       " 'Hgb',\n",
       " 'PTT',\n",
       " 'WBC',\n",
       " 'Fibrinogen',\n",
       " 'Platelets',\n",
       " 'Age',\n",
       " 'Gender']"
      ]
     },
     "execution_count": 388,
     "metadata": {},
     "output_type": "execute_result"
    }
   ],
   "source": [
    "features[:34]"
   ]
  },
  {
   "cell_type": "code",
   "execution_count": 341,
   "metadata": {},
   "outputs": [
    {
     "data": {
      "text/plain": [
       "1799"
      ]
     },
     "execution_count": 341,
     "metadata": {},
     "output_type": "execute_result"
    }
   ],
   "source": [
    "y_train.sum()"
   ]
  },
  {
   "cell_type": "markdown",
   "metadata": {},
   "source": [
    "## Train Models and Predict"
   ]
  },
  {
   "cell_type": "code",
   "execution_count": 479,
   "metadata": {},
   "outputs": [],
   "source": [
    "from sklearn.metrics import roc_auc_score, f1_score, confusion_matrix, precision_score, recall_score, roc_curve"
   ]
  },
  {
   "cell_type": "code",
   "execution_count": 491,
   "metadata": {
    "code_folding": [
     6,
     12
    ]
   },
   "outputs": [],
   "source": [
    "# Read test files, create windows, and predict. \n",
    "def predict(model, model_type, window_size, impute_method):\n",
    "    X_test = []\n",
    "    y_test = []\n",
    "    features = None\n",
    "    \n",
    "    for file in os.listdir('../data/test_%s_imputed/'%(impute_method)):\n",
    "        X = []\n",
    "        y = []\n",
    "        \n",
    "        # Read file \n",
    "        patient_df = []\n",
    "        with open('../data/test_%s_imputed/%s' % (impute_method, file)) as f:\n",
    "\n",
    "            if not features:\n",
    "                features = f.readline().rstrip('\\n').split('|')\n",
    "            else:\n",
    "                # This skips the headers\n",
    "                f.readline()\n",
    "\n",
    "            for idx, line in enumerate(f):\n",
    "                line = line.rstrip('\\n') \n",
    "                patient_df.append(line.split('|'))\n",
    "        \n",
    "        # Create patient df\n",
    "        patient_df = np.array(patient_df)\n",
    "        X_patient = np.concatenate((patient_df[:,0:34], patient_df[:,40][:,None]), axis=1).astype(np.float)\n",
    "        \n",
    "        assert X_patient.shape[0] == patient_df.shape[0]\n",
    "        \n",
    "        # Append 5 rows of mean values to top of df \n",
    "        mean_vals = np.mean(X_patient, axis=0)\n",
    "        X_patient = np.concatenate(([mean_vals]*max(1,window_size-1), X_patient))\n",
    "    \n",
    "        # Get data for every window\n",
    "        window_start = 0\n",
    "        while (window_start + window_size) <= X_patient.shape[0]:\n",
    "            window_data = X_patient[window_start:window_start + window_size, 0:X_patient.shape[1]-1]\n",
    "            assert window_data.shape[0] == window_size\n",
    "\n",
    "            x_i = np.reshape(window_data, (window_size*window_data.shape[1],))\n",
    "            X.append(x_i)\n",
    "            \n",
    "            label = int(X_patient[window_start+window_size-1, X_patient.shape[1]-1])\n",
    "            y.append(label)\n",
    "\n",
    "            window_start += 1\n",
    "        \n",
    "        # Add X to X_test\n",
    "        X_test.extend(list(X))\n",
    "        y_test.extend(list(y))\n",
    "        \n",
    "        # Predict for every time step\n",
    "        y_pred = model.predict(X)\n",
    "        y_pred_prob = model.predict_proba(X)\n",
    "        \n",
    "        assert y_pred.shape[0] == len(y)\n",
    "        \n",
    "        # Save to file\n",
    "        if not os.path.isdir('../data/model_predictions/%s_pred_%s_imputed_%d'%(model_type, impute_method, window_size)):\n",
    "            os.mkdir('../data/model_predictions/%s_pred_%s_imputed_%d'%(model_type, impute_method, window_size))\n",
    "            print(\"Created new directory for model:%s, imp:%s, ws:%d\"%(model_type, impute_method, window_size))\n",
    "            \n",
    "        pred = np.transpose(np.vstack((y_pred_prob[:,1], y_pred)))\n",
    "        pred_df = pd.DataFrame(pred, columns=[\"PredictedProbability\", \"PredictedLabel\"])\n",
    "        pred_df.to_csv('../data/model_predictions/%s_pred_%s_imputed_%d/%s'%(model_type, impute_method, window_size, file), \n",
    "                       sep='|', index=False)\n",
    "        \n",
    "    return np.array(X_test), np.array(y_test)"
   ]
  },
  {
   "cell_type": "code",
   "execution_count": 489,
   "metadata": {
    "code_folding": []
   },
   "outputs": [],
   "source": [
    "def train_predict(model, model_label):\n",
    "    # Model Label, WS, imp. method, train score, train recall, train prec, test score, test auc, test recall, test prec\n",
    "    results = []\n",
    "\n",
    "    for ws in range(1,7):\n",
    "        for imp in ['mean', 'forw']:\n",
    "            res = [ws, imp]\n",
    "            print(\"Working on ws: %d, imp: %s\"%(ws,imp))\n",
    "\n",
    "            X_train, y_train, _ = create_train_data(window_size=ws, impute_method=imp)\n",
    "            model = model.fit(X_train, y_train)\n",
    "\n",
    "            res.append(model.score(X_train, y_train))\n",
    "            y_pred = model.predict(X_train)\n",
    "            res.extend([recall_score(y_train, y_pred), precision_score(y_train, y_pred)])\n",
    "\n",
    "            X_test, y_test = predict(model, model_label, window_size=ws, impute_method=imp)\n",
    "            res.append(model.score(X_test, y_test))\n",
    "\n",
    "            y_pred_prob = model.predict_proba(X_test)\n",
    "            res.append(roc_auc_score(y_test, y_pred_prob[:,1]))\n",
    "\n",
    "            y_pred = model.predict(X_test)\n",
    "            res.extend([recall_score(y_test, y_pred), precision_score(y_test, y_pred)])\n",
    "            res.extend(confusion_matrix(y_test, y_pred).ravel())\n",
    "                \n",
    "            results.append(res)\n",
    "            \n",
    "    return np.array(results)"
   ]
  },
  {
   "cell_type": "markdown",
   "metadata": {},
   "source": [
    "## Regularized Log. Reg. "
   ]
  },
  {
   "cell_type": "code",
   "execution_count": 443,
   "metadata": {
    "code_folding": [],
    "hide_input": false
   },
   "outputs": [],
   "source": [
    "from sklearn.linear_model import LogisticRegression, LogisticRegressionCV\n",
    "\n",
    "lr_model = LogisticRegression(C=0.0001, solver='lbfgs', max_iter=1000, class_weight='balanced')"
   ]
  },
  {
   "cell_type": "code",
   "execution_count": 487,
   "metadata": {},
   "outputs": [
    {
     "name": "stdout",
     "output_type": "stream",
     "text": [
      "Working on ws: 1, imp: mean\n"
     ]
    },
    {
     "ename": "Exception",
     "evalue": "Numbers of labels and predictions must be the same.",
     "output_type": "error",
     "traceback": [
      "\u001b[0;31m---------------------------------------------------------------------------\u001b[0m",
      "\u001b[0;31mException\u001b[0m                                 Traceback (most recent call last)",
      "\u001b[0;32m<ipython-input-487-6cc9b4266872>\u001b[0m in \u001b[0;36m<module>\u001b[0;34m()\u001b[0m\n\u001b[0;32m----> 1\u001b[0;31m \u001b[0mlr_results\u001b[0m \u001b[0;34m=\u001b[0m \u001b[0mtrain_predict\u001b[0m\u001b[0;34m(\u001b[0m\u001b[0mlr_model\u001b[0m\u001b[0;34m,\u001b[0m \u001b[0;34m'RLR'\u001b[0m\u001b[0;34m)\u001b[0m\u001b[0;34m\u001b[0m\u001b[0m\n\u001b[0m\u001b[1;32m      2\u001b[0m \u001b[0;31m# lr_results.tofile('../results/lr_results', sep='\\n')\u001b[0m\u001b[0;34m\u001b[0m\u001b[0;34m\u001b[0m\u001b[0m\n",
      "\u001b[0;32m<ipython-input-485-07d9bf1b7851>\u001b[0m in \u001b[0;36mtrain_predict\u001b[0;34m(model, model_label)\u001b[0m\n\u001b[1;32m     27\u001b[0m             \u001b[0mlabel_dir\u001b[0m \u001b[0;34m=\u001b[0m \u001b[0;34m\"../data/test_%s_imputed/\"\u001b[0m\u001b[0;34m%\u001b[0m\u001b[0mimp\u001b[0m\u001b[0;34m\u001b[0m\u001b[0m\n\u001b[1;32m     28\u001b[0m             \u001b[0mtarget_dir\u001b[0m \u001b[0;34m=\u001b[0m \u001b[0;34m\"../data/model_predictions/%s_pred_%s_imputed_%d/\"\u001b[0m\u001b[0;34m%\u001b[0m\u001b[0;34m(\u001b[0m\u001b[0mmodel_label\u001b[0m\u001b[0;34m,\u001b[0m\u001b[0mimp\u001b[0m\u001b[0;34m,\u001b[0m\u001b[0mws\u001b[0m\u001b[0;34m)\u001b[0m\u001b[0;34m\u001b[0m\u001b[0m\n\u001b[0;32m---> 29\u001b[0;31m             \u001b[0m_\u001b[0m\u001b[0;34m,\u001b[0m\u001b[0m_\u001b[0m\u001b[0;34m,\u001b[0m\u001b[0m_\u001b[0m\u001b[0;34m,\u001b[0m\u001b[0m_\u001b[0m\u001b[0;34m,\u001b[0m\u001b[0mutility\u001b[0m \u001b[0;34m=\u001b[0m \u001b[0mcompute_scores_2019\u001b[0m\u001b[0;34m(\u001b[0m\u001b[0mlabel_dir\u001b[0m\u001b[0;34m,\u001b[0m \u001b[0mtarget_dir\u001b[0m\u001b[0;34m)\u001b[0m\u001b[0;34m\u001b[0m\u001b[0m\n\u001b[0m\u001b[1;32m     30\u001b[0m \u001b[0;34m\u001b[0m\u001b[0m\n\u001b[1;32m     31\u001b[0m             \u001b[0mres\u001b[0m\u001b[0;34m.\u001b[0m\u001b[0mappend\u001b[0m\u001b[0;34m(\u001b[0m\u001b[0mutility\u001b[0m\u001b[0;34m)\u001b[0m\u001b[0;34m\u001b[0m\u001b[0m\n",
      "\u001b[0;32m<ipython-input-404-8b5446959e22>\u001b[0m in \u001b[0;36mcompute_scores_2019\u001b[0;34m(label_directory, prediction_directory)\u001b[0m\n\u001b[1;32m     81\u001b[0m         \u001b[0;31m# Check labels and predictions for errors.\u001b[0m\u001b[0;34m\u001b[0m\u001b[0;34m\u001b[0m\u001b[0m\n\u001b[1;32m     82\u001b[0m         \u001b[0;32mif\u001b[0m \u001b[0;32mnot\u001b[0m \u001b[0;34m(\u001b[0m\u001b[0mlen\u001b[0m\u001b[0;34m(\u001b[0m\u001b[0mlabels\u001b[0m\u001b[0;34m)\u001b[0m \u001b[0;34m==\u001b[0m \u001b[0mlen\u001b[0m\u001b[0;34m(\u001b[0m\u001b[0mpredictions\u001b[0m\u001b[0;34m)\u001b[0m \u001b[0;32mand\u001b[0m \u001b[0mlen\u001b[0m\u001b[0;34m(\u001b[0m\u001b[0mpredictions\u001b[0m\u001b[0;34m)\u001b[0m \u001b[0;34m==\u001b[0m \u001b[0mlen\u001b[0m\u001b[0;34m(\u001b[0m\u001b[0mprobabilities\u001b[0m\u001b[0;34m)\u001b[0m\u001b[0;34m)\u001b[0m\u001b[0;34m:\u001b[0m\u001b[0;34m\u001b[0m\u001b[0m\n\u001b[0;32m---> 83\u001b[0;31m             \u001b[0;32mraise\u001b[0m \u001b[0mException\u001b[0m\u001b[0;34m(\u001b[0m\u001b[0;34m'Numbers of labels and predictions must be the same.'\u001b[0m\u001b[0;34m)\u001b[0m\u001b[0;34m\u001b[0m\u001b[0m\n\u001b[0m\u001b[1;32m     84\u001b[0m \u001b[0;34m\u001b[0m\u001b[0m\n\u001b[1;32m     85\u001b[0m         \u001b[0mnum_records\u001b[0m \u001b[0;34m=\u001b[0m \u001b[0mlen\u001b[0m\u001b[0;34m(\u001b[0m\u001b[0mlabels\u001b[0m\u001b[0;34m)\u001b[0m\u001b[0;34m\u001b[0m\u001b[0m\n",
      "\u001b[0;31mException\u001b[0m: Numbers of labels and predictions must be the same."
     ]
    }
   ],
   "source": [
    "lr_results = train_predict(lr_model, 'RLR')\n",
    "# lr_results.tofile('../results/lr_results', sep='\\n')"
   ]
  },
  {
   "cell_type": "markdown",
   "metadata": {},
   "source": [
    "## Random Forest"
   ]
  },
  {
   "cell_type": "code",
   "execution_count": 449,
   "metadata": {
    "code_folding": [
     7
    ]
   },
   "outputs": [
    {
     "name": "stdout",
     "output_type": "stream",
     "text": [
      "Working on ws: 1, imp: mean\n"
     ]
    },
    {
     "name": "stderr",
     "output_type": "stream",
     "text": [
      "/usr/local/Cellar/python3/3.5.2_3/Frameworks/Python.framework/Versions/3.5/lib/python3.5/site-packages/sklearn/ensemble/forest.py:248: FutureWarning: The default value of n_estimators will change from 10 in version 0.20 to 100 in 0.22.\n",
      "  \"10 in version 0.20 to 100 in 0.22.\", FutureWarning)\n"
     ]
    },
    {
     "name": "stdout",
     "output_type": "stream",
     "text": [
      "Working on ws: 1, imp: forw\n",
      "Working on ws: 2, imp: mean\n",
      "Working on ws: 2, imp: forw\n",
      "Working on ws: 3, imp: mean\n",
      "Working on ws: 3, imp: forw\n",
      "Working on ws: 4, imp: mean\n",
      "Working on ws: 4, imp: forw\n",
      "Working on ws: 5, imp: mean\n",
      "Working on ws: 5, imp: forw\n",
      "Working on ws: 6, imp: mean\n",
      "Working on ws: 6, imp: forw\n"
     ]
    }
   ],
   "source": [
    "from sklearn.ensemble import RandomForestClassifier\n",
    "\n",
    "rf_model = RandomForestClassifier(max_depth=5, class_weight='balanced')\n",
    "\n",
    "rf_results = train_predict(rf_model, 'RF')\n",
    "rf_results.tofile('../results/rf_results', sep='\\n')"
   ]
  },
  {
   "cell_type": "markdown",
   "metadata": {},
   "source": [
    "## SVM"
   ]
  },
  {
   "cell_type": "code",
   "execution_count": 490,
   "metadata": {
    "code_folding": [
     7
    ]
   },
   "outputs": [
    {
     "name": "stdout",
     "output_type": "stream",
     "text": [
      "Working on ws: 1, imp: mean\n"
     ]
    },
    {
     "name": "stderr",
     "output_type": "stream",
     "text": [
      "/usr/local/Cellar/python3/3.5.2_3/Frameworks/Python.framework/Versions/3.5/lib/python3.5/site-packages/sklearn/svm/base.py:244: ConvergenceWarning: Solver terminated early (max_iter=1000).  Consider pre-processing your data with StandardScaler or MinMaxScaler.\n",
      "  % self.max_iter, ConvergenceWarning)\n"
     ]
    },
    {
     "ename": "KeyboardInterrupt",
     "evalue": "",
     "output_type": "error",
     "traceback": [
      "\u001b[0;31m---------------------------------------------------------------------------\u001b[0m",
      "\u001b[0;31mKeyboardInterrupt\u001b[0m                         Traceback (most recent call last)",
      "\u001b[0;32m<ipython-input-490-bf08252acf69>\u001b[0m in \u001b[0;36m<module>\u001b[0;34m()\u001b[0m\n\u001b[1;32m      3\u001b[0m \u001b[0msvm_model\u001b[0m \u001b[0;34m=\u001b[0m \u001b[0mSVC\u001b[0m\u001b[0;34m(\u001b[0m\u001b[0mclass_weight\u001b[0m\u001b[0;34m=\u001b[0m\u001b[0;34m'balanced'\u001b[0m\u001b[0;34m,\u001b[0m \u001b[0mmax_iter\u001b[0m\u001b[0;34m=\u001b[0m\u001b[0;36m1000\u001b[0m\u001b[0;34m,\u001b[0m \u001b[0mprobability\u001b[0m\u001b[0;34m=\u001b[0m\u001b[0;32mTrue\u001b[0m\u001b[0;34m,\u001b[0m \u001b[0mgamma\u001b[0m\u001b[0;34m=\u001b[0m\u001b[0;34m'scale'\u001b[0m\u001b[0;34m)\u001b[0m\u001b[0;34m\u001b[0m\u001b[0m\n\u001b[1;32m      4\u001b[0m \u001b[0;34m\u001b[0m\u001b[0m\n\u001b[0;32m----> 5\u001b[0;31m \u001b[0msvm_results\u001b[0m \u001b[0;34m=\u001b[0m \u001b[0mtrain_predict\u001b[0m\u001b[0;34m(\u001b[0m\u001b[0msvm_model\u001b[0m\u001b[0;34m,\u001b[0m \u001b[0;34m'SVM'\u001b[0m\u001b[0;34m)\u001b[0m\u001b[0;34m\u001b[0m\u001b[0m\n\u001b[0m\u001b[1;32m      6\u001b[0m \u001b[0msvm_results\u001b[0m\u001b[0;34m.\u001b[0m\u001b[0mtofile\u001b[0m\u001b[0;34m(\u001b[0m\u001b[0;34m'../results/SVM_results'\u001b[0m\u001b[0;34m,\u001b[0m \u001b[0msep\u001b[0m\u001b[0;34m=\u001b[0m\u001b[0;34m'\\n'\u001b[0m\u001b[0;34m)\u001b[0m\u001b[0;34m\u001b[0m\u001b[0m\n",
      "\u001b[0;32m<ipython-input-489-02734f55a742>\u001b[0m in \u001b[0;36mtrain_predict\u001b[0;34m(model, model_label)\u001b[0m\n\u001b[1;32m     11\u001b[0m             \u001b[0mmodel\u001b[0m \u001b[0;34m=\u001b[0m \u001b[0mmodel\u001b[0m\u001b[0;34m.\u001b[0m\u001b[0mfit\u001b[0m\u001b[0;34m(\u001b[0m\u001b[0mX_train\u001b[0m\u001b[0;34m,\u001b[0m \u001b[0my_train\u001b[0m\u001b[0;34m)\u001b[0m\u001b[0;34m\u001b[0m\u001b[0m\n\u001b[1;32m     12\u001b[0m \u001b[0;34m\u001b[0m\u001b[0m\n\u001b[0;32m---> 13\u001b[0;31m             \u001b[0mres\u001b[0m\u001b[0;34m.\u001b[0m\u001b[0mappend\u001b[0m\u001b[0;34m(\u001b[0m\u001b[0mmodel\u001b[0m\u001b[0;34m.\u001b[0m\u001b[0mscore\u001b[0m\u001b[0;34m(\u001b[0m\u001b[0mX_train\u001b[0m\u001b[0;34m,\u001b[0m \u001b[0my_train\u001b[0m\u001b[0;34m)\u001b[0m\u001b[0;34m)\u001b[0m\u001b[0;34m\u001b[0m\u001b[0m\n\u001b[0m\u001b[1;32m     14\u001b[0m             \u001b[0my_pred\u001b[0m \u001b[0;34m=\u001b[0m \u001b[0mmodel\u001b[0m\u001b[0;34m.\u001b[0m\u001b[0mpredict\u001b[0m\u001b[0;34m(\u001b[0m\u001b[0mX_train\u001b[0m\u001b[0;34m)\u001b[0m\u001b[0;34m\u001b[0m\u001b[0m\n\u001b[1;32m     15\u001b[0m             \u001b[0mres\u001b[0m\u001b[0;34m.\u001b[0m\u001b[0mextend\u001b[0m\u001b[0;34m(\u001b[0m\u001b[0;34m[\u001b[0m\u001b[0mrecall_score\u001b[0m\u001b[0;34m(\u001b[0m\u001b[0my_train\u001b[0m\u001b[0;34m,\u001b[0m \u001b[0my_pred\u001b[0m\u001b[0;34m)\u001b[0m\u001b[0;34m,\u001b[0m \u001b[0mprecision_score\u001b[0m\u001b[0;34m(\u001b[0m\u001b[0my_train\u001b[0m\u001b[0;34m,\u001b[0m \u001b[0my_pred\u001b[0m\u001b[0;34m)\u001b[0m\u001b[0;34m]\u001b[0m\u001b[0;34m)\u001b[0m\u001b[0;34m\u001b[0m\u001b[0m\n",
      "\u001b[0;32m/usr/local/Cellar/python3/3.5.2_3/Frameworks/Python.framework/Versions/3.5/lib/python3.5/site-packages/sklearn/base.py\u001b[0m in \u001b[0;36mscore\u001b[0;34m(self, X, y, sample_weight)\u001b[0m\n\u001b[1;32m    286\u001b[0m         \"\"\"\n\u001b[1;32m    287\u001b[0m         \u001b[0;32mfrom\u001b[0m \u001b[0;34m.\u001b[0m\u001b[0mmetrics\u001b[0m \u001b[0;32mimport\u001b[0m \u001b[0maccuracy_score\u001b[0m\u001b[0;34m\u001b[0m\u001b[0m\n\u001b[0;32m--> 288\u001b[0;31m         \u001b[0;32mreturn\u001b[0m \u001b[0maccuracy_score\u001b[0m\u001b[0;34m(\u001b[0m\u001b[0my\u001b[0m\u001b[0;34m,\u001b[0m \u001b[0mself\u001b[0m\u001b[0;34m.\u001b[0m\u001b[0mpredict\u001b[0m\u001b[0;34m(\u001b[0m\u001b[0mX\u001b[0m\u001b[0;34m)\u001b[0m\u001b[0;34m,\u001b[0m \u001b[0msample_weight\u001b[0m\u001b[0;34m=\u001b[0m\u001b[0msample_weight\u001b[0m\u001b[0;34m)\u001b[0m\u001b[0;34m\u001b[0m\u001b[0m\n\u001b[0m\u001b[1;32m    289\u001b[0m \u001b[0;34m\u001b[0m\u001b[0m\n\u001b[1;32m    290\u001b[0m \u001b[0;34m\u001b[0m\u001b[0m\n",
      "\u001b[0;32m/usr/local/Cellar/python3/3.5.2_3/Frameworks/Python.framework/Versions/3.5/lib/python3.5/site-packages/sklearn/svm/base.py\u001b[0m in \u001b[0;36mpredict\u001b[0;34m(self, X)\u001b[0m\n\u001b[1;32m    565\u001b[0m             \u001b[0mClass\u001b[0m \u001b[0mlabels\u001b[0m \u001b[0;32mfor\u001b[0m \u001b[0msamples\u001b[0m \u001b[0;32min\u001b[0m \u001b[0mX\u001b[0m\u001b[0;34m.\u001b[0m\u001b[0;34m\u001b[0m\u001b[0m\n\u001b[1;32m    566\u001b[0m         \"\"\"\n\u001b[0;32m--> 567\u001b[0;31m         \u001b[0my\u001b[0m \u001b[0;34m=\u001b[0m \u001b[0msuper\u001b[0m\u001b[0;34m(\u001b[0m\u001b[0mBaseSVC\u001b[0m\u001b[0;34m,\u001b[0m \u001b[0mself\u001b[0m\u001b[0;34m)\u001b[0m\u001b[0;34m.\u001b[0m\u001b[0mpredict\u001b[0m\u001b[0;34m(\u001b[0m\u001b[0mX\u001b[0m\u001b[0;34m)\u001b[0m\u001b[0;34m\u001b[0m\u001b[0m\n\u001b[0m\u001b[1;32m    568\u001b[0m         \u001b[0;32mreturn\u001b[0m \u001b[0mself\u001b[0m\u001b[0;34m.\u001b[0m\u001b[0mclasses_\u001b[0m\u001b[0;34m.\u001b[0m\u001b[0mtake\u001b[0m\u001b[0;34m(\u001b[0m\u001b[0mnp\u001b[0m\u001b[0;34m.\u001b[0m\u001b[0masarray\u001b[0m\u001b[0;34m(\u001b[0m\u001b[0my\u001b[0m\u001b[0;34m,\u001b[0m \u001b[0mdtype\u001b[0m\u001b[0;34m=\u001b[0m\u001b[0mnp\u001b[0m\u001b[0;34m.\u001b[0m\u001b[0mintp\u001b[0m\u001b[0;34m)\u001b[0m\u001b[0;34m)\u001b[0m\u001b[0;34m\u001b[0m\u001b[0m\n\u001b[1;32m    569\u001b[0m \u001b[0;34m\u001b[0m\u001b[0m\n",
      "\u001b[0;32m/usr/local/Cellar/python3/3.5.2_3/Frameworks/Python.framework/Versions/3.5/lib/python3.5/site-packages/sklearn/svm/base.py\u001b[0m in \u001b[0;36mpredict\u001b[0;34m(self, X)\u001b[0m\n\u001b[1;32m    325\u001b[0m         \u001b[0mX\u001b[0m \u001b[0;34m=\u001b[0m \u001b[0mself\u001b[0m\u001b[0;34m.\u001b[0m\u001b[0m_validate_for_predict\u001b[0m\u001b[0;34m(\u001b[0m\u001b[0mX\u001b[0m\u001b[0;34m)\u001b[0m\u001b[0;34m\u001b[0m\u001b[0m\n\u001b[1;32m    326\u001b[0m         \u001b[0mpredict\u001b[0m \u001b[0;34m=\u001b[0m \u001b[0mself\u001b[0m\u001b[0;34m.\u001b[0m\u001b[0m_sparse_predict\u001b[0m \u001b[0;32mif\u001b[0m \u001b[0mself\u001b[0m\u001b[0;34m.\u001b[0m\u001b[0m_sparse\u001b[0m \u001b[0;32melse\u001b[0m \u001b[0mself\u001b[0m\u001b[0;34m.\u001b[0m\u001b[0m_dense_predict\u001b[0m\u001b[0;34m\u001b[0m\u001b[0m\n\u001b[0;32m--> 327\u001b[0;31m         \u001b[0;32mreturn\u001b[0m \u001b[0mpredict\u001b[0m\u001b[0;34m(\u001b[0m\u001b[0mX\u001b[0m\u001b[0;34m)\u001b[0m\u001b[0;34m\u001b[0m\u001b[0m\n\u001b[0m\u001b[1;32m    328\u001b[0m \u001b[0;34m\u001b[0m\u001b[0m\n\u001b[1;32m    329\u001b[0m     \u001b[0;32mdef\u001b[0m \u001b[0m_dense_predict\u001b[0m\u001b[0;34m(\u001b[0m\u001b[0mself\u001b[0m\u001b[0;34m,\u001b[0m \u001b[0mX\u001b[0m\u001b[0;34m)\u001b[0m\u001b[0;34m:\u001b[0m\u001b[0;34m\u001b[0m\u001b[0m\n",
      "\u001b[0;32m/usr/local/Cellar/python3/3.5.2_3/Frameworks/Python.framework/Versions/3.5/lib/python3.5/site-packages/sklearn/svm/base.py\u001b[0m in \u001b[0;36m_dense_predict\u001b[0;34m(self, X)\u001b[0m\n\u001b[1;32m    348\u001b[0m             \u001b[0mself\u001b[0m\u001b[0;34m.\u001b[0m\u001b[0mprobA_\u001b[0m\u001b[0;34m,\u001b[0m \u001b[0mself\u001b[0m\u001b[0;34m.\u001b[0m\u001b[0mprobB_\u001b[0m\u001b[0;34m,\u001b[0m \u001b[0msvm_type\u001b[0m\u001b[0;34m=\u001b[0m\u001b[0msvm_type\u001b[0m\u001b[0;34m,\u001b[0m \u001b[0mkernel\u001b[0m\u001b[0;34m=\u001b[0m\u001b[0mkernel\u001b[0m\u001b[0;34m,\u001b[0m\u001b[0;34m\u001b[0m\u001b[0m\n\u001b[1;32m    349\u001b[0m             \u001b[0mdegree\u001b[0m\u001b[0;34m=\u001b[0m\u001b[0mself\u001b[0m\u001b[0;34m.\u001b[0m\u001b[0mdegree\u001b[0m\u001b[0;34m,\u001b[0m \u001b[0mcoef0\u001b[0m\u001b[0;34m=\u001b[0m\u001b[0mself\u001b[0m\u001b[0;34m.\u001b[0m\u001b[0mcoef0\u001b[0m\u001b[0;34m,\u001b[0m \u001b[0mgamma\u001b[0m\u001b[0;34m=\u001b[0m\u001b[0mself\u001b[0m\u001b[0;34m.\u001b[0m\u001b[0m_gamma\u001b[0m\u001b[0;34m,\u001b[0m\u001b[0;34m\u001b[0m\u001b[0m\n\u001b[0;32m--> 350\u001b[0;31m             cache_size=self.cache_size)\n\u001b[0m\u001b[1;32m    351\u001b[0m \u001b[0;34m\u001b[0m\u001b[0m\n\u001b[1;32m    352\u001b[0m     \u001b[0;32mdef\u001b[0m \u001b[0m_sparse_predict\u001b[0m\u001b[0;34m(\u001b[0m\u001b[0mself\u001b[0m\u001b[0;34m,\u001b[0m \u001b[0mX\u001b[0m\u001b[0;34m)\u001b[0m\u001b[0;34m:\u001b[0m\u001b[0;34m\u001b[0m\u001b[0m\n",
      "\u001b[0;31mKeyboardInterrupt\u001b[0m: "
     ]
    }
   ],
   "source": [
    "from sklearn.svm import SVC\n",
    "\n",
    "svm_model = SVC(class_weight='balanced', max_iter=1000, probability=True, gamma='scale')\n",
    "\n",
    "svm_results = train_predict(svm_model, 'SVM')\n",
    "svm_results.tofile('../results/SVM_results', sep='\\n')"
   ]
  },
  {
   "cell_type": "markdown",
   "metadata": {},
   "source": [
    "## XG Boost"
   ]
  },
  {
   "cell_type": "code",
   "execution_count": 454,
   "metadata": {
    "code_folding": [
     7
    ]
   },
   "outputs": [
    {
     "name": "stdout",
     "output_type": "stream",
     "text": [
      "Working on ws: 1, imp: mean\n",
      "Working on ws: 1, imp: forw\n",
      "Working on ws: 2, imp: mean\n",
      "Working on ws: 2, imp: forw\n",
      "Working on ws: 3, imp: mean\n",
      "Working on ws: 3, imp: forw\n",
      "Working on ws: 4, imp: mean\n",
      "Working on ws: 4, imp: forw\n",
      "Working on ws: 5, imp: mean\n",
      "Working on ws: 5, imp: forw\n",
      "Working on ws: 6, imp: mean\n",
      "Working on ws: 6, imp: forw\n"
     ]
    }
   ],
   "source": [
    "from sklearn.ensemble import GradientBoostingClassifier\n",
    "\n",
    "xg_model = GradientBoostingClassifier(max_features='auto')\n",
    "\n",
    "xg_results = train_predict(xg_model, 'XG')\n",
    "xg_results.tofile('../results/xg_results', sep='\\n')"
   ]
  },
  {
   "cell_type": "code",
   "execution_count": 394,
   "metadata": {},
   "outputs": [],
   "source": [
    "xg_results = np.array(xg_results)"
   ]
  },
  {
   "cell_type": "code",
   "execution_count": 397,
   "metadata": {},
   "outputs": [],
   "source": [
    "xg_results.tofile('../results/xg_results', sep='\\n')"
   ]
  },
  {
   "cell_type": "code",
   "execution_count": 477,
   "metadata": {},
   "outputs": [
    {
     "data": {
      "text/plain": [
       "array([['1', 'mean', '0.986872085629504', '0.05225311601150527',\n",
       "        '0.956140350877193', '0.9853418925591912', '0.7632688376288849',\n",
       "        '0.007285974499089253', '0.17391304347826086', '37909', '19',\n",
       "        '545', '4'],\n",
       "       ['1', 'forw', '0.9877530203476049', '0.12607861936720996',\n",
       "        '0.9100346020761245', '0.9823790836083894', '0.7118210796489486',\n",
       "        '0.0', '0.0', '37799', '129', '549', '0'],\n",
       "       ['2', 'mean', '0.9871407576747224', '0.07794117647058824',\n",
       "        '0.9464285714285714', '0.984417109160285', '0.7748539077410749',\n",
       "        '0.00558659217877095', '0.05660377358490566', '36890', '50',\n",
       "        '534', '3'],\n",
       "       ['2', 'forw', '0.9876850642281733', '0.12107843137254902',\n",
       "        '0.9356060606060606', '0.9808949489019932', '0.7273284525008594',\n",
       "        '0.00186219739292365', '0.0055248618784530384', '36760', '180',\n",
       "        '536', '1'],\n",
       "       ['3', 'mean', '0.9871936548791406', '0.08651911468812877',\n",
       "        '0.9197860962566845', '0.984417109160285', '0.7788421306280555',\n",
       "        '0.00186219739292365', '0.02040816326530612', '36892', '48',\n",
       "        '536', '1'],\n",
       "       ['3', 'forw', '0.9880259623992838', '0.14738430583501005',\n",
       "        '0.9451612903225807', '0.981668756837527', '0.7403529957987134',\n",
       "        '0.0037243947858473', '0.012987012987012988', '36788', '152',\n",
       "        '535', '2'],\n",
       "       ['4', 'mean', '0.9874942436104076', '0.10529045643153527',\n",
       "        '0.9398148148148148', '0.9846839394828828', '0.7793983700983728',\n",
       "        '0.00558659217877095', '0.06976744186046512', '36900', '40',\n",
       "        '534', '3'],\n",
       "       ['4', 'forw', '0.9882353787704352', '0.1607883817427386',\n",
       "        '0.9480122324159022', '0.9834298369666729', '0.7477068354843881',\n",
       "        '0.0074487895716946', '0.043478260869565216', '36852', '88',\n",
       "        '533', '4'],\n",
       "       ['5', 'mean', '0.9877015173067805', '0.11474530831099196',\n",
       "        '0.9596412556053812', '0.9846305734183632', '0.7756584738047204',\n",
       "        '0.0111731843575419', '0.11764705882352941', '36895', '45',\n",
       "        '531', '6'],\n",
       "       ['5', 'forw', '0.9881830844001896', '0.15388739946380697',\n",
       "        '0.944078947368421', '0.9829228593537369', '0.7387474932927622',\n",
       "        '0.0037243947858473', '0.018691588785046728', '36835', '105',\n",
       "        '535', '2'],\n",
       "       ['6', 'mean', '0.987906181285121', '0.1245136186770428',\n",
       "        '0.9613733905579399', '0.9843904261280252', '0.7818305188644528',\n",
       "        '0.01303538175046555', '0.11290322580645161', '36885', '55',\n",
       "        '530', '7'],\n",
       "       ['6', 'forw', '0.9883108355729294', '0.15786548082267926',\n",
       "        '0.9466666666666667', '0.9826026629666196', '0.7303615556557062',\n",
       "        '0.0148975791433892', '0.061068702290076333', '36817', '123',\n",
       "        '529', '8']], dtype='<U21')"
      ]
     },
     "execution_count": 477,
     "metadata": {},
     "output_type": "execute_result"
    }
   ],
   "source": [
    "xg_results"
   ]
  },
  {
   "cell_type": "markdown",
   "metadata": {},
   "source": [
    "# AdaBoost"
   ]
  },
  {
   "cell_type": "code",
   "execution_count": 395,
   "metadata": {
    "code_folding": [
     7
    ]
   },
   "outputs": [
    {
     "name": "stdout",
     "output_type": "stream",
     "text": [
      "Working on ws: 1, imp: mean\n",
      "Working on ws: 1, imp: forw\n",
      "Working on ws: 2, imp: mean\n",
      "Working on ws: 2, imp: forw\n",
      "Working on ws: 3, imp: mean\n",
      "Working on ws: 3, imp: forw\n",
      "Working on ws: 4, imp: mean\n",
      "Working on ws: 4, imp: forw\n",
      "Working on ws: 5, imp: mean\n",
      "Working on ws: 5, imp: forw\n",
      "Working on ws: 6, imp: mean\n",
      "Working on ws: 6, imp: forw\n"
     ]
    }
   ],
   "source": [
    "from sklearn.ensemble import AdaBoostClassifier\n",
    "\n",
    "ab_model = AdaBoostClassifier(n_estimators=100)\n",
    "\n",
    "ab_results = train_predict(ab_model, 'AB')\n",
    "ab_results.tofile('../data/')"
   ]
  },
  {
   "cell_type": "code",
   "execution_count": 398,
   "metadata": {},
   "outputs": [],
   "source": [
    "ab_results.tofile('../results/ab_results', sep='\\n')"
   ]
  },
  {
   "cell_type": "code",
   "execution_count": 478,
   "metadata": {},
   "outputs": [
    {
     "data": {
      "text/plain": [
       "array([['1', 'mean', '0.9860706337431114', '0.004314477468839885',\n",
       "        '0.2571428571428571', '0.9853938716635913', '0.7433725448160046',\n",
       "        '0.0018214936247723133', '0.06666666666666667'],\n",
       "       ['1', 'forw', '0.9860573866044934', '0.003835091083413231',\n",
       "        '0.22857142857142856', '0.9835486134573901',\n",
       "        '0.6740974606665338', '0.020036429872495445',\n",
       "        '0.10377358490566038'],\n",
       "       ['2', 'mean', '0.9858208142826039', '0.011274509803921568',\n",
       "        '0.25555555555555554', '0.9851375510312992', '0.762122784040555',\n",
       "        '0.00931098696461825', '0.16666666666666666'],\n",
       "       ['2', 'forw', '0.9859909100805574', '0.003431372549019608',\n",
       "        '0.21212121212121213', '0.9828961763214772',\n",
       "        '0.6838627539348625', '0.027932960893854747',\n",
       "        '0.11194029850746269'],\n",
       "       ['3', 'mean', '0.9856549350940018', '0.012575452716297788',\n",
       "        '0.22123893805309736', '0.9850041358700002',\n",
       "        '0.7446418219085961', '0.00931098696461825',\n",
       "        '0.14285714285714285'],\n",
       "       ['3', 'forw', '0.9859766674127126', '0.007545271629778672',\n",
       "        '0.3191489361702128', '0.9833231048376337', '0.6563834705027731',\n",
       "        '0.0297951582867784', '0.13333333333333333'],\n",
       "       ['4', 'mean', '0.9856521989408243', '0.01711618257261411', '0.25',\n",
       "        '0.984924086773221', '0.7547622396376831', '0.0037243947858473',\n",
       "        '0.0625'],\n",
       "       ['4', 'forw', '0.9860911236472485', '0.01867219917012448',\n",
       "        '0.4675324675324675', '0.983669984257011', '0.6864460108949133',\n",
       "        '0.024208566108007448', '0.12871287128712872'],\n",
       "       ['5', 'mean', '0.9855159435751542', '0.014477211796246649',\n",
       "        '0.1875', '0.9846839394828828', '0.7572389016765826',\n",
       "        '0.0111731843575419', '0.12244897959183673'],\n",
       "       ['5', 'forw', '0.986138276434329', '0.019839142091152815',\n",
       "        '0.4625', '0.9837233503215306', '0.6352975886207337',\n",
       "        '0.0223463687150838', '0.12371134020618557'],\n",
       "       ['6', 'mean', '0.9854782555582702', '0.018343524180100056',\n",
       "        '0.1952662721893491', '0.9844437921925447', '0.743433863762163',\n",
       "        '0.00558659217877095', '0.057692307692307696'],\n",
       "       ['6', 'forw', '0.9863715489860738', '0.022234574763757644',\n",
       "        '0.6060606060606061', '0.984790671611922', '0.6431993751001928',\n",
       "        '0.020484171322160148', '0.2']], dtype='<U21')"
      ]
     },
     "execution_count": 478,
     "metadata": {},
     "output_type": "execute_result"
    }
   ],
   "source": [
    "ab_results"
   ]
  },
  {
   "cell_type": "code",
   "execution_count": null,
   "metadata": {},
   "outputs": [],
   "source": []
  }
 ],
 "metadata": {
  "hide_input": false,
  "kernelspec": {
   "display_name": "Python 3",
   "language": "python",
   "name": "python3"
  }
 },
 "nbformat": 4,
 "nbformat_minor": 2
}
