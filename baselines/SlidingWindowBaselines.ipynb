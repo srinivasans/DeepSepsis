{
 "cells": [
  {
   "cell_type": "code",
   "execution_count": 91,
   "metadata": {},
   "outputs": [],
   "source": [
    "import os, sys\n",
    "import numpy as np\n",
    "import pandas as pd\n",
    "import matplotlib.pyplot as plt\n",
    "import sklearn as sklearn"
   ]
  },
  {
   "cell_type": "code",
   "execution_count": 96,
   "metadata": {
    "code_folding": [
     4
    ]
   },
   "outputs": [
    {
     "name": "stdout",
     "output_type": "stream",
     "text": [
      "Count: 500\n",
      "Count: 1000\n",
      "Count: 1500\n",
      "Count: 2000\n",
      "Count: 2500\n",
      "Count: 3000\n",
      "Count: 3500\n",
      "Count: 4000\n"
     ]
    }
   ],
   "source": [
    "train_df = pd.DataFrame(data=[])\n",
    "features = None\n",
    "\n",
    "i = 0\n",
    "for file in os.listdir('../data/train_forw_imputed/'):\n",
    "    \n",
    "    # Read file \n",
    "    patient_df = []\n",
    "    with open('../data/train_forw_imputed/%s' % (file)) as f:\n",
    "        \n",
    "        if not features:\n",
    "            features = f.readline().rstrip('\\n').split('|')\n",
    "        else:\n",
    "            # This skips the headers\n",
    "            f.readline()\n",
    "        \n",
    "        for idx, line in enumerate(f):\n",
    "            line = line.rstrip('\\n')\n",
    "            patient_df.append(line.split('|'))\n",
    "    \n",
    "    patient_df = pd.DataFrame(patient_df, columns=features)\n",
    "    i += 1 \n",
    "    \n",
    "    if i%500 == 0:\n",
    "        print(\"Count: %d\"%(i))\n",
    "    \n",
    "    train_df = patient_df if train_df.empty else pd.concat([train_df, patient_df])"
   ]
  },
  {
   "cell_type": "code",
   "execution_count": 97,
   "metadata": {},
   "outputs": [
    {
     "data": {
      "text/plain": [
       "(150976, 44)"
      ]
     },
     "execution_count": 97,
     "metadata": {},
     "output_type": "execute_result"
    }
   ],
   "source": [
    "train_df.shape"
   ]
  },
  {
   "cell_type": "code",
   "execution_count": 118,
   "metadata": {},
   "outputs": [
    {
     "data": {
      "text/plain": [
       "Index(['HR', 'O2Sat', 'Temp', 'SBP', 'MAP', 'DBP', 'Resp', 'EtCO2',\n",
       "       'BaseExcess', 'HCO3', 'FiO2', 'pH', 'PaCO2', 'SaO2', 'AST', 'BUN',\n",
       "       'Alkalinephos', 'Calcium', 'Chloride', 'Creatinine', 'Bilirubin_direct',\n",
       "       'Glucose', 'Lactate', 'Magnesium', 'Phosphate', 'Potassium',\n",
       "       'Bilirubin_total', 'TroponinI', 'Hct', 'Hgb', 'PTT', 'WBC',\n",
       "       'Fibrinogen', 'Platelets', 'Age', 'Gender', 'Unit1', 'Unit2',\n",
       "       'HospAdmTime', 'ICULOS', 'SepsisLabel', 'pid'],\n",
       "      dtype='object')"
      ]
     },
     "execution_count": 118,
     "metadata": {},
     "output_type": "execute_result"
    }
   ],
   "source": [
    "train_df.columns"
   ]
  },
  {
   "cell_type": "code",
   "execution_count": 129,
   "metadata": {},
   "outputs": [
    {
     "data": {
      "text/plain": [
       "HR                  object\n",
       "O2Sat               object\n",
       "Temp                object\n",
       "SBP                 object\n",
       "MAP                 object\n",
       "DBP                 object\n",
       "Resp                object\n",
       "EtCO2               object\n",
       "BaseExcess          object\n",
       "HCO3                object\n",
       "FiO2                object\n",
       "pH                  object\n",
       "PaCO2               object\n",
       "SaO2                object\n",
       "AST                 object\n",
       "BUN                 object\n",
       "Alkalinephos        object\n",
       "Calcium             object\n",
       "Chloride            object\n",
       "Creatinine          object\n",
       "Bilirubin_direct    object\n",
       "Glucose             object\n",
       "Lactate             object\n",
       "Magnesium           object\n",
       "Phosphate           object\n",
       "Potassium           object\n",
       "Bilirubin_total     object\n",
       "TroponinI           object\n",
       "Hct                 object\n",
       "Hgb                 object\n",
       "PTT                 object\n",
       "WBC                 object\n",
       "Fibrinogen          object\n",
       "Platelets           object\n",
       "Age                 object\n",
       "Gender              object\n",
       "HospAdmTime         object\n",
       "SepsisLabel         object\n",
       "pid                 object\n",
       "dtype: object"
      ]
     },
     "execution_count": 129,
     "metadata": {},
     "output_type": "execute_result"
    }
   ],
   "source": [
    "train_df.dtypes"
   ]
  },
  {
   "cell_type": "code",
   "execution_count": 117,
   "metadata": {},
   "outputs": [
    {
     "data": {
      "text/html": [
       "<div>\n",
       "<style scoped>\n",
       "    .dataframe tbody tr th:only-of-type {\n",
       "        vertical-align: middle;\n",
       "    }\n",
       "\n",
       "    .dataframe tbody tr th {\n",
       "        vertical-align: top;\n",
       "    }\n",
       "\n",
       "    .dataframe thead th {\n",
       "        text-align: right;\n",
       "    }\n",
       "</style>\n",
       "<table border=\"1\" class=\"dataframe\">\n",
       "  <thead>\n",
       "    <tr style=\"text-align: right;\">\n",
       "      <th></th>\n",
       "      <th>HR</th>\n",
       "      <th>O2Sat</th>\n",
       "      <th>Temp</th>\n",
       "      <th>SBP</th>\n",
       "      <th>MAP</th>\n",
       "      <th>DBP</th>\n",
       "      <th>Resp</th>\n",
       "      <th>EtCO2</th>\n",
       "      <th>BaseExcess</th>\n",
       "      <th>HCO3</th>\n",
       "      <th>...</th>\n",
       "      <th>Fibrinogen</th>\n",
       "      <th>Platelets</th>\n",
       "      <th>Age</th>\n",
       "      <th>Gender</th>\n",
       "      <th>Unit1</th>\n",
       "      <th>Unit2</th>\n",
       "      <th>HospAdmTime</th>\n",
       "      <th>ICULOS</th>\n",
       "      <th>SepsisLabel</th>\n",
       "      <th>pid</th>\n",
       "    </tr>\n",
       "  </thead>\n",
       "  <tbody>\n",
       "    <tr>\n",
       "      <th>0</th>\n",
       "      <td>0.442528735632184</td>\n",
       "      <td>0.9487179487179488</td>\n",
       "      <td>0.5625000000000004</td>\n",
       "      <td>0.37318840579710144</td>\n",
       "      <td>0.14661654135338348</td>\n",
       "      <td>0.11594202898550725</td>\n",
       "      <td>0.1717171717171717</td>\n",
       "      <td>0.34444444444444444</td>\n",
       "      <td>0.4434782608695652</td>\n",
       "      <td>0.4349442379182157</td>\n",
       "      <td>...</td>\n",
       "      <td>0.22377622377622378</td>\n",
       "      <td>0.11132623426911907</td>\n",
       "      <td>0.6</td>\n",
       "      <td>1.0</td>\n",
       "      <td>0.0</td>\n",
       "      <td>1.0</td>\n",
       "      <td>0.9946430501261444</td>\n",
       "      <td>1</td>\n",
       "      <td>0</td>\n",
       "      <td>p02835</td>\n",
       "    </tr>\n",
       "    <tr>\n",
       "      <th>1</th>\n",
       "      <td>0.37643678160919536</td>\n",
       "      <td>0.9294871794871794</td>\n",
       "      <td>0.5625000000000004</td>\n",
       "      <td>0.5018115942028986</td>\n",
       "      <td>0.2631578947368421</td>\n",
       "      <td>0.17391304347826086</td>\n",
       "      <td>0.2272727272727273</td>\n",
       "      <td>0.34444444444444444</td>\n",
       "      <td>0.4434782608695652</td>\n",
       "      <td>0.4349442379182157</td>\n",
       "      <td>...</td>\n",
       "      <td>0.22377622377622378</td>\n",
       "      <td>0.11132623426911907</td>\n",
       "      <td>0.6</td>\n",
       "      <td>1.0</td>\n",
       "      <td>0.0</td>\n",
       "      <td>1.0</td>\n",
       "      <td>0.9946430501261444</td>\n",
       "      <td>2</td>\n",
       "      <td>0</td>\n",
       "      <td>p02835</td>\n",
       "    </tr>\n",
       "    <tr>\n",
       "      <th>2</th>\n",
       "      <td>0.3793103448275862</td>\n",
       "      <td>0.9102564102564102</td>\n",
       "      <td>0.41071428571428603</td>\n",
       "      <td>0.49275362318840576</td>\n",
       "      <td>0.21052631578947367</td>\n",
       "      <td>0.14492753623188404</td>\n",
       "      <td>0.19191919191919193</td>\n",
       "      <td>0.34444444444444444</td>\n",
       "      <td>0.4434782608695652</td>\n",
       "      <td>0.4349442379182157</td>\n",
       "      <td>...</td>\n",
       "      <td>0.22377622377622378</td>\n",
       "      <td>0.11132623426911907</td>\n",
       "      <td>0.6</td>\n",
       "      <td>1.0</td>\n",
       "      <td>0.0</td>\n",
       "      <td>1.0</td>\n",
       "      <td>0.9946430501261444</td>\n",
       "      <td>3</td>\n",
       "      <td>0</td>\n",
       "      <td>p02835</td>\n",
       "    </tr>\n",
       "    <tr>\n",
       "      <th>3</th>\n",
       "      <td>0.3448275862068966</td>\n",
       "      <td>0.9358974358974358</td>\n",
       "      <td>0.41071428571428603</td>\n",
       "      <td>0.5217391304347826</td>\n",
       "      <td>0.19924812030075184</td>\n",
       "      <td>0.13405797101449274</td>\n",
       "      <td>0.15151515151515152</td>\n",
       "      <td>0.34444444444444444</td>\n",
       "      <td>0.4434782608695652</td>\n",
       "      <td>0.4349442379182157</td>\n",
       "      <td>...</td>\n",
       "      <td>0.22377622377622378</td>\n",
       "      <td>0.11132623426911907</td>\n",
       "      <td>0.6</td>\n",
       "      <td>1.0</td>\n",
       "      <td>0.0</td>\n",
       "      <td>1.0</td>\n",
       "      <td>0.9946430501261444</td>\n",
       "      <td>4</td>\n",
       "      <td>0</td>\n",
       "      <td>p02835</td>\n",
       "    </tr>\n",
       "    <tr>\n",
       "      <th>4</th>\n",
       "      <td>0.3448275862068966</td>\n",
       "      <td>0.9487179487179488</td>\n",
       "      <td>0.41071428571428603</td>\n",
       "      <td>0.4782608695652174</td>\n",
       "      <td>0.18421052631578944</td>\n",
       "      <td>0.12318840579710146</td>\n",
       "      <td>0.19191919191919193</td>\n",
       "      <td>0.34444444444444444</td>\n",
       "      <td>0.4434782608695652</td>\n",
       "      <td>0.4349442379182157</td>\n",
       "      <td>...</td>\n",
       "      <td>0.22377622377622378</td>\n",
       "      <td>0.11132623426911907</td>\n",
       "      <td>0.6</td>\n",
       "      <td>1.0</td>\n",
       "      <td>0.0</td>\n",
       "      <td>1.0</td>\n",
       "      <td>0.9946430501261444</td>\n",
       "      <td>5</td>\n",
       "      <td>0</td>\n",
       "      <td>p02835</td>\n",
       "    </tr>\n",
       "  </tbody>\n",
       "</table>\n",
       "<p>5 rows × 42 columns</p>\n",
       "</div>"
      ],
      "text/plain": [
       "                    HR               O2Sat                 Temp  \\\n",
       "0    0.442528735632184  0.9487179487179488   0.5625000000000004   \n",
       "1  0.37643678160919536  0.9294871794871794   0.5625000000000004   \n",
       "2   0.3793103448275862  0.9102564102564102  0.41071428571428603   \n",
       "3   0.3448275862068966  0.9358974358974358  0.41071428571428603   \n",
       "4   0.3448275862068966  0.9487179487179488  0.41071428571428603   \n",
       "\n",
       "                   SBP                  MAP                  DBP  \\\n",
       "0  0.37318840579710144  0.14661654135338348  0.11594202898550725   \n",
       "1   0.5018115942028986   0.2631578947368421  0.17391304347826086   \n",
       "2  0.49275362318840576  0.21052631578947367  0.14492753623188404   \n",
       "3   0.5217391304347826  0.19924812030075184  0.13405797101449274   \n",
       "4   0.4782608695652174  0.18421052631578944  0.12318840579710146   \n",
       "\n",
       "                  Resp                EtCO2          BaseExcess  \\\n",
       "0   0.1717171717171717  0.34444444444444444  0.4434782608695652   \n",
       "1   0.2272727272727273  0.34444444444444444  0.4434782608695652   \n",
       "2  0.19191919191919193  0.34444444444444444  0.4434782608695652   \n",
       "3  0.15151515151515152  0.34444444444444444  0.4434782608695652   \n",
       "4  0.19191919191919193  0.34444444444444444  0.4434782608695652   \n",
       "\n",
       "                 HCO3   ...             Fibrinogen            Platelets  Age  \\\n",
       "0  0.4349442379182157   ...    0.22377622377622378  0.11132623426911907  0.6   \n",
       "1  0.4349442379182157   ...    0.22377622377622378  0.11132623426911907  0.6   \n",
       "2  0.4349442379182157   ...    0.22377622377622378  0.11132623426911907  0.6   \n",
       "3  0.4349442379182157   ...    0.22377622377622378  0.11132623426911907  0.6   \n",
       "4  0.4349442379182157   ...    0.22377622377622378  0.11132623426911907  0.6   \n",
       "\n",
       "  Gender Unit1 Unit2         HospAdmTime ICULOS SepsisLabel     pid  \n",
       "0    1.0   0.0   1.0  0.9946430501261444      1           0  p02835  \n",
       "1    1.0   0.0   1.0  0.9946430501261444      2           0  p02835  \n",
       "2    1.0   0.0   1.0  0.9946430501261444      3           0  p02835  \n",
       "3    1.0   0.0   1.0  0.9946430501261444      4           0  p02835  \n",
       "4    1.0   0.0   1.0  0.9946430501261444      5           0  p02835  \n",
       "\n",
       "[5 rows x 42 columns]"
      ]
     },
     "execution_count": 117,
     "metadata": {},
     "output_type": "execute_result"
    }
   ],
   "source": [
    "train_df.head()"
   ]
  },
  {
   "cell_type": "markdown",
   "metadata": {},
   "source": [
    "## Extract sliding-window data from patients and create new dataset"
   ]
  },
  {
   "cell_type": "code",
   "execution_count": 119,
   "metadata": {},
   "outputs": [],
   "source": [
    "train_df.drop(columns=['Unit1', 'Unit2', 'ICULOS'], inplace=True)"
   ]
  },
  {
   "cell_type": "code",
   "execution_count": 120,
   "metadata": {
    "code_folding": []
   },
   "outputs": [],
   "source": [
    "X_train = []\n",
    "y_train = []\n",
    "window_size = 6\n",
    "\n",
    "for pid, data in train_df.groupby('pid'):\n",
    "    data.reset_index(drop=True, inplace=True)\n",
    "    \n",
    "    window_start = 0\n",
    "    while (window_start + window_size) <= data.shape[0]:\n",
    "        new_data = data.iloc[window_start:window_start + window_size].drop(columns=['pid', 'SepsisLabel'])\n",
    "        assert new_data.shape[0] == 6\n",
    "        \n",
    "        x_i = new_data.stack().values # concat rows into one vector\n",
    "        X_train.append(x_i)\n",
    "        \n",
    "        label = data.iloc[window_start + window_size - 1]['SepsisLabel']\n",
    "        y_train.append(label)\n",
    "        \n",
    "        window_start += 1"
   ]
  },
  {
   "cell_type": "code",
   "execution_count": 121,
   "metadata": {},
   "outputs": [],
   "source": [
    "X_train, y_train = np.array(X_train), np.array(y_train)"
   ]
  },
  {
   "cell_type": "code",
   "execution_count": 122,
   "metadata": {},
   "outputs": [
    {
     "data": {
      "text/plain": [
       "((130976, 222), (130976,))"
      ]
     },
     "execution_count": 122,
     "metadata": {},
     "output_type": "execute_result"
    }
   ],
   "source": [
    "X_train.shape, y_train.shape"
   ]
  },
  {
   "cell_type": "code",
   "execution_count": 131,
   "metadata": {},
   "outputs": [],
   "source": [
    "X_train = X_train.astype(np.float)"
   ]
  },
  {
   "cell_type": "code",
   "execution_count": 132,
   "metadata": {},
   "outputs": [],
   "source": [
    "y_train = y_train.astype(np.int)"
   ]
  },
  {
   "cell_type": "code",
   "execution_count": 133,
   "metadata": {},
   "outputs": [
    {
     "data": {
      "text/plain": [
       "1799"
      ]
     },
     "execution_count": 133,
     "metadata": {},
     "output_type": "execute_result"
    }
   ],
   "source": [
    "y_train.sum()"
   ]
  },
  {
   "cell_type": "markdown",
   "metadata": {},
   "source": [
    "## Train Models and Predict"
   ]
  },
  {
   "cell_type": "code",
   "execution_count": 135,
   "metadata": {},
   "outputs": [],
   "source": [
    "from sklearn.metrics import roc_auc_score, f1_score, confusion_matrix, precision_score, recall_score"
   ]
  },
  {
   "cell_type": "code",
   "execution_count": 237,
   "metadata": {
    "code_folding": [
     16,
     38
    ]
   },
   "outputs": [],
   "source": [
    "# Predict on test patients\n",
    "def predict(model, model_type, impute_method='forw', window_size=6):\n",
    "    features = None\n",
    "    \n",
    "    for file in os.listdir('../data/test_%s_imputed/'%(impute_method)):\n",
    "        X_test = []\n",
    "        y_test = []\n",
    "        \n",
    "        # Read file \n",
    "        patient_df = []\n",
    "        with open('../data/test_%s_imputed/%s' % (impute_method, file)) as f:\n",
    "\n",
    "            if not features:\n",
    "                features = f.readline().rstrip('\\n').split('|')\n",
    "            else:\n",
    "                # This skips the headers\n",
    "                f.readline()\n",
    "\n",
    "            for idx, line in enumerate(f):\n",
    "                line = line.rstrip('\\n') \n",
    "                patient_df.append(line.split('|'))\n",
    "        \n",
    "        # Create patient df\n",
    "        patient_df = pd.DataFrame(patient_df, columns=features, dtype=np.float)\n",
    "        \n",
    "        # Append 5 rows of mean values to top of df \n",
    "        mean_vals = patient_df.mean()\n",
    "        patient_df = pd.concat([pd.DataFrame([mean_vals]*5, columns=features), patient_df], \n",
    "                              ignore_index=True)\n",
    "    \n",
    "        # Get data for every window\n",
    "        window_start = 0\n",
    "        while (window_start + window_size) <= patient_df.shape[0]:\n",
    "            window_data = patient_df.iloc[window_start:window_start + window_size].drop(columns=['pid', 'SepsisLabel'])\n",
    "            assert window_data.shape[0] == 6\n",
    "\n",
    "            x_i = new_data.stack().values # concat rows into one vector\n",
    "            X_test.append(x_i)\n",
    "\n",
    "            label = patient_df.iloc[window_start + window_size - 1]['SepsisLabel']\n",
    "            y_test.append(label)\n",
    "\n",
    "            window_start += 1\n",
    "        \n",
    "        X_test = np.array(X_test)\n",
    "        y_test = np.array(y_test, dtype=np.int)\n",
    "            \n",
    "        # Predict for every time step\n",
    "        y_pred = model.predict(X_test)\n",
    "        y_pred_prob = model.predict_proba(X_test)\n",
    "        \n",
    "        assert y_pred.shape[0] == y_test.shape[0]\n",
    "        \n",
    "        # Save to file\n",
    "        if not os.path.isdir('../data/%s_pred_%s_imputed'%(model_type, impute_method)):\n",
    "            os.mkdir('../data/%s_pred_%s_imputed'%(model_type, impute_method))\n",
    "            \n",
    "        pred = np.transpose(np.vstack((y_pred_prob[:,1], y_pred)))\n",
    "\n",
    "        pred_df = pd.DataFrame(pred, columns=[\"PredictedProbability\", \"PredictedLabel\"])\n",
    "        pred_df.to_csv('../data/%s_pred_%s_imputed/%s.psv'%(model_type, impute_method, file), sep='|', index=False) "
   ]
  },
  {
   "cell_type": "code",
   "execution_count": 238,
   "metadata": {},
   "outputs": [],
   "source": [
    "predict(rf_model, 'RF')"
   ]
  },
  {
   "cell_type": "code",
   "execution_count": null,
   "metadata": {},
   "outputs": [],
   "source": [
    "predict(lr_model, 'RLR')"
   ]
  },
  {
   "cell_type": "markdown",
   "metadata": {},
   "source": [
    "## Regularized Log. Reg. "
   ]
  },
  {
   "cell_type": "code",
   "execution_count": null,
   "metadata": {
    "hide_input": false
   },
   "outputs": [],
   "source": [
    "from sklearn.linear_model import LogisticRegressionCV\n",
    "\n",
    "lr_model = LogisticRegressionCV(solver='lbfgs', cv=5, max_iter=500, class_weight='balanced')\n",
    "lr_model = lr_model.fit(X_train, y_train)"
   ]
  },
  {
   "cell_type": "code",
   "execution_count": 240,
   "metadata": {},
   "outputs": [
    {
     "data": {
      "text/plain": [
       "0.7193684339115564"
      ]
     },
     "execution_count": 240,
     "metadata": {},
     "output_type": "execute_result"
    }
   ],
   "source": [
    "lr_model.score(X_train, y_train)"
   ]
  },
  {
   "cell_type": "markdown",
   "metadata": {},
   "source": [
    "## Random Forest"
   ]
  },
  {
   "cell_type": "code",
   "execution_count": 138,
   "metadata": {},
   "outputs": [
    {
     "name": "stderr",
     "output_type": "stream",
     "text": [
      "/usr/local/Cellar/python3/3.5.2_3/Frameworks/Python.framework/Versions/3.5/lib/python3.5/site-packages/sklearn/ensemble/forest.py:248: FutureWarning: The default value of n_estimators will change from 10 in version 0.20 to 100 in 0.22.\n",
      "  \"10 in version 0.20 to 100 in 0.22.\", FutureWarning)\n"
     ]
    }
   ],
   "source": [
    "from sklearn.ensemble import RandomForestClassifier\n",
    "\n",
    "rf_model = RandomForestClassifier(class_weight='balanced').fit(X_train, y_train)"
   ]
  },
  {
   "cell_type": "code",
   "execution_count": 139,
   "metadata": {},
   "outputs": [
    {
     "data": {
      "text/plain": [
       "0.9997251404837527"
      ]
     },
     "execution_count": 139,
     "metadata": {},
     "output_type": "execute_result"
    }
   ],
   "source": [
    "rf_model.score(X_train, y_train)"
   ]
  },
  {
   "cell_type": "code",
   "execution_count": 89,
   "metadata": {},
   "outputs": [
    {
     "data": {
      "text/plain": [
       "0.6184415020204854"
      ]
     },
     "execution_count": 89,
     "metadata": {},
     "output_type": "execute_result"
    }
   ],
   "source": [
    "y_pred = rf_model.predict_proba(X_test)\n",
    "roc_auc_score(y_test, y_pred[:,1])"
   ]
  },
  {
   "cell_type": "code",
   "execution_count": 90,
   "metadata": {},
   "outputs": [
    {
     "data": {
      "text/plain": [
       "array([[31980,    24],\n",
       "       [  432,     5]])"
      ]
     },
     "execution_count": 90,
     "metadata": {},
     "output_type": "execute_result"
    }
   ],
   "source": [
    "y_hat = rf_model.predict(X_test)\n",
    "confusion_matrix(y_test, y_hat)"
   ]
  },
  {
   "cell_type": "code",
   "execution_count": null,
   "metadata": {},
   "outputs": [],
   "source": []
  }
 ],
 "metadata": {
  "hide_input": false,
  "kernelspec": {
   "display_name": "Python 3",
   "language": "python",
   "name": "python3"
  },
  "language_info": {
   "codemirror_mode": {
    "name": "ipython",
    "version": 3
   },
   "file_extension": ".py",
   "mimetype": "text/x-python",
   "name": "python",
   "nbconvert_exporter": "python",
   "pygments_lexer": "ipython3",
   "version": "3.5.2"
  }
 },
 "nbformat": 4,
 "nbformat_minor": 2
}
