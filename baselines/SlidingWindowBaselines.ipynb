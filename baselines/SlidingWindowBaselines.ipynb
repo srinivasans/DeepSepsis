{
 "cells": [
  {
   "cell_type": "code",
   "execution_count": 1,
   "metadata": {},
   "outputs": [],
   "source": [
    "import os, sys\n",
    "import numpy as np\n",
    "import pandas as pd\n",
    "import matplotlib.pyplot as plt\n",
    "import sklearn as sklearn"
   ]
  },
  {
   "cell_type": "markdown",
   "metadata": {},
   "source": [
    "## Read imputed files and creating training matrix using windows"
   ]
  },
  {
   "cell_type": "code",
   "execution_count": 250,
   "metadata": {
    "code_folding": [
     6
    ]
   },
   "outputs": [],
   "source": [
    "X_train = []\n",
    "y_train = []\n",
    "window_size = 4\n",
    "features = None\n",
    "\n",
    "i = 0\n",
    "for file in os.listdir('../data/train_mean_imputed/'):\n",
    "    \n",
    "    # Read file\n",
    "    patient_df = []\n",
    "    with open('../data/train_mean_imputed/%s' % (file)) as f:\n",
    "        \n",
    "        if not features:\n",
    "            features = f.readline().rstrip('\\n').split('|')\n",
    "        else:\n",
    "            # This skips the headers\n",
    "            f.readline()\n",
    "        \n",
    "        for idx, line in enumerate(f):\n",
    "            line = line.rstrip('\\n')\n",
    "            patient_df.append(line.split('|'))\n",
    "    \n",
    "    patient_df = np.array(patient_df)\n",
    "    \n",
    "    window_start = 0\n",
    "    while (window_start + window_size) <= patient_df.shape[0]:\n",
    "        window_data = patient_df[window_start:window_start + window_size, 1:37].astype(np.float)\n",
    "        assert window_data.shape[0] == window_size\n",
    "        \n",
    "        x_i = np.reshape(window_data, (window_size*window_data.shape[1],))\n",
    "        X_train.append(x_i)\n",
    "        \n",
    "        label = int(patient_df[window_start + window_size - 1, 41])\n",
    "        y_train.append(label)\n",
    "        \n",
    "        window_start += 1\n",
    "    "
   ]
  },
  {
   "cell_type": "code",
   "execution_count": 252,
   "metadata": {},
   "outputs": [],
   "source": [
    "X_train, y_train = np.array(X_train), np.array(y_train)"
   ]
  },
  {
   "cell_type": "code",
   "execution_count": 253,
   "metadata": {},
   "outputs": [
    {
     "data": {
      "text/plain": [
       "((138976, 144), (138976,))"
      ]
     },
     "execution_count": 253,
     "metadata": {},
     "output_type": "execute_result"
    }
   ],
   "source": [
    "X_train.shape, y_train.shape"
   ]
  },
  {
   "cell_type": "code",
   "execution_count": 255,
   "metadata": {},
   "outputs": [
    {
     "data": {
      "text/plain": [
       "['HR',\n",
       " 'O2Sat',\n",
       " 'Temp',\n",
       " 'SBP',\n",
       " 'MAP',\n",
       " 'DBP',\n",
       " 'Resp',\n",
       " 'EtCO2',\n",
       " 'BaseExcess',\n",
       " 'HCO3',\n",
       " 'FiO2',\n",
       " 'pH',\n",
       " 'PaCO2',\n",
       " 'SaO2',\n",
       " 'AST',\n",
       " 'BUN',\n",
       " 'Alkalinephos',\n",
       " 'Calcium',\n",
       " 'Chloride',\n",
       " 'Creatinine',\n",
       " 'Bilirubin_direct',\n",
       " 'Glucose',\n",
       " 'Lactate',\n",
       " 'Magnesium',\n",
       " 'Phosphate',\n",
       " 'Potassium',\n",
       " 'Bilirubin_total',\n",
       " 'TroponinI',\n",
       " 'Hct',\n",
       " 'Hgb',\n",
       " 'PTT',\n",
       " 'WBC',\n",
       " 'Fibrinogen',\n",
       " 'Platelets',\n",
       " 'Age',\n",
       " 'Gender']"
      ]
     },
     "execution_count": 255,
     "metadata": {},
     "output_type": "execute_result"
    }
   ],
   "source": [
    "features[1:37]"
   ]
  },
  {
   "cell_type": "code",
   "execution_count": 256,
   "metadata": {},
   "outputs": [],
   "source": [
    "X_train = X_train.astype(np.float)"
   ]
  },
  {
   "cell_type": "code",
   "execution_count": 257,
   "metadata": {},
   "outputs": [],
   "source": [
    "y_train = y_train.astype(np.int)"
   ]
  },
  {
   "cell_type": "code",
   "execution_count": 258,
   "metadata": {},
   "outputs": [
    {
     "data": {
      "text/plain": [
       "1928"
      ]
     },
     "execution_count": 258,
     "metadata": {},
     "output_type": "execute_result"
    }
   ],
   "source": [
    "y_train.sum()"
   ]
  },
  {
   "cell_type": "markdown",
   "metadata": {},
   "source": [
    "## Train Models and Predict"
   ]
  },
  {
   "cell_type": "code",
   "execution_count": 259,
   "metadata": {},
   "outputs": [],
   "source": [
    "from sklearn.metrics import roc_auc_score, f1_score, confusion_matrix, precision_score, recall_score"
   ]
  },
  {
   "cell_type": "code",
   "execution_count": 334,
   "metadata": {
    "code_folding": [
     1,
     12,
     34
    ]
   },
   "outputs": [],
   "source": [
    "# Read test files, create windows, and predict. \n",
    "def predict(model, model_type, impute_method='mean'):\n",
    "    X = []\n",
    "    y = []\n",
    "    features = None\n",
    "    \n",
    "    for file in os.listdir('../data/test_%s_imputed/'%(impute_method)):\n",
    "        X_test = []\n",
    "        y_test = []\n",
    "        \n",
    "        # Read file \n",
    "        patient_df = []\n",
    "        with open('../data/test_%s_imputed/%s' % (impute_method, file)) as f:\n",
    "\n",
    "            if not features:\n",
    "                features = f.readline().rstrip('\\n').split('|')\n",
    "            else:\n",
    "                # This skips the headers\n",
    "                f.readline()\n",
    "\n",
    "            for idx, line in enumerate(f):\n",
    "                line = line.rstrip('\\n') \n",
    "                patient_df.append(line.split('|'))\n",
    "        \n",
    "        # Create patient df\n",
    "        patient_df = np.array(patient_df)\n",
    "        X_patient = patient_df[:,1:37].astype(np.float)\n",
    "        \n",
    "        # Append 5 rows of mean values to top of df \n",
    "        mean_vals = np.mean(X_patient, axis=0)\n",
    "        X_patient = np.concatenate(([mean_vals]*(window_size-1), X_patient))\n",
    "    \n",
    "        # Get data for every window\n",
    "        window_start = 0\n",
    "        while (window_start + window_size) <= X_patient.shape[0]:\n",
    "            window_data = X_patient[window_start:window_start + window_size, :]\n",
    "            assert window_data.shape[0] == window_size\n",
    "\n",
    "            x_i = np.reshape(window_data, (window_size*window_data.shape[1],))\n",
    "            X_test.append(x_i)\n",
    "            \n",
    "            label = int(patient_df[window_start, 41])\n",
    "            y_test.append(label)\n",
    "\n",
    "            window_start += 1\n",
    "        \n",
    "        # Add X_test to X\n",
    "        X.extend(list(X_test))\n",
    "        y.extend(list(y_test))\n",
    "        \n",
    "        # Predict for every time step\n",
    "        y_pred = model.predict(X_test)\n",
    "        y_pred_prob = model.predict_proba(X_test)\n",
    "        \n",
    "        assert y_pred.shape[0] == len(y_test)\n",
    "        \n",
    "        # Save to file\n",
    "        if not os.path.isdir('../data/%s_pred_%s_imputed'%(model_type, impute_method)):\n",
    "            os.mkdir('../data/%s_pred_%s_imputed'%(model_type, impute_method))\n",
    "            \n",
    "        pred = np.transpose(np.vstack((y_pred_prob[:,1], y_pred)))\n",
    "\n",
    "        pred_df = pd.DataFrame(pred, columns=[\"PredictedProbability\", \"PredictedLabel\"])\n",
    "        pred_df.to_csv('../data/%s_pred_%s_imputed/%s'%(model_type, impute_method, file), sep='|', index=False)\n",
    "        \n",
    "    return np.array(X), np.array(y)"
   ]
  },
  {
   "cell_type": "markdown",
   "metadata": {},
   "source": [
    "## Regularized Log. Reg. "
   ]
  },
  {
   "cell_type": "code",
   "execution_count": 308,
   "metadata": {
    "hide_input": false
   },
   "outputs": [],
   "source": [
    "from sklearn.linear_model import LogisticRegression, LogisticRegressionCV\n",
    "\n",
    "lr_model = LogisticRegressionCV(cv=5, solver='lbfgs', max_iter=1000, class_weight='balanced')\n",
    "lr_model = lr_model.fit(X_train, y_train)"
   ]
  },
  {
   "cell_type": "code",
   "execution_count": 309,
   "metadata": {},
   "outputs": [
    {
     "data": {
      "text/plain": [
       "0.7190018420446695"
      ]
     },
     "execution_count": 309,
     "metadata": {},
     "output_type": "execute_result"
    }
   ],
   "source": [
    "lr_model.score(X_train, y_train)"
   ]
  },
  {
   "cell_type": "code",
   "execution_count": 310,
   "metadata": {},
   "outputs": [
    {
     "data": {
      "text/plain": [
       "(0.5316390041493776, 0.02616531372849339)"
      ]
     },
     "execution_count": 310,
     "metadata": {},
     "output_type": "execute_result"
    }
   ],
   "source": [
    "y_pred = lr_model.predict(X_train)\n",
    "recall_score(y_train, y_pred), precision_score(y_train, y_pred)"
   ]
  },
  {
   "cell_type": "code",
   "execution_count": 264,
   "metadata": {},
   "outputs": [
    {
     "data": {
      "text/plain": [
       "array([[98893, 38155],\n",
       "       [  903,  1025]])"
      ]
     },
     "execution_count": 264,
     "metadata": {},
     "output_type": "execute_result"
    }
   ],
   "source": [
    "confusion_matrix(y_train, y_pred)"
   ]
  },
  {
   "cell_type": "code",
   "execution_count": null,
   "metadata": {},
   "outputs": [],
   "source": [
    "X_test, y_test = predict(lr_model, 'RLR')"
   ]
  },
  {
   "cell_type": "code",
   "execution_count": 311,
   "metadata": {},
   "outputs": [
    {
     "data": {
      "text/plain": [
       "0.6666847139505504"
      ]
     },
     "execution_count": 311,
     "metadata": {},
     "output_type": "execute_result"
    }
   ],
   "source": [
    "y_pred_prob = lr_model.predict_proba(X_test)\n",
    "roc_auc_score(y_test, y_pred_prob[:,1])"
   ]
  },
  {
   "cell_type": "code",
   "execution_count": 312,
   "metadata": {},
   "outputs": [
    {
     "data": {
      "text/plain": [
       "(0.027508243052284505, 0.5437616387337058)"
      ]
     },
     "execution_count": 312,
     "metadata": {},
     "output_type": "execute_result"
    }
   ],
   "source": [
    "y_pred = lr_model.predict(X_test)\n",
    "precision_score(y_test, y_pred), recall_score(y_test, y_pred)"
   ]
  },
  {
   "cell_type": "code",
   "execution_count": 313,
   "metadata": {},
   "outputs": [
    {
     "data": {
      "text/plain": [
       "array([[26617, 10323],\n",
       "       [  245,   292]])"
      ]
     },
     "execution_count": 313,
     "metadata": {},
     "output_type": "execute_result"
    }
   ],
   "source": [
    "confusion_matrix(y_test, y_pred)"
   ]
  },
  {
   "cell_type": "markdown",
   "metadata": {},
   "source": [
    "## Random Forest"
   ]
  },
  {
   "cell_type": "code",
   "execution_count": 329,
   "metadata": {},
   "outputs": [
    {
     "name": "stderr",
     "output_type": "stream",
     "text": [
      "/usr/local/Cellar/python3/3.5.2_3/Frameworks/Python.framework/Versions/3.5/lib/python3.5/site-packages/sklearn/ensemble/forest.py:248: FutureWarning: The default value of n_estimators will change from 10 in version 0.20 to 100 in 0.22.\n",
      "  \"10 in version 0.20 to 100 in 0.22.\", FutureWarning)\n"
     ]
    }
   ],
   "source": [
    "from sklearn.ensemble import RandomForestClassifier\n",
    "\n",
    "rf_model = RandomForestClassifier(max_depth=5, class_weight='balanced').fit(X_train, y_train)"
   ]
  },
  {
   "cell_type": "code",
   "execution_count": 330,
   "metadata": {},
   "outputs": [
    {
     "data": {
      "text/plain": [
       "0.8444263757771125"
      ]
     },
     "execution_count": 330,
     "metadata": {},
     "output_type": "execute_result"
    }
   ],
   "source": [
    "rf_model.score(X_train, y_train)"
   ]
  },
  {
   "cell_type": "code",
   "execution_count": 331,
   "metadata": {},
   "outputs": [
    {
     "data": {
      "text/plain": [
       "(0.5363070539419087, 0.047516198704103674)"
      ]
     },
     "execution_count": 331,
     "metadata": {},
     "output_type": "execute_result"
    }
   ],
   "source": [
    "y_pred = rf_model.predict(X_train)\n",
    "recall_score(y_train, y_pred), precision_score(y_train, y_pred)"
   ]
  },
  {
   "cell_type": "code",
   "execution_count": 332,
   "metadata": {},
   "outputs": [
    {
     "data": {
      "text/plain": [
       "array([[116321,  20727],\n",
       "       [   894,   1034]])"
      ]
     },
     "execution_count": 332,
     "metadata": {},
     "output_type": "execute_result"
    }
   ],
   "source": [
    "confusion_matrix(y_train, y_pred)"
   ]
  },
  {
   "cell_type": "code",
   "execution_count": null,
   "metadata": {},
   "outputs": [],
   "source": [
    "X_test, y_test = predict(rf_model, 'RF')"
   ]
  },
  {
   "cell_type": "code",
   "execution_count": 335,
   "metadata": {},
   "outputs": [
    {
     "data": {
      "text/plain": [
       "(0.547486033519553, 0.05003403675970047)"
      ]
     },
     "execution_count": 335,
     "metadata": {},
     "output_type": "execute_result"
    }
   ],
   "source": [
    "y_pred = rf_model.predict(X_test)\n",
    "recall_score(y_test, y_pred), precision_score(y_test, y_pred)"
   ]
  },
  {
   "cell_type": "code",
   "execution_count": 336,
   "metadata": {},
   "outputs": [
    {
     "data": {
      "text/plain": [
       "array([[31358,  5582],\n",
       "       [  243,   294]])"
      ]
     },
     "execution_count": 336,
     "metadata": {},
     "output_type": "execute_result"
    }
   ],
   "source": [
    "roc_auc_score(y_test, rf_model.predict_proba(X_test)[:,1])\n",
    "confusion_matrix(y_test, y_pred)"
   ]
  },
  {
   "cell_type": "markdown",
   "metadata": {},
   "source": [
    "## SVM"
   ]
  },
  {
   "cell_type": "code",
   "execution_count": null,
   "metadata": {},
   "outputs": [],
   "source": [
    "from sklearn.linear import SVC"
   ]
  },
  {
   "cell_type": "markdown",
   "metadata": {},
   "source": [
    "## XG Boost"
   ]
  },
  {
   "cell_type": "code",
   "execution_count": null,
   "metadata": {},
   "outputs": [],
   "source": []
  },
  {
   "cell_type": "markdown",
   "metadata": {},
   "source": [
    "# AdaBoost"
   ]
  },
  {
   "cell_type": "code",
   "execution_count": 230,
   "metadata": {},
   "outputs": [],
   "source": [
    "from sklearn.ensemble import AdaBoostClassifier\n",
    "adaboost_model = AdaBoostClassifier(n_estimators=100).fit(X_train, y_train)"
   ]
  },
  {
   "cell_type": "code",
   "execution_count": 226,
   "metadata": {},
   "outputs": [
    {
     "data": {
      "text/plain": [
       "0.8549199853408258"
      ]
     },
     "execution_count": 226,
     "metadata": {},
     "output_type": "execute_result"
    }
   ],
   "source": [
    "adaboost_model.score(X_train, y_train)"
   ]
  },
  {
   "cell_type": "code",
   "execution_count": 235,
   "metadata": {},
   "outputs": [
    {
     "data": {
      "text/plain": [
       "(0.018343524180100056, 0.1952662721893491)"
      ]
     },
     "execution_count": 235,
     "metadata": {},
     "output_type": "execute_result"
    }
   ],
   "source": [
    "y_pred = adaboost_model.predict(X_train)\n",
    "recall_score(y_train, y_pred), precision_score(y_train, y_pred)"
   ]
  },
  {
   "cell_type": "code",
   "execution_count": 236,
   "metadata": {},
   "outputs": [
    {
     "data": {
      "text/plain": [
       "array([[129041,    136],\n",
       "       [  1766,     33]])"
      ]
     },
     "execution_count": 236,
     "metadata": {},
     "output_type": "execute_result"
    }
   ],
   "source": [
    "confusion_matrix(y_train, y_pred)"
   ]
  },
  {
   "cell_type": "code",
   "execution_count": 229,
   "metadata": {},
   "outputs": [],
   "source": [
    "X_test, y_test = predict(adaboost_model, 'AB')"
   ]
  },
  {
   "cell_type": "code",
   "execution_count": 231,
   "metadata": {},
   "outputs": [],
   "source": [
    "X_test = X_test.astype(np.float)\n",
    "y_test = y_test.astype(np.int)"
   ]
  },
  {
   "cell_type": "code",
   "execution_count": 232,
   "metadata": {},
   "outputs": [
    {
     "data": {
      "text/plain": [
       "(0.00558659217877095, 0.057692307692307696)"
      ]
     },
     "execution_count": 232,
     "metadata": {},
     "output_type": "execute_result"
    }
   ],
   "source": [
    "y_pred = adaboost_model.predict(X_test)\n",
    "recall_score(y_test, y_pred), precision_score(y_test, y_pred)"
   ]
  },
  {
   "cell_type": "code",
   "execution_count": 233,
   "metadata": {},
   "outputs": [
    {
     "data": {
      "text/plain": [
       "array([[36891,    49],\n",
       "       [  534,     3]])"
      ]
     },
     "execution_count": 233,
     "metadata": {},
     "output_type": "execute_result"
    }
   ],
   "source": [
    "roc_auc_score(y_test, adaboost_model.predict_proba(X_test)[:,1])\n",
    "confusion_matrix(y_test, y_pred)"
   ]
  },
  {
   "cell_type": "code",
   "execution_count": null,
   "metadata": {},
   "outputs": [],
   "source": []
  }
 ],
 "metadata": {
  "hide_input": false,
  "kernelspec": {
   "display_name": "Python 3",
   "language": "python",
   "name": "python3"
  },
  "language_info": {
   "codemirror_mode": {
    "name": "ipython",
    "version": 3
   },
   "file_extension": ".py",
   "mimetype": "text/x-python",
   "name": "python",
   "nbconvert_exporter": "python",
   "pygments_lexer": "ipython3",
   "version": "3.5.2"
  }
 },
 "nbformat": 4,
 "nbformat_minor": 2
}
