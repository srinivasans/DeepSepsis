{
 "cells": [
  {
   "cell_type": "code",
   "execution_count": 192,
   "metadata": {},
   "outputs": [],
   "source": [
    "import os, sys\n",
    "import numpy as np\n",
    "import pandas as pd\n",
    "import matplotlib.pyplot as plt\n",
    "import sklearn as skl"
   ]
  },
  {
   "cell_type": "markdown",
   "metadata": {},
   "source": [
    "## Read patient files and perform forward/backward imputation"
   ]
  },
  {
   "cell_type": "code",
   "execution_count": 86,
   "metadata": {
    "code_folding": [
     0
    ]
   },
   "outputs": [],
   "source": [
    "# allpatients_df = pd.DataFrame(data=[])\n",
    "# features = None\n",
    "\n",
    "# for file in os.listdir('data/sepsis_data/'):\n",
    "    \n",
    "#     # Read file \n",
    "#     patient_df = []\n",
    "#     with open('data/sepsis_data/%s' % (file)) as f:\n",
    "        \n",
    "#         if not features:\n",
    "#             features = f.readline().rstrip('\\n').split('|')\n",
    "#         else:\n",
    "#             # This skips the headers\n",
    "#             f.readline()\n",
    "        \n",
    "#         for idx, line in enumerate(f):\n",
    "#             # Append patient ID beginning of data vector\n",
    "#             pdata = [file.split('.')[0]]\n",
    "            \n",
    "#             line = line.rstrip('\\n')\n",
    "#             pdata.extend(line.split('|'))\n",
    "#             patient_df.append(pdata)\n",
    "    \n",
    "#     patient_df = pd.DataFrame(patient_df, columns=['pid'] + features)\n",
    "    \n",
    "#     # Impute missing values\n",
    "#     patient_df.replace({'NaN': np.nan}, inplace=True)\n",
    "#     patient_df.fillna(method='ffill', inplace=True)\n",
    "#     patient_df.fillna(method='bfill', inplace=True)\n",
    "    \n",
    "#     # Concat to allpatients_df\n",
    "#     if allpatients_df.empty:\n",
    "#         allpatients_df = patient_df\n",
    "#     else:\n",
    "#         allpatients_df = pd.concat([allpatients_df, patient_df])\n",
    "        \n",
    "# allpatients_df.to_csv('data/allpatients_imputed_df')"
   ]
  },
  {
   "cell_type": "markdown",
   "metadata": {},
   "source": [
    "## Read patient files and perform mean imputation"
   ]
  },
  {
   "cell_type": "code",
   "execution_count": 222,
   "metadata": {},
   "outputs": [
    {
     "name": "stdout",
     "output_type": "stream",
     "text": [
      "count: 500\n",
      "count: 1000\n",
      "count: 1500\n",
      "count: 2000\n",
      "count: 2500\n",
      "count: 3000\n",
      "count: 3500\n",
      "count: 4000\n",
      "count: 4500\n",
      "count: 5000\n"
     ]
    }
   ],
   "source": [
    "allpatients_df = pd.DataFrame(data=[])\n",
    "features = None\n",
    "\n",
    "count = 0\n",
    "for file in os.listdir('data/sepsis_data/'):\n",
    "    \n",
    "    # Read file \n",
    "    patient_df = []\n",
    "    with open('data/sepsis_data/%s' % (file)) as f:\n",
    "        \n",
    "        if not features:\n",
    "            features = f.readline().rstrip('\\n').split('|')\n",
    "        else:\n",
    "            # This skips the headers\n",
    "            f.readline()\n",
    "        \n",
    "        for idx, line in enumerate(f):\n",
    "            # Append patient ID beginning of data vector\n",
    "            pdata = [file.split('.')[0]]\n",
    "            \n",
    "            line = line.rstrip('\\n')\n",
    "            pdata.extend(line.split('|'))\n",
    "            patient_df.append(pdata)\n",
    "    \n",
    "    patient_df = pd.DataFrame(patient_df, columns=['pid'] + features)\n",
    "    count += 1\n",
    "    \n",
    "    if count%500 == 0:\n",
    "        print(\"count: %d\"%(count))\n",
    "        \n",
    "    # Impute missing values\n",
    "    patient_df.replace({'NaN': np.nan}, inplace=True)\n",
    "    patient_df.loc[:, 'HR':'Platelets'] = patient_df.loc[:, 'HR':'Platelets'].astype(np.float64)\n",
    "    patient_df.fillna(patient_df.mean()['HR':'Platelets'], inplace=True)\n",
    "    \n",
    "    # Concat to allpatients_df\n",
    "    if allpatients_df.empty:\n",
    "        allpatients_df = patient_df\n",
    "    else:\n",
    "        allpatients_df = pd.concat([allpatients_df, patient_df])"
   ]
  },
  {
   "cell_type": "code",
   "execution_count": 225,
   "metadata": {},
   "outputs": [],
   "source": [
    "allpatients_df.fillna(allpatients_df.mean()['HR':'Platelets'], inplace=True)\n",
    "allpatients_df.to_csv('data/allpatients_mean_imputed')"
   ]
  },
  {
   "cell_type": "code",
   "execution_count": 196,
   "metadata": {},
   "outputs": [
    {
     "data": {
      "text/html": [
       "<div>\n",
       "<style scoped>\n",
       "    .dataframe tbody tr th:only-of-type {\n",
       "        vertical-align: middle;\n",
       "    }\n",
       "\n",
       "    .dataframe tbody tr th {\n",
       "        vertical-align: top;\n",
       "    }\n",
       "\n",
       "    .dataframe thead th {\n",
       "        text-align: right;\n",
       "    }\n",
       "</style>\n",
       "<table border=\"1\" class=\"dataframe\">\n",
       "  <thead>\n",
       "    <tr style=\"text-align: right;\">\n",
       "      <th></th>\n",
       "      <th>pid</th>\n",
       "      <th>HR</th>\n",
       "      <th>O2Sat</th>\n",
       "      <th>Temp</th>\n",
       "      <th>SBP</th>\n",
       "      <th>MAP</th>\n",
       "      <th>DBP</th>\n",
       "      <th>Resp</th>\n",
       "      <th>EtCO2</th>\n",
       "      <th>BaseExcess</th>\n",
       "      <th>...</th>\n",
       "      <th>WBC</th>\n",
       "      <th>Fibrinogen</th>\n",
       "      <th>Platelets</th>\n",
       "      <th>Age</th>\n",
       "      <th>Gender</th>\n",
       "      <th>Unit1</th>\n",
       "      <th>Unit2</th>\n",
       "      <th>HospAdmTime</th>\n",
       "      <th>ICULOS</th>\n",
       "      <th>SepsisLabel</th>\n",
       "    </tr>\n",
       "  </thead>\n",
       "  <tbody>\n",
       "    <tr>\n",
       "      <th>0</th>\n",
       "      <td>p01065</td>\n",
       "      <td>NaN</td>\n",
       "      <td>NaN</td>\n",
       "      <td>NaN</td>\n",
       "      <td>NaN</td>\n",
       "      <td>NaN</td>\n",
       "      <td>NaN</td>\n",
       "      <td>NaN</td>\n",
       "      <td>NaN</td>\n",
       "      <td>NaN</td>\n",
       "      <td>...</td>\n",
       "      <td>NaN</td>\n",
       "      <td>NaN</td>\n",
       "      <td>NaN</td>\n",
       "      <td>54</td>\n",
       "      <td>1</td>\n",
       "      <td>1</td>\n",
       "      <td>0</td>\n",
       "      <td>-5.76</td>\n",
       "      <td>1</td>\n",
       "      <td>0</td>\n",
       "    </tr>\n",
       "    <tr>\n",
       "      <th>1</th>\n",
       "      <td>p01065</td>\n",
       "      <td>83</td>\n",
       "      <td>100</td>\n",
       "      <td>NaN</td>\n",
       "      <td>103</td>\n",
       "      <td>68</td>\n",
       "      <td>58</td>\n",
       "      <td>NaN</td>\n",
       "      <td>NaN</td>\n",
       "      <td>NaN</td>\n",
       "      <td>...</td>\n",
       "      <td>NaN</td>\n",
       "      <td>NaN</td>\n",
       "      <td>NaN</td>\n",
       "      <td>54</td>\n",
       "      <td>1</td>\n",
       "      <td>1</td>\n",
       "      <td>0</td>\n",
       "      <td>-5.76</td>\n",
       "      <td>2</td>\n",
       "      <td>0</td>\n",
       "    </tr>\n",
       "    <tr>\n",
       "      <th>2</th>\n",
       "      <td>p01065</td>\n",
       "      <td>80</td>\n",
       "      <td>99</td>\n",
       "      <td>36.7</td>\n",
       "      <td>103</td>\n",
       "      <td>69</td>\n",
       "      <td>58</td>\n",
       "      <td>10</td>\n",
       "      <td>NaN</td>\n",
       "      <td>NaN</td>\n",
       "      <td>...</td>\n",
       "      <td>NaN</td>\n",
       "      <td>NaN</td>\n",
       "      <td>NaN</td>\n",
       "      <td>54</td>\n",
       "      <td>1</td>\n",
       "      <td>1</td>\n",
       "      <td>0</td>\n",
       "      <td>-5.76</td>\n",
       "      <td>3</td>\n",
       "      <td>0</td>\n",
       "    </tr>\n",
       "    <tr>\n",
       "      <th>3</th>\n",
       "      <td>p01065</td>\n",
       "      <td>87</td>\n",
       "      <td>99</td>\n",
       "      <td>NaN</td>\n",
       "      <td>107</td>\n",
       "      <td>76</td>\n",
       "      <td>67</td>\n",
       "      <td>NaN</td>\n",
       "      <td>NaN</td>\n",
       "      <td>NaN</td>\n",
       "      <td>...</td>\n",
       "      <td>NaN</td>\n",
       "      <td>NaN</td>\n",
       "      <td>NaN</td>\n",
       "      <td>54</td>\n",
       "      <td>1</td>\n",
       "      <td>1</td>\n",
       "      <td>0</td>\n",
       "      <td>-5.76</td>\n",
       "      <td>4</td>\n",
       "      <td>0</td>\n",
       "    </tr>\n",
       "    <tr>\n",
       "      <th>4</th>\n",
       "      <td>p01065</td>\n",
       "      <td>91</td>\n",
       "      <td>99</td>\n",
       "      <td>NaN</td>\n",
       "      <td>106</td>\n",
       "      <td>76</td>\n",
       "      <td>68</td>\n",
       "      <td>NaN</td>\n",
       "      <td>NaN</td>\n",
       "      <td>NaN</td>\n",
       "      <td>...</td>\n",
       "      <td>NaN</td>\n",
       "      <td>NaN</td>\n",
       "      <td>NaN</td>\n",
       "      <td>54</td>\n",
       "      <td>1</td>\n",
       "      <td>1</td>\n",
       "      <td>0</td>\n",
       "      <td>-5.76</td>\n",
       "      <td>5</td>\n",
       "      <td>0</td>\n",
       "    </tr>\n",
       "  </tbody>\n",
       "</table>\n",
       "<p>5 rows × 42 columns</p>\n",
       "</div>"
      ],
      "text/plain": [
       "      pid   HR O2Sat  Temp  SBP  MAP  DBP Resp EtCO2 BaseExcess     ...      \\\n",
       "0  p01065  NaN   NaN   NaN  NaN  NaN  NaN  NaN   NaN        NaN     ...       \n",
       "1  p01065   83   100   NaN  103   68   58  NaN   NaN        NaN     ...       \n",
       "2  p01065   80    99  36.7  103   69   58   10   NaN        NaN     ...       \n",
       "3  p01065   87    99   NaN  107   76   67  NaN   NaN        NaN     ...       \n",
       "4  p01065   91    99   NaN  106   76   68  NaN   NaN        NaN     ...       \n",
       "\n",
       "   WBC Fibrinogen Platelets Age Gender Unit1 Unit2 HospAdmTime ICULOS  \\\n",
       "0  NaN        NaN       NaN  54      1     1     0       -5.76      1   \n",
       "1  NaN        NaN       NaN  54      1     1     0       -5.76      2   \n",
       "2  NaN        NaN       NaN  54      1     1     0       -5.76      3   \n",
       "3  NaN        NaN       NaN  54      1     1     0       -5.76      4   \n",
       "4  NaN        NaN       NaN  54      1     1     0       -5.76      5   \n",
       "\n",
       "  SepsisLabel  \n",
       "0           0  \n",
       "1           0  \n",
       "2           0  \n",
       "3           0  \n",
       "4           0  \n",
       "\n",
       "[5 rows x 42 columns]"
      ]
     },
     "execution_count": 196,
     "metadata": {},
     "output_type": "execute_result"
    }
   ],
   "source": [
    "allpatients_df.head()"
   ]
  },
  {
   "cell_type": "code",
   "execution_count": 123,
   "metadata": {},
   "outputs": [],
   "source": [
    "patient_df = pd.read_csv('data/allpatients_imputed_df').drop(columns='Unnamed: 0')\n",
    "# mimic_patient_df = pd.read_csv('data/sepsis3-MIMICdata/sepsis3-df.csv')"
   ]
  },
  {
   "cell_type": "code",
   "execution_count": 121,
   "metadata": {},
   "outputs": [],
   "source": [
    "patient_df[patient_df.Unit1 == 1].to_csv('data/unit1_patients')\n",
    "patient_df[patient_df.Unit2 == 1].to_csv('data/unit2_patients')"
   ]
  },
  {
   "cell_type": "code",
   "execution_count": 6,
   "metadata": {},
   "outputs": [
    {
     "data": {
      "text/plain": [
       "(11791, 54)"
      ]
     },
     "execution_count": 6,
     "metadata": {},
     "output_type": "execute_result"
    }
   ],
   "source": [
    "mimic_patient_df.shape"
   ]
  },
  {
   "cell_type": "code",
   "execution_count": 7,
   "metadata": {},
   "outputs": [
    {
     "data": {
      "text/plain": [
       "Index(['icustay_id', 'hadm_id', 'excluded', 'intime', 'outtime', 'dbsource',\n",
       "       'suspected_infection_time_poe', 'suspected_infection_time_poe_days',\n",
       "       'specimen_poe', 'positiveculture_poe', 'antibiotic_time_poe',\n",
       "       'blood_culture_time', 'blood_culture_positive', 'age', 'gender',\n",
       "       'is_male', 'ethnicity', 'race_white', 'race_black', 'race_hispanic',\n",
       "       'race_other', 'metastatic_cancer', 'diabetes', 'height', 'weight',\n",
       "       'bmi', 'first_service', 'hospital_expire_flag', 'thirtyday_expire_flag',\n",
       "       'icu_los', 'hosp_los', 'sepsis_angus', 'sepsis_martin',\n",
       "       'sepsis_explicit', 'septic_shock_explicit', 'severe_sepsis_explicit',\n",
       "       'sepsis_nqf', 'sepsis_cdc', 'sepsis_cdc_simple', 'elixhauser_hospital',\n",
       "       'vent', 'sofa', 'lods', 'sirs', 'qsofa', 'qsofa_sysbp_score',\n",
       "       'qsofa_gcs_score', 'qsofa_resprate_score', 'composite_outcome',\n",
       "       'blood culture', 'suspicion_poe', 'abx_poe', 'sepsis-3', 'sofa>=2'],\n",
       "      dtype='object')"
      ]
     },
     "execution_count": 7,
     "metadata": {},
     "output_type": "execute_result"
    }
   ],
   "source": [
    "mimic_patient_df.columns"
   ]
  },
  {
   "cell_type": "code",
   "execution_count": 124,
   "metadata": {},
   "outputs": [
    {
     "data": {
      "text/plain": [
       "(188453, 42)"
      ]
     },
     "execution_count": 124,
     "metadata": {},
     "output_type": "execute_result"
    }
   ],
   "source": [
    "patient_df.shape"
   ]
  },
  {
   "cell_type": "code",
   "execution_count": 125,
   "metadata": {},
   "outputs": [
    {
     "data": {
      "text/plain": [
       "Index(['pid', 'HR', 'O2Sat', 'Temp', 'SBP', 'MAP', 'DBP', 'Resp', 'EtCO2',\n",
       "       'BaseExcess', 'HCO3', 'FiO2', 'pH', 'PaCO2', 'SaO2', 'AST', 'BUN',\n",
       "       'Alkalinephos', 'Calcium', 'Chloride', 'Creatinine', 'Bilirubin_direct',\n",
       "       'Glucose', 'Lactate', 'Magnesium', 'Phosphate', 'Potassium',\n",
       "       'Bilirubin_total', 'TroponinI', 'Hct', 'Hgb', 'PTT', 'WBC',\n",
       "       'Fibrinogen', 'Platelets', 'Age', 'Gender', 'Unit1', 'Unit2',\n",
       "       'HospAdmTime', 'ICULOS', 'SepsisLabel'],\n",
       "      dtype='object')"
      ]
     },
     "execution_count": 125,
     "metadata": {},
     "output_type": "execute_result"
    }
   ],
   "source": [
    "patient_df.columns"
   ]
  },
  {
   "cell_type": "markdown",
   "metadata": {},
   "source": [
    "## Exploratory Analysis"
   ]
  },
  {
   "cell_type": "markdown",
   "metadata": {},
   "source": [
    "### 1. Figure out number of patients with sepsis "
   ]
  },
  {
   "cell_type": "code",
   "execution_count": 13,
   "metadata": {},
   "outputs": [
    {
     "data": {
      "text/plain": [
       "(279,)"
      ]
     },
     "execution_count": 13,
     "metadata": {},
     "output_type": "execute_result"
    }
   ],
   "source": [
    "patient_df[patient_df.SepsisLabel == 1]['pid'].unique().shape"
   ]
  },
  {
   "cell_type": "code",
   "execution_count": 14,
   "metadata": {},
   "outputs": [
    {
     "data": {
      "text/plain": [
       "(5783,)"
      ]
     },
     "execution_count": 14,
     "metadata": {},
     "output_type": "execute_result"
    }
   ],
   "source": [
    "mimic_patient_df[mimic_patient_df['sepsis-3'] == 1]['hadm_id'].unique().shape"
   ]
  },
  {
   "cell_type": "code",
   "execution_count": 15,
   "metadata": {},
   "outputs": [
    {
     "data": {
      "text/plain": [
       "(11791,)"
      ]
     },
     "execution_count": 15,
     "metadata": {},
     "output_type": "execute_result"
    }
   ],
   "source": [
    "mimic_patient_df.hadm_id.unique().shape"
   ]
  },
  {
   "cell_type": "markdown",
   "metadata": {},
   "source": [
    "## In MIMIC-III sepsis df, half the patients have sepsis. "
   ]
  },
  {
   "cell_type": "markdown",
   "metadata": {},
   "source": [
    "### 2. Number of Septic patients between Units"
   ]
  },
  {
   "cell_type": "code",
   "execution_count": null,
   "metadata": {},
   "outputs": [],
   "source": [
    "patient_df[(patient_df.SepsisLabel == 1) & (patient_df.Unit1 == 1)]['pid'].unique().shape"
   ]
  },
  {
   "cell_type": "markdown",
   "metadata": {},
   "source": [
    "Unit 1: 88 septic patients \n",
    "\n",
    "Unit 2: 191 septic patients"
   ]
  },
  {
   "cell_type": "markdown",
   "metadata": {},
   "source": [
    "### Male Female Ratio"
   ]
  },
  {
   "cell_type": "code",
   "execution_count": 16,
   "metadata": {},
   "outputs": [
    {
     "data": {
      "text/plain": [
       "(122,)"
      ]
     },
     "execution_count": 16,
     "metadata": {},
     "output_type": "execute_result"
    }
   ],
   "source": [
    "patient_df[(patient_df.SepsisLabel == 1) & (patient_df.Gender == 0)]['pid'].unique().shape"
   ]
  },
  {
   "cell_type": "markdown",
   "metadata": {},
   "source": [
    "122 are female and 157 are male"
   ]
  },
  {
   "cell_type": "code",
   "execution_count": 17,
   "metadata": {},
   "outputs": [
    {
     "data": {
      "text/plain": [
       "(2295,)"
      ]
     },
     "execution_count": 17,
     "metadata": {},
     "output_type": "execute_result"
    }
   ],
   "source": [
    "patient_df[(patient_df.Gender == 0)]['pid'].unique().shape"
   ]
  },
  {
   "cell_type": "markdown",
   "metadata": {},
   "source": [
    "### Age Range of Septic Patients Between ICUs"
   ]
  },
  {
   "cell_type": "code",
   "execution_count": 18,
   "metadata": {},
   "outputs": [],
   "source": [
    "ages = patient_df[(patient_df.SepsisLabel == 1) & (patient_df.Unit1 == 1)]['Age'].unique()"
   ]
  },
  {
   "cell_type": "code",
   "execution_count": 19,
   "metadata": {},
   "outputs": [
    {
     "data": {
      "image/png": "[encoded data removed]",
      "text/plain": [
       "<Figure size 432x288 with 1 Axes>"
      ]
     },
     "metadata": {},
     "output_type": "display_data"
    }
   ],
   "source": [
    "plt.boxplot(ages)\n",
    "plt.title(\"Unit 1 Ages\")\n",
    "plt.show()"
   ]
  },
  {
   "cell_type": "code",
   "execution_count": 20,
   "metadata": {},
   "outputs": [
    {
     "data": {
      "image/png": "[encoded data removed]",
      "text/plain": [
       "<Figure size 432x288 with 1 Axes>"
      ]
     },
     "metadata": {},
     "output_type": "display_data"
    }
   ],
   "source": [
    "plt.boxplot(patient_df[(patient_df.SepsisLabel == 1) & (patient_df.Unit2 == 1)]['Age'].unique())\n",
    "plt.title(\"Unit 2 Ages\")\n",
    "plt.show()\n"
   ]
  },
  {
   "cell_type": "markdown",
   "metadata": {},
   "source": [
    "## Let's look at degree of missingness between ICUs"
   ]
  },
  {
   "cell_type": "code",
   "execution_count": 27,
   "metadata": {},
   "outputs": [],
   "source": [
    "u1_patients = patient_df[patient_df.Unit1 == 1]\n",
    "u2_patients = patient_df[patient_df.Unit2 == 1]"
   ]
  },
  {
   "cell_type": "code",
   "execution_count": 29,
   "metadata": {},
   "outputs": [
    {
     "data": {
      "image/png": "[encoded data removed]",
      "text/plain": [
       "<Figure size 1080x360 with 1 Axes>"
      ]
     },
     "metadata": {},
     "output_type": "display_data"
    }
   ],
   "source": [
    "u1_na_count = u1_patients.isna().sum()\n",
    "plt.figure(figsize=(15,5))\n",
    "plt.bar(u1_na_count.index, u1_patients.isna().sum().values)\n",
    "plt.title(\"Number of NaNs per column, Unit 1\")\n",
    "plt.xticks(rotation=90)\n",
    "plt.figure\n",
    "plt.show()"
   ]
  },
  {
   "cell_type": "code",
   "execution_count": 30,
   "metadata": {},
   "outputs": [
    {
     "data": {
      "image/png": "[encoded data removed]",
      "text/plain": [
       "<Figure size 1080x360 with 1 Axes>"
      ]
     },
     "metadata": {},
     "output_type": "display_data"
    }
   ],
   "source": [
    "u2_na_count = u2_patients.isna().sum()\n",
    "plt.figure(figsize=(15,5))\n",
    "plt.bar(u1_na_count.index, u2_patients.isna().sum().values)\n",
    "plt.title(\"Number of NaNs per column, Unit 2\")\n",
    "plt.xticks(rotation=90)\n",
    "plt.show()"
   ]
  },
  {
   "cell_type": "markdown",
   "metadata": {},
   "source": [
    "### Missingness in Unit 1 is a little more than Unit 2 in 2 specific columns"
   ]
  },
  {
   "cell_type": "markdown",
   "metadata": {},
   "source": [
    "### What is the distribution of time steps across septic patients and non-septic patients"
   ]
  },
  {
   "cell_type": "code",
   "execution_count": 185,
   "metadata": {},
   "outputs": [],
   "source": [
    "pos_time_agg = patient_df.groupby('pid').filter(lambda x: x['SepsisLabel'].any())\n",
    "neg_time_agg = patient_df.groupby('pid').filter(lambda x: x['SepsisLabel'].sum() == 0)"
   ]
  },
  {
   "cell_type": "code",
   "execution_count": 177,
   "metadata": {},
   "outputs": [
    {
     "data": {
      "text/plain": [
       "(8, 336)"
      ]
     },
     "execution_count": 177,
     "metadata": {},
     "output_type": "execute_result"
    }
   ],
   "source": [
    "time_agg.groupby('pid').ICULOS.agg(['count'])['count'].min(), time_agg.groupby('pid').ICULOS.agg(['count'])['count'].max()"
   ]
  },
  {
   "cell_type": "code",
   "execution_count": 179,
   "metadata": {},
   "outputs": [
    {
     "data": {
      "image/png": "[encoded data removed]",
      "text/plain": [
       "<Figure size 432x288 with 1 Axes>"
      ]
     },
     "metadata": {},
     "output_type": "display_data"
    }
   ],
   "source": [
    "plt.boxplot(time_agg.groupby('pid').ICULOS.agg(['count'])['count'])\n",
    "plt.show()"
   ]
  },
  {
   "cell_type": "code",
   "execution_count": 182,
   "metadata": {},
   "outputs": [
    {
     "data": {
      "text/plain": [
       "(15524, 15524)"
      ]
     },
     "execution_count": 182,
     "metadata": {},
     "output_type": "execute_result"
    }
   ],
   "source": [
    "time_agg = \n",
    "time_agg['count'].min(), time_agg['count'].max()"
   ]
  },
  {
   "cell_type": "code",
   "execution_count": 183,
   "metadata": {},
   "outputs": [
    {
     "data": {
      "text/plain": [
       "1"
      ]
     },
     "execution_count": 183,
     "metadata": {},
     "output_type": "execute_result"
    }
   ],
   "source": [
    "(time_agg['count'] > 30).sum()"
   ]
  },
  {
   "cell_type": "code",
   "execution_count": 154,
   "metadata": {},
   "outputs": [
    {
     "data": {
      "text/plain": [
       "{'boxes': [<matplotlib.lines.Line2D at 0x16526a6a0>],\n",
       " 'caps': [<matplotlib.lines.Line2D at 0x16526ae80>,\n",
       "  <matplotlib.lines.Line2D at 0x165f1c208>],\n",
       " 'fliers': [<matplotlib.lines.Line2D at 0x165f1c898>],\n",
       " 'means': [],\n",
       " 'medians': [<matplotlib.lines.Line2D at 0x165f1c550>],\n",
       " 'whiskers': [<matplotlib.lines.Line2D at 0x16526a7f0>,\n",
       "  <matplotlib.lines.Line2D at 0x16526ab38>]}"
      ]
     },
     "execution_count": 154,
     "metadata": {},
     "output_type": "execute_result"
    },
    {
     "data": {
      "image/png": "[encoded data removed]",
      "text/plain": [
       "<Figure size 432x288 with 1 Axes>"
      ]
     },
     "metadata": {},
     "output_type": "display_data"
    }
   ],
   "source": [
    "plt.boxplot(time_agg['count'])"
   ]
  },
  {
   "cell_type": "code",
   "execution_count": null,
   "metadata": {},
   "outputs": [],
   "source": []
  }
 ],
 "metadata": {
  "hide_input": false,
  "kernelspec": {
   "display_name": "Python 3",
   "language": "python",
   "name": "python3"
  },
  "language_info": {
   "codemirror_mode": {
    "name": "ipython",
    "version": 3
   },
   "file_extension": ".py",
   "mimetype": "text/x-python",
   "name": "python",
   "nbconvert_exporter": "python",
   "pygments_lexer": "ipython3",
   "version": "3.5.2"
  }
 },
 "nbformat": 4,
 "nbformat_minor": 2
}
