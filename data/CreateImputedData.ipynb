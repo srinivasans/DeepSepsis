{
 "cells": [
  {
   "cell_type": "code",
   "execution_count": 1,
   "metadata": {},
   "outputs": [],
   "source": [
    "import os, sys\n",
    "import numpy as np\n",
    "import pandas as pd "
   ]
  },
  {
   "cell_type": "markdown",
   "metadata": {},
   "source": [
    "## Read patient files and split into train and test sets"
   ]
  },
  {
   "cell_type": "code",
   "execution_count": 2,
   "metadata": {},
   "outputs": [],
   "source": [
    "train_df = pd.DataFrame(data=[])\n",
    "test_df = pd.DataFrame(data=[])\n",
    "features = None\n",
    "\n",
    "i = 0\n",
    "for file in os.listdir('sepsis_data/'):\n",
    "    \n",
    "    # Read file \n",
    "    patient_df = []\n",
    "    with open('sepsis_data/%s' % (file)) as f:\n",
    "        \n",
    "        if not features:\n",
    "            features = f.readline().rstrip('\\n').split('|')\n",
    "        else:\n",
    "            # This skips the headers\n",
    "            f.readline()\n",
    "        \n",
    "        for idx, line in enumerate(f):\n",
    "            # Append patient ID beginning of data vector\n",
    "            pdata = [file.split('.')[0]]\n",
    "            \n",
    "            line = line.rstrip('\\n')\n",
    "            pdata.extend(line.split('|'))\n",
    "            patient_df.append(pdata)\n",
    "    \n",
    "    patient_df = pd.DataFrame(patient_df, columns=['pid'] + features)\n",
    "    i += 1 \n",
    "    \n",
    "    if i%500 == 0:\n",
    "        print(\"Count: %d\"%(i))\n",
    "    \n",
    "    if i <= 4000:\n",
    "        train_df = patient_df if train_df.empty else pd.concat([train_df, patient_df])\n",
    "    else:\n",
    "        test_df = patient_df if test_df.empty else pd.concat([test_df, patient_df])\n",
    "    \n",
    "    break"
   ]
  },
  {
   "cell_type": "markdown",
   "metadata": {},
   "source": [
    "## Impute train and test sets using different methods"
   ]
  },
  {
   "cell_type": "code",
   "execution_count": null,
   "metadata": {},
   "outputs": [],
   "source": [
    "# Impute missing values using forward fill\n",
    "patient_df.replace({'NaN': np.nan}, inplace=True)\n",
    "patient_df.fillna(method='ffill', inplace=True)"
   ]
  },
  {
   "cell_type": "code",
   "execution_count": null,
   "metadata": {},
   "outputs": [],
   "source": [
    "# Fill in rest of NaNs with mean of columns\n",
    "allpatients_df.fillna(allpatients_df.loc[:,'HR':'Platelets'].astype(np.float64).mean(), inplace=True)\n",
    "assert allpatients_df.loc[:,'HR':'Platelets'].isna().sum().sum() == 0"
   ]
  }
 ],
 "metadata": {
  "hide_input": false,
  "kernelspec": {
   "display_name": "Python 3",
   "language": "python",
   "name": "python3"
  },
  "language_info": {
   "codemirror_mode": {
    "name": "ipython",
    "version": 3
   },
   "file_extension": ".py",
   "mimetype": "text/x-python",
   "name": "python",
   "nbconvert_exporter": "python",
   "pygments_lexer": "ipython3",
   "version": "3.5.2"
  }
 },
 "nbformat": 4,
 "nbformat_minor": 2
}
