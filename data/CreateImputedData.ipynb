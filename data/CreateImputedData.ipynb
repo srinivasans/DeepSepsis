{
 "cells": [
  {
   "cell_type": "code",
   "execution_count": 2,
   "metadata": {},
   "outputs": [],
   "source": [
    "import os, sys\n",
    "import numpy as np\n",
    "import pandas as pd "
   ]
  },
  {
   "cell_type": "markdown",
   "metadata": {},
   "source": [
    "## Read patient files and split into train and test sets"
   ]
  },
  {
   "cell_type": "code",
   "execution_count": 3,
   "metadata": {
    "code_folding": [
     9
    ]
   },
   "outputs": [
    {
     "name": "stdout",
     "output_type": "stream",
     "text": [
      "Count: 500\n",
      "Count: 1000\n",
      "Count: 1500\n",
      "Count: 2000\n",
      "Count: 2500\n",
      "Count: 3000\n",
      "Count: 3500\n",
      "Count: 4000\n",
      "Count: 4500\n",
      "Count: 5000\n"
     ]
    }
   ],
   "source": [
    "train_df = []\n",
    "test_df = []\n",
    "features = None\n",
    "\n",
    "i = 0\n",
    "for file in os.listdir('sepsis_data/'):\n",
    "    \n",
    "    # Read file \n",
    "    patient_df = []\n",
    "    with open('sepsis_data/%s' % (file)) as f:\n",
    "        \n",
    "        if not features:\n",
    "            features = f.readline().rstrip('\\n').split('|')\n",
    "        else:\n",
    "            # This skips the headers\n",
    "            f.readline()\n",
    "        \n",
    "        for idx, line in enumerate(f):\n",
    "            # Append patient ID beginning of data vector\n",
    "            pdata = [file.split('.')[0]]\n",
    "            \n",
    "            line = line.rstrip('\\n')\n",
    "            pdata.extend(line.split('|'))\n",
    "            patient_df.append(pdata)\n",
    "            \n",
    "    i += 1 \n",
    "    if i%500 == 0:\n",
    "        print(\"Count: %d\"%(i))\n",
    "    \n",
    "    if i <= 4000:\n",
    "        train_df.extend(patient_df)\n",
    "    else:\n",
    "        test_df.extend(patient_df)"
   ]
  },
  {
   "cell_type": "code",
   "execution_count": 142,
   "metadata": {},
   "outputs": [],
   "source": [
    "train_df.to_csv('train_unimputed')\n",
    "test_df.to_csv('test_unimputed')"
   ]
  },
  {
   "cell_type": "markdown",
   "metadata": {},
   "source": [
    "## Impute train and test sets using different methods"
   ]
  },
  {
   "cell_type": "code",
   "execution_count": 15,
   "metadata": {},
   "outputs": [],
   "source": [
    "train_df = pd.read_csv('dataframes/train_unimputed').drop(columns='Unnamed: 0')\n",
    "test_df = pd.read_csv('dataframes/test_unimputed').drop(columns='Unnamed: 0')"
   ]
  },
  {
   "cell_type": "code",
   "execution_count": 5,
   "metadata": {},
   "outputs": [
    {
     "data": {
      "text/html": [
       "<div>\n",
       "<style scoped>\n",
       "    .dataframe tbody tr th:only-of-type {\n",
       "        vertical-align: middle;\n",
       "    }\n",
       "\n",
       "    .dataframe tbody tr th {\n",
       "        vertical-align: top;\n",
       "    }\n",
       "\n",
       "    .dataframe thead th {\n",
       "        text-align: right;\n",
       "    }\n",
       "</style>\n",
       "<table border=\"1\" class=\"dataframe\">\n",
       "  <thead>\n",
       "    <tr style=\"text-align: right;\">\n",
       "      <th></th>\n",
       "      <th>pid</th>\n",
       "      <th>HR</th>\n",
       "      <th>O2Sat</th>\n",
       "      <th>Temp</th>\n",
       "      <th>SBP</th>\n",
       "      <th>MAP</th>\n",
       "      <th>DBP</th>\n",
       "      <th>Resp</th>\n",
       "      <th>EtCO2</th>\n",
       "      <th>BaseExcess</th>\n",
       "      <th>...</th>\n",
       "      <th>WBC</th>\n",
       "      <th>Fibrinogen</th>\n",
       "      <th>Platelets</th>\n",
       "      <th>Age</th>\n",
       "      <th>Gender</th>\n",
       "      <th>Unit1</th>\n",
       "      <th>Unit2</th>\n",
       "      <th>HospAdmTime</th>\n",
       "      <th>ICULOS</th>\n",
       "      <th>SepsisLabel</th>\n",
       "    </tr>\n",
       "  </thead>\n",
       "  <tbody>\n",
       "    <tr>\n",
       "      <th>0</th>\n",
       "      <td>p01065</td>\n",
       "      <td>NaN</td>\n",
       "      <td>NaN</td>\n",
       "      <td>NaN</td>\n",
       "      <td>NaN</td>\n",
       "      <td>NaN</td>\n",
       "      <td>NaN</td>\n",
       "      <td>NaN</td>\n",
       "      <td>NaN</td>\n",
       "      <td>NaN</td>\n",
       "      <td>...</td>\n",
       "      <td>NaN</td>\n",
       "      <td>NaN</td>\n",
       "      <td>NaN</td>\n",
       "      <td>54</td>\n",
       "      <td>1</td>\n",
       "      <td>1.0</td>\n",
       "      <td>0.0</td>\n",
       "      <td>-5.76</td>\n",
       "      <td>1</td>\n",
       "      <td>0</td>\n",
       "    </tr>\n",
       "    <tr>\n",
       "      <th>1</th>\n",
       "      <td>p01065</td>\n",
       "      <td>83.0</td>\n",
       "      <td>100.0</td>\n",
       "      <td>NaN</td>\n",
       "      <td>103.0</td>\n",
       "      <td>68.0</td>\n",
       "      <td>58.0</td>\n",
       "      <td>NaN</td>\n",
       "      <td>NaN</td>\n",
       "      <td>NaN</td>\n",
       "      <td>...</td>\n",
       "      <td>NaN</td>\n",
       "      <td>NaN</td>\n",
       "      <td>NaN</td>\n",
       "      <td>54</td>\n",
       "      <td>1</td>\n",
       "      <td>1.0</td>\n",
       "      <td>0.0</td>\n",
       "      <td>-5.76</td>\n",
       "      <td>2</td>\n",
       "      <td>0</td>\n",
       "    </tr>\n",
       "    <tr>\n",
       "      <th>2</th>\n",
       "      <td>p01065</td>\n",
       "      <td>80.0</td>\n",
       "      <td>99.0</td>\n",
       "      <td>36.7</td>\n",
       "      <td>103.0</td>\n",
       "      <td>69.0</td>\n",
       "      <td>58.0</td>\n",
       "      <td>10.0</td>\n",
       "      <td>NaN</td>\n",
       "      <td>NaN</td>\n",
       "      <td>...</td>\n",
       "      <td>NaN</td>\n",
       "      <td>NaN</td>\n",
       "      <td>NaN</td>\n",
       "      <td>54</td>\n",
       "      <td>1</td>\n",
       "      <td>1.0</td>\n",
       "      <td>0.0</td>\n",
       "      <td>-5.76</td>\n",
       "      <td>3</td>\n",
       "      <td>0</td>\n",
       "    </tr>\n",
       "    <tr>\n",
       "      <th>3</th>\n",
       "      <td>p01065</td>\n",
       "      <td>87.0</td>\n",
       "      <td>99.0</td>\n",
       "      <td>NaN</td>\n",
       "      <td>107.0</td>\n",
       "      <td>76.0</td>\n",
       "      <td>67.0</td>\n",
       "      <td>NaN</td>\n",
       "      <td>NaN</td>\n",
       "      <td>NaN</td>\n",
       "      <td>...</td>\n",
       "      <td>NaN</td>\n",
       "      <td>NaN</td>\n",
       "      <td>NaN</td>\n",
       "      <td>54</td>\n",
       "      <td>1</td>\n",
       "      <td>1.0</td>\n",
       "      <td>0.0</td>\n",
       "      <td>-5.76</td>\n",
       "      <td>4</td>\n",
       "      <td>0</td>\n",
       "    </tr>\n",
       "    <tr>\n",
       "      <th>4</th>\n",
       "      <td>p01065</td>\n",
       "      <td>91.0</td>\n",
       "      <td>99.0</td>\n",
       "      <td>NaN</td>\n",
       "      <td>106.0</td>\n",
       "      <td>76.0</td>\n",
       "      <td>68.0</td>\n",
       "      <td>NaN</td>\n",
       "      <td>NaN</td>\n",
       "      <td>NaN</td>\n",
       "      <td>...</td>\n",
       "      <td>NaN</td>\n",
       "      <td>NaN</td>\n",
       "      <td>NaN</td>\n",
       "      <td>54</td>\n",
       "      <td>1</td>\n",
       "      <td>1.0</td>\n",
       "      <td>0.0</td>\n",
       "      <td>-5.76</td>\n",
       "      <td>5</td>\n",
       "      <td>0</td>\n",
       "    </tr>\n",
       "  </tbody>\n",
       "</table>\n",
       "<p>5 rows × 42 columns</p>\n",
       "</div>"
      ],
      "text/plain": [
       "      pid    HR  O2Sat  Temp    SBP   MAP   DBP  Resp  EtCO2  BaseExcess  \\\n",
       "0  p01065   NaN    NaN   NaN    NaN   NaN   NaN   NaN    NaN         NaN   \n",
       "1  p01065  83.0  100.0   NaN  103.0  68.0  58.0   NaN    NaN         NaN   \n",
       "2  p01065  80.0   99.0  36.7  103.0  69.0  58.0  10.0    NaN         NaN   \n",
       "3  p01065  87.0   99.0   NaN  107.0  76.0  67.0   NaN    NaN         NaN   \n",
       "4  p01065  91.0   99.0   NaN  106.0  76.0  68.0   NaN    NaN         NaN   \n",
       "\n",
       "      ...       WBC  Fibrinogen  Platelets  Age  Gender  Unit1  Unit2  \\\n",
       "0     ...       NaN         NaN        NaN   54       1    1.0    0.0   \n",
       "1     ...       NaN         NaN        NaN   54       1    1.0    0.0   \n",
       "2     ...       NaN         NaN        NaN   54       1    1.0    0.0   \n",
       "3     ...       NaN         NaN        NaN   54       1    1.0    0.0   \n",
       "4     ...       NaN         NaN        NaN   54       1    1.0    0.0   \n",
       "\n",
       "   HospAdmTime  ICULOS  SepsisLabel  \n",
       "0        -5.76       1            0  \n",
       "1        -5.76       2            0  \n",
       "2        -5.76       3            0  \n",
       "3        -5.76       4            0  \n",
       "4        -5.76       5            0  \n",
       "\n",
       "[5 rows x 42 columns]"
      ]
     },
     "execution_count": 5,
     "metadata": {},
     "output_type": "execute_result"
    }
   ],
   "source": [
    "train_df.head()"
   ]
  },
  {
   "cell_type": "code",
   "execution_count": 7,
   "metadata": {},
   "outputs": [
    {
     "data": {
      "text/plain": [
       "Index(['pid', 'HR', 'O2Sat', 'Temp', 'SBP', 'MAP', 'DBP', 'Resp', 'EtCO2',\n",
       "       'BaseExcess', 'HCO3', 'FiO2', 'pH', 'PaCO2', 'SaO2', 'AST', 'BUN',\n",
       "       'Alkalinephos', 'Calcium', 'Chloride', 'Creatinine', 'Bilirubin_direct',\n",
       "       'Glucose', 'Lactate', 'Magnesium', 'Phosphate', 'Potassium',\n",
       "       'Bilirubin_total', 'TroponinI', 'Hct', 'Hgb', 'PTT', 'WBC',\n",
       "       'Fibrinogen', 'Platelets', 'Age', 'Gender', 'Unit1', 'Unit2',\n",
       "       'HospAdmTime', 'ICULOS', 'SepsisLabel'],\n",
       "      dtype='object')"
      ]
     },
     "execution_count": 7,
     "metadata": {},
     "output_type": "execute_result"
    }
   ],
   "source": [
    "train_df.columns"
   ]
  },
  {
   "cell_type": "code",
   "execution_count": 6,
   "metadata": {},
   "outputs": [
    {
     "data": {
      "text/plain": [
       "((150976, 42), (37477, 42))"
      ]
     },
     "execution_count": 6,
     "metadata": {},
     "output_type": "execute_result"
    }
   ],
   "source": [
    "train_df.shape, test_df.shape"
   ]
  },
  {
   "cell_type": "code",
   "execution_count": 8,
   "metadata": {},
   "outputs": [
    {
     "data": {
      "text/plain": [
       "pid                  object\n",
       "HR                  float64\n",
       "O2Sat               float64\n",
       "Temp                float64\n",
       "SBP                 float64\n",
       "MAP                 float64\n",
       "DBP                 float64\n",
       "Resp                float64\n",
       "EtCO2               float64\n",
       "BaseExcess          float64\n",
       "HCO3                float64\n",
       "FiO2                float64\n",
       "pH                  float64\n",
       "PaCO2               float64\n",
       "SaO2                float64\n",
       "AST                 float64\n",
       "BUN                 float64\n",
       "Alkalinephos        float64\n",
       "Calcium             float64\n",
       "Chloride            float64\n",
       "Creatinine          float64\n",
       "Bilirubin_direct    float64\n",
       "Glucose             float64\n",
       "Lactate             float64\n",
       "Magnesium           float64\n",
       "Phosphate           float64\n",
       "Potassium           float64\n",
       "Bilirubin_total     float64\n",
       "TroponinI           float64\n",
       "Hct                 float64\n",
       "Hgb                 float64\n",
       "PTT                 float64\n",
       "WBC                 float64\n",
       "Fibrinogen          float64\n",
       "Platelets           float64\n",
       "Age                   int64\n",
       "Gender                int64\n",
       "Unit1               float64\n",
       "Unit2               float64\n",
       "HospAdmTime         float64\n",
       "ICULOS                int64\n",
       "SepsisLabel           int64\n",
       "dtype: object"
      ]
     },
     "execution_count": 8,
     "metadata": {},
     "output_type": "execute_result"
    }
   ],
   "source": [
    "train_df.dtypes"
   ]
  },
  {
   "cell_type": "code",
   "execution_count": 16,
   "metadata": {},
   "outputs": [],
   "source": [
    "# Normalize train and test sets\n",
    "# from sklearn.preprocessing import MinMaxScaler\n",
    "\n",
    "# mmscaler = MinMaxScaler().fit(train_df.loc[:,\"HR\":\"HospAdmTime\"])\n",
    "# train_df.loc[:,\"HR\":\"HospAdmTime\"] = mmscaler.transform(train_df.loc[:,\"HR\":\"HospAdmTime\"])\n",
    "# test_df.loc[:,\"HR\":\"HospAdmTime\"] = mmscaler.transform(test_df.loc[:,\"HR\":\"HospAdmTime\"])\n",
    "\n",
    "from sklearn.preprocessing import StandardScaler\n",
    "stdscaler = StandardScaler().fit(train_df.loc[:,\"HR\":\"Platelets\"])\n",
    "train_df.loc[:,\"HR\":\"Platelets\"] = stdscaler.transform(train_df.loc[:,\"HR\":\"Platelets\"])\n",
    "test_df.loc[:,\"HR\":\"Platelets\"] = stdscaler.transform(test_df.loc[:,\"HR\":\"Platelets\"])"
   ]
  },
  {
   "cell_type": "code",
   "execution_count": 17,
   "metadata": {},
   "outputs": [],
   "source": [
    "# Impute missing values using forward fill\n",
    "train_df.fillna(method='ffill', inplace=True)\n",
    "\n",
    "# Impute rest of missing values using mean of training set\n",
    "mean_vals = train_df.loc[:,'HR':'Platelets'].astype(np.float64).mean()\n",
    "train_df.fillna(mean_vals, inplace=True)\n",
    "\n",
    "assert train_df.loc[:,'HR':'Platelets'].isna().sum().sum() == 0"
   ]
  },
  {
   "cell_type": "code",
   "execution_count": 18,
   "metadata": {},
   "outputs": [],
   "source": [
    "# Impute missing values using forward fill\n",
    "test_df.fillna(method='ffill', inplace=True)\n",
    "\n",
    "# Impute missing values using mean of training set\n",
    "test_df.fillna(mean_vals, inplace=True)\n",
    "\n",
    "assert test_df.loc[:,'HR':'Platelets'].isna().sum().sum() == 0"
   ]
  },
  {
   "cell_type": "code",
   "execution_count": 165,
   "metadata": {
    "code_folding": [
     0,
     14,
     17,
     30
    ]
   },
   "outputs": [],
   "source": [
    "# change dtypes to correct if needed.\n",
    "# train_df[['HR', 'O2Sat', 'Temp', 'SBP', 'MAP', 'DBP', 'Resp', 'EtCO2',\n",
    "#        'BaseExcess', 'HCO3', 'FiO2', 'pH', 'PaCO2', 'SaO2', 'AST', 'BUN',\n",
    "#        'Alkalinephos', 'Calcium', 'Chloride', 'Creatinine', 'Bilirubin_direct',\n",
    "#        'Glucose', 'Lactate', 'Magnesium', 'Phosphate', 'Potassium',\n",
    "#        'Bilirubin_total', 'TroponinI', 'Hct', 'Hgb', 'PTT', 'WBC',\n",
    "#        'Fibrinogen', 'Platelets', 'Age', 'HospAdmTime']] = train_df[['HR', 'O2Sat', \n",
    "#         'Temp', 'SBP', 'MAP', 'DBP', 'Resp', 'EtCO2',\n",
    "#        'BaseExcess', 'HCO3', 'FiO2', 'pH', 'PaCO2', 'SaO2', 'AST', 'BUN',\n",
    "#        'Alkalinephos', 'Calcium', 'Chloride', 'Creatinine', 'Bilirubin_direct',\n",
    "#        'Glucose', 'Lactate', 'Magnesium', 'Phosphate', 'Potassium',\n",
    "#        'Bilirubin_total', 'TroponinI', 'Hct', 'Hgb', 'PTT', 'WBC',\n",
    "#        'Fibrinogen', 'Platelets', 'Age', 'HospAdmTime']].astype(np.float)\n",
    "\n",
    "# train_df[['Gender', 'ICULOS', 'SepsisLabel']] = train_df[['Gender', 'ICULOS', \n",
    "#                                                           'SepsisLabel']].astype(np.int)\n",
    "\n",
    "# test_df[['HR', 'O2Sat', 'Temp', 'SBP', 'MAP', 'DBP', 'Resp', 'EtCO2',\n",
    "#        'BaseExcess', 'HCO3', 'FiO2', 'pH', 'PaCO2', 'SaO2', 'AST', 'BUN',\n",
    "#        'Alkalinephos', 'Calcium', 'Chloride', 'Creatinine', 'Bilirubin_direct',\n",
    "#        'Glucose', 'Lactate', 'Magnesium', 'Phosphate', 'Potassium',\n",
    "#        'Bilirubin_total', 'TroponinI', 'Hct', 'Hgb', 'PTT', 'WBC',\n",
    "#        'Fibrinogen', 'Platelets', 'Age', 'HospAdmTime']] = test_df[['HR', 'O2Sat', \n",
    "#         'Temp', 'SBP', 'MAP', 'DBP', 'Resp', 'EtCO2',\n",
    "#        'BaseExcess', 'HCO3', 'FiO2', 'pH', 'PaCO2', 'SaO2', 'AST', 'BUN',\n",
    "#        'Alkalinephos', 'Calcium', 'Chloride', 'Creatinine', 'Bilirubin_direct',\n",
    "#        'Glucose', 'Lactate', 'Magnesium', 'Phosphate', 'Potassium',\n",
    "#        'Bilirubin_total', 'TroponinI', 'Hct', 'Hgb', 'PTT', 'WBC',\n",
    "#        'Fibrinogen', 'Platelets', 'Age', 'HospAdmTime']].astype(np.float)\n",
    "\n",
    "# test_df[['Gender', 'ICULOS', 'SepsisLabel']] = test_df[['Gender', 'ICULOS', \n",
    "#                                                           'SepsisLabel']].astype(np.int)"
   ]
  },
  {
   "cell_type": "code",
   "execution_count": 19,
   "metadata": {},
   "outputs": [],
   "source": [
    "for pid, df in train_df.groupby('pid'):\n",
    "    df.drop(columns='pid').to_csv('train_forw_imputed/%s'%pid, sep='|', index=False)\n",
    "    \n",
    "for pid, df in test_df.groupby('pid'):\n",
    "    df.drop(columns='pid').to_csv('test_forw_imputed/%s'%pid, sep='|', index=False)\n",
    "    "
   ]
  },
  {
   "cell_type": "code",
   "execution_count": 20,
   "metadata": {},
   "outputs": [],
   "source": [
    "X = train_df.drop(columns='pid')"
   ]
  },
  {
   "cell_type": "code",
   "execution_count": 21,
   "metadata": {},
   "outputs": [
    {
     "data": {
      "text/plain": [
       "(150976, 41)"
      ]
     },
     "execution_count": 21,
     "metadata": {},
     "output_type": "execute_result"
    }
   ],
   "source": [
    "X.shape"
   ]
  },
  {
   "cell_type": "code",
   "execution_count": 22,
   "metadata": {},
   "outputs": [
    {
     "data": {
      "text/plain": [
       "Index(['HR', 'O2Sat', 'Temp', 'SBP', 'MAP', 'DBP', 'Resp', 'EtCO2',\n",
       "       'BaseExcess', 'HCO3', 'FiO2', 'pH', 'PaCO2', 'SaO2', 'AST', 'BUN',\n",
       "       'Alkalinephos', 'Calcium', 'Chloride', 'Creatinine', 'Bilirubin_direct',\n",
       "       'Glucose', 'Lactate', 'Magnesium', 'Phosphate', 'Potassium',\n",
       "       'Bilirubin_total', 'TroponinI', 'Hct', 'Hgb', 'PTT', 'WBC',\n",
       "       'Fibrinogen', 'Platelets', 'Age', 'Gender', 'Unit1', 'Unit2',\n",
       "       'HospAdmTime', 'ICULOS', 'SepsisLabel'],\n",
       "      dtype='object')"
      ]
     },
     "execution_count": 22,
     "metadata": {},
     "output_type": "execute_result"
    }
   ],
   "source": [
    "X.columns"
   ]
  },
  {
   "cell_type": "code",
   "execution_count": null,
   "metadata": {},
   "outputs": [],
   "source": []
  }
 ],
 "metadata": {
  "hide_input": false,
  "kernelspec": {
   "display_name": "Python 3",
   "language": "python",
   "name": "python3"
  },
  "language_info": {
   "codemirror_mode": {
    "name": "ipython",
    "version": 3
   },
   "file_extension": ".py",
   "mimetype": "text/x-python",
   "name": "python",
   "nbconvert_exporter": "python",
   "pygments_lexer": "ipython3",
   "version": "3.5.2"
  }
 },
 "nbformat": 4,
 "nbformat_minor": 2
}
