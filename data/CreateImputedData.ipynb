{
 "cells": [
  {
   "cell_type": "code",
   "execution_count": 2,
   "metadata": {},
   "outputs": [],
   "source": [
    "import os, sys\n",
    "import numpy as np\n",
    "import pandas as pd "
   ]
  },
  {
   "cell_type": "markdown",
   "metadata": {},
   "source": [
    "## Read patient files and split into train/val/test sets"
   ]
  },
  {
   "cell_type": "code",
   "execution_count": 26,
   "metadata": {
    "code_folding": [
     5,
     9,
     28
    ]
   },
   "outputs": [],
   "source": [
    "train_df = []\n",
    "val_df = []\n",
    "test_df = []\n",
    "features = None\n",
    "\n",
    "for file in os.listdir('../../sepsis_data/trainingA/'):\n",
    "    \n",
    "    # Read file \n",
    "    patient_df = []\n",
    "    with open('../../sepsis_data/trainingA/%s' % (file)) as f:\n",
    "        \n",
    "        if not features:\n",
    "            features = f.readline().rstrip('\\n').split('|')\n",
    "        else:\n",
    "            # This skips the headers\n",
    "            f.readline()\n",
    "        \n",
    "        for idx, line in enumerate(f):\n",
    "            # Append patient ID beginning of data vector\n",
    "            pdata = [file.split('.')[0]]\n",
    "            \n",
    "            line = line.rstrip('\\n')\n",
    "            pdata.extend(line.split('|'))\n",
    "            patient_df.append(pdata)\n",
    "    \n",
    "    train_df.extend(patient_df)\n",
    "\n",
    "i = 0\n",
    "for file in os.listdir('../../sepsis_data/trainingB/'):\n",
    "    \n",
    "    # Read file \n",
    "    patient_df = []\n",
    "    with open('../../sepsis_data/trainingB/%s' % (file)) as f:\n",
    "        \n",
    "        if not features:\n",
    "            features = f.readline().rstrip('\\n').split('|')\n",
    "        else:\n",
    "            # This skips the headers\n",
    "            f.readline()\n",
    "        \n",
    "        for idx, line in enumerate(f):\n",
    "            # Append patient ID beginning of data vector\n",
    "            pdata = [file.split('.')[0]]\n",
    "            \n",
    "            line = line.rstrip('\\n')\n",
    "            pdata.extend(line.split('|'))\n",
    "            patient_df.append(pdata)\n",
    "            \n",
    "    i += 1 \n",
    "    \n",
    "    if i <=10000:\n",
    "        train_df.extend(patient_df)\n",
    "    elif i <= 15000:\n",
    "        val_df.extend(patient_df)\n",
    "    else:\n",
    "        test_df.extend(patient_df)"
   ]
  },
  {
   "cell_type": "code",
   "execution_count": 27,
   "metadata": {},
   "outputs": [],
   "source": [
    "train_df = pd.DataFrame(train_df, columns=['pid'] + features)\n",
    "val_df = pd.DataFrame(val_df, columns=['pid'] + features)\n",
    "test_df = pd.DataFrame(test_df, columns=['pid'] + features)"
   ]
  },
  {
   "cell_type": "code",
   "execution_count": 28,
   "metadata": {},
   "outputs": [],
   "source": [
    "# train_df.to_csv('train_unimputed', index=False)\n",
    "# val_df.to_csv('val_unimputed', index=False)\n",
    "# test_df.to_csv('test_unimputed', index=False)"
   ]
  },
  {
   "cell_type": "markdown",
   "metadata": {},
   "source": [
    "## Impute train and test sets using different methods"
   ]
  },
  {
   "cell_type": "code",
   "execution_count": 15,
   "metadata": {},
   "outputs": [],
   "source": [
    "# train_df = pd.read_csv('dataframes/train_unimputed').drop(columns='Unnamed: 0')\n",
    "# test_df = pd.read_csv('dataframes/test_unimputed').drop(columns='Unnamed: 0')"
   ]
  },
  {
   "cell_type": "code",
   "execution_count": 30,
   "metadata": {},
   "outputs": [
    {
     "data": {
      "text/plain": [
       "((1170391, 42), (191612, 42), (190207, 42))"
      ]
     },
     "execution_count": 30,
     "metadata": {},
     "output_type": "execute_result"
    }
   ],
   "source": [
    "train_df.shape, val_df.shape, test_df.shape"
   ]
  },
  {
   "cell_type": "code",
   "execution_count": 32,
   "metadata": {},
   "outputs": [],
   "source": [
    "train_df.SepsisLabel = train_df.SepsisLabel.astype(np.int)\n",
    "\n",
    "train_agg = train_df.groupby('pid').SepsisLabel.agg(['max'])\n",
    "\n",
    "train_agg.sum()/30336"
   ]
  },
  {
   "cell_type": "code",
   "execution_count": 38,
   "metadata": {},
   "outputs": [
    {
     "data": {
      "text/plain": [
       "max    0.057\n",
       "dtype: float64"
      ]
     },
     "execution_count": 38,
     "metadata": {},
     "output_type": "execute_result"
    }
   ],
   "source": [
    "val_df.SepsisLabel = val_df.SepsisLabel.astype(np.int)\n",
    "\n",
    "val_agg = val_df.groupby('pid').SepsisLabel.agg(['max'])\n",
    "\n",
    "val_agg.sum()/val_agg.shape[0]"
   ]
  },
  {
   "cell_type": "code",
   "execution_count": 39,
   "metadata": {},
   "outputs": [
    {
     "data": {
      "text/plain": [
       "max    0.0578\n",
       "dtype: float64"
      ]
     },
     "execution_count": 39,
     "metadata": {},
     "output_type": "execute_result"
    }
   ],
   "source": [
    "test_df.SepsisLabel = test_df.SepsisLabel.astype(np.int)\n",
    "\n",
    "test_agg = test_df.groupby('pid').SepsisLabel.agg(['max'])\n",
    "\n",
    "test_agg.sum()/test_agg.shape[0]"
   ]
  },
  {
   "cell_type": "code",
   "execution_count": 16,
   "metadata": {},
   "outputs": [],
   "source": [
    "# Normalize train and test sets\n",
    "\n",
    "from sklearn.preprocessing import StandardScaler\n",
    "stdscaler = StandardScaler().fit(train_df.loc[:,\"HR\":\"Platelets\"])\n",
    "train_df.loc[:,\"HR\":\"Platelets\"] = stdscaler.transform(train_df.loc[:,\"HR\":\"Platelets\"])\n",
    "test_df.loc[:,\"HR\":\"Platelets\"] = stdscaler.transform(test_df.loc[:,\"HR\":\"Platelets\"])"
   ]
  },
  {
   "cell_type": "code",
   "execution_count": 17,
   "metadata": {},
   "outputs": [],
   "source": [
    "# Impute missing values using forward fill\n",
    "train_df.fillna(method='ffill', inplace=True)\n",
    "\n",
    "# Impute rest of missing values using mean of training set\n",
    "mean_vals = train_df.loc[:,'HR':'Platelets'].astype(np.float64).mean()\n",
    "train_df.fillna(mean_vals, inplace=True)\n",
    "\n",
    "assert train_df.loc[:,'HR':'Platelets'].isna().sum().sum() == 0"
   ]
  },
  {
   "cell_type": "code",
   "execution_count": 18,
   "metadata": {},
   "outputs": [],
   "source": [
    "# Impute missing values using forward fill\n",
    "test_df.fillna(method='ffill', inplace=True)\n",
    "\n",
    "# Impute missing values using mean of training set\n",
    "test_df.fillna(mean_vals, inplace=True)\n",
    "\n",
    "assert test_df.loc[:,'HR':'Platelets'].isna().sum().sum() == 0"
   ]
  },
  {
   "cell_type": "code",
   "execution_count": 165,
   "metadata": {
    "code_folding": [
     0,
     14,
     17,
     30
    ]
   },
   "outputs": [],
   "source": [
    "# change dtypes to correct if needed.\n",
    "# train_df[['HR', 'O2Sat', 'Temp', 'SBP', 'MAP', 'DBP', 'Resp', 'EtCO2',\n",
    "#        'BaseExcess', 'HCO3', 'FiO2', 'pH', 'PaCO2', 'SaO2', 'AST', 'BUN',\n",
    "#        'Alkalinephos', 'Calcium', 'Chloride', 'Creatinine', 'Bilirubin_direct',\n",
    "#        'Glucose', 'Lactate', 'Magnesium', 'Phosphate', 'Potassium',\n",
    "#        'Bilirubin_total', 'TroponinI', 'Hct', 'Hgb', 'PTT', 'WBC',\n",
    "#        'Fibrinogen', 'Platelets', 'Age', 'HospAdmTime']] = train_df[['HR', 'O2Sat', \n",
    "#         'Temp', 'SBP', 'MAP', 'DBP', 'Resp', 'EtCO2',\n",
    "#        'BaseExcess', 'HCO3', 'FiO2', 'pH', 'PaCO2', 'SaO2', 'AST', 'BUN',\n",
    "#        'Alkalinephos', 'Calcium', 'Chloride', 'Creatinine', 'Bilirubin_direct',\n",
    "#        'Glucose', 'Lactate', 'Magnesium', 'Phosphate', 'Potassium',\n",
    "#        'Bilirubin_total', 'TroponinI', 'Hct', 'Hgb', 'PTT', 'WBC',\n",
    "#        'Fibrinogen', 'Platelets', 'Age', 'HospAdmTime']].astype(np.float)\n",
    "\n",
    "# train_df[['Gender', 'ICULOS', 'SepsisLabel']] = train_df[['Gender', 'ICULOS', \n",
    "#                                                           'SepsisLabel']].astype(np.int)\n",
    "\n",
    "# test_df[['HR', 'O2Sat', 'Temp', 'SBP', 'MAP', 'DBP', 'Resp', 'EtCO2',\n",
    "#        'BaseExcess', 'HCO3', 'FiO2', 'pH', 'PaCO2', 'SaO2', 'AST', 'BUN',\n",
    "#        'Alkalinephos', 'Calcium', 'Chloride', 'Creatinine', 'Bilirubin_direct',\n",
    "#        'Glucose', 'Lactate', 'Magnesium', 'Phosphate', 'Potassium',\n",
    "#        'Bilirubin_total', 'TroponinI', 'Hct', 'Hgb', 'PTT', 'WBC',\n",
    "#        'Fibrinogen', 'Platelets', 'Age', 'HospAdmTime']] = test_df[['HR', 'O2Sat', \n",
    "#         'Temp', 'SBP', 'MAP', 'DBP', 'Resp', 'EtCO2',\n",
    "#        'BaseExcess', 'HCO3', 'FiO2', 'pH', 'PaCO2', 'SaO2', 'AST', 'BUN',\n",
    "#        'Alkalinephos', 'Calcium', 'Chloride', 'Creatinine', 'Bilirubin_direct',\n",
    "#        'Glucose', 'Lactate', 'Magnesium', 'Phosphate', 'Potassium',\n",
    "#        'Bilirubin_total', 'TroponinI', 'Hct', 'Hgb', 'PTT', 'WBC',\n",
    "#        'Fibrinogen', 'Platelets', 'Age', 'HospAdmTime']].astype(np.float)\n",
    "\n",
    "# test_df[['Gender', 'ICULOS', 'SepsisLabel']] = test_df[['Gender', 'ICULOS', \n",
    "#                                                           'SepsisLabel']].astype(np.int)"
   ]
  },
  {
   "cell_type": "code",
   "execution_count": 19,
   "metadata": {},
   "outputs": [],
   "source": [
    "for pid, df in train_df.groupby('pid'):\n",
    "    df.drop(columns='pid').to_csv('train_forw_imputed/%s'%pid, sep='|', index=False)\n",
    "    \n",
    "for pid, df in test_df.groupby('pid'):\n",
    "    df.drop(columns='pid').to_csv('test_forw_imputed/%s'%pid, sep='|', index=False)\n",
    "    "
   ]
  },
  {
   "cell_type": "code",
   "execution_count": 20,
   "metadata": {},
   "outputs": [],
   "source": [
    "X = train_df.drop(columns='pid')"
   ]
  },
  {
   "cell_type": "code",
   "execution_count": 21,
   "metadata": {},
   "outputs": [
    {
     "data": {
      "text/plain": [
       "(150976, 41)"
      ]
     },
     "execution_count": 21,
     "metadata": {},
     "output_type": "execute_result"
    }
   ],
   "source": [
    "X.shape"
   ]
  },
  {
   "cell_type": "code",
   "execution_count": 22,
   "metadata": {},
   "outputs": [
    {
     "data": {
      "text/plain": [
       "Index(['HR', 'O2Sat', 'Temp', 'SBP', 'MAP', 'DBP', 'Resp', 'EtCO2',\n",
       "       'BaseExcess', 'HCO3', 'FiO2', 'pH', 'PaCO2', 'SaO2', 'AST', 'BUN',\n",
       "       'Alkalinephos', 'Calcium', 'Chloride', 'Creatinine', 'Bilirubin_direct',\n",
       "       'Glucose', 'Lactate', 'Magnesium', 'Phosphate', 'Potassium',\n",
       "       'Bilirubin_total', 'TroponinI', 'Hct', 'Hgb', 'PTT', 'WBC',\n",
       "       'Fibrinogen', 'Platelets', 'Age', 'Gender', 'Unit1', 'Unit2',\n",
       "       'HospAdmTime', 'ICULOS', 'SepsisLabel'],\n",
       "      dtype='object')"
      ]
     },
     "execution_count": 22,
     "metadata": {},
     "output_type": "execute_result"
    }
   ],
   "source": [
    "X.columns"
   ]
  },
  {
   "cell_type": "code",
   "execution_count": null,
   "metadata": {},
   "outputs": [],
   "source": []
  }
 ],
 "metadata": {
  "hide_input": false,
  "kernelspec": {
   "display_name": "Python 3",
   "language": "python",
   "name": "python3"
  },
  "language_info": {
   "codemirror_mode": {
    "name": "ipython",
    "version": 3
   },
   "file_extension": ".py",
   "mimetype": "text/x-python",
   "name": "python",
   "nbconvert_exporter": "python",
   "pygments_lexer": "ipython3",
   "version": "3.5.2"
  }
 },
 "nbformat": 4,
 "nbformat_minor": 2
}
