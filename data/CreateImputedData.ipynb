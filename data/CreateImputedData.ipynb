{
 "cells": [
  {
   "cell_type": "code",
   "execution_count": 1,
   "metadata": {},
   "outputs": [],
   "source": [
    "import os, sys\n",
    "import numpy as np\n",
    "import pandas as pd "
   ]
  },
  {
   "cell_type": "markdown",
   "metadata": {},
   "source": [
    "## Read patient files and split into train and test sets"
   ]
  },
  {
   "cell_type": "code",
   "execution_count": 3,
   "metadata": {
    "code_folding": [
     0
    ]
   },
   "outputs": [
    {
     "name": "stdout",
     "output_type": "stream",
     "text": [
      "Count: 500\n",
      "Count: 1000\n",
      "Count: 1500\n",
      "Count: 2000\n",
      "Count: 2500\n",
      "Count: 3000\n",
      "Count: 3500\n",
      "Count: 4000\n",
      "Count: 4500\n",
      "Count: 5000\n"
     ]
    }
   ],
   "source": [
    "# train_df = pd.DataFrame(data=[])\n",
    "# test_df = pd.DataFrame(data=[])\n",
    "# features = None\n",
    "\n",
    "# i = 0\n",
    "# for file in os.listdir('sepsis_data/'):\n",
    "    \n",
    "#     # Read file \n",
    "#     patient_df = []\n",
    "#     with open('sepsis_data/%s' % (file)) as f:\n",
    "        \n",
    "#         if not features:\n",
    "#             features = f.readline().rstrip('\\n').split('|')\n",
    "#         else:\n",
    "#             # This skips the headers\n",
    "#             f.readline()\n",
    "        \n",
    "#         for idx, line in enumerate(f):\n",
    "#             # Append patient ID beginning of data vector\n",
    "#             pdata = [file.split('.')[0]]\n",
    "            \n",
    "#             line = line.rstrip('\\n')\n",
    "#             pdata.extend(line.split('|'))\n",
    "#             patient_df.append(pdata)\n",
    "    \n",
    "#     patient_df = pd.DataFrame(patient_df, columns=['pid'] + features)\n",
    "#     i += 1 \n",
    "    \n",
    "#     if i%500 == 0:\n",
    "#         print(\"Count: %d\"%(i))\n",
    "    \n",
    "#     if i <= 4000:\n",
    "#         train_df = patient_df if train_df.empty else pd.concat([train_df, patient_df])\n",
    "#     else:\n",
    "#         test_df = patient_df if test_df.empty else pd.concat([test_df, patient_df])"
   ]
  },
  {
   "cell_type": "markdown",
   "metadata": {},
   "source": [
    "## Impute train and test sets using different methods"
   ]
  },
  {
   "cell_type": "code",
   "execution_count": 48,
   "metadata": {},
   "outputs": [],
   "source": [
    "train_df = pd.read_csv('train_patients_unimputed').drop(columns='Unnamed: 0')\n",
    "test_df = pd.read_csv('test_patients_unimputed').drop(columns='Unnamed: 0')"
   ]
  },
  {
   "cell_type": "code",
   "execution_count": 49,
   "metadata": {},
   "outputs": [
    {
     "data": {
      "text/plain": [
       "((150976, 42), (37477, 42))"
      ]
     },
     "execution_count": 49,
     "metadata": {},
     "output_type": "execute_result"
    }
   ],
   "source": [
    "train_df.shape, test_df.shape"
   ]
  },
  {
   "cell_type": "code",
   "execution_count": 53,
   "metadata": {},
   "outputs": [],
   "source": [
    "# Impute missing values using forward fill\n",
    "train_df.fillna(method='ffill', inplace=True)\n",
    "\n",
    "# Impute rest of missing values using mean of training set\n",
    "mean_vals = train_df.loc[:,'HR':'Platelets'].astype(np.float64).mean()\n",
    "train_df.fillna(mean_vals, inplace=True)\n",
    "\n",
    "assert train_df.loc[:,'HR':'Platelets'].isna().sum().sum() == 0"
   ]
  },
  {
   "cell_type": "code",
   "execution_count": 54,
   "metadata": {},
   "outputs": [],
   "source": [
    "# Impute missing values using forward fill\n",
    "test_df.fillna(method='ffill', inplace=True)\n",
    "\n",
    "# Impute missing values using mean of training set\n",
    "test_df.fillna(mean_vals, inplace=True)\n",
    "\n",
    "assert test_df.loc[:,'HR':'Platelets'].isna().sum().sum() == 0"
   ]
  },
  {
   "cell_type": "code",
   "execution_count": 44,
   "metadata": {},
   "outputs": [],
   "source": [
    "# change dtypes to correct \n",
    "train_df[['HR', 'O2Sat', 'Temp', 'SBP', 'MAP', 'DBP', 'Resp', 'EtCO2',\n",
    "       'BaseExcess', 'HCO3', 'FiO2', 'pH', 'PaCO2', 'SaO2', 'AST', 'BUN',\n",
    "       'Alkalinephos', 'Calcium', 'Chloride', 'Creatinine', 'Bilirubin_direct',\n",
    "       'Glucose', 'Lactate', 'Magnesium', 'Phosphate', 'Potassium',\n",
    "       'Bilirubin_total', 'TroponinI', 'Hct', 'Hgb', 'PTT', 'WBC',\n",
    "       'Fibrinogen', 'Platelets', 'Age', 'HospAdmTime']] = train_df[['HR', 'O2Sat', \n",
    "        'Temp', 'SBP', 'MAP', 'DBP', 'Resp', 'EtCO2',\n",
    "       'BaseExcess', 'HCO3', 'FiO2', 'pH', 'PaCO2', 'SaO2', 'AST', 'BUN',\n",
    "       'Alkalinephos', 'Calcium', 'Chloride', 'Creatinine', 'Bilirubin_direct',\n",
    "       'Glucose', 'Lactate', 'Magnesium', 'Phosphate', 'Potassium',\n",
    "       'Bilirubin_total', 'TroponinI', 'Hct', 'Hgb', 'PTT', 'WBC',\n",
    "       'Fibrinogen', 'Platelets', 'Age', 'HospAdmTime']].astype(np.float)\n",
    "\n",
    "train_df[['Gender', 'ICULOS', 'SepsisLabel']] = train_df[['Gender', 'ICULOS', \n",
    "                                                          'SepsisLabel']].astype(np.int)\n",
    "\n",
    "test_df[['HR', 'O2Sat', 'Temp', 'SBP', 'MAP', 'DBP', 'Resp', 'EtCO2',\n",
    "       'BaseExcess', 'HCO3', 'FiO2', 'pH', 'PaCO2', 'SaO2', 'AST', 'BUN',\n",
    "       'Alkalinephos', 'Calcium', 'Chloride', 'Creatinine', 'Bilirubin_direct',\n",
    "       'Glucose', 'Lactate', 'Magnesium', 'Phosphate', 'Potassium',\n",
    "       'Bilirubin_total', 'TroponinI', 'Hct', 'Hgb', 'PTT', 'WBC',\n",
    "       'Fibrinogen', 'Platelets', 'Age', 'HospAdmTime']] = test_df[['HR', 'O2Sat', \n",
    "        'Temp', 'SBP', 'MAP', 'DBP', 'Resp', 'EtCO2',\n",
    "       'BaseExcess', 'HCO3', 'FiO2', 'pH', 'PaCO2', 'SaO2', 'AST', 'BUN',\n",
    "       'Alkalinephos', 'Calcium', 'Chloride', 'Creatinine', 'Bilirubin_direct',\n",
    "       'Glucose', 'Lactate', 'Magnesium', 'Phosphate', 'Potassium',\n",
    "       'Bilirubin_total', 'TroponinI', 'Hct', 'Hgb', 'PTT', 'WBC',\n",
    "       'Fibrinogen', 'Platelets', 'Age', 'HospAdmTime']].astype(np.float)\n",
    "\n",
    "test_df[['Gender', 'ICULOS', 'SepsisLabel']] = test_df[['Gender', 'ICULOS', \n",
    "                                                          'SepsisLabel']].astype(np.int)"
   ]
  },
  {
   "cell_type": "code",
   "execution_count": 56,
   "metadata": {},
   "outputs": [],
   "source": [
    "# train_df.to_csv('train_mean_imputed')\n",
    "test_df.to_csv('test_forw_mean_imputed')"
   ]
  },
  {
   "cell_type": "code",
   "execution_count": null,
   "metadata": {},
   "outputs": [],
   "source": []
  }
 ],
 "metadata": {
  "hide_input": false,
  "kernelspec": {
   "display_name": "Python 3",
   "language": "python",
   "name": "python3"
  },
  "language_info": {
   "codemirror_mode": {
    "name": "ipython",
    "version": 3
   },
   "file_extension": ".py",
   "mimetype": "text/x-python",
   "name": "python",
   "nbconvert_exporter": "python",
   "pygments_lexer": "ipython3",
   "version": "3.5.2"
  }
 },
 "nbformat": 4,
 "nbformat_minor": 2
}
