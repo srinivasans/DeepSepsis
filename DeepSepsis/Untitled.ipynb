{
 "cells": [
  {
   "cell_type": "code",
   "execution_count": 5,
   "metadata": {
    "collapsed": true
   },
   "outputs": [],
   "source": [
    "'''\n",
    "Class to read data and yield batched data for training\n",
    "Author: Srinivasan Sivanandan\n",
    "'''\n",
    "import os\n",
    "import numpy as np\n",
    "import random\n",
    "\n",
    "class ReadData():\n",
    "\n",
    "    def __init__(self, path, batchSize = 100, isTrain=True, normalize=True, padding=True, mean = None, std = None):\n",
    "        # Phase parameters\n",
    "        self.path=path\n",
    "        self.isTrain=isTrain\n",
    "        self.normalize = normalize\n",
    "        self.padding = padding\n",
    "        self.batchSize = batchSize\n",
    "\n",
    "        # Sepsis specific parameters\n",
    "        self.features = {'HR':0, 'O2Sat':1, 'Temp':2,\n",
    "                    'SBP':3,'MAP':4, 'DBP':5,\n",
    "                    'Resp':6, 'EtCO2':7, 'BaseExcess':8,\n",
    "                    'HCO3':9, 'FiO2':10, 'pH':11, 'PaCO2':12,\n",
    "                    'SaO2':13, 'AST':14, 'BUN':15, 'Alkalinephos':16,\n",
    "                    'Calcium':17, 'Chloride':18, 'Creatinine':19,\n",
    "                    'Bilirubin_direct':20, 'Glucose':21, 'Lactate':22, \n",
    "                    'Magnesium':23, 'Phosphate':24, 'Potassium':25, 'Bilirubin_total':26,\n",
    "                    'TroponinI':27, 'Hct':28, 'Hgb':29, 'PTT':30, \n",
    "                    'WBC':31, 'Fibrinogen':32, 'Platelets':33, 'Age':34, \n",
    "                    'Gender':35, 'ICULOS':39, 'SepsisLabel':40}\n",
    "        # All features except ICULOS and SepsisLabel\n",
    "        self.nX =  len(self.features)-2\n",
    "        self.nY = 1 # Sepsis Label\n",
    "        \n",
    "        # Data variables\n",
    "        self.x = []\n",
    "        self.y = []\n",
    "        self.m = []\n",
    "        self.timeDelay = []\n",
    "        self.times = []\n",
    "        self.files = []\n",
    "        self.x_lengths = []\n",
    "\n",
    "        # Aggregate variables\n",
    "        self.maxLength = 0.0\n",
    "        # if mean is not None:\n",
    "        #     self.mean = np.array([0.0]*self.nX)\n",
    "        # if std is not None:\n",
    "        #     self.std = np.array([0.0]*self.nX)\n",
    "\n",
    "        # Read data\n",
    "        self.load(mean=mean, std=std) \n",
    "\n",
    "    def readFile(self, input_file):\n",
    "        with open(os.path.join(self.path,input_file), 'r') as f:\n",
    "            header = f.readline().strip()\n",
    "            column_names = header.split('|')\n",
    "            values = np.loadtxt(f, delimiter='|')\n",
    "\n",
    "        target = None\n",
    "        times = None\n",
    "        if column_names[-1] == 'SepsisLabel':\n",
    "            target = values[:,-1]\n",
    "            column_names = column_names[:-1]\n",
    "            values = values[:, :-1]\n",
    "        \n",
    "        if column_names[-1] == 'ICULOS':\n",
    "            times = values[:,-1]\n",
    "            column_names = column_names[:-1]\n",
    "            values = values[:, :-1]\n",
    "\n",
    "        values = values[:,0:self.nX]\n",
    "        delay = np.zeros(values.shape)\n",
    "        for j in range(0, values.shape[1]):\n",
    "            for i in range(1, values.shape[0]):\n",
    "                if(np.isnan(values[i,j])):\n",
    "                    delay[i] = times[i]-times[i-1]+delay[i-1,j]\n",
    "                else:\n",
    "                    delay[i] = times[i]-times[i-1]\n",
    "\n",
    "        indicator = np.array(~np.isnan(values)).astype(int)\n",
    "        return values, target, indicator, times, delay\n",
    "\n",
    "\n",
    "    def load(self, mean=None, std=None):\n",
    "        input_files = os.listdir(self.path)\n",
    "        self.maxLength = 0 # Count for padding for using mini-batches\n",
    "\n",
    "        self.x = []\n",
    "        self.y = []\n",
    "        self.m = []\n",
    "        self.timeDelay = []\n",
    "        self.times = []\n",
    "        self.files = []\n",
    "        self.x_lengths = []\n",
    "        for input_file in input_files:\n",
    "            x,y,m,t,d = self.readFile(input_file)\n",
    "            self.x.append(x)\n",
    "            self.y.append(y)\n",
    "            self.m.append(m)\n",
    "            self.times.append(t)\n",
    "            self.timeDelay.append(d)\n",
    "            self.files.append(input_file)\n",
    "            self.x_lengths.append(x.shape[0])\n",
    "\n",
    "            if(x.shape[0] > self.maxLength):\n",
    "                self.maxLength = x.shape[0]\n",
    "        \n",
    "        self.x = np.array(self.x)\n",
    "        self.y = np.array(self.y)\n",
    "        self.m = np.array(self.m)\n",
    "        self.times = np.array(self.times)\n",
    "        self.timeDelay = np.array(self.timeDelay)\n",
    "\n",
    "        if self.padding:\n",
    "            x_values = self.x\n",
    "            m_values = self.m\n",
    "            delta_values = self.timeDelay\n",
    "            y_values = self.y\n",
    "            self.x = np.full([x_values.shape[0], self.maxLength, self.nX], np.nan)\n",
    "            self.m = np.full([m_values.shape[0], self.maxLength, self.nX], np.nan)\n",
    "            self.timeDelay = np.full([delta_values.shape[0], self.maxLength, self.nX], np.nan)\n",
    "            self.y = np.full([y_values.shape[0], self.maxLength], np.nan)\n",
    "            \n",
    "            for i in range(0, x_values.shape[0]):\n",
    "                assert x_values[i].shape[1]==self.nX\n",
    "                self.x[i,0:x_values[i].shape[0],:] = x_values[i][:,:]\n",
    "                self.m[i,0:m_values[i].shape[0],:] = m_values[i][:,:]\n",
    "                self.timeDelay[i,0:delta_values[i].shape[0],:] = delta_values[i][:,:]\n",
    "                self.y[i,0:y_values[i].shape[0]] = y_values[i]\n",
    "\n",
    "        if self.isTrain:\n",
    "            x_values = np.reshape(self.x, [-1, self.nX])\n",
    "            self.mean = np.nanmean(x_values, axis=0)\n",
    "            self.std = np.nanstd(x_values, axis=0)\n",
    "        else:\n",
    "            self.mean = mean\n",
    "            self.std = std\n",
    "        \n",
    "        if self.normalize:\n",
    "            self.x = np.nan_to_num((self.x - self.mean) / self.std)\n",
    "            self.m = np.nan_to_num(self.m)\n",
    "            self.timeDelay = np.nan_to_num(self.timeDelay)\n",
    "            self.y = np.nan_to_num(self.y)\n",
    "        \n",
    "    def getMean(self):\n",
    "        if self.normalize:\n",
    "            return np.array([0.0]*self.nX)\n",
    "        else:\n",
    "            return self.mean\n",
    "        \n",
    "    def shuffle(self):\n",
    "        c = list(zip(self.x,self.y,self.m,self.timeDelay,self.times, self.x_lengths))\n",
    "        random.shuffle(c)\n",
    "        self.x,self.y,self.m,self.timeDelay,self.times, self.x_lengths=zip(*c)\n",
    "        \n",
    "    def getNextBatch(self):\n",
    "        cursor = 0\n",
    "        while cursor+self.batchSize <= self.x.shape[0]:\n",
    "            x = self.x[cursor:cursor+self.batchSize]\n",
    "            y = self.y[cursor:cursor+self.batchSize]\n",
    "            m = self.m[cursor:cursor+self.batchSize]\n",
    "            d = self.timeDelay[cursor:cursor+self.batchSize]\n",
    "            xlen = self.x_lengths[cursor:cursor+self.batchSize]\n",
    "            cursor+=self.batchSize\n",
    "            yield x,y,m,d,xlen\n",
    "    \n",
    "\n"
   ]
  },
  {
   "cell_type": "code",
   "execution_count": 10,
   "metadata": {
    "collapsed": true
   },
   "outputs": [],
   "source": [
    "data = ReadData('../data/train')\n",
    "data.shuffle()"
   ]
  },
  {
   "cell_type": "code",
   "execution_count": 11,
   "metadata": {
    "collapsed": false
   },
   "outputs": [
    {
     "ename": "AttributeError",
     "evalue": "'tuple' object has no attribute 'shape'",
     "traceback": [
      "\u001b[0;31m---------------------------------------------------------------------------\u001b[0m",
      "\u001b[0;31mAttributeError\u001b[0m                            Traceback (most recent call last)",
      "\u001b[0;32m<ipython-input-11-a80e4d6e3626>\u001b[0m in \u001b[0;36m<module>\u001b[0;34m()\u001b[0m\n\u001b[0;32m----> 1\u001b[0;31m \u001b[0;32mfor\u001b[0m \u001b[0mx\u001b[0m\u001b[0;34m,\u001b[0m\u001b[0my\u001b[0m\u001b[0;34m,\u001b[0m\u001b[0mm\u001b[0m\u001b[0;34m,\u001b[0m\u001b[0md\u001b[0m\u001b[0;34m,\u001b[0m\u001b[0mxlen\u001b[0m \u001b[0;32min\u001b[0m \u001b[0mdata\u001b[0m\u001b[0;34m.\u001b[0m\u001b[0mgetNextBatch\u001b[0m\u001b[0;34m(\u001b[0m\u001b[0;34m)\u001b[0m\u001b[0;34m:\u001b[0m\u001b[0;34m\u001b[0m\u001b[0m\n\u001b[0m\u001b[1;32m      2\u001b[0m     \u001b[0;32mprint\u001b[0m\u001b[0;34m(\u001b[0m\u001b[0mx\u001b[0m\u001b[0;34m.\u001b[0m\u001b[0mshape\u001b[0m\u001b[0;34m)\u001b[0m\u001b[0;34m\u001b[0m\u001b[0m\n",
      "\u001b[0;32m<ipython-input-5-07611904efa3>\u001b[0m in \u001b[0;36mgetNextBatch\u001b[0;34m(self)\u001b[0m\n\u001b[1;32m    157\u001b[0m     \u001b[0;32mdef\u001b[0m \u001b[0mgetNextBatch\u001b[0m\u001b[0;34m(\u001b[0m\u001b[0mself\u001b[0m\u001b[0;34m)\u001b[0m\u001b[0;34m:\u001b[0m\u001b[0;34m\u001b[0m\u001b[0m\n\u001b[1;32m    158\u001b[0m         \u001b[0mcursor\u001b[0m \u001b[0;34m=\u001b[0m \u001b[0;36m0\u001b[0m\u001b[0;34m\u001b[0m\u001b[0m\n\u001b[0;32m--> 159\u001b[0;31m         \u001b[0;32mwhile\u001b[0m \u001b[0mcursor\u001b[0m\u001b[0;34m+\u001b[0m\u001b[0mself\u001b[0m\u001b[0;34m.\u001b[0m\u001b[0mbatchSize\u001b[0m \u001b[0;34m<=\u001b[0m \u001b[0mself\u001b[0m\u001b[0;34m.\u001b[0m\u001b[0mx\u001b[0m\u001b[0;34m.\u001b[0m\u001b[0mshape\u001b[0m\u001b[0;34m[\u001b[0m\u001b[0;36m0\u001b[0m\u001b[0;34m]\u001b[0m\u001b[0;34m:\u001b[0m\u001b[0;34m\u001b[0m\u001b[0m\n\u001b[0m\u001b[1;32m    160\u001b[0m             \u001b[0mx\u001b[0m \u001b[0;34m=\u001b[0m \u001b[0mself\u001b[0m\u001b[0;34m.\u001b[0m\u001b[0mx\u001b[0m\u001b[0;34m[\u001b[0m\u001b[0mcursor\u001b[0m\u001b[0;34m:\u001b[0m\u001b[0mcursor\u001b[0m\u001b[0;34m+\u001b[0m\u001b[0mself\u001b[0m\u001b[0;34m.\u001b[0m\u001b[0mbatchSize\u001b[0m\u001b[0;34m]\u001b[0m\u001b[0;34m\u001b[0m\u001b[0m\n\u001b[1;32m    161\u001b[0m             \u001b[0my\u001b[0m \u001b[0;34m=\u001b[0m \u001b[0mself\u001b[0m\u001b[0;34m.\u001b[0m\u001b[0my\u001b[0m\u001b[0;34m[\u001b[0m\u001b[0mcursor\u001b[0m\u001b[0;34m:\u001b[0m\u001b[0mcursor\u001b[0m\u001b[0;34m+\u001b[0m\u001b[0mself\u001b[0m\u001b[0;34m.\u001b[0m\u001b[0mbatchSize\u001b[0m\u001b[0;34m]\u001b[0m\u001b[0;34m\u001b[0m\u001b[0m\n",
      "\u001b[0;31mAttributeError\u001b[0m: 'tuple' object has no attribute 'shape'"
     ],
     "output_type": "error"
    }
   ],
   "source": [
    "for x,y,m,d,xlen in data.getNextBatch():\n",
    "    print(x.shape)"
   ]
  },
  {
   "cell_type": "code",
   "execution_count": 14,
   "metadata": {
    "collapsed": false
   },
   "outputs": [],
   "source": [
    "c = list(zip(data.x,data.y,data.m,data.timeDelay,data.times, data.x_lengths))"
   ]
  },
  {
   "cell_type": "code",
   "execution_count": 15,
   "metadata": {
    "collapsed": false
   },
   "outputs": [],
   "source": [
    "random.shuffle(c)"
   ]
  },
  {
   "cell_type": "code",
   "execution_count": 17,
   "metadata": {
    "collapsed": false
   },
   "outputs": [],
   "source": [
    "x = zip(*c)"
   ]
  },
  {
   "cell_type": "code",
   "execution_count": 18,
   "metadata": {
    "collapsed": false
   },
   "outputs": [
    {
     "data": {
      "text/plain": [
       "6"
      ]
     },
     "execution_count": 18,
     "metadata": {},
     "output_type": "execute_result"
    }
   ],
   "source": [
    "len(x)"
   ]
  },
  {
   "cell_type": "code",
   "execution_count": 30,
   "metadata": {
    "collapsed": false
   },
   "outputs": [],
   "source": [
    "data.x,data.y,data.m,data.timeDelay,data.times, data.x_lengths=np.array(zip(*c))"
   ]
  },
  {
   "cell_type": "code",
   "execution_count": 31,
   "metadata": {
    "collapsed": false
   },
   "outputs": [
    {
     "data": {
      "text/plain": [
       "(4000,)"
      ]
     },
     "execution_count": 31,
     "metadata": {},
     "output_type": "execute_result"
    }
   ],
   "source": [
    "data.x.shape"
   ]
  },
  {
   "cell_type": "code",
   "execution_count": null,
   "metadata": {
    "collapsed": true
   },
   "outputs": [],
   "source": []
  }
 ],
 "metadata": {
  "kernelspec": {
   "display_name": "Python 2",
   "language": "python",
   "name": "python2"
  },
  "language_info": {
   "codemirror_mode": {
    "name": "ipython",
    "version": 2
   },
   "file_extension": ".py",
   "mimetype": "text/x-python",
   "name": "python",
   "nbconvert_exporter": "python",
   "pygments_lexer": "ipython2",
   "version": "2.7.10"
  }
 },
 "nbformat": 4,
 "nbformat_minor": 0
}
