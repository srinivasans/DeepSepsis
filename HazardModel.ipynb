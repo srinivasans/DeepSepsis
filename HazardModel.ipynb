{
 "cells": [
  {
   "cell_type": "code",
   "execution_count": 1,
   "metadata": {},
   "outputs": [],
   "source": [
    "from IPython.core.interactiveshell import InteractiveShell\n",
    "InteractiveShell.ast_node_interactivity = \"all\""
   ]
  },
  {
   "cell_type": "code",
   "execution_count": 48,
   "metadata": {},
   "outputs": [],
   "source": [
    "import numpy as np\n",
    "import pandas as pd\n",
    "from sklearn.model_selection import train_test_split\n",
    "from sklearn.metrics import roc_auc_score, confusion_matrix\n",
    "from lifelines import CoxPHFitter\n",
    "from datautils.dataset import Dataset\n",
    "from datautils.data import Data\n",
    "from tqdm import tqdm"
   ]
  },
  {
   "cell_type": "code",
   "execution_count": 3,
   "metadata": {},
   "outputs": [
    {
     "name": "stdout",
     "output_type": "stream",
     "text": [
      "Imputation mode = mean\n",
      "Processing train data...\n",
      "* Reading data...\n"
     ]
    },
    {
     "name": "stderr",
     "output_type": "stream",
     "text": [
      "100%|██████████████████████████████████████████████████████████████████████████████| 4000/4000 [00:43<00:00, 91.74it/s]\n"
     ]
    },
    {
     "name": "stdout",
     "output_type": "stream",
     "text": [
      "* Processing data...\n"
     ]
    },
    {
     "name": "stderr",
     "output_type": "stream",
     "text": [
      "100%|███████████████████████████████████████████████████████████████████████████| 4000/4000 [00:00<00:00, 18302.75it/s]\n"
     ]
    },
    {
     "name": "stdout",
     "output_type": "stream",
     "text": [
      "* Unpadding...\n"
     ]
    },
    {
     "name": "stderr",
     "output_type": "stream",
     "text": [
      "100%|███████████████████████████████████████████████████████████████████████████| 4000/4000 [00:00<00:00, 43514.46it/s]\n"
     ]
    },
    {
     "name": "stdout",
     "output_type": "stream",
     "text": [
      "Processing val data...\n",
      "* Reading data...\n"
     ]
    },
    {
     "name": "stderr",
     "output_type": "stream",
     "text": [
      "100%|███████████████████████████████████████████████████████████████████████████████| 500/500 [00:04<00:00, 109.41it/s]\n"
     ]
    },
    {
     "name": "stdout",
     "output_type": "stream",
     "text": [
      "* Processing data...\n"
     ]
    },
    {
     "name": "stderr",
     "output_type": "stream",
     "text": [
      "100%|█████████████████████████████████████████████████████████████████████████████| 500/500 [00:00<00:00, 16761.80it/s]\n"
     ]
    },
    {
     "name": "stdout",
     "output_type": "stream",
     "text": [
      "* Unpadding...\n"
     ]
    },
    {
     "name": "stderr",
     "output_type": "stream",
     "text": [
      "100%|████████████████████████████████████████████████████████████████████████████| 500/500 [00:00<00:00, 124956.92it/s]\n"
     ]
    },
    {
     "name": "stdout",
     "output_type": "stream",
     "text": [
      "Processing test data...\n",
      "* Reading data...\n"
     ]
    },
    {
     "name": "stderr",
     "output_type": "stream",
     "text": [
      "100%|███████████████████████████████████████████████████████████████████████████████| 500/500 [00:04<00:00, 116.26it/s]\n"
     ]
    },
    {
     "name": "stdout",
     "output_type": "stream",
     "text": [
      "* Processing data...\n"
     ]
    },
    {
     "name": "stderr",
     "output_type": "stream",
     "text": [
      "100%|█████████████████████████████████████████████████████████████████████████████| 500/500 [00:00<00:00, 16566.49it/s]\n"
     ]
    },
    {
     "name": "stdout",
     "output_type": "stream",
     "text": [
      "* Unpadding...\n"
     ]
    },
    {
     "name": "stderr",
     "output_type": "stream",
     "text": [
      "100%|█████████████████████████████████████████████████████████████████████████████| 500/500 [00:00<00:00, 30941.03it/s]\n"
     ]
    }
   ],
   "source": [
    "dataset = Dataset(\"data/small_challenge_data\",\n",
    "                    batchSize=100,\n",
    "                    train_ratio=0.8,\n",
    "                    normalize=True,\n",
    "                    padding=False,\n",
    "                    imputeForward=False,\n",
    "                    calculateDelay=False)"
   ]
  },
  {
   "cell_type": "code",
   "execution_count": 109,
   "metadata": {},
   "outputs": [
    {
     "data": {
      "text/plain": [
       "(4000,)"
      ]
     },
     "execution_count": 109,
     "metadata": {},
     "output_type": "execute_result"
    },
    {
     "data": {
      "text/plain": [
       "(500,)"
      ]
     },
     "execution_count": 109,
     "metadata": {},
     "output_type": "execute_result"
    },
    {
     "data": {
      "text/plain": [
       "(500,)"
      ]
     },
     "execution_count": 109,
     "metadata": {},
     "output_type": "execute_result"
    }
   ],
   "source": [
    "columns = list(dataset.train_data.features.keys())[:-2]\n",
    "\n",
    "dataset.train_data.x.shape\n",
    "dataset.val_data.x.shape\n",
    "dataset.test_data.x.shape"
   ]
  },
  {
   "cell_type": "code",
   "execution_count": 108,
   "metadata": {},
   "outputs": [],
   "source": [
    "# create windowing system here\n",
    "T = 6\n",
    "#idx = 10\n",
    "def process_data(d: Data, T: int) -> (pd.DataFrame, np.array):\n",
    "    npa = d.x\n",
    "    target_npa = d.y\n",
    "    \n",
    "    processed = []\n",
    "    labels = []\n",
    "\n",
    "    print(\"* Processing data...\")\n",
    "    for idx in tqdm(range(npa.shape[0])):\n",
    "        if target_npa[idx].sum() == 0:\n",
    "            processed.extend([[row,7,1] for row in npa[idx]])\n",
    "        else:\n",
    "            sepsis_count = 0\n",
    "            for i in range(npa[idx].shape[0]):\n",
    "                t = (T + 1) - sepsis_count\n",
    "                t = t if t >= 1 else 1\n",
    "                s = 1 if t > T else 0\n",
    "                processed.append([npa[idx][i],t,s])\n",
    "                sepsis_count += 1 if target_npa[idx][i][0] == 1 else 0\n",
    "                \n",
    "        labels.extend(target_npa[idx].flatten().tolist())\n",
    "                \n",
    "    return (pd.DataFrame(processed, columns=[\"x\",\"t\",\"s\"]), np.array(labels))\n",
    "# Naive windowing:\n",
    "#             for i in range(df[idx].shape[0]):\n",
    "#                 window = df[idx][i:i+T]\n",
    "#                 matches = np.where(window[:,-1]==1)[0]\n",
    "#                 if matches.size > 0:\n",
    "#                     t = matches[0] + 1\n",
    "#                     s = 0\n",
    "#                 else:\n",
    "#                     t = T + 1\n",
    "#                     s = 1\n",
    "#                 processed.append([df[idx][i][:-1],t,s])"
   ]
  },
  {
   "cell_type": "code",
   "execution_count": 51,
   "metadata": {},
   "outputs": [
    {
     "name": "stdout",
     "output_type": "stream",
     "text": [
      "* Processing data...\n"
     ]
    },
    {
     "name": "stderr",
     "output_type": "stream",
     "text": [
      "100%|███████████████████████████████████████████████████████████████████████████| 4000/4000 [00:00<00:00, 12699.04it/s]\n"
     ]
    },
    {
     "name": "stdout",
     "output_type": "stream",
     "text": [
      "* Processing data...\n"
     ]
    },
    {
     "name": "stderr",
     "output_type": "stream",
     "text": [
      "100%|██████████████████████████████████████████████████████████████████████████████| 500/500 [00:00<00:00, 4768.67it/s]\n"
     ]
    }
   ],
   "source": [
    "X_train, y_train = process_data(dataset.train_data, T)\n",
    "X_val, y_val = process_data(dataset.val_data, T)\n",
    "X_test, y_test = process_data(dataset.test_data, T)"
   ]
  },
  {
   "cell_type": "code",
   "execution_count": 61,
   "metadata": {},
   "outputs": [
    {
     "data": {
      "text/html": [
       "<div>\n",
       "<style scoped>\n",
       "    .dataframe tbody tr th:only-of-type {\n",
       "        vertical-align: middle;\n",
       "    }\n",
       "\n",
       "    .dataframe tbody tr th {\n",
       "        vertical-align: top;\n",
       "    }\n",
       "\n",
       "    .dataframe thead th {\n",
       "        text-align: right;\n",
       "    }\n",
       "</style>\n",
       "<table border=\"1\" class=\"dataframe\">\n",
       "  <thead>\n",
       "    <tr style=\"text-align: right;\">\n",
       "      <th></th>\n",
       "      <th>x</th>\n",
       "      <th>t</th>\n",
       "      <th>s</th>\n",
       "    </tr>\n",
       "  </thead>\n",
       "  <tbody>\n",
       "    <tr>\n",
       "      <th>0</th>\n",
       "      <td>[0.0, 0.0, 0.0, 0.0, 0.0, 0.0, 0.0, 0.0, 0.0, ...</td>\n",
       "      <td>7</td>\n",
       "      <td>1</td>\n",
       "    </tr>\n",
       "    <tr>\n",
       "      <th>1</th>\n",
       "      <td>[0.32291490086539276, 0.9688360691681855, -1.3...</td>\n",
       "      <td>7</td>\n",
       "      <td>1</td>\n",
       "    </tr>\n",
       "    <tr>\n",
       "      <th>2</th>\n",
       "      <td>[0.32291490086539276, 0.9688360691681855, -1.2...</td>\n",
       "      <td>7</td>\n",
       "      <td>1</td>\n",
       "    </tr>\n",
       "    <tr>\n",
       "      <th>3</th>\n",
       "      <td>[0.26717878210519413, 0.9688360691681855, -0.1...</td>\n",
       "      <td>7</td>\n",
       "      <td>1</td>\n",
       "    </tr>\n",
       "    <tr>\n",
       "      <th>4</th>\n",
       "      <td>[-0.17871016797639477, 0.9688360691681855, 0.4...</td>\n",
       "      <td>7</td>\n",
       "      <td>1</td>\n",
       "    </tr>\n",
       "  </tbody>\n",
       "</table>\n",
       "</div>"
      ],
      "text/plain": [
       "                                                   x  t  s\n",
       "0  [0.0, 0.0, 0.0, 0.0, 0.0, 0.0, 0.0, 0.0, 0.0, ...  7  1\n",
       "1  [0.32291490086539276, 0.9688360691681855, -1.3...  7  1\n",
       "2  [0.32291490086539276, 0.9688360691681855, -1.2...  7  1\n",
       "3  [0.26717878210519413, 0.9688360691681855, -0.1...  7  1\n",
       "4  [-0.17871016797639477, 0.9688360691681855, 0.4...  7  1"
      ]
     },
     "execution_count": 61,
     "metadata": {},
     "output_type": "execute_result"
    }
   ],
   "source": [
    "X_train.head()"
   ]
  },
  {
   "cell_type": "code",
   "execution_count": 65,
   "metadata": {},
   "outputs": [],
   "source": [
    "inverse_s = 1-X_train.s\n",
    "X_train_cph = pd.DataFrame(X_train.x.values.tolist(), columns=columns)\n",
    "X_train_cph[\"s\"] = inverse_s\n",
    "X_train_cph[\"w\"] = (inverse_s * 70) + X_train.s\n",
    "X_train_cph[\"t\"] = X_train.t"
   ]
  },
  {
   "cell_type": "code",
   "execution_count": 68,
   "metadata": {},
   "outputs": [
    {
     "name": "stdout",
     "output_type": "stream",
     "text": [
      "Iteration 1: norm_delta = 0.02671, step_size = 0.0700, ll = -1688714.33595, newton_decrement = 10523.83932, seconds_since_start = 0.2\n",
      "Iteration 2: norm_delta = 0.02438, step_size = 0.0700, ll = -1687293.15293, newton_decrement = 8796.79560, seconds_since_start = 0.5\n",
      "Iteration 3: norm_delta = 0.02237, step_size = 0.0700, ll = -1686105.08229, newton_decrement = 7408.09968, seconds_since_start = 0.8\n",
      "Iteration 4: norm_delta = 0.02469, step_size = 0.0840, ll = -1685104.50379, newton_decrement = 6268.78761, seconds_since_start = 1.1\n",
      "Iteration 5: norm_delta = 0.02192, step_size = 0.0823, ll = -1684095.89550, newton_decrement = 5142.63855, seconds_since_start = 1.3\n",
      "Iteration 6: norm_delta = 0.01953, step_size = 0.0807, ll = -1683284.26357, newton_decrement = 4251.22615, seconds_since_start = 1.5\n",
      "Iteration 7: norm_delta = 0.02136, step_size = 0.0968, ll = -1682626.14301, newton_decrement = 3537.16676, seconds_since_start = 1.7\n",
      "Iteration 8: norm_delta = 0.01873, step_size = 0.0949, ll = -1681974.60860, newton_decrement = 2837.44431, seconds_since_start = 2.0\n",
      "Iteration 9: norm_delta = 0.01648, step_size = 0.0930, ll = -1681461.86886, newton_decrement = 2291.91016, seconds_since_start = 2.3\n",
      "Iteration 10: norm_delta = 0.01781, step_size = 0.1116, ll = -1681055.57417, newton_decrement = 1862.86393, seconds_since_start = 2.6\n",
      "Iteration 11: norm_delta = 0.01538, step_size = 0.1093, ll = -1680663.17473, newton_decrement = 1451.26385, seconds_since_start = 2.8\n",
      "Iteration 12: norm_delta = 0.01333, step_size = 0.1072, ll = -1680363.22377, newton_decrement = 1138.61761, seconds_since_start = 3.1\n",
      "Iteration 13: norm_delta = 0.01420, step_size = 0.1286, ll = -1680132.32379, newton_decrement = 899.19596, seconds_since_start = 3.4\n",
      "Iteration 14: norm_delta = 0.01205, step_size = 0.1260, ll = -1679915.99334, newton_decrement = 675.94498, seconds_since_start = 3.7\n",
      "Iteration 15: norm_delta = 0.01026, step_size = 0.1235, ll = -1679756.40046, newton_decrement = 511.98228, seconds_since_start = 3.9\n",
      "Iteration 16: norm_delta = 0.01074, step_size = 0.1482, ll = -1679637.77446, newton_decrement = 390.55802, seconds_since_start = 4.2\n",
      "Iteration 17: norm_delta = 0.00892, step_size = 0.1452, ll = -1679530.61696, newton_decrement = 281.24157, seconds_since_start = 4.4\n",
      "Iteration 18: norm_delta = 0.00744, step_size = 0.1423, ll = -1679454.87225, newton_decrement = 204.21287, seconds_since_start = 4.6\n",
      "Iteration 19: norm_delta = 0.00763, step_size = 0.1708, ll = -1679400.88717, newton_decrement = 149.45320, seconds_since_start = 4.8\n",
      "Iteration 20: norm_delta = 0.00617, step_size = 0.1674, ll = -1679354.20403, newton_decrement = 102.20928, seconds_since_start = 5.0\n",
      "Iteration 21: norm_delta = 0.00502, step_size = 0.1640, ll = -1679322.85707, newton_decrement = 70.55266, seconds_since_start = 5.2\n",
      "Iteration 22: norm_delta = 0.00503, step_size = 0.1968, ll = -1679301.61249, newton_decrement = 49.13448, seconds_since_start = 5.4\n",
      "Iteration 23: norm_delta = 0.00395, step_size = 0.1929, ll = -1679284.17572, newton_decrement = 31.58144, seconds_since_start = 5.7\n",
      "Iteration 24: norm_delta = 0.00311, step_size = 0.1890, ll = -1679273.16799, newton_decrement = 20.51512, seconds_since_start = 5.9\n",
      "Iteration 25: norm_delta = 0.00303, step_size = 0.2268, ll = -1679266.14531, newton_decrement = 13.46243, seconds_since_start = 6.1\n",
      "Iteration 26: norm_delta = 0.00280, step_size = 0.2722, ll = -1679260.73068, newton_decrement = 8.02954, seconds_since_start = 6.3\n",
      "Iteration 27: norm_delta = 0.00244, step_size = 0.3266, ll = -1679256.95441, newton_decrement = 4.24378, seconds_since_start = 6.5\n",
      "Iteration 28: norm_delta = 0.00197, step_size = 0.3920, ll = -1679254.63483, newton_decrement = 1.92018, seconds_since_start = 6.7\n",
      "Iteration 29: norm_delta = 0.00144, step_size = 0.4704, ll = -1679253.42451, newton_decrement = 0.70857, seconds_since_start = 6.9\n",
      "Iteration 30: norm_delta = 0.00091, step_size = 0.5644, ll = -1679252.91464, newton_decrement = 0.19846, seconds_since_start = 7.1\n",
      "Iteration 31: norm_delta = 0.00048, step_size = 0.6773, ll = -1679252.75379, newton_decrement = 0.03760, seconds_since_start = 7.3\n",
      "Iteration 32: norm_delta = 0.00018, step_size = 0.8128, ll = -1679252.72006, newton_decrement = 0.00391, seconds_since_start = 7.5\n",
      "Iteration 33: norm_delta = 0.00004, step_size = 0.9754, ll = -1679252.71628, newton_decrement = 0.00014, seconds_since_start = 7.7\n",
      "Iteration 34: norm_delta = 0.00000, step_size = 1.0000, ll = -1679252.71614, newton_decrement = 0.00000, seconds_since_start = 7.9\n",
      "Convergence completed after 34 iterations.\n"
     ]
    },
    {
     "data": {
      "text/plain": [
       "<lifelines.CoxPHFitter: fitted with 150223 observations, 148257 censored>"
      ]
     },
     "execution_count": 68,
     "metadata": {},
     "output_type": "execute_result"
    }
   ],
   "source": [
    "cph = CoxPHFitter(penalizer=0.2)\n",
    "cph.fit(X_train_cph, duration_col='t', event_col='s', weights_col='w', step_size=0.070, show_progress=True, robust=False)"
   ]
  },
  {
   "cell_type": "code",
   "execution_count": 69,
   "metadata": {},
   "outputs": [
    {
     "name": "stdout",
     "output_type": "stream",
     "text": [
      "<lifelines.CoxPHFitter: fitted with 150223 observations, 148257 censored>\n",
      "      duration col = 't'\n",
      "         event col = 's'\n",
      "       weights col = 'w'\n",
      "         penalizer = 0.2\n",
      "number of subjects = 150223\n",
      "  number of events = 1966\n",
      "    log-likelihood = -1679252.72\n",
      "  time fit was run = 2019-04-09 03:06:48 UTC\n",
      "\n",
      "---\n",
      "                  coef  exp(coef)  se(coef)      z      p  -log2(p)  lower 0.95  upper 0.95\n",
      "HR                0.24       1.27      0.00  88.56 <0.005       inf        0.23        0.24\n",
      "O2Sat            -0.00       1.00      0.00  -1.72   0.09      3.54       -0.01        0.00\n",
      "Temp              0.10       1.11      0.00  27.51 <0.005    551.20        0.09        0.11\n",
      "SBP              -0.08       0.93      0.01 -15.17 <0.005    170.26       -0.09       -0.07\n",
      "MAP               0.09       1.09      0.01  10.63 <0.005     85.19        0.07        0.11\n",
      "DBP              -0.22       0.80      0.01 -34.45 <0.005    861.46       -0.24       -0.21\n",
      "Resp              0.04       1.05      0.00  17.23 <0.005    218.62        0.04        0.05\n",
      "EtCO2             0.05       1.05      0.01   7.41 <0.005     42.81        0.04        0.07\n",
      "BaseExcess        0.24       1.27      0.04   6.50 <0.005     33.53        0.17        0.31\n",
      "HCO3              0.41       1.51      0.05   7.56 <0.005     44.49        0.30        0.52\n",
      "FiO2              0.10       1.10      0.01   8.80 <0.005     59.39        0.07        0.12\n",
      "pH                0.23       1.25      0.01  15.01 <0.005    166.81        0.20        0.25\n",
      "PaCO2             0.16       1.18      0.01  12.33 <0.005    113.60        0.14        0.19\n",
      "SaO2             -0.03       0.97      0.01  -2.35   0.02      5.75       -0.05       -0.00\n",
      "AST               0.06       1.07      0.01   7.05 <0.005     38.99        0.05        0.08\n",
      "BUN               0.16       1.17      0.01  15.26 <0.005    172.21        0.14        0.18\n",
      "Alkalinephos     -0.02       0.98      0.02  -1.14   0.25      1.97       -0.06        0.02\n",
      "Calcium          -0.25       0.78      0.01 -35.86 <0.005    933.10       -0.26       -0.24\n",
      "Chloride          0.25       1.29      0.02  14.08 <0.005    147.07        0.22        0.29\n",
      "Creatinine        0.07       1.07      0.01   6.11 <0.005     29.92        0.05        0.09\n",
      "Bilirubin_direct  0.18       1.20      0.05   4.02 <0.005     14.07        0.09        0.27\n",
      "Glucose           0.03       1.03      0.00   6.58 <0.005     34.27        0.02        0.04\n",
      "Lactate           0.13       1.14      0.01  10.21 <0.005     78.86        0.11        0.16\n",
      "Magnesium         0.12       1.12      0.01  11.71 <0.005    102.80        0.10        0.14\n",
      "Phosphate        -0.08       0.92      0.02  -5.32 <0.005     23.23       -0.11       -0.05\n",
      "Potassium        -0.01       0.99      0.01  -1.44   0.15      2.75       -0.03        0.00\n",
      "Bilirubin_total   0.03       1.03      0.02   1.20   0.23      2.11       -0.02        0.08\n",
      "TroponinI         0.08       1.09      0.01   8.65 <0.005     57.49        0.06        0.10\n",
      "Hct               0.01       1.01      0.03   0.16   0.88      0.19       -0.06        0.07\n",
      "Hgb              -0.03       0.97      0.03  -0.79   0.43      1.22       -0.09        0.04\n",
      "PTT              -0.37       0.69      0.04  -9.05 <0.005     62.54       -0.45       -0.29\n",
      "WBC               0.12       1.13      0.00  29.43 <0.005    630.12        0.11        0.13\n",
      "Fibrinogen        0.14       1.15      0.02   7.43 <0.005     43.04        0.10        0.17\n",
      "Platelets        -0.03       0.97      0.01  -2.40   0.02      5.94       -0.05       -0.00\n",
      "Age              -0.00       1.00      0.00  -0.66   0.51      0.97       -0.01        0.00\n",
      "Gender            0.05       1.05      0.01   8.70 <0.005     58.04        0.04        0.06\n",
      "---\n",
      "Concordance = 0.64\n",
      "Log-likelihood ratio test = 18923.24 on 36 df, -log2(p)=inf\n"
     ]
    }
   ],
   "source": [
    "#cph.check_assumptions(X_train_cph,show_plots=False,plot_n_bootstraps=0)\n",
    "cph.print_summary()"
   ]
  },
  {
   "cell_type": "code",
   "execution_count": 117,
   "metadata": {},
   "outputs": [],
   "source": [
    "def get_metrics(ty, py, threshold=0.5):\n",
    "    print('-'*20)\n",
    "    auc = roc_auc_score(ty, py)\n",
    "    print(f\"AUC = {auc}\")\n",
    "    lst = [1 if i >=0.5 else 0 for i in py]\n",
    "    acc = ((lst == ty).sum() / ty.shape[0]) * 100\n",
    "    print(f\"Accuracy = {acc}\")\n",
    "    c_m = confusion_matrix(ty, np.array(py > threshold).astype(int))\n",
    "    print(c_m)\n",
    "    PPV = c_m[1,1] / (c_m[1,1] + c_m[0,1])\n",
    "    print(f\"PPV/Precision = {PPV}\")\n",
    "    TPR = c_m[1,1] / c_m[1].sum()\n",
    "    print(f\"TPR/Sensitivity/Recall = {TPR}\")\n",
    "    TNR = c_m[0,0] / c_m[0].sum()\n",
    "    print(f\"TNR/Specificity = {TNR}\")\n",
    "    print('-'*20)"
   ]
  },
  {
   "cell_type": "code",
   "execution_count": 116,
   "metadata": {},
   "outputs": [],
   "source": [
    "def evaluate(df: pd.DataFrame, ty, columns, threshold=0.5):\n",
    "    cph_df = pd.DataFrame(df.x.values.tolist(), columns=columns)\n",
    "    \n",
    "    preds = 1-cph.predict_survival_function(cph_df,times=[6])\n",
    "    \n",
    "    get_metrics(ty, preds, threshold=threshold)"
   ]
  },
  {
   "cell_type": "code",
   "execution_count": 119,
   "metadata": {},
   "outputs": [
    {
     "name": "stdout",
     "output_type": "stream",
     "text": [
      "Train:\n",
      "--------------------\n",
      "AUC = 0.6387214747953789\n",
      "Accuracy = 79.33205967128868\n",
      "[[118348  29675]\n",
      " [  1373    827]]\n",
      "PPV/Precision = 0.02711297619828208\n",
      "TPR/Sensitivity/Recall = 0.3759090909090909\n",
      "TNR/Specificity = 0.7995243982354093\n",
      "--------------------\n",
      "Val:\n",
      "--------------------\n",
      "AUC = 0.6063689287216147\n",
      "Accuracy = 79.23076923076923\n",
      "[[15166  3858]\n",
      " [  138    78]]\n",
      "PPV/Precision = 0.019817073170731708\n",
      "TPR/Sensitivity/Recall = 0.3611111111111111\n",
      "TNR/Specificity = 0.7972035323801514\n",
      "--------------------\n",
      "Test:\n",
      "--------------------\n",
      "AUC = 0.5460201317822341\n",
      "Accuracy = 81.5376513954713\n",
      "[[15420  3363]\n",
      " [  143    64]]\n",
      "PPV/Precision = 0.018675226145316602\n",
      "TPR/Sensitivity/Recall = 0.30917874396135264\n",
      "TNR/Specificity = 0.8209551189905766\n",
      "--------------------\n"
     ]
    }
   ],
   "source": [
    "print(\"Train:\")\n",
    "evaluate(X_train, y_train, columns, threshold=0.5)\n",
    "print(\"Val:\")\n",
    "evaluate(X_val, y_val, columns, threshold=0.5)\n",
    "print(\"Test:\")\n",
    "evaluate(X_test, y_test, columns, threshold=0.5)"
   ]
  },
  {
   "cell_type": "raw",
   "metadata": {},
   "source": [
    "Mean Imputation:\n",
    "--------------------\n",
    "AUC = 0.6975819347308856\n",
    "[[30682  6691]\n",
    " [  380   271]]\n",
    "PPV/Precision = 0.0389255960930767\n",
    "TPR/Sensitivity/Recall = 0.4162826420890937\n",
    "TNR/Specificity = 0.820967008268001"
   ]
  },
  {
   "cell_type": "raw",
   "metadata": {},
   "source": [
    "Forward Imputation:\n",
    "--------------------\n",
    "AUC = 0.6725981960102807\n",
    "[[30171  7331]\n",
    " [  259   222]]\n",
    "PPV/Precision = 0.029392294452535415\n",
    "TPR/Sensitivity/Recall = 0.46153846153846156\n",
    "TNR/Specificity = 0.8045170924217375"
   ]
  }
 ],
 "metadata": {
  "kernelspec": {
   "display_name": "Python 3",
   "language": "python",
   "name": "python3"
  },
  "language_info": {
   "codemirror_mode": {
    "name": "ipython",
    "version": 3
   },
   "file_extension": ".py",
   "mimetype": "text/x-python",
   "name": "python",
   "nbconvert_exporter": "python",
   "pygments_lexer": "ipython3",
   "version": "3.7.1"
  }
 },
 "nbformat": 4,
 "nbformat_minor": 2
}
