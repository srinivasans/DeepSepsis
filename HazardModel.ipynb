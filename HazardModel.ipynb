{
 "cells": [
  {
   "cell_type": "code",
   "execution_count": 6,
   "metadata": {},
   "outputs": [],
   "source": [
    "from IPython.core.interactiveshell import InteractiveShell\n",
    "InteractiveShell.ast_node_interactivity = \"all\""
   ]
  },
  {
   "cell_type": "code",
   "execution_count": 537,
   "metadata": {},
   "outputs": [],
   "source": [
    "import numpy as np\n",
    "import pandas as pd\n",
    "from sklearn.model_selection import train_test_split\n",
    "from sklearn.metrics import roc_auc_score\n",
    "from lifelines import CoxPHFitter"
   ]
  },
  {
   "cell_type": "code",
   "execution_count": 426,
   "metadata": {},
   "outputs": [],
   "source": [
    "patient_df = pd.read_csv('data/allpatients_imputed_df').drop(columns=['Unnamed: 0','Unit1','Unit2'])"
   ]
  },
  {
   "cell_type": "code",
   "execution_count": 427,
   "metadata": {
    "scrolled": true
   },
   "outputs": [
    {
     "data": {
      "text/html": [
       "<div>\n",
       "<style scoped>\n",
       "    .dataframe tbody tr th:only-of-type {\n",
       "        vertical-align: middle;\n",
       "    }\n",
       "\n",
       "    .dataframe tbody tr th {\n",
       "        vertical-align: top;\n",
       "    }\n",
       "\n",
       "    .dataframe thead th {\n",
       "        text-align: right;\n",
       "    }\n",
       "</style>\n",
       "<table border=\"1\" class=\"dataframe\">\n",
       "  <thead>\n",
       "    <tr style=\"text-align: right;\">\n",
       "      <th></th>\n",
       "      <th>pid</th>\n",
       "      <th>HR</th>\n",
       "      <th>O2Sat</th>\n",
       "      <th>Temp</th>\n",
       "      <th>SBP</th>\n",
       "      <th>MAP</th>\n",
       "      <th>DBP</th>\n",
       "      <th>Resp</th>\n",
       "      <th>EtCO2</th>\n",
       "      <th>BaseExcess</th>\n",
       "      <th>...</th>\n",
       "      <th>Hgb</th>\n",
       "      <th>PTT</th>\n",
       "      <th>WBC</th>\n",
       "      <th>Fibrinogen</th>\n",
       "      <th>Platelets</th>\n",
       "      <th>Age</th>\n",
       "      <th>Gender</th>\n",
       "      <th>HospAdmTime</th>\n",
       "      <th>ICULOS</th>\n",
       "      <th>SepsisLabel</th>\n",
       "    </tr>\n",
       "  </thead>\n",
       "  <tbody>\n",
       "    <tr>\n",
       "      <th>179972</th>\n",
       "      <td>p00001</td>\n",
       "      <td>93.0</td>\n",
       "      <td>92.5</td>\n",
       "      <td>36.5</td>\n",
       "      <td>110.0</td>\n",
       "      <td>76.0</td>\n",
       "      <td>56.0</td>\n",
       "      <td>22.0</td>\n",
       "      <td>33.517515</td>\n",
       "      <td>-3.160918</td>\n",
       "      <td>...</td>\n",
       "      <td>11.3</td>\n",
       "      <td>40.80889</td>\n",
       "      <td>10.8</td>\n",
       "      <td>296.932741</td>\n",
       "      <td>170.0</td>\n",
       "      <td>73</td>\n",
       "      <td>1</td>\n",
       "      <td>-214.64</td>\n",
       "      <td>1</td>\n",
       "      <td>0</td>\n",
       "    </tr>\n",
       "    <tr>\n",
       "      <th>179973</th>\n",
       "      <td>p00001</td>\n",
       "      <td>93.0</td>\n",
       "      <td>92.5</td>\n",
       "      <td>36.5</td>\n",
       "      <td>110.0</td>\n",
       "      <td>76.0</td>\n",
       "      <td>56.0</td>\n",
       "      <td>22.0</td>\n",
       "      <td>33.517515</td>\n",
       "      <td>-3.160918</td>\n",
       "      <td>...</td>\n",
       "      <td>11.3</td>\n",
       "      <td>40.80889</td>\n",
       "      <td>10.8</td>\n",
       "      <td>296.932741</td>\n",
       "      <td>170.0</td>\n",
       "      <td>73</td>\n",
       "      <td>1</td>\n",
       "      <td>-214.64</td>\n",
       "      <td>2</td>\n",
       "      <td>0</td>\n",
       "    </tr>\n",
       "    <tr>\n",
       "      <th>179974</th>\n",
       "      <td>p00001</td>\n",
       "      <td>91.0</td>\n",
       "      <td>96.0</td>\n",
       "      <td>36.5</td>\n",
       "      <td>108.0</td>\n",
       "      <td>84.5</td>\n",
       "      <td>72.0</td>\n",
       "      <td>23.5</td>\n",
       "      <td>33.517515</td>\n",
       "      <td>-3.160918</td>\n",
       "      <td>...</td>\n",
       "      <td>11.3</td>\n",
       "      <td>40.80889</td>\n",
       "      <td>10.8</td>\n",
       "      <td>296.932741</td>\n",
       "      <td>170.0</td>\n",
       "      <td>73</td>\n",
       "      <td>1</td>\n",
       "      <td>-214.64</td>\n",
       "      <td>3</td>\n",
       "      <td>0</td>\n",
       "    </tr>\n",
       "    <tr>\n",
       "      <th>179975</th>\n",
       "      <td>p00001</td>\n",
       "      <td>93.0</td>\n",
       "      <td>98.0</td>\n",
       "      <td>36.5</td>\n",
       "      <td>123.0</td>\n",
       "      <td>87.0</td>\n",
       "      <td>61.0</td>\n",
       "      <td>21.0</td>\n",
       "      <td>33.517515</td>\n",
       "      <td>-3.160918</td>\n",
       "      <td>...</td>\n",
       "      <td>11.3</td>\n",
       "      <td>40.80889</td>\n",
       "      <td>10.8</td>\n",
       "      <td>296.932741</td>\n",
       "      <td>170.0</td>\n",
       "      <td>73</td>\n",
       "      <td>1</td>\n",
       "      <td>-214.64</td>\n",
       "      <td>4</td>\n",
       "      <td>0</td>\n",
       "    </tr>\n",
       "    <tr>\n",
       "      <th>179976</th>\n",
       "      <td>p00001</td>\n",
       "      <td>93.0</td>\n",
       "      <td>95.0</td>\n",
       "      <td>36.5</td>\n",
       "      <td>110.0</td>\n",
       "      <td>81.0</td>\n",
       "      <td>70.0</td>\n",
       "      <td>20.0</td>\n",
       "      <td>33.517515</td>\n",
       "      <td>-3.160918</td>\n",
       "      <td>...</td>\n",
       "      <td>11.3</td>\n",
       "      <td>40.80889</td>\n",
       "      <td>10.8</td>\n",
       "      <td>296.932741</td>\n",
       "      <td>170.0</td>\n",
       "      <td>73</td>\n",
       "      <td>1</td>\n",
       "      <td>-214.64</td>\n",
       "      <td>5</td>\n",
       "      <td>0</td>\n",
       "    </tr>\n",
       "  </tbody>\n",
       "</table>\n",
       "<p>5 rows × 40 columns</p>\n",
       "</div>"
      ],
      "text/plain": [
       "           pid    HR  O2Sat  Temp    SBP   MAP   DBP  Resp      EtCO2  \\\n",
       "179972  p00001  93.0   92.5  36.5  110.0  76.0  56.0  22.0  33.517515   \n",
       "179973  p00001  93.0   92.5  36.5  110.0  76.0  56.0  22.0  33.517515   \n",
       "179974  p00001  91.0   96.0  36.5  108.0  84.5  72.0  23.5  33.517515   \n",
       "179975  p00001  93.0   98.0  36.5  123.0  87.0  61.0  21.0  33.517515   \n",
       "179976  p00001  93.0   95.0  36.5  110.0  81.0  70.0  20.0  33.517515   \n",
       "\n",
       "        BaseExcess  ...   Hgb       PTT   WBC  Fibrinogen  Platelets  Age  \\\n",
       "179972   -3.160918  ...  11.3  40.80889  10.8  296.932741      170.0   73   \n",
       "179973   -3.160918  ...  11.3  40.80889  10.8  296.932741      170.0   73   \n",
       "179974   -3.160918  ...  11.3  40.80889  10.8  296.932741      170.0   73   \n",
       "179975   -3.160918  ...  11.3  40.80889  10.8  296.932741      170.0   73   \n",
       "179976   -3.160918  ...  11.3  40.80889  10.8  296.932741      170.0   73   \n",
       "\n",
       "        Gender  HospAdmTime  ICULOS  SepsisLabel  \n",
       "179972       1      -214.64       1            0  \n",
       "179973       1      -214.64       2            0  \n",
       "179974       1      -214.64       3            0  \n",
       "179975       1      -214.64       4            0  \n",
       "179976       1      -214.64       5            0  \n",
       "\n",
       "[5 rows x 40 columns]"
      ]
     },
     "execution_count": 427,
     "metadata": {},
     "output_type": "execute_result"
    },
    {
     "data": {
      "text/plain": [
       "(188453, 40)"
      ]
     },
     "execution_count": 427,
     "metadata": {},
     "output_type": "execute_result"
    },
    {
     "data": {
      "text/plain": [
       "(2976,)"
      ]
     },
     "execution_count": 427,
     "metadata": {},
     "output_type": "execute_result"
    },
    {
     "data": {
      "text/plain": [
       "array([ 0.00000e+00, -3.10000e-01, -5.39000e+01, -4.91000e+00,\n",
       "       -5.00000e-02, -2.14600e+01, -1.32730e+02, -3.00470e+02,\n",
       "       -1.92270e+02, -3.04000e+01, -8.01000e+00, -5.28000e+00,\n",
       "       -2.43200e+01, -2.85800e+01, -4.91800e+01, -5.93740e+02,\n",
       "       -2.81780e+02, -4.28000e+00, -3.53000e+01, -9.93000e+00,\n",
       "       -1.20000e-01, -2.00000e-02, -5.63820e+02, -3.50260e+02,\n",
       "       -3.19850e+02, -9.21000e+00, -6.03400e+01, -5.27240e+02,\n",
       "       -2.47000e+00, -1.17172e+03, -7.52000e+00, -3.08740e+02,\n",
       "       -1.15000e+00, -3.00000e-02, -2.60000e+00, -7.00000e-02,\n",
       "       -2.52300e+01, -1.00000e-02, -7.76200e+01, -1.97780e+02,\n",
       "       -7.08400e+01, -7.29000e+00, -2.58200e+01, -3.31000e+00,\n",
       "       -2.66400e+01, -3.58800e+01, -9.75700e+01, -2.51100e+01,\n",
       "       -2.92000e+00, -2.34000e+00, -1.01100e+01, -1.10000e-01,\n",
       "       -1.19900e+01, -4.40000e-01, -9.07000e+00, -1.70000e-01,\n",
       "       -2.69600e+01, -3.64940e+02, -7.21200e+01, -4.95000e+00,\n",
       "       -2.91000e+00, -4.00000e-02, -8.00000e-02, -3.30000e+00,\n",
       "       -1.99000e+00, -3.40000e+01, -1.14000e+00, -1.11300e+01,\n",
       "       -1.51790e+02, -2.05000e+00, -8.75100e+01, -1.80000e-01,\n",
       "       -1.35000e+00, -1.78560e+02, -2.00410e+02, -1.97800e+01,\n",
       "       -2.38000e+00, -6.27180e+02, -2.98300e+01, -4.20000e-01,\n",
       "       -4.04600e+01, -1.80570e+02, -8.16600e+01, -9.00000e-02,\n",
       "       -2.85200e+01, -2.22000e+00, -1.90610e+02, -1.16900e+01,\n",
       "       -4.67400e+01, -8.39000e+00, -1.92770e+02, -3.64000e+00,\n",
       "       -3.02000e+00, -2.40900e+01, -1.52500e+02, -1.25120e+02,\n",
       "       -7.26000e+00, -1.82000e+00, -1.69410e+02, -2.27700e+02,\n",
       "       -1.15200e+01, -3.29100e+01, -1.05000e+00, -6.28300e+01,\n",
       "       -1.28725e+03, -8.12000e+00, -6.44000e+00, -1.01490e+02,\n",
       "       -6.85500e+01, -2.23560e+02, -2.73900e+01, -1.84770e+02,\n",
       "       -4.56000e+00, -6.50000e-01, -4.25000e+00, -1.09000e+00,\n",
       "       -5.81000e+00, -2.27000e+00, -2.03300e+01, -2.80010e+02,\n",
       "       -6.00000e-02, -3.43000e+00, -5.10000e-01, -9.61000e+00,\n",
       "       -7.81900e+01, -1.26000e+01, -4.19000e+00, -1.22000e+00,\n",
       "       -7.44300e+01, -8.44100e+01, -7.12400e+01, -4.52350e+02,\n",
       "       -3.98000e+00, -2.50000e-01, -1.00120e+02, -7.53000e+00,\n",
       "       -1.64500e+01, -1.55100e+01, -2.97330e+02, -1.05920e+02,\n",
       "       -4.21000e+00, -8.82200e+01, -9.20000e+01, -3.73300e+01,\n",
       "       -6.26000e+00, -2.39010e+02, -5.80000e+00, -4.30800e+01,\n",
       "       -8.36000e+00, -6.76000e+00, -6.72000e+00, -5.48900e+01,\n",
       "       -2.41000e+00, -1.98790e+02, -2.40200e+01, -2.52000e+00,\n",
       "       -1.64460e+02, -1.89000e+00, -5.39000e+00, -1.71030e+02,\n",
       "       -1.79500e+01, -1.16000e+00, -1.91930e+02, -4.00000e-01,\n",
       "       -4.03000e+00, -2.99040e+02, -2.53560e+02, -1.91600e+01,\n",
       "       -7.95000e+00, -9.01000e+00, -3.11400e+01, -2.76200e+01,\n",
       "       -3.03290e+02, -1.90000e+02, -2.59000e+00, -3.54000e+00,\n",
       "       -1.84410e+02, -2.66760e+02, -3.97000e+00, -3.28130e+02,\n",
       "       -4.47000e+00, -1.03080e+02, -3.35000e+01, -3.36000e+00,\n",
       "       -1.22310e+02, -8.27500e+01, -8.37900e+01, -6.19000e+00,\n",
       "       -3.93380e+02, -5.82150e+02, -1.34170e+02, -7.01800e+01,\n",
       "       -6.63300e+01, -5.94000e+00, -5.45000e+00, -2.40000e-01,\n",
       "       -9.26000e+00, -1.72270e+02, -1.08780e+02, -8.95600e+01,\n",
       "       -1.83000e+00])"
      ]
     },
     "execution_count": 427,
     "metadata": {},
     "output_type": "execute_result"
    }
   ],
   "source": [
    "patient_df[patient_df.pid==\"p00001\"].head()\n",
    "patient_df.shape\n",
    "patient_df.HospAdmTime.unique().shape\n",
    "patient_df[patient_df.SepsisLabel == 1].HospAdmTime.unique()"
   ]
  },
  {
   "cell_type": "code",
   "execution_count": 130,
   "metadata": {},
   "outputs": [],
   "source": [
    "#patient_df = patient_df.fillna(patient_df.mean()['HR':'Platelets'])"
   ]
  },
  {
   "cell_type": "code",
   "execution_count": 428,
   "metadata": {},
   "outputs": [
    {
     "data": {
      "text/plain": [
       "array([0], dtype=int64)"
      ]
     },
     "execution_count": 428,
     "metadata": {},
     "output_type": "execute_result"
    }
   ],
   "source": [
    "patient_df[patient_df.pid==\"p00001\"].SepsisLabel.unique()"
   ]
  },
  {
   "cell_type": "code",
   "execution_count": 429,
   "metadata": {},
   "outputs": [
    {
     "data": {
      "text/plain": [
       "(5000,)"
      ]
     },
     "execution_count": 429,
     "metadata": {},
     "output_type": "execute_result"
    }
   ],
   "source": [
    "patient_df.pid.unique().shape"
   ]
  },
  {
   "cell_type": "code",
   "execution_count": 437,
   "metadata": {},
   "outputs": [],
   "source": [
    "re_idx = patient_df.set_index([\"pid\",\"ICULOS\"])\n",
    "arr = re_idx.groupby(\"pid\").apply(lambda x: x.values).values\n",
    "\n",
    "train_raw, test_raw = train_test_split(arr, test_size=0.2)"
   ]
  },
  {
   "cell_type": "code",
   "execution_count": 438,
   "metadata": {},
   "outputs": [
    {
     "data": {
      "text/plain": [
       "(14, 38)"
      ]
     },
     "execution_count": 438,
     "metadata": {},
     "output_type": "execute_result"
    },
    {
     "data": {
      "text/plain": [
       "array([  74.5       ,  100.        ,   36.45      ,  110.5       ,\n",
       "         84.        ,   69.5       ,   16.        ,   18.5       ,\n",
       "         -3.16091766,   22.72753865,    0.8       ,    7.4       ,\n",
       "         40.        ,   96.5030266 ,  116.31360923,    8.        ,\n",
       "         91.34764342,    1.11      ,  105.        ,    0.86      ,\n",
       "          0.85336036,  131.        ,    1.47      ,    2.3       ,\n",
       "          4.1       ,    4.2       ,    1.44430028,    5.67129436,\n",
       "         25.7       ,    8.        ,   40.80889022,   14.3       ,\n",
       "        296.93274106,  316.        ,   50.        ,    1.        ,\n",
       "       -102.04      ,    0.        ])"
      ]
     },
     "execution_count": 438,
     "metadata": {},
     "output_type": "execute_result"
    }
   ],
   "source": [
    "train_raw[0].shape\n",
    "train_raw[0][0]"
   ]
  },
  {
   "cell_type": "code",
   "execution_count": 463,
   "metadata": {},
   "outputs": [],
   "source": [
    "# create windowing system here\n",
    "T = 6\n",
    "#idx = 10\n",
    "def process_data(df: pd.DataFrame, T: int) -> (pd.DataFrame, np.array):\n",
    "    processed = []\n",
    "    labels = []\n",
    "\n",
    "    for idx in range(df.shape[0]):\n",
    "        if df[idx][:,-1].sum() == 0:\n",
    "            processed.extend([[row,7,1] for row in df[idx][:,:-1]])\n",
    "        else:\n",
    "            sepsis_count = 0\n",
    "            for i in range(df[idx].shape[0]):\n",
    "                t = (T + 1) - sepsis_count\n",
    "                t = t if t >= 1 else 1\n",
    "                s = 1 if t > T else 0\n",
    "                processed.append([df[idx][i][:-1],t,s])\n",
    "                sepsis_count += 1 if df[idx][i][-1] == 1 else 0\n",
    "                \n",
    "        labels.extend(df[idx][:,-1].tolist())\n",
    "                \n",
    "    return (pd.DataFrame(processed, columns=[\"x\",\"t\",\"s\"]), np.array(labels))\n",
    "# Naive windowing:\n",
    "#             for i in range(df[idx].shape[0]):\n",
    "#                 window = df[idx][i:i+T]\n",
    "#                 matches = np.where(window[:,-1]==1)[0]\n",
    "#                 if matches.size > 0:\n",
    "#                     t = matches[0] + 1\n",
    "#                     s = 0\n",
    "#                 else:\n",
    "#                     t = T + 1\n",
    "#                     s = 1\n",
    "#                 processed.append([df[idx][i][:-1],t,s])\n",
    "\n",
    "# def test(df: pd.DataFrame, T: int) -> pd.DataFrame:\n",
    "#     processed = []\n",
    "\n",
    "#     #for idx in range(df.shape[0]):\n",
    "#     idx = 10\n",
    "#     if df[idx][:,-1].sum() == 0:\n",
    "#         processed.extend([[row,7,1] for row in df[idx][:,:-1]])\n",
    "#     else:\n",
    "#         sepsis_count = 0\n",
    "#         for i in range(df[idx].shape[0]):\n",
    "#             t = (T + 1) - sepsis_count\n",
    "#             t = t if t >= 1 else 1\n",
    "#             s = 1 if t > T else 0\n",
    "#             processed.append([df[idx][i][:-1],t,s])\n",
    "#             sepsis_count += 1 if df[idx][i][-1] == 1 else 0\n",
    "                \n",
    "#     return pd.DataFrame(processed, columns=[\"x\",\"t\",\"s\"])\n",
    "\n",
    "# np.array(train[idx][:,:-1]).shape\n",
    "# np.repeat([[7,1]],train[idx].shape[0],axis=0).shape\n",
    "# t_s = np.repeat([[7,1]],train[idx].shape[0],axis=0)\n",
    "# t_s\n",
    "# x_idx = train[idx][:,:-1].reshape(train[idx][:,:-1].shape[0],1,-1)\n",
    "# x_idx.shape\n",
    "# processed_idx = np.concatenate((x_idx,t_s),axis=1)\n",
    "# processed_idx.shape\n",
    "#if train[idx][:,-1].sum() == 0:\n",
    "# a = np.ones((4,1)) * 3\n",
    "# b = np.repeat([[7,1]],4,axis=0)    \n",
    "# a\n",
    "# b\n",
    "# np.hstack((a,b))\n",
    "#pd.DataFrame([[train[idx][i][:-1],t,s]], columns=[\"x\",\"t\",\"s\"])\n",
    "# for idx in range(4000):\n",
    "#     #window = train[idx][i:i+T]\n",
    "#     if train[idx][:,-1].sum() > 0:\n",
    "#         break"
   ]
  },
  {
   "cell_type": "code",
   "execution_count": 464,
   "metadata": {},
   "outputs": [],
   "source": [
    "X_train, y_train = process_data(train_raw, T)\n",
    "X_test, y_test = process_data(test_raw, T)"
   ]
  },
  {
   "cell_type": "code",
   "execution_count": 505,
   "metadata": {},
   "outputs": [],
   "source": [
    "inverse_s = 1-X_train.s\n",
    "X_train_cph = pd.DataFrame(X_train.x.values.tolist(), columns=patient_df.columns[1:-2])\n",
    "X_train_cph[\"s\"] = inverse_s\n",
    "X_train_cph[\"t\"] = X_train.t"
   ]
  },
  {
   "cell_type": "code",
   "execution_count": 545,
   "metadata": {},
   "outputs": [
    {
     "name": "stdout",
     "output_type": "stream",
     "text": [
      "Iteration 1: norm_delta = 0.07020, step_size = 0.0700, ll = -22136.64393, newton_decrement = 815.88643, seconds_since_start = 0.2\n",
      "Iteration 2: norm_delta = 0.06083, step_size = 0.0700, ll = -22026.57828, newton_decrement = 631.56230, seconds_since_start = 0.3\n",
      "Iteration 3: norm_delta = 0.05442, step_size = 0.0700, ll = -21941.32826, newton_decrement = 507.88660, seconds_since_start = 0.5\n",
      "Iteration 4: norm_delta = 0.05921, step_size = 0.0840, ll = -21872.75680, newton_decrement = 415.11991, seconds_since_start = 0.7\n",
      "Iteration 5: norm_delta = 0.05217, step_size = 0.0823, ll = -21805.99609, newton_decrement = 329.16898, seconds_since_start = 0.9\n",
      "Iteration 6: norm_delta = 0.04655, step_size = 0.0807, ll = -21754.06117, newton_decrement = 265.11201, seconds_since_start = 1.1\n",
      "Iteration 7: norm_delta = 0.05133, step_size = 0.0968, ll = -21713.02823, newton_decrement = 216.16327, seconds_since_start = 1.3\n",
      "Iteration 8: norm_delta = 0.04571, step_size = 0.0949, ll = -21673.22070, newton_decrement = 170.03447, seconds_since_start = 1.5\n",
      "Iteration 9: norm_delta = 0.04099, step_size = 0.0930, ll = -21642.49807, newton_decrement = 135.38390, seconds_since_start = 1.8\n",
      "Iteration 10: norm_delta = 0.04523, step_size = 0.1116, ll = -21618.49850, newton_decrement = 108.89534, seconds_since_start = 2.0\n",
      "Iteration 11: norm_delta = 0.04011, step_size = 0.1093, ll = -21595.56026, newton_decrement = 84.04642, seconds_since_start = 2.2\n",
      "Iteration 12: norm_delta = 0.03568, step_size = 0.1072, ll = -21578.18724, newton_decrement = 65.54291, seconds_since_start = 2.4\n",
      "Iteration 13: norm_delta = 0.03893, step_size = 0.1286, ll = -21564.89291, newton_decrement = 51.56756, seconds_since_start = 2.6\n",
      "Iteration 14: norm_delta = 0.03395, step_size = 0.1260, ll = -21552.48301, newton_decrement = 38.66230, seconds_since_start = 2.9\n",
      "Iteration 15: norm_delta = 0.02963, step_size = 0.1235, ll = -21543.35087, newton_decrement = 29.25475, seconds_since_start = 3.2\n",
      "Iteration 16: norm_delta = 0.03169, step_size = 0.1482, ll = -21536.56888, newton_decrement = 22.31660, seconds_since_start = 3.4\n",
      "Iteration 17: norm_delta = 0.02694, step_size = 0.1452, ll = -21530.44165, newton_decrement = 16.08282, seconds_since_start = 3.6\n",
      "Iteration 18: norm_delta = 0.02291, step_size = 0.1423, ll = -21526.10642, newton_decrement = 11.69284, seconds_since_start = 3.8\n",
      "Iteration 19: norm_delta = 0.02388, step_size = 0.1708, ll = -21523.01204, newton_decrement = 8.56999, seconds_since_start = 4.0\n",
      "Iteration 20: norm_delta = 0.01966, step_size = 0.1674, ll = -21520.33157, newton_decrement = 5.87216, seconds_since_start = 4.1\n",
      "Iteration 21: norm_delta = 0.01621, step_size = 0.1640, ll = -21518.52763, newton_decrement = 4.06081, seconds_since_start = 4.4\n",
      "Iteration 22: norm_delta = 0.01640, step_size = 0.1968, ll = -21517.30236, newton_decrement = 2.83271, seconds_since_start = 4.5\n",
      "Iteration 23: norm_delta = 0.01302, step_size = 0.1929, ll = -21516.29453, newton_decrement = 1.82414, seconds_since_start = 4.7\n",
      "Iteration 24: norm_delta = 0.01037, step_size = 0.1890, ll = -21515.65667, newton_decrement = 1.18681, seconds_since_start = 4.9\n",
      "Iteration 25: norm_delta = 0.01014, step_size = 0.2268, ll = -21515.24875, newton_decrement = 0.77982, seconds_since_start = 5.1\n",
      "Iteration 26: norm_delta = 0.00946, step_size = 0.2722, ll = -21514.93347, newton_decrement = 0.46575, seconds_since_start = 5.3\n",
      "Iteration 27: norm_delta = 0.00830, step_size = 0.3266, ll = -21514.71290, newton_decrement = 0.24651, seconds_since_start = 5.4\n",
      "Iteration 28: norm_delta = 0.00674, step_size = 0.3920, ll = -21514.57680, newton_decrement = 0.11169, seconds_since_start = 5.6\n",
      "Iteration 29: norm_delta = 0.00494, step_size = 0.4704, ll = -21514.50529, newton_decrement = 0.04127, seconds_since_start = 5.8\n",
      "Iteration 30: norm_delta = 0.00315, step_size = 0.5644, ll = -21514.47478, newton_decrement = 0.01157, seconds_since_start = 6.0\n",
      "Iteration 31: norm_delta = 0.00165, step_size = 0.6773, ll = -21514.46488, newton_decrement = 0.00219, seconds_since_start = 6.1\n",
      "Iteration 32: norm_delta = 0.00064, step_size = 0.8128, ll = -21514.46264, newton_decrement = 0.00023, seconds_since_start = 6.3\n",
      "Iteration 33: norm_delta = 0.00014, step_size = 0.9754, ll = -21514.46231, newton_decrement = 0.00001, seconds_since_start = 6.5\n",
      "Iteration 34: norm_delta = 0.00000, step_size = 1.0000, ll = -21514.46228, newton_decrement = 0.00000, seconds_since_start = 6.7\n",
      "Convergence completed after 34 iterations.\n"
     ]
    },
    {
     "data": {
      "text/plain": [
       "<lifelines.CoxPHFitter: fitted with 151268 observations, 149411 censored>"
      ]
     },
     "execution_count": 545,
     "metadata": {},
     "output_type": "execute_result"
    }
   ],
   "source": [
    "cph = CoxPHFitter(penalizer=0.2)\n",
    "cph.fit(X_train_cph, duration_col='t', event_col='s', step_size=0.070, show_progress=True, robust=False)"
   ]
  },
  {
   "cell_type": "code",
   "execution_count": 527,
   "metadata": {
    "collapsed": true
   },
   "outputs": [
    {
     "name": "stdout",
     "output_type": "stream",
     "text": [
      "<lifelines.CoxPHFitter: fitted with 151268 observations, 149411 censored>\n",
      "      duration col = 't'\n",
      "         event col = 's'\n",
      "number of subjects = 151268\n",
      "  number of events = 1857\n",
      "    log-likelihood = -21514.46\n",
      "  time fit was run = 2019-03-19 22:20:15 UTC\n",
      "\n",
      "---\n",
      "                  coef  exp(coef)  se(coef)      z      p  -log2(p)  lower 0.95  upper 0.95\n",
      "HR                0.01       1.01      0.00   9.85 <0.005     73.68        0.01        0.02\n",
      "O2Sat            -0.01       0.99      0.01  -1.81   0.07      3.85       -0.02        0.00\n",
      "Temp              0.34       1.40      0.03  10.11 <0.005     77.37        0.27        0.40\n",
      "SBP              -0.00       1.00      0.00  -0.59   0.56      0.84       -0.00        0.00\n",
      "MAP               0.00       1.00      0.00   0.02   0.98      0.02       -0.01        0.01\n",
      "DBP              -0.01       0.99      0.00  -1.58   0.11      3.13       -0.01        0.00\n",
      "Resp              0.01       1.01      0.00   1.49   0.14      2.88       -0.00        0.01\n",
      "EtCO2             0.00       1.00      0.00   0.28   0.78      0.36       -0.01        0.01\n",
      "BaseExcess       -0.01       0.99      0.03  -0.28   0.78      0.35       -0.07        0.05\n",
      "HCO3              0.13       1.14      0.04   3.16 <0.005      9.33        0.05        0.21\n",
      "FiO2              0.91       2.47      0.15   6.17 <0.005     30.42        0.62        1.19\n",
      "pH               -0.46       0.63      0.53  -0.88   0.38      1.40       -1.49        0.57\n",
      "PaCO2            -0.02       0.98      0.00  -4.08 <0.005     14.44       -0.03       -0.01\n",
      "SaO2             -0.03       0.97      0.01  -4.99 <0.005     20.67       -0.05       -0.02\n",
      "AST               0.00       1.00      0.00   4.85 <0.005     19.62        0.00        0.00\n",
      "BUN               0.02       1.02      0.00  14.66 <0.005    159.32        0.02        0.02\n",
      "Alkalinephos     -0.00       1.00      0.00  -2.50   0.01      6.35       -0.00       -0.00\n",
      "Calcium          -0.10       0.90      0.01 -12.27 <0.005    112.47       -0.12       -0.09\n",
      "Chloride          0.01       1.01      0.01   1.06   0.29      1.79       -0.01        0.04\n",
      "Creatinine       -0.05       0.95      0.02  -2.72   0.01      7.25       -0.08       -0.01\n",
      "Bilirubin_direct -0.12       0.89      0.05  -2.24   0.03      5.31       -0.22       -0.01\n",
      "Glucose           0.00       1.00      0.00   2.97 <0.005      8.40        0.00        0.00\n",
      "Lactate          -0.02       0.98      0.02  -1.46   0.14      2.80       -0.06        0.01\n",
      "Magnesium         0.29       1.34      0.07   4.42 <0.005     16.64        0.16        0.43\n",
      "Phosphate        -0.16       0.86      0.02  -6.29 <0.005     31.54       -0.20       -0.11\n",
      "Potassium        -0.11       0.89      0.04  -2.57   0.01      6.61       -0.20       -0.03\n",
      "Bilirubin_total   0.03       1.03      0.01   2.18   0.03      5.10        0.00        0.05\n",
      "TroponinI         0.00       1.00      0.00   1.09   0.27      1.87       -0.00        0.00\n",
      "Hct               0.05       1.05      0.02   3.09 <0.005      8.97        0.02        0.08\n",
      "Hgb              -0.21       0.81      0.05  -4.27 <0.005     15.66       -0.31       -0.11\n",
      "PTT               0.00       1.00      0.00   0.97   0.33      1.59       -0.00        0.00\n",
      "WBC               0.01       1.01      0.00  11.15 <0.005     93.44        0.01        0.01\n",
      "Fibrinogen        0.00       1.00      0.00   3.39 <0.005     10.46        0.00        0.00\n",
      "Platelets        -0.00       1.00      0.00  -0.42   0.68      0.56       -0.00        0.00\n",
      "Age              -0.00       1.00      0.00  -0.53   0.60      0.74       -0.00        0.00\n",
      "Gender            0.10       1.10      0.05   1.98   0.05      4.39        0.00        0.20\n",
      "HospAdmTime       0.00       1.00      0.00   4.68 <0.005     18.44        0.00        0.00\n",
      "---\n",
      "Concordance = 0.71\n",
      "Log-likelihood ratio test = 1244.36 on 37 df, -log2(p)=785.57\n"
     ]
    }
   ],
   "source": [
    "#cph.check_assumptions(X_train_cph,show_plots=False,plot_n_bootstraps=0)\n",
    "cph.print_summary()"
   ]
  },
  {
   "cell_type": "code",
   "execution_count": 546,
   "metadata": {},
   "outputs": [],
   "source": [
    "train_preds = 1-cph.predict_survival_function(X_train_cph.drop(columns=[\"s\",\"t\"]),times=[6])"
   ]
  },
  {
   "cell_type": "code",
   "execution_count": 547,
   "metadata": {},
   "outputs": [
    {
     "data": {
      "text/plain": [
       "98.62099055980114"
      ]
     },
     "execution_count": 547,
     "metadata": {},
     "output_type": "execute_result"
    },
    {
     "data": {
      "text/plain": [
       "0.7081477014698752"
      ]
     },
     "execution_count": 547,
     "metadata": {},
     "output_type": "execute_result"
    }
   ],
   "source": [
    "lst = [1 if i >=0.5 else 0 for i in train_preds]\n",
    "((lst == y_train).sum() / y_train.shape[0]) * 100\n",
    "roc_auc_score(y_train, train_preds)"
   ]
  },
  {
   "cell_type": "code",
   "execution_count": 550,
   "metadata": {},
   "outputs": [],
   "source": [
    "train_preds2 = cph.predict_cumulative_hazard(X_train_cph.drop(columns=[\"s\",\"t\"]),times=[6])"
   ]
  },
  {
   "cell_type": "code",
   "execution_count": 551,
   "metadata": {},
   "outputs": [
    {
     "data": {
      "text/plain": [
       "98.61702408969512"
      ]
     },
     "execution_count": 551,
     "metadata": {},
     "output_type": "execute_result"
    },
    {
     "data": {
      "text/plain": [
       "0.7081477014698752"
      ]
     },
     "execution_count": 551,
     "metadata": {},
     "output_type": "execute_result"
    }
   ],
   "source": [
    "lst = [1 if i >=0.5 else 0 for i in train_preds2]\n",
    "((lst == y_train).sum() / y_train.shape[0]) * 100\n",
    "roc_auc_score(y_train, train_preds2)"
   ]
  },
  {
   "cell_type": "code",
   "execution_count": 553,
   "metadata": {},
   "outputs": [
    {
     "data": {
      "text/plain": [
       "98.6262791866092"
      ]
     },
     "execution_count": 553,
     "metadata": {},
     "output_type": "execute_result"
    },
    {
     "data": {
      "text/plain": [
       "0.7081477014698752"
      ]
     },
     "execution_count": 553,
     "metadata": {},
     "output_type": "execute_result"
    }
   ],
   "source": [
    "train_preds3 = cph.predict_partial_hazard(X_train_cph.drop(columns=[\"s\",\"t\"]))\n",
    "lst = [1 if i >=0.5 else 0 for i in train_preds3]\n",
    "((lst == y_train).sum() / y_train.shape[0]) * 100\n",
    "roc_auc_score(y_train, train_preds3)"
   ]
  },
  {
   "cell_type": "code",
   "execution_count": 554,
   "metadata": {},
   "outputs": [],
   "source": [
    "X_test_cph = pd.DataFrame(X_test.x.values.tolist(), columns=patient_df.columns[1:-2])"
   ]
  },
  {
   "cell_type": "code",
   "execution_count": 556,
   "metadata": {},
   "outputs": [
    {
     "data": {
      "text/plain": [
       "98.52359822509075"
      ]
     },
     "execution_count": 556,
     "metadata": {},
     "output_type": "execute_result"
    },
    {
     "data": {
      "text/plain": [
       "0.714693071191058"
      ]
     },
     "execution_count": 556,
     "metadata": {},
     "output_type": "execute_result"
    }
   ],
   "source": [
    "test_preds = 1-cph.predict_survival_function(X_test_cph,times=[6])\n",
    "lst = [1 if i >=0.5 else 0 for i in test_preds]\n",
    "((lst == y_test).sum() / y_test.shape[0]) * 100\n",
    "roc_auc_score(y_test, test_preds)"
   ]
  },
  {
   "cell_type": "code",
   "execution_count": 445,
   "metadata": {},
   "outputs": [],
   "source": [
    "# test simple cphfitter from lifelines\n",
    "\n",
    "# implement actual cox-weibull from \"scratch\"?"
   ]
  }
 ],
 "metadata": {
  "kernelspec": {
   "display_name": "Python 3",
   "language": "python",
   "name": "python3"
  },
  "language_info": {
   "codemirror_mode": {
    "name": "ipython",
    "version": 3
   },
   "file_extension": ".py",
   "mimetype": "text/x-python",
   "name": "python",
   "nbconvert_exporter": "python",
   "pygments_lexer": "ipython3",
   "version": "3.7.1"
  }
 },
 "nbformat": 4,
 "nbformat_minor": 2
}
