{
 "cells": [
  {
   "cell_type": "code",
   "execution_count": 6,
   "metadata": {},
   "outputs": [],
   "source": [
    "from IPython.core.interactiveshell import InteractiveShell\n",
    "InteractiveShell.ast_node_interactivity = \"all\""
   ]
  },
  {
   "cell_type": "code",
   "execution_count": 83,
   "metadata": {},
   "outputs": [],
   "source": [
    "import numpy as np\n",
    "import pandas as pd\n",
    "from sklearn.model_selection import train_test_split"
   ]
  },
  {
   "cell_type": "code",
   "execution_count": 426,
   "metadata": {},
   "outputs": [],
   "source": [
    "patient_df = pd.read_csv('data/allpatients_imputed_df').drop(columns=['Unnamed: 0','Unit1','Unit2'])"
   ]
  },
  {
   "cell_type": "code",
   "execution_count": 427,
   "metadata": {
    "scrolled": true
   },
   "outputs": [
    {
     "data": {
      "text/html": [
       "<div>\n",
       "<style scoped>\n",
       "    .dataframe tbody tr th:only-of-type {\n",
       "        vertical-align: middle;\n",
       "    }\n",
       "\n",
       "    .dataframe tbody tr th {\n",
       "        vertical-align: top;\n",
       "    }\n",
       "\n",
       "    .dataframe thead th {\n",
       "        text-align: right;\n",
       "    }\n",
       "</style>\n",
       "<table border=\"1\" class=\"dataframe\">\n",
       "  <thead>\n",
       "    <tr style=\"text-align: right;\">\n",
       "      <th></th>\n",
       "      <th>pid</th>\n",
       "      <th>HR</th>\n",
       "      <th>O2Sat</th>\n",
       "      <th>Temp</th>\n",
       "      <th>SBP</th>\n",
       "      <th>MAP</th>\n",
       "      <th>DBP</th>\n",
       "      <th>Resp</th>\n",
       "      <th>EtCO2</th>\n",
       "      <th>BaseExcess</th>\n",
       "      <th>...</th>\n",
       "      <th>Hgb</th>\n",
       "      <th>PTT</th>\n",
       "      <th>WBC</th>\n",
       "      <th>Fibrinogen</th>\n",
       "      <th>Platelets</th>\n",
       "      <th>Age</th>\n",
       "      <th>Gender</th>\n",
       "      <th>HospAdmTime</th>\n",
       "      <th>ICULOS</th>\n",
       "      <th>SepsisLabel</th>\n",
       "    </tr>\n",
       "  </thead>\n",
       "  <tbody>\n",
       "    <tr>\n",
       "      <th>179972</th>\n",
       "      <td>p00001</td>\n",
       "      <td>93.0</td>\n",
       "      <td>92.5</td>\n",
       "      <td>36.5</td>\n",
       "      <td>110.0</td>\n",
       "      <td>76.0</td>\n",
       "      <td>56.0</td>\n",
       "      <td>22.0</td>\n",
       "      <td>33.517515</td>\n",
       "      <td>-3.160918</td>\n",
       "      <td>...</td>\n",
       "      <td>11.3</td>\n",
       "      <td>40.80889</td>\n",
       "      <td>10.8</td>\n",
       "      <td>296.932741</td>\n",
       "      <td>170.0</td>\n",
       "      <td>73</td>\n",
       "      <td>1</td>\n",
       "      <td>-214.64</td>\n",
       "      <td>1</td>\n",
       "      <td>0</td>\n",
       "    </tr>\n",
       "    <tr>\n",
       "      <th>179973</th>\n",
       "      <td>p00001</td>\n",
       "      <td>93.0</td>\n",
       "      <td>92.5</td>\n",
       "      <td>36.5</td>\n",
       "      <td>110.0</td>\n",
       "      <td>76.0</td>\n",
       "      <td>56.0</td>\n",
       "      <td>22.0</td>\n",
       "      <td>33.517515</td>\n",
       "      <td>-3.160918</td>\n",
       "      <td>...</td>\n",
       "      <td>11.3</td>\n",
       "      <td>40.80889</td>\n",
       "      <td>10.8</td>\n",
       "      <td>296.932741</td>\n",
       "      <td>170.0</td>\n",
       "      <td>73</td>\n",
       "      <td>1</td>\n",
       "      <td>-214.64</td>\n",
       "      <td>2</td>\n",
       "      <td>0</td>\n",
       "    </tr>\n",
       "    <tr>\n",
       "      <th>179974</th>\n",
       "      <td>p00001</td>\n",
       "      <td>91.0</td>\n",
       "      <td>96.0</td>\n",
       "      <td>36.5</td>\n",
       "      <td>108.0</td>\n",
       "      <td>84.5</td>\n",
       "      <td>72.0</td>\n",
       "      <td>23.5</td>\n",
       "      <td>33.517515</td>\n",
       "      <td>-3.160918</td>\n",
       "      <td>...</td>\n",
       "      <td>11.3</td>\n",
       "      <td>40.80889</td>\n",
       "      <td>10.8</td>\n",
       "      <td>296.932741</td>\n",
       "      <td>170.0</td>\n",
       "      <td>73</td>\n",
       "      <td>1</td>\n",
       "      <td>-214.64</td>\n",
       "      <td>3</td>\n",
       "      <td>0</td>\n",
       "    </tr>\n",
       "    <tr>\n",
       "      <th>179975</th>\n",
       "      <td>p00001</td>\n",
       "      <td>93.0</td>\n",
       "      <td>98.0</td>\n",
       "      <td>36.5</td>\n",
       "      <td>123.0</td>\n",
       "      <td>87.0</td>\n",
       "      <td>61.0</td>\n",
       "      <td>21.0</td>\n",
       "      <td>33.517515</td>\n",
       "      <td>-3.160918</td>\n",
       "      <td>...</td>\n",
       "      <td>11.3</td>\n",
       "      <td>40.80889</td>\n",
       "      <td>10.8</td>\n",
       "      <td>296.932741</td>\n",
       "      <td>170.0</td>\n",
       "      <td>73</td>\n",
       "      <td>1</td>\n",
       "      <td>-214.64</td>\n",
       "      <td>4</td>\n",
       "      <td>0</td>\n",
       "    </tr>\n",
       "    <tr>\n",
       "      <th>179976</th>\n",
       "      <td>p00001</td>\n",
       "      <td>93.0</td>\n",
       "      <td>95.0</td>\n",
       "      <td>36.5</td>\n",
       "      <td>110.0</td>\n",
       "      <td>81.0</td>\n",
       "      <td>70.0</td>\n",
       "      <td>20.0</td>\n",
       "      <td>33.517515</td>\n",
       "      <td>-3.160918</td>\n",
       "      <td>...</td>\n",
       "      <td>11.3</td>\n",
       "      <td>40.80889</td>\n",
       "      <td>10.8</td>\n",
       "      <td>296.932741</td>\n",
       "      <td>170.0</td>\n",
       "      <td>73</td>\n",
       "      <td>1</td>\n",
       "      <td>-214.64</td>\n",
       "      <td>5</td>\n",
       "      <td>0</td>\n",
       "    </tr>\n",
       "  </tbody>\n",
       "</table>\n",
       "<p>5 rows × 40 columns</p>\n",
       "</div>"
      ],
      "text/plain": [
       "           pid    HR  O2Sat  Temp    SBP   MAP   DBP  Resp      EtCO2  \\\n",
       "179972  p00001  93.0   92.5  36.5  110.0  76.0  56.0  22.0  33.517515   \n",
       "179973  p00001  93.0   92.5  36.5  110.0  76.0  56.0  22.0  33.517515   \n",
       "179974  p00001  91.0   96.0  36.5  108.0  84.5  72.0  23.5  33.517515   \n",
       "179975  p00001  93.0   98.0  36.5  123.0  87.0  61.0  21.0  33.517515   \n",
       "179976  p00001  93.0   95.0  36.5  110.0  81.0  70.0  20.0  33.517515   \n",
       "\n",
       "        BaseExcess  ...   Hgb       PTT   WBC  Fibrinogen  Platelets  Age  \\\n",
       "179972   -3.160918  ...  11.3  40.80889  10.8  296.932741      170.0   73   \n",
       "179973   -3.160918  ...  11.3  40.80889  10.8  296.932741      170.0   73   \n",
       "179974   -3.160918  ...  11.3  40.80889  10.8  296.932741      170.0   73   \n",
       "179975   -3.160918  ...  11.3  40.80889  10.8  296.932741      170.0   73   \n",
       "179976   -3.160918  ...  11.3  40.80889  10.8  296.932741      170.0   73   \n",
       "\n",
       "        Gender  HospAdmTime  ICULOS  SepsisLabel  \n",
       "179972       1      -214.64       1            0  \n",
       "179973       1      -214.64       2            0  \n",
       "179974       1      -214.64       3            0  \n",
       "179975       1      -214.64       4            0  \n",
       "179976       1      -214.64       5            0  \n",
       "\n",
       "[5 rows x 40 columns]"
      ]
     },
     "execution_count": 427,
     "metadata": {},
     "output_type": "execute_result"
    },
    {
     "data": {
      "text/plain": [
       "(188453, 40)"
      ]
     },
     "execution_count": 427,
     "metadata": {},
     "output_type": "execute_result"
    },
    {
     "data": {
      "text/plain": [
       "(2976,)"
      ]
     },
     "execution_count": 427,
     "metadata": {},
     "output_type": "execute_result"
    },
    {
     "data": {
      "text/plain": [
       "array([ 0.00000e+00, -3.10000e-01, -5.39000e+01, -4.91000e+00,\n",
       "       -5.00000e-02, -2.14600e+01, -1.32730e+02, -3.00470e+02,\n",
       "       -1.92270e+02, -3.04000e+01, -8.01000e+00, -5.28000e+00,\n",
       "       -2.43200e+01, -2.85800e+01, -4.91800e+01, -5.93740e+02,\n",
       "       -2.81780e+02, -4.28000e+00, -3.53000e+01, -9.93000e+00,\n",
       "       -1.20000e-01, -2.00000e-02, -5.63820e+02, -3.50260e+02,\n",
       "       -3.19850e+02, -9.21000e+00, -6.03400e+01, -5.27240e+02,\n",
       "       -2.47000e+00, -1.17172e+03, -7.52000e+00, -3.08740e+02,\n",
       "       -1.15000e+00, -3.00000e-02, -2.60000e+00, -7.00000e-02,\n",
       "       -2.52300e+01, -1.00000e-02, -7.76200e+01, -1.97780e+02,\n",
       "       -7.08400e+01, -7.29000e+00, -2.58200e+01, -3.31000e+00,\n",
       "       -2.66400e+01, -3.58800e+01, -9.75700e+01, -2.51100e+01,\n",
       "       -2.92000e+00, -2.34000e+00, -1.01100e+01, -1.10000e-01,\n",
       "       -1.19900e+01, -4.40000e-01, -9.07000e+00, -1.70000e-01,\n",
       "       -2.69600e+01, -3.64940e+02, -7.21200e+01, -4.95000e+00,\n",
       "       -2.91000e+00, -4.00000e-02, -8.00000e-02, -3.30000e+00,\n",
       "       -1.99000e+00, -3.40000e+01, -1.14000e+00, -1.11300e+01,\n",
       "       -1.51790e+02, -2.05000e+00, -8.75100e+01, -1.80000e-01,\n",
       "       -1.35000e+00, -1.78560e+02, -2.00410e+02, -1.97800e+01,\n",
       "       -2.38000e+00, -6.27180e+02, -2.98300e+01, -4.20000e-01,\n",
       "       -4.04600e+01, -1.80570e+02, -8.16600e+01, -9.00000e-02,\n",
       "       -2.85200e+01, -2.22000e+00, -1.90610e+02, -1.16900e+01,\n",
       "       -4.67400e+01, -8.39000e+00, -1.92770e+02, -3.64000e+00,\n",
       "       -3.02000e+00, -2.40900e+01, -1.52500e+02, -1.25120e+02,\n",
       "       -7.26000e+00, -1.82000e+00, -1.69410e+02, -2.27700e+02,\n",
       "       -1.15200e+01, -3.29100e+01, -1.05000e+00, -6.28300e+01,\n",
       "       -1.28725e+03, -8.12000e+00, -6.44000e+00, -1.01490e+02,\n",
       "       -6.85500e+01, -2.23560e+02, -2.73900e+01, -1.84770e+02,\n",
       "       -4.56000e+00, -6.50000e-01, -4.25000e+00, -1.09000e+00,\n",
       "       -5.81000e+00, -2.27000e+00, -2.03300e+01, -2.80010e+02,\n",
       "       -6.00000e-02, -3.43000e+00, -5.10000e-01, -9.61000e+00,\n",
       "       -7.81900e+01, -1.26000e+01, -4.19000e+00, -1.22000e+00,\n",
       "       -7.44300e+01, -8.44100e+01, -7.12400e+01, -4.52350e+02,\n",
       "       -3.98000e+00, -2.50000e-01, -1.00120e+02, -7.53000e+00,\n",
       "       -1.64500e+01, -1.55100e+01, -2.97330e+02, -1.05920e+02,\n",
       "       -4.21000e+00, -8.82200e+01, -9.20000e+01, -3.73300e+01,\n",
       "       -6.26000e+00, -2.39010e+02, -5.80000e+00, -4.30800e+01,\n",
       "       -8.36000e+00, -6.76000e+00, -6.72000e+00, -5.48900e+01,\n",
       "       -2.41000e+00, -1.98790e+02, -2.40200e+01, -2.52000e+00,\n",
       "       -1.64460e+02, -1.89000e+00, -5.39000e+00, -1.71030e+02,\n",
       "       -1.79500e+01, -1.16000e+00, -1.91930e+02, -4.00000e-01,\n",
       "       -4.03000e+00, -2.99040e+02, -2.53560e+02, -1.91600e+01,\n",
       "       -7.95000e+00, -9.01000e+00, -3.11400e+01, -2.76200e+01,\n",
       "       -3.03290e+02, -1.90000e+02, -2.59000e+00, -3.54000e+00,\n",
       "       -1.84410e+02, -2.66760e+02, -3.97000e+00, -3.28130e+02,\n",
       "       -4.47000e+00, -1.03080e+02, -3.35000e+01, -3.36000e+00,\n",
       "       -1.22310e+02, -8.27500e+01, -8.37900e+01, -6.19000e+00,\n",
       "       -3.93380e+02, -5.82150e+02, -1.34170e+02, -7.01800e+01,\n",
       "       -6.63300e+01, -5.94000e+00, -5.45000e+00, -2.40000e-01,\n",
       "       -9.26000e+00, -1.72270e+02, -1.08780e+02, -8.95600e+01,\n",
       "       -1.83000e+00])"
      ]
     },
     "execution_count": 427,
     "metadata": {},
     "output_type": "execute_result"
    }
   ],
   "source": [
    "patient_df[patient_df.pid==\"p00001\"].head()\n",
    "patient_df.shape\n",
    "patient_df.HospAdmTime.unique().shape\n",
    "patient_df[patient_df.SepsisLabel == 1].HospAdmTime.unique()"
   ]
  },
  {
   "cell_type": "code",
   "execution_count": 130,
   "metadata": {},
   "outputs": [],
   "source": [
    "#patient_df = patient_df.fillna(patient_df.mean()['HR':'Platelets'])"
   ]
  },
  {
   "cell_type": "code",
   "execution_count": 428,
   "metadata": {},
   "outputs": [
    {
     "data": {
      "text/plain": [
       "array([0], dtype=int64)"
      ]
     },
     "execution_count": 428,
     "metadata": {},
     "output_type": "execute_result"
    }
   ],
   "source": [
    "patient_df[patient_df.pid==\"p00001\"].SepsisLabel.unique()"
   ]
  },
  {
   "cell_type": "code",
   "execution_count": 429,
   "metadata": {},
   "outputs": [
    {
     "data": {
      "text/plain": [
       "(5000,)"
      ]
     },
     "execution_count": 429,
     "metadata": {},
     "output_type": "execute_result"
    }
   ],
   "source": [
    "patient_df.pid.unique().shape"
   ]
  },
  {
   "cell_type": "code",
   "execution_count": 437,
   "metadata": {},
   "outputs": [],
   "source": [
    "re_idx = patient_df.set_index([\"pid\",\"ICULOS\"])\n",
    "arr = re_idx.groupby(\"pid\").apply(lambda x: x.values).values\n",
    "\n",
    "train_raw, test_raw = train_test_split(arr, test_size=0.2)"
   ]
  },
  {
   "cell_type": "code",
   "execution_count": 438,
   "metadata": {},
   "outputs": [
    {
     "data": {
      "text/plain": [
       "(14, 38)"
      ]
     },
     "execution_count": 438,
     "metadata": {},
     "output_type": "execute_result"
    },
    {
     "data": {
      "text/plain": [
       "array([  74.5       ,  100.        ,   36.45      ,  110.5       ,\n",
       "         84.        ,   69.5       ,   16.        ,   18.5       ,\n",
       "         -3.16091766,   22.72753865,    0.8       ,    7.4       ,\n",
       "         40.        ,   96.5030266 ,  116.31360923,    8.        ,\n",
       "         91.34764342,    1.11      ,  105.        ,    0.86      ,\n",
       "          0.85336036,  131.        ,    1.47      ,    2.3       ,\n",
       "          4.1       ,    4.2       ,    1.44430028,    5.67129436,\n",
       "         25.7       ,    8.        ,   40.80889022,   14.3       ,\n",
       "        296.93274106,  316.        ,   50.        ,    1.        ,\n",
       "       -102.04      ,    0.        ])"
      ]
     },
     "execution_count": 438,
     "metadata": {},
     "output_type": "execute_result"
    }
   ],
   "source": [
    "train_raw[0].shape\n",
    "train_raw[0][0]"
   ]
  },
  {
   "cell_type": "code",
   "execution_count": 463,
   "metadata": {},
   "outputs": [],
   "source": [
    "# create windowing system here\n",
    "T = 6\n",
    "#idx = 10\n",
    "def process_data(df: pd.DataFrame, T: int) -> (pd.DataFrame, np.array):\n",
    "    processed = []\n",
    "    labels = []\n",
    "\n",
    "    for idx in range(df.shape[0]):\n",
    "        if df[idx][:,-1].sum() == 0:\n",
    "            processed.extend([[row,7,1] for row in df[idx][:,:-1]])\n",
    "        else:\n",
    "            sepsis_count = 0\n",
    "            for i in range(df[idx].shape[0]):\n",
    "                t = (T + 1) - sepsis_count\n",
    "                t = t if t >= 1 else 1\n",
    "                s = 1 if t > T else 0\n",
    "                processed.append([df[idx][i][:-1],t,s])\n",
    "                sepsis_count += 1 if df[idx][i][-1] == 1 else 0\n",
    "                \n",
    "        labels.extend(df[idx][:,-1].tolist())\n",
    "                \n",
    "    return (pd.DataFrame(processed, columns=[\"x\",\"t\",\"s\"]), np.array(labels))\n",
    "# Naive windowing:\n",
    "#             for i in range(df[idx].shape[0]):\n",
    "#                 window = df[idx][i:i+T]\n",
    "#                 matches = np.where(window[:,-1]==1)[0]\n",
    "#                 if matches.size > 0:\n",
    "#                     t = matches[0] + 1\n",
    "#                     s = 0\n",
    "#                 else:\n",
    "#                     t = T + 1\n",
    "#                     s = 1\n",
    "#                 processed.append([df[idx][i][:-1],t,s])\n",
    "\n",
    "# def test(df: pd.DataFrame, T: int) -> pd.DataFrame:\n",
    "#     processed = []\n",
    "\n",
    "#     #for idx in range(df.shape[0]):\n",
    "#     idx = 10\n",
    "#     if df[idx][:,-1].sum() == 0:\n",
    "#         processed.extend([[row,7,1] for row in df[idx][:,:-1]])\n",
    "#     else:\n",
    "#         sepsis_count = 0\n",
    "#         for i in range(df[idx].shape[0]):\n",
    "#             t = (T + 1) - sepsis_count\n",
    "#             t = t if t >= 1 else 1\n",
    "#             s = 1 if t > T else 0\n",
    "#             processed.append([df[idx][i][:-1],t,s])\n",
    "#             sepsis_count += 1 if df[idx][i][-1] == 1 else 0\n",
    "                \n",
    "#     return pd.DataFrame(processed, columns=[\"x\",\"t\",\"s\"])\n",
    "\n",
    "# np.array(train[idx][:,:-1]).shape\n",
    "# np.repeat([[7,1]],train[idx].shape[0],axis=0).shape\n",
    "# t_s = np.repeat([[7,1]],train[idx].shape[0],axis=0)\n",
    "# t_s\n",
    "# x_idx = train[idx][:,:-1].reshape(train[idx][:,:-1].shape[0],1,-1)\n",
    "# x_idx.shape\n",
    "# processed_idx = np.concatenate((x_idx,t_s),axis=1)\n",
    "# processed_idx.shape\n",
    "#if train[idx][:,-1].sum() == 0:\n",
    "# a = np.ones((4,1)) * 3\n",
    "# b = np.repeat([[7,1]],4,axis=0)    \n",
    "# a\n",
    "# b\n",
    "# np.hstack((a,b))\n",
    "#pd.DataFrame([[train[idx][i][:-1],t,s]], columns=[\"x\",\"t\",\"s\"])\n",
    "# for idx in range(4000):\n",
    "#     #window = train[idx][i:i+T]\n",
    "#     if train[idx][:,-1].sum() > 0:\n",
    "#         break"
   ]
  },
  {
   "cell_type": "code",
   "execution_count": 464,
   "metadata": {},
   "outputs": [],
   "source": [
    "X_train, y_train = process_data(train_raw, T)\n",
    "X_test, y_test = process_data(test_raw, T)"
   ]
  },
  {
   "cell_type": "code",
   "execution_count": 469,
   "metadata": {},
   "outputs": [
    {
     "data": {
      "text/plain": [
       "(151268, 3)"
      ]
     },
     "execution_count": 469,
     "metadata": {},
     "output_type": "execute_result"
    },
    {
     "data": {
      "text/plain": [
       "(151268,)"
      ]
     },
     "execution_count": 469,
     "metadata": {},
     "output_type": "execute_result"
    },
    {
     "data": {
      "text/plain": [
       "(37185, 3)"
      ]
     },
     "execution_count": 469,
     "metadata": {},
     "output_type": "execute_result"
    },
    {
     "data": {
      "text/plain": [
       "(37185,)"
      ]
     },
     "execution_count": 469,
     "metadata": {},
     "output_type": "execute_result"
    }
   ],
   "source": [
    "X_train.shape\n",
    "y_train.shape\n",
    "X_test.shape\n",
    "y_test.shape"
   ]
  },
  {
   "cell_type": "code",
   "execution_count": 444,
   "metadata": {},
   "outputs": [
    {
     "data": {
      "text/html": [
       "<div>\n",
       "<style scoped>\n",
       "    .dataframe tbody tr th:only-of-type {\n",
       "        vertical-align: middle;\n",
       "    }\n",
       "\n",
       "    .dataframe tbody tr th {\n",
       "        vertical-align: top;\n",
       "    }\n",
       "\n",
       "    .dataframe thead th {\n",
       "        text-align: right;\n",
       "    }\n",
       "</style>\n",
       "<table border=\"1\" class=\"dataframe\">\n",
       "  <thead>\n",
       "    <tr style=\"text-align: right;\">\n",
       "      <th></th>\n",
       "      <th>x</th>\n",
       "      <th>t</th>\n",
       "      <th>s</th>\n",
       "    </tr>\n",
       "  </thead>\n",
       "  <tbody>\n",
       "    <tr>\n",
       "      <th>0</th>\n",
       "      <td>[74.5, 100.0, 36.45, 110.5, 84.0, 69.5, 16.0, ...</td>\n",
       "      <td>7</td>\n",
       "      <td>1</td>\n",
       "    </tr>\n",
       "    <tr>\n",
       "      <th>1</th>\n",
       "      <td>[74.5, 100.0, 36.45, 110.5, 84.0, 69.5, 16.0, ...</td>\n",
       "      <td>7</td>\n",
       "      <td>1</td>\n",
       "    </tr>\n",
       "    <tr>\n",
       "      <th>2</th>\n",
       "      <td>[81.0, 97.0, 36.8, 113.5, 88.5, 74.0, 18.0, 18...</td>\n",
       "      <td>7</td>\n",
       "      <td>1</td>\n",
       "    </tr>\n",
       "    <tr>\n",
       "      <th>3</th>\n",
       "      <td>[69.0, 100.0, 36.7, 103.0, 79.0, 66.0, 24.0, 1...</td>\n",
       "      <td>7</td>\n",
       "      <td>1</td>\n",
       "    </tr>\n",
       "    <tr>\n",
       "      <th>4</th>\n",
       "      <td>[67.0, 100.0, 36.7, 100.0, 77.0, 65.0, 24.0, 1...</td>\n",
       "      <td>7</td>\n",
       "      <td>1</td>\n",
       "    </tr>\n",
       "  </tbody>\n",
       "</table>\n",
       "</div>"
      ],
      "text/plain": [
       "                                                   x  t  s\n",
       "0  [74.5, 100.0, 36.45, 110.5, 84.0, 69.5, 16.0, ...  7  1\n",
       "1  [74.5, 100.0, 36.45, 110.5, 84.0, 69.5, 16.0, ...  7  1\n",
       "2  [81.0, 97.0, 36.8, 113.5, 88.5, 74.0, 18.0, 18...  7  1\n",
       "3  [69.0, 100.0, 36.7, 103.0, 79.0, 66.0, 24.0, 1...  7  1\n",
       "4  [67.0, 100.0, 36.7, 100.0, 77.0, 65.0, 24.0, 1...  7  1"
      ]
     },
     "execution_count": 444,
     "metadata": {},
     "output_type": "execute_result"
    }
   ],
   "source": [
    "train.head()"
   ]
  },
  {
   "cell_type": "code",
   "execution_count": 445,
   "metadata": {},
   "outputs": [],
   "source": [
    "# test simple cphfitter from lifelines\n",
    "\n",
    "# implement actual cox-weibull from \"scratch\"?"
   ]
  },
  {
   "cell_type": "code",
   "execution_count": 87,
   "metadata": {},
   "outputs": [
    {
     "data": {
      "text/html": [
       "<div>\n",
       "<style scoped>\n",
       "    .dataframe tbody tr th:only-of-type {\n",
       "        vertical-align: middle;\n",
       "    }\n",
       "\n",
       "    .dataframe tbody tr th {\n",
       "        vertical-align: top;\n",
       "    }\n",
       "\n",
       "    .dataframe thead th {\n",
       "        text-align: right;\n",
       "    }\n",
       "</style>\n",
       "<table border=\"1\" class=\"dataframe\">\n",
       "  <thead>\n",
       "    <tr style=\"text-align: right;\">\n",
       "      <th></th>\n",
       "      <th></th>\n",
       "      <th>b</th>\n",
       "      <th>c</th>\n",
       "    </tr>\n",
       "    <tr>\n",
       "      <th>id</th>\n",
       "      <th>los</th>\n",
       "      <th></th>\n",
       "      <th></th>\n",
       "    </tr>\n",
       "  </thead>\n",
       "  <tbody>\n",
       "    <tr>\n",
       "      <th rowspan=\"3\" valign=\"top\">12</th>\n",
       "      <th>1</th>\n",
       "      <td>1</td>\n",
       "      <td>1</td>\n",
       "    </tr>\n",
       "    <tr>\n",
       "      <th>2</th>\n",
       "      <td>2</td>\n",
       "      <td>2</td>\n",
       "    </tr>\n",
       "    <tr>\n",
       "      <th>3</th>\n",
       "      <td>2</td>\n",
       "      <td>2</td>\n",
       "    </tr>\n",
       "    <tr>\n",
       "      <th rowspan=\"2\" valign=\"top\">13</th>\n",
       "      <th>1</th>\n",
       "      <td>3</td>\n",
       "      <td>3</td>\n",
       "    </tr>\n",
       "    <tr>\n",
       "      <th>2</th>\n",
       "      <td>4</td>\n",
       "      <td>4</td>\n",
       "    </tr>\n",
       "    <tr>\n",
       "      <th rowspan=\"2\" valign=\"top\">14</th>\n",
       "      <th>1</th>\n",
       "      <td>5</td>\n",
       "      <td>5</td>\n",
       "    </tr>\n",
       "    <tr>\n",
       "      <th>2</th>\n",
       "      <td>6</td>\n",
       "      <td>6</td>\n",
       "    </tr>\n",
       "    <tr>\n",
       "      <th>15</th>\n",
       "      <th>1</th>\n",
       "      <td>5</td>\n",
       "      <td>5</td>\n",
       "    </tr>\n",
       "  </tbody>\n",
       "</table>\n",
       "</div>"
      ],
      "text/plain": [
       "        b  c\n",
       "id los      \n",
       "12 1    1  1\n",
       "   2    2  2\n",
       "   3    2  2\n",
       "13 1    3  3\n",
       "   2    4  4\n",
       "14 1    5  5\n",
       "   2    6  6\n",
       "15 1    5  5"
      ]
     },
     "execution_count": 87,
     "metadata": {},
     "output_type": "execute_result"
    },
    {
     "data": {
      "text/plain": [
       "array([array([[5, 5],\n",
       "       [6, 6]]),\n",
       "       array([[1, 1],\n",
       "       [2, 2],\n",
       "       [2, 2]]),\n",
       "       array([[3, 3],\n",
       "       [4, 4]])], dtype=object)"
      ]
     },
     "execution_count": 87,
     "metadata": {},
     "output_type": "execute_result"
    },
    {
     "data": {
      "text/plain": [
       "array([array([[5, 5]])], dtype=object)"
      ]
     },
     "execution_count": 87,
     "metadata": {},
     "output_type": "execute_result"
    }
   ],
   "source": [
    "df = pd.DataFrame(np.array([[12,1,1,1],[12,2,2,2],[12,3,2,2],[13,1,3,3],[13,2,4,4],[14,1,5,5],[14,2,6,6],[15,1,5,5]]), columns=[\"id\",\"los\",\"b\",\"c\"])\n",
    "df.set_index([\"id\",\"los\"], inplace=True)\n",
    "df\n",
    "arr = df.groupby(\"id\").apply(lambda x: x.values).values\n",
    "train, test = train_test_split(arr, test_size=0.2)\n",
    "train\n",
    "test"
   ]
  }
 ],
 "metadata": {
  "kernelspec": {
   "display_name": "Python 3",
   "language": "python",
   "name": "python3"
  },
  "language_info": {
   "codemirror_mode": {
    "name": "ipython",
    "version": 3
   },
   "file_extension": ".py",
   "mimetype": "text/x-python",
   "name": "python",
   "nbconvert_exporter": "python",
   "pygments_lexer": "ipython3",
   "version": "3.7.1"
  }
 },
 "nbformat": 4,
 "nbformat_minor": 2
}
