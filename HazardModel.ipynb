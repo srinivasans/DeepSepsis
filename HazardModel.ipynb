{
 "cells": [
  {
   "cell_type": "code",
   "execution_count": 2,
   "metadata": {},
   "outputs": [],
   "source": [
    "from IPython.core.interactiveshell import InteractiveShell\n",
    "InteractiveShell.ast_node_interactivity = \"all\""
   ]
  },
  {
   "cell_type": "code",
   "execution_count": 25,
   "metadata": {},
   "outputs": [],
   "source": [
    "import numpy as np\n",
    "import pandas as pd\n",
    "from sklearn.model_selection import train_test_split\n",
    "from sklearn.metrics import roc_auc_score, confusion_matrix\n",
    "from lifelines import CoxPHFitter\n",
    "from datautils.dataset import Dataset"
   ]
  },
  {
   "cell_type": "code",
   "execution_count": null,
   "metadata": {},
   "outputs": [],
   "source": [
    "# dataset = Dataset(\"data/sepsis_data\",\n",
    "#                     batchSize=100,\n",
    "#                     train_ratio=0.8,\n",
    "#                     normalize=True,\n",
    "#                     padding=False,\n",
    "#                     imputeForward=False)"
   ]
  },
  {
   "cell_type": "code",
   "execution_count": 61,
   "metadata": {},
   "outputs": [],
   "source": [
    "patient_df = pd.read_csv('data/temp_hazard/allpatients_forward_mean_imputed').drop(columns=['Unnamed: 0','Unit1','Unit2'])"
   ]
  },
  {
   "cell_type": "code",
   "execution_count": 62,
   "metadata": {},
   "outputs": [
    {
     "data": {
      "text/html": [
       "<div>\n",
       "<style scoped>\n",
       "    .dataframe tbody tr th:only-of-type {\n",
       "        vertical-align: middle;\n",
       "    }\n",
       "\n",
       "    .dataframe tbody tr th {\n",
       "        vertical-align: top;\n",
       "    }\n",
       "\n",
       "    .dataframe thead th {\n",
       "        text-align: right;\n",
       "    }\n",
       "</style>\n",
       "<table border=\"1\" class=\"dataframe\">\n",
       "  <thead>\n",
       "    <tr style=\"text-align: right;\">\n",
       "      <th></th>\n",
       "      <th>pid</th>\n",
       "      <th>HR</th>\n",
       "      <th>O2Sat</th>\n",
       "      <th>Temp</th>\n",
       "      <th>SBP</th>\n",
       "      <th>MAP</th>\n",
       "      <th>DBP</th>\n",
       "      <th>Resp</th>\n",
       "      <th>EtCO2</th>\n",
       "      <th>BaseExcess</th>\n",
       "      <th>...</th>\n",
       "      <th>Hgb</th>\n",
       "      <th>PTT</th>\n",
       "      <th>WBC</th>\n",
       "      <th>Fibrinogen</th>\n",
       "      <th>Platelets</th>\n",
       "      <th>Age</th>\n",
       "      <th>Gender</th>\n",
       "      <th>HospAdmTime</th>\n",
       "      <th>ICULOS</th>\n",
       "      <th>SepsisLabel</th>\n",
       "    </tr>\n",
       "  </thead>\n",
       "  <tbody>\n",
       "    <tr>\n",
       "      <th>179972</th>\n",
       "      <td>p00001</td>\n",
       "      <td>83.855364</td>\n",
       "      <td>97.046165</td>\n",
       "      <td>36.797649</td>\n",
       "      <td>126.552435</td>\n",
       "      <td>86.730349</td>\n",
       "      <td>66.634428</td>\n",
       "      <td>18.653171</td>\n",
       "      <td>33.481988</td>\n",
       "      <td>-3.757377</td>\n",
       "      <td>...</td>\n",
       "      <td>10.506372</td>\n",
       "      <td>40.006666</td>\n",
       "      <td>10.499074</td>\n",
       "      <td>291.835891</td>\n",
       "      <td>199.84959</td>\n",
       "      <td>73</td>\n",
       "      <td>1</td>\n",
       "      <td>-214.64</td>\n",
       "      <td>1</td>\n",
       "      <td>0</td>\n",
       "    </tr>\n",
       "    <tr>\n",
       "      <th>179973</th>\n",
       "      <td>p00001</td>\n",
       "      <td>93.000000</td>\n",
       "      <td>92.500000</td>\n",
       "      <td>36.797649</td>\n",
       "      <td>110.000000</td>\n",
       "      <td>76.000000</td>\n",
       "      <td>56.000000</td>\n",
       "      <td>22.000000</td>\n",
       "      <td>33.481988</td>\n",
       "      <td>-3.757377</td>\n",
       "      <td>...</td>\n",
       "      <td>10.506372</td>\n",
       "      <td>40.006666</td>\n",
       "      <td>10.499074</td>\n",
       "      <td>291.835891</td>\n",
       "      <td>199.84959</td>\n",
       "      <td>73</td>\n",
       "      <td>1</td>\n",
       "      <td>-214.64</td>\n",
       "      <td>2</td>\n",
       "      <td>0</td>\n",
       "    </tr>\n",
       "    <tr>\n",
       "      <th>179974</th>\n",
       "      <td>p00001</td>\n",
       "      <td>91.000000</td>\n",
       "      <td>96.000000</td>\n",
       "      <td>36.797649</td>\n",
       "      <td>108.000000</td>\n",
       "      <td>84.500000</td>\n",
       "      <td>72.000000</td>\n",
       "      <td>23.500000</td>\n",
       "      <td>33.481988</td>\n",
       "      <td>-3.757377</td>\n",
       "      <td>...</td>\n",
       "      <td>10.506372</td>\n",
       "      <td>40.006666</td>\n",
       "      <td>10.499074</td>\n",
       "      <td>291.835891</td>\n",
       "      <td>199.84959</td>\n",
       "      <td>73</td>\n",
       "      <td>1</td>\n",
       "      <td>-214.64</td>\n",
       "      <td>3</td>\n",
       "      <td>0</td>\n",
       "    </tr>\n",
       "    <tr>\n",
       "      <th>179975</th>\n",
       "      <td>p00001</td>\n",
       "      <td>93.000000</td>\n",
       "      <td>98.000000</td>\n",
       "      <td>36.797649</td>\n",
       "      <td>123.000000</td>\n",
       "      <td>87.000000</td>\n",
       "      <td>61.000000</td>\n",
       "      <td>21.000000</td>\n",
       "      <td>33.481988</td>\n",
       "      <td>-3.757377</td>\n",
       "      <td>...</td>\n",
       "      <td>10.506372</td>\n",
       "      <td>40.006666</td>\n",
       "      <td>10.499074</td>\n",
       "      <td>291.835891</td>\n",
       "      <td>199.84959</td>\n",
       "      <td>73</td>\n",
       "      <td>1</td>\n",
       "      <td>-214.64</td>\n",
       "      <td>4</td>\n",
       "      <td>0</td>\n",
       "    </tr>\n",
       "    <tr>\n",
       "      <th>179976</th>\n",
       "      <td>p00001</td>\n",
       "      <td>93.000000</td>\n",
       "      <td>95.000000</td>\n",
       "      <td>36.797649</td>\n",
       "      <td>110.000000</td>\n",
       "      <td>81.000000</td>\n",
       "      <td>70.000000</td>\n",
       "      <td>20.000000</td>\n",
       "      <td>33.481988</td>\n",
       "      <td>-3.757377</td>\n",
       "      <td>...</td>\n",
       "      <td>10.506372</td>\n",
       "      <td>40.006666</td>\n",
       "      <td>10.499074</td>\n",
       "      <td>291.835891</td>\n",
       "      <td>199.84959</td>\n",
       "      <td>73</td>\n",
       "      <td>1</td>\n",
       "      <td>-214.64</td>\n",
       "      <td>5</td>\n",
       "      <td>0</td>\n",
       "    </tr>\n",
       "  </tbody>\n",
       "</table>\n",
       "<p>5 rows × 40 columns</p>\n",
       "</div>"
      ],
      "text/plain": [
       "           pid         HR      O2Sat       Temp         SBP        MAP  \\\n",
       "179972  p00001  83.855364  97.046165  36.797649  126.552435  86.730349   \n",
       "179973  p00001  93.000000  92.500000  36.797649  110.000000  76.000000   \n",
       "179974  p00001  91.000000  96.000000  36.797649  108.000000  84.500000   \n",
       "179975  p00001  93.000000  98.000000  36.797649  123.000000  87.000000   \n",
       "179976  p00001  93.000000  95.000000  36.797649  110.000000  81.000000   \n",
       "\n",
       "              DBP       Resp      EtCO2  BaseExcess  ...        Hgb  \\\n",
       "179972  66.634428  18.653171  33.481988   -3.757377  ...  10.506372   \n",
       "179973  56.000000  22.000000  33.481988   -3.757377  ...  10.506372   \n",
       "179974  72.000000  23.500000  33.481988   -3.757377  ...  10.506372   \n",
       "179975  61.000000  21.000000  33.481988   -3.757377  ...  10.506372   \n",
       "179976  70.000000  20.000000  33.481988   -3.757377  ...  10.506372   \n",
       "\n",
       "              PTT        WBC  Fibrinogen  Platelets  Age  Gender  HospAdmTime  \\\n",
       "179972  40.006666  10.499074  291.835891  199.84959   73       1      -214.64   \n",
       "179973  40.006666  10.499074  291.835891  199.84959   73       1      -214.64   \n",
       "179974  40.006666  10.499074  291.835891  199.84959   73       1      -214.64   \n",
       "179975  40.006666  10.499074  291.835891  199.84959   73       1      -214.64   \n",
       "179976  40.006666  10.499074  291.835891  199.84959   73       1      -214.64   \n",
       "\n",
       "        ICULOS  SepsisLabel  \n",
       "179972       1            0  \n",
       "179973       2            0  \n",
       "179974       3            0  \n",
       "179975       4            0  \n",
       "179976       5            0  \n",
       "\n",
       "[5 rows x 40 columns]"
      ]
     },
     "execution_count": 62,
     "metadata": {},
     "output_type": "execute_result"
    },
    {
     "data": {
      "text/plain": [
       "(188453, 40)"
      ]
     },
     "execution_count": 62,
     "metadata": {},
     "output_type": "execute_result"
    },
    {
     "data": {
      "text/plain": [
       "(2976,)"
      ]
     },
     "execution_count": 62,
     "metadata": {},
     "output_type": "execute_result"
    }
   ],
   "source": [
    "mean_vals = patient_df.loc[:,'HR':'Platelets'].astype(np.float64).mean()\n",
    "patient_df.fillna(mean_vals, inplace=True)\n",
    "patient_df[patient_df.pid==\"p00001\"].head()\n",
    "patient_df.shape\n",
    "patient_df.HospAdmTime.unique().shape"
   ]
  },
  {
   "cell_type": "code",
   "execution_count": 426,
   "metadata": {},
   "outputs": [],
   "source": [
    "patient_df = pd.read_csv('data/allpatients_imputed_df').drop(columns=['Unnamed: 0','Unit1','Unit2'])"
   ]
  },
  {
   "cell_type": "code",
   "execution_count": 427,
   "metadata": {
    "scrolled": true
   },
   "outputs": [
    {
     "data": {
      "text/html": [
       "<div>\n",
       "<style scoped>\n",
       "    .dataframe tbody tr th:only-of-type {\n",
       "        vertical-align: middle;\n",
       "    }\n",
       "\n",
       "    .dataframe tbody tr th {\n",
       "        vertical-align: top;\n",
       "    }\n",
       "\n",
       "    .dataframe thead th {\n",
       "        text-align: right;\n",
       "    }\n",
       "</style>\n",
       "<table border=\"1\" class=\"dataframe\">\n",
       "  <thead>\n",
       "    <tr style=\"text-align: right;\">\n",
       "      <th></th>\n",
       "      <th>pid</th>\n",
       "      <th>HR</th>\n",
       "      <th>O2Sat</th>\n",
       "      <th>Temp</th>\n",
       "      <th>SBP</th>\n",
       "      <th>MAP</th>\n",
       "      <th>DBP</th>\n",
       "      <th>Resp</th>\n",
       "      <th>EtCO2</th>\n",
       "      <th>BaseExcess</th>\n",
       "      <th>...</th>\n",
       "      <th>Hgb</th>\n",
       "      <th>PTT</th>\n",
       "      <th>WBC</th>\n",
       "      <th>Fibrinogen</th>\n",
       "      <th>Platelets</th>\n",
       "      <th>Age</th>\n",
       "      <th>Gender</th>\n",
       "      <th>HospAdmTime</th>\n",
       "      <th>ICULOS</th>\n",
       "      <th>SepsisLabel</th>\n",
       "    </tr>\n",
       "  </thead>\n",
       "  <tbody>\n",
       "    <tr>\n",
       "      <th>179972</th>\n",
       "      <td>p00001</td>\n",
       "      <td>93.0</td>\n",
       "      <td>92.5</td>\n",
       "      <td>36.5</td>\n",
       "      <td>110.0</td>\n",
       "      <td>76.0</td>\n",
       "      <td>56.0</td>\n",
       "      <td>22.0</td>\n",
       "      <td>33.517515</td>\n",
       "      <td>-3.160918</td>\n",
       "      <td>...</td>\n",
       "      <td>11.3</td>\n",
       "      <td>40.80889</td>\n",
       "      <td>10.8</td>\n",
       "      <td>296.932741</td>\n",
       "      <td>170.0</td>\n",
       "      <td>73</td>\n",
       "      <td>1</td>\n",
       "      <td>-214.64</td>\n",
       "      <td>1</td>\n",
       "      <td>0</td>\n",
       "    </tr>\n",
       "    <tr>\n",
       "      <th>179973</th>\n",
       "      <td>p00001</td>\n",
       "      <td>93.0</td>\n",
       "      <td>92.5</td>\n",
       "      <td>36.5</td>\n",
       "      <td>110.0</td>\n",
       "      <td>76.0</td>\n",
       "      <td>56.0</td>\n",
       "      <td>22.0</td>\n",
       "      <td>33.517515</td>\n",
       "      <td>-3.160918</td>\n",
       "      <td>...</td>\n",
       "      <td>11.3</td>\n",
       "      <td>40.80889</td>\n",
       "      <td>10.8</td>\n",
       "      <td>296.932741</td>\n",
       "      <td>170.0</td>\n",
       "      <td>73</td>\n",
       "      <td>1</td>\n",
       "      <td>-214.64</td>\n",
       "      <td>2</td>\n",
       "      <td>0</td>\n",
       "    </tr>\n",
       "    <tr>\n",
       "      <th>179974</th>\n",
       "      <td>p00001</td>\n",
       "      <td>91.0</td>\n",
       "      <td>96.0</td>\n",
       "      <td>36.5</td>\n",
       "      <td>108.0</td>\n",
       "      <td>84.5</td>\n",
       "      <td>72.0</td>\n",
       "      <td>23.5</td>\n",
       "      <td>33.517515</td>\n",
       "      <td>-3.160918</td>\n",
       "      <td>...</td>\n",
       "      <td>11.3</td>\n",
       "      <td>40.80889</td>\n",
       "      <td>10.8</td>\n",
       "      <td>296.932741</td>\n",
       "      <td>170.0</td>\n",
       "      <td>73</td>\n",
       "      <td>1</td>\n",
       "      <td>-214.64</td>\n",
       "      <td>3</td>\n",
       "      <td>0</td>\n",
       "    </tr>\n",
       "    <tr>\n",
       "      <th>179975</th>\n",
       "      <td>p00001</td>\n",
       "      <td>93.0</td>\n",
       "      <td>98.0</td>\n",
       "      <td>36.5</td>\n",
       "      <td>123.0</td>\n",
       "      <td>87.0</td>\n",
       "      <td>61.0</td>\n",
       "      <td>21.0</td>\n",
       "      <td>33.517515</td>\n",
       "      <td>-3.160918</td>\n",
       "      <td>...</td>\n",
       "      <td>11.3</td>\n",
       "      <td>40.80889</td>\n",
       "      <td>10.8</td>\n",
       "      <td>296.932741</td>\n",
       "      <td>170.0</td>\n",
       "      <td>73</td>\n",
       "      <td>1</td>\n",
       "      <td>-214.64</td>\n",
       "      <td>4</td>\n",
       "      <td>0</td>\n",
       "    </tr>\n",
       "    <tr>\n",
       "      <th>179976</th>\n",
       "      <td>p00001</td>\n",
       "      <td>93.0</td>\n",
       "      <td>95.0</td>\n",
       "      <td>36.5</td>\n",
       "      <td>110.0</td>\n",
       "      <td>81.0</td>\n",
       "      <td>70.0</td>\n",
       "      <td>20.0</td>\n",
       "      <td>33.517515</td>\n",
       "      <td>-3.160918</td>\n",
       "      <td>...</td>\n",
       "      <td>11.3</td>\n",
       "      <td>40.80889</td>\n",
       "      <td>10.8</td>\n",
       "      <td>296.932741</td>\n",
       "      <td>170.0</td>\n",
       "      <td>73</td>\n",
       "      <td>1</td>\n",
       "      <td>-214.64</td>\n",
       "      <td>5</td>\n",
       "      <td>0</td>\n",
       "    </tr>\n",
       "  </tbody>\n",
       "</table>\n",
       "<p>5 rows × 40 columns</p>\n",
       "</div>"
      ],
      "text/plain": [
       "           pid    HR  O2Sat  Temp    SBP   MAP   DBP  Resp      EtCO2  \\\n",
       "179972  p00001  93.0   92.5  36.5  110.0  76.0  56.0  22.0  33.517515   \n",
       "179973  p00001  93.0   92.5  36.5  110.0  76.0  56.0  22.0  33.517515   \n",
       "179974  p00001  91.0   96.0  36.5  108.0  84.5  72.0  23.5  33.517515   \n",
       "179975  p00001  93.0   98.0  36.5  123.0  87.0  61.0  21.0  33.517515   \n",
       "179976  p00001  93.0   95.0  36.5  110.0  81.0  70.0  20.0  33.517515   \n",
       "\n",
       "        BaseExcess  ...   Hgb       PTT   WBC  Fibrinogen  Platelets  Age  \\\n",
       "179972   -3.160918  ...  11.3  40.80889  10.8  296.932741      170.0   73   \n",
       "179973   -3.160918  ...  11.3  40.80889  10.8  296.932741      170.0   73   \n",
       "179974   -3.160918  ...  11.3  40.80889  10.8  296.932741      170.0   73   \n",
       "179975   -3.160918  ...  11.3  40.80889  10.8  296.932741      170.0   73   \n",
       "179976   -3.160918  ...  11.3  40.80889  10.8  296.932741      170.0   73   \n",
       "\n",
       "        Gender  HospAdmTime  ICULOS  SepsisLabel  \n",
       "179972       1      -214.64       1            0  \n",
       "179973       1      -214.64       2            0  \n",
       "179974       1      -214.64       3            0  \n",
       "179975       1      -214.64       4            0  \n",
       "179976       1      -214.64       5            0  \n",
       "\n",
       "[5 rows x 40 columns]"
      ]
     },
     "execution_count": 427,
     "metadata": {},
     "output_type": "execute_result"
    },
    {
     "data": {
      "text/plain": [
       "(188453, 40)"
      ]
     },
     "execution_count": 427,
     "metadata": {},
     "output_type": "execute_result"
    },
    {
     "data": {
      "text/plain": [
       "(2976,)"
      ]
     },
     "execution_count": 427,
     "metadata": {},
     "output_type": "execute_result"
    },
    {
     "data": {
      "text/plain": [
       "array([ 0.00000e+00, -3.10000e-01, -5.39000e+01, -4.91000e+00,\n",
       "       -5.00000e-02, -2.14600e+01, -1.32730e+02, -3.00470e+02,\n",
       "       -1.92270e+02, -3.04000e+01, -8.01000e+00, -5.28000e+00,\n",
       "       -2.43200e+01, -2.85800e+01, -4.91800e+01, -5.93740e+02,\n",
       "       -2.81780e+02, -4.28000e+00, -3.53000e+01, -9.93000e+00,\n",
       "       -1.20000e-01, -2.00000e-02, -5.63820e+02, -3.50260e+02,\n",
       "       -3.19850e+02, -9.21000e+00, -6.03400e+01, -5.27240e+02,\n",
       "       -2.47000e+00, -1.17172e+03, -7.52000e+00, -3.08740e+02,\n",
       "       -1.15000e+00, -3.00000e-02, -2.60000e+00, -7.00000e-02,\n",
       "       -2.52300e+01, -1.00000e-02, -7.76200e+01, -1.97780e+02,\n",
       "       -7.08400e+01, -7.29000e+00, -2.58200e+01, -3.31000e+00,\n",
       "       -2.66400e+01, -3.58800e+01, -9.75700e+01, -2.51100e+01,\n",
       "       -2.92000e+00, -2.34000e+00, -1.01100e+01, -1.10000e-01,\n",
       "       -1.19900e+01, -4.40000e-01, -9.07000e+00, -1.70000e-01,\n",
       "       -2.69600e+01, -3.64940e+02, -7.21200e+01, -4.95000e+00,\n",
       "       -2.91000e+00, -4.00000e-02, -8.00000e-02, -3.30000e+00,\n",
       "       -1.99000e+00, -3.40000e+01, -1.14000e+00, -1.11300e+01,\n",
       "       -1.51790e+02, -2.05000e+00, -8.75100e+01, -1.80000e-01,\n",
       "       -1.35000e+00, -1.78560e+02, -2.00410e+02, -1.97800e+01,\n",
       "       -2.38000e+00, -6.27180e+02, -2.98300e+01, -4.20000e-01,\n",
       "       -4.04600e+01, -1.80570e+02, -8.16600e+01, -9.00000e-02,\n",
       "       -2.85200e+01, -2.22000e+00, -1.90610e+02, -1.16900e+01,\n",
       "       -4.67400e+01, -8.39000e+00, -1.92770e+02, -3.64000e+00,\n",
       "       -3.02000e+00, -2.40900e+01, -1.52500e+02, -1.25120e+02,\n",
       "       -7.26000e+00, -1.82000e+00, -1.69410e+02, -2.27700e+02,\n",
       "       -1.15200e+01, -3.29100e+01, -1.05000e+00, -6.28300e+01,\n",
       "       -1.28725e+03, -8.12000e+00, -6.44000e+00, -1.01490e+02,\n",
       "       -6.85500e+01, -2.23560e+02, -2.73900e+01, -1.84770e+02,\n",
       "       -4.56000e+00, -6.50000e-01, -4.25000e+00, -1.09000e+00,\n",
       "       -5.81000e+00, -2.27000e+00, -2.03300e+01, -2.80010e+02,\n",
       "       -6.00000e-02, -3.43000e+00, -5.10000e-01, -9.61000e+00,\n",
       "       -7.81900e+01, -1.26000e+01, -4.19000e+00, -1.22000e+00,\n",
       "       -7.44300e+01, -8.44100e+01, -7.12400e+01, -4.52350e+02,\n",
       "       -3.98000e+00, -2.50000e-01, -1.00120e+02, -7.53000e+00,\n",
       "       -1.64500e+01, -1.55100e+01, -2.97330e+02, -1.05920e+02,\n",
       "       -4.21000e+00, -8.82200e+01, -9.20000e+01, -3.73300e+01,\n",
       "       -6.26000e+00, -2.39010e+02, -5.80000e+00, -4.30800e+01,\n",
       "       -8.36000e+00, -6.76000e+00, -6.72000e+00, -5.48900e+01,\n",
       "       -2.41000e+00, -1.98790e+02, -2.40200e+01, -2.52000e+00,\n",
       "       -1.64460e+02, -1.89000e+00, -5.39000e+00, -1.71030e+02,\n",
       "       -1.79500e+01, -1.16000e+00, -1.91930e+02, -4.00000e-01,\n",
       "       -4.03000e+00, -2.99040e+02, -2.53560e+02, -1.91600e+01,\n",
       "       -7.95000e+00, -9.01000e+00, -3.11400e+01, -2.76200e+01,\n",
       "       -3.03290e+02, -1.90000e+02, -2.59000e+00, -3.54000e+00,\n",
       "       -1.84410e+02, -2.66760e+02, -3.97000e+00, -3.28130e+02,\n",
       "       -4.47000e+00, -1.03080e+02, -3.35000e+01, -3.36000e+00,\n",
       "       -1.22310e+02, -8.27500e+01, -8.37900e+01, -6.19000e+00,\n",
       "       -3.93380e+02, -5.82150e+02, -1.34170e+02, -7.01800e+01,\n",
       "       -6.63300e+01, -5.94000e+00, -5.45000e+00, -2.40000e-01,\n",
       "       -9.26000e+00, -1.72270e+02, -1.08780e+02, -8.95600e+01,\n",
       "       -1.83000e+00])"
      ]
     },
     "execution_count": 427,
     "metadata": {},
     "output_type": "execute_result"
    }
   ],
   "source": [
    "patient_df[patient_df.pid==\"p00001\"].head()\n",
    "patient_df.shape\n",
    "patient_df.HospAdmTime.unique().shape\n",
    "patient_df[patient_df.SepsisLabel == 1].HospAdmTime.unique()"
   ]
  },
  {
   "cell_type": "code",
   "execution_count": 130,
   "metadata": {},
   "outputs": [],
   "source": [
    "#patient_df = patient_df.fillna(patient_df.mean()['HR':'Platelets'])"
   ]
  },
  {
   "cell_type": "code",
   "execution_count": 63,
   "metadata": {},
   "outputs": [
    {
     "data": {
      "text/plain": [
       "array([0], dtype=int64)"
      ]
     },
     "execution_count": 63,
     "metadata": {},
     "output_type": "execute_result"
    }
   ],
   "source": [
    "patient_df[patient_df.pid==\"p00001\"].SepsisLabel.unique()"
   ]
  },
  {
   "cell_type": "code",
   "execution_count": 64,
   "metadata": {},
   "outputs": [
    {
     "data": {
      "text/plain": [
       "(5000,)"
      ]
     },
     "execution_count": 64,
     "metadata": {},
     "output_type": "execute_result"
    }
   ],
   "source": [
    "patient_df.pid.unique().shape"
   ]
  },
  {
   "cell_type": "code",
   "execution_count": 65,
   "metadata": {},
   "outputs": [],
   "source": [
    "re_idx = patient_df.set_index([\"pid\",\"ICULOS\"])\n",
    "arr = re_idx.groupby(\"pid\").apply(lambda x: x.values).values\n",
    "\n",
    "train_raw, test_raw = train_test_split(arr, test_size=0.2)"
   ]
  },
  {
   "cell_type": "code",
   "execution_count": 66,
   "metadata": {},
   "outputs": [
    {
     "data": {
      "text/plain": [
       "(49, 38)"
      ]
     },
     "execution_count": 66,
     "metadata": {},
     "output_type": "execute_result"
    },
    {
     "data": {
      "text/plain": [
       "array([ 83.85536447,  97.046165  ,  36.7976492 , 126.55243472,\n",
       "        86.73034903,  66.63442824,  18.65317139,  33.48198843,\n",
       "        -3.7573769 ,  22.09433411,   0.46550563,   7.38880276,\n",
       "        39.54079435,  96.55090276, 119.30067329,  22.3528374 ,\n",
       "        91.18621187,   7.73577195, 105.98371503,   1.60705865,\n",
       "         0.84776099, 132.09230487,   2.13049022,   2.04544313,\n",
       "         3.4859577 ,   4.06307364,   1.4891377 ,   5.77915899,\n",
       "        32.05628105,  10.50637232,  40.00666633,  10.49907376,\n",
       "       291.83589079, 199.84958988,  61.        ,   1.        ,\n",
       "        -0.3       ,   0.        ])"
      ]
     },
     "execution_count": 66,
     "metadata": {},
     "output_type": "execute_result"
    }
   ],
   "source": [
    "train_raw[0].shape\n",
    "train_raw[0][0]"
   ]
  },
  {
   "cell_type": "code",
   "execution_count": 67,
   "metadata": {},
   "outputs": [],
   "source": [
    "# create windowing system here\n",
    "T = 6\n",
    "#idx = 10\n",
    "def process_data(df: pd.DataFrame, T: int) -> (pd.DataFrame, np.array):\n",
    "    processed = []\n",
    "    labels = []\n",
    "\n",
    "    for idx in range(df.shape[0]):\n",
    "        if df[idx][:,-1].sum() == 0:\n",
    "            processed.extend([[row,7,1] for row in df[idx][:,:-1]])\n",
    "        else:\n",
    "            sepsis_count = 0\n",
    "            for i in range(df[idx].shape[0]):\n",
    "                t = (T + 1) - sepsis_count\n",
    "                t = t if t >= 1 else 1\n",
    "                s = 1 if t > T else 0\n",
    "                processed.append([df[idx][i][:-1],t,s])\n",
    "                sepsis_count += 1 if df[idx][i][-1] == 1 else 0\n",
    "                \n",
    "        labels.extend(df[idx][:,-1].tolist())\n",
    "                \n",
    "    return (pd.DataFrame(processed, columns=[\"x\",\"t\",\"s\"]), np.array(labels))\n",
    "# Naive windowing:\n",
    "#             for i in range(df[idx].shape[0]):\n",
    "#                 window = df[idx][i:i+T]\n",
    "#                 matches = np.where(window[:,-1]==1)[0]\n",
    "#                 if matches.size > 0:\n",
    "#                     t = matches[0] + 1\n",
    "#                     s = 0\n",
    "#                 else:\n",
    "#                     t = T + 1\n",
    "#                     s = 1\n",
    "#                 processed.append([df[idx][i][:-1],t,s])\n",
    "\n",
    "# def test(df: pd.DataFrame, T: int) -> pd.DataFrame:\n",
    "#     processed = []\n",
    "\n",
    "#     #for idx in range(df.shape[0]):\n",
    "#     idx = 10\n",
    "#     if df[idx][:,-1].sum() == 0:\n",
    "#         processed.extend([[row,7,1] for row in df[idx][:,:-1]])\n",
    "#     else:\n",
    "#         sepsis_count = 0\n",
    "#         for i in range(df[idx].shape[0]):\n",
    "#             t = (T + 1) - sepsis_count\n",
    "#             t = t if t >= 1 else 1\n",
    "#             s = 1 if t > T else 0\n",
    "#             processed.append([df[idx][i][:-1],t,s])\n",
    "#             sepsis_count += 1 if df[idx][i][-1] == 1 else 0\n",
    "                \n",
    "#     return pd.DataFrame(processed, columns=[\"x\",\"t\",\"s\"])\n",
    "\n",
    "# np.array(train[idx][:,:-1]).shape\n",
    "# np.repeat([[7,1]],train[idx].shape[0],axis=0).shape\n",
    "# t_s = np.repeat([[7,1]],train[idx].shape[0],axis=0)\n",
    "# t_s\n",
    "# x_idx = train[idx][:,:-1].reshape(train[idx][:,:-1].shape[0],1,-1)\n",
    "# x_idx.shape\n",
    "# processed_idx = np.concatenate((x_idx,t_s),axis=1)\n",
    "# processed_idx.shape\n",
    "#if train[idx][:,-1].sum() == 0:\n",
    "# a = np.ones((4,1)) * 3\n",
    "# b = np.repeat([[7,1]],4,axis=0)    \n",
    "# a\n",
    "# b\n",
    "# np.hstack((a,b))\n",
    "#pd.DataFrame([[train[idx][i][:-1],t,s]], columns=[\"x\",\"t\",\"s\"])\n",
    "# for idx in range(4000):\n",
    "#     #window = train[idx][i:i+T]\n",
    "#     if train[idx][:,-1].sum() > 0:\n",
    "#         break"
   ]
  },
  {
   "cell_type": "code",
   "execution_count": 68,
   "metadata": {},
   "outputs": [],
   "source": [
    "X_train, y_train = process_data(train_raw, T)\n",
    "X_test, y_test = process_data(test_raw, T)"
   ]
  },
  {
   "cell_type": "code",
   "execution_count": 69,
   "metadata": {},
   "outputs": [
    {
     "data": {
      "text/html": [
       "<div>\n",
       "<style scoped>\n",
       "    .dataframe tbody tr th:only-of-type {\n",
       "        vertical-align: middle;\n",
       "    }\n",
       "\n",
       "    .dataframe tbody tr th {\n",
       "        vertical-align: top;\n",
       "    }\n",
       "\n",
       "    .dataframe thead th {\n",
       "        text-align: right;\n",
       "    }\n",
       "</style>\n",
       "<table border=\"1\" class=\"dataframe\">\n",
       "  <thead>\n",
       "    <tr style=\"text-align: right;\">\n",
       "      <th></th>\n",
       "      <th>x</th>\n",
       "      <th>t</th>\n",
       "      <th>s</th>\n",
       "    </tr>\n",
       "  </thead>\n",
       "  <tbody>\n",
       "    <tr>\n",
       "      <th>0</th>\n",
       "      <td>[83.85536447147673, 97.04616499808523, 36.7976...</td>\n",
       "      <td>7</td>\n",
       "      <td>1</td>\n",
       "    </tr>\n",
       "    <tr>\n",
       "      <th>1</th>\n",
       "      <td>[73.5, 99.5, 36.79764920289012, 157.0, 107.0, ...</td>\n",
       "      <td>7</td>\n",
       "      <td>1</td>\n",
       "    </tr>\n",
       "    <tr>\n",
       "      <th>2</th>\n",
       "      <td>[75.0, 98.0, 36.79764920289012, 158.0, 113.0, ...</td>\n",
       "      <td>7</td>\n",
       "      <td>1</td>\n",
       "    </tr>\n",
       "    <tr>\n",
       "      <th>3</th>\n",
       "      <td>[77.0, 100.0, 36.79764920289012, 155.0, 105.0,...</td>\n",
       "      <td>7</td>\n",
       "      <td>1</td>\n",
       "    </tr>\n",
       "    <tr>\n",
       "      <th>4</th>\n",
       "      <td>[82.0, 100.0, 36.79764920289012, 160.0, 88.0, ...</td>\n",
       "      <td>7</td>\n",
       "      <td>1</td>\n",
       "    </tr>\n",
       "  </tbody>\n",
       "</table>\n",
       "</div>"
      ],
      "text/plain": [
       "                                                   x  t  s\n",
       "0  [83.85536447147673, 97.04616499808523, 36.7976...  7  1\n",
       "1  [73.5, 99.5, 36.79764920289012, 157.0, 107.0, ...  7  1\n",
       "2  [75.0, 98.0, 36.79764920289012, 158.0, 113.0, ...  7  1\n",
       "3  [77.0, 100.0, 36.79764920289012, 155.0, 105.0,...  7  1\n",
       "4  [82.0, 100.0, 36.79764920289012, 160.0, 88.0, ...  7  1"
      ]
     },
     "execution_count": 69,
     "metadata": {},
     "output_type": "execute_result"
    }
   ],
   "source": [
    "X_train.head()"
   ]
  },
  {
   "cell_type": "code",
   "execution_count": 70,
   "metadata": {},
   "outputs": [],
   "source": [
    "inverse_s = 1-X_train.s\n",
    "X_train_cph = pd.DataFrame(X_train.x.values.tolist(), columns=patient_df.columns[1:-2])\n",
    "X_train_cph[\"s\"] = inverse_s\n",
    "X_train_cph[\"w\"] = (inverse_s * 70) + X_train.s\n",
    "X_train_cph[\"t\"] = X_train.t"
   ]
  },
  {
   "cell_type": "code",
   "execution_count": 71,
   "metadata": {},
   "outputs": [
    {
     "name": "stdout",
     "output_type": "stream",
     "text": [
      "Iteration 1: norm_delta = 0.04777, step_size = 0.0700, ll = -1643199.00616, newton_decrement = 23239.90719, seconds_since_start = 0.1\n",
      "Iteration 2: norm_delta = 0.04351, step_size = 0.0700, ll = -1640061.11540, newton_decrement = 19139.67232, seconds_since_start = 0.2\n",
      "Iteration 3: norm_delta = 0.03996, step_size = 0.0700, ll = -1637476.54266, newton_decrement = 15912.68159, seconds_since_start = 0.4\n",
      "Iteration 4: norm_delta = 0.04426, step_size = 0.0840, ll = -1635327.55606, newton_decrement = 13319.96019, seconds_since_start = 0.5\n",
      "Iteration 5: norm_delta = 0.03951, step_size = 0.0823, ll = -1633184.78452, newton_decrement = 10806.64805, seconds_since_start = 0.7\n",
      "Iteration 6: norm_delta = 0.03544, step_size = 0.0807, ll = -1631479.43749, newton_decrement = 8855.27400, seconds_since_start = 0.8\n",
      "Iteration 7: norm_delta = 0.03904, step_size = 0.0968, ll = -1630108.70351, newton_decrement = 7316.47402, seconds_since_start = 1.0\n",
      "Iteration 8: norm_delta = 0.03452, step_size = 0.0949, ll = -1628761.18082, newton_decrement = 5828.46475, seconds_since_start = 1.1\n",
      "Iteration 9: norm_delta = 0.03061, step_size = 0.0930, ll = -1627708.03589, newton_decrement = 4682.83341, seconds_since_start = 1.2\n",
      "Iteration 10: norm_delta = 0.03330, step_size = 0.1116, ll = -1626877.94538, newton_decrement = 3790.59001, seconds_since_start = 1.4\n",
      "Iteration 11: norm_delta = 0.02897, step_size = 0.1093, ll = -1626079.54032, newton_decrement = 2941.41131, seconds_since_start = 1.6\n",
      "Iteration 12: norm_delta = 0.02527, step_size = 0.1072, ll = -1625471.63250, newton_decrement = 2301.05646, seconds_since_start = 1.8\n",
      "Iteration 13: norm_delta = 0.02705, step_size = 0.1286, ll = -1625005.01850, newton_decrement = 1813.32597, seconds_since_start = 2.0\n",
      "Iteration 14: norm_delta = 0.02307, step_size = 0.1260, ll = -1624568.78171, newton_decrement = 1360.45118, seconds_since_start = 2.2\n",
      "Iteration 15: norm_delta = 0.01973, step_size = 0.1235, ll = -1624247.58266, newton_decrement = 1029.06657, seconds_since_start = 2.4\n",
      "Iteration 16: norm_delta = 0.02072, step_size = 0.1482, ll = -1624009.15215, newton_decrement = 784.28923, seconds_since_start = 2.5\n",
      "Iteration 17: norm_delta = 0.01727, step_size = 0.1452, ll = -1623793.96969, newton_decrement = 564.33515, seconds_since_start = 2.7\n",
      "Iteration 18: norm_delta = 0.01444, step_size = 0.1423, ll = -1623641.98239, newton_decrement = 409.58294, seconds_since_start = 2.8\n",
      "Iteration 19: norm_delta = 0.01484, step_size = 0.1708, ll = -1623533.70633, newton_decrement = 299.67576, seconds_since_start = 3.0\n",
      "Iteration 20: norm_delta = 0.01204, step_size = 0.1674, ll = -1623440.09949, newton_decrement = 204.91214, seconds_since_start = 3.2\n",
      "Iteration 21: norm_delta = 0.00981, step_size = 0.1640, ll = -1623377.25369, newton_decrement = 141.44049, seconds_since_start = 3.3\n",
      "Iteration 22: norm_delta = 0.00982, step_size = 0.1968, ll = -1623334.66308, newton_decrement = 98.50500, seconds_since_start = 3.5\n",
      "Iteration 23: norm_delta = 0.00772, step_size = 0.1929, ll = -1623299.70521, newton_decrement = 63.31970, seconds_since_start = 3.7\n",
      "Iteration 24: norm_delta = 0.00610, step_size = 0.1890, ll = -1623277.63463, newton_decrement = 41.13628, seconds_since_start = 3.8\n",
      "Iteration 25: norm_delta = 0.00593, step_size = 0.2268, ll = -1623263.55262, newton_decrement = 26.99726, seconds_since_start = 4.0\n",
      "Iteration 26: norm_delta = 0.00550, step_size = 0.2722, ll = -1623252.69387, newton_decrement = 16.10429, seconds_since_start = 4.1\n",
      "Iteration 27: norm_delta = 0.00480, step_size = 0.3266, ll = -1623245.11973, newton_decrement = 8.51268, seconds_since_start = 4.3\n",
      "Iteration 28: norm_delta = 0.00387, step_size = 0.3920, ll = -1623240.46656, newton_decrement = 3.85231, seconds_since_start = 4.5\n",
      "Iteration 29: norm_delta = 0.00282, step_size = 0.4704, ll = -1623238.03816, newton_decrement = 1.42177, seconds_since_start = 4.6\n",
      "Iteration 30: norm_delta = 0.00179, step_size = 0.5644, ll = -1623237.01493, newton_decrement = 0.39826, seconds_since_start = 4.8\n",
      "Iteration 31: norm_delta = 0.00094, step_size = 0.6773, ll = -1623236.69202, newton_decrement = 0.07547, seconds_since_start = 4.9\n",
      "Iteration 32: norm_delta = 0.00036, step_size = 0.8128, ll = -1623236.62429, newton_decrement = 0.00785, seconds_since_start = 5.1\n",
      "Iteration 33: norm_delta = 0.00008, step_size = 0.9754, ll = -1623236.61667, newton_decrement = 0.00028, seconds_since_start = 5.2\n",
      "Iteration 34: norm_delta = 0.00000, step_size = 1.0000, ll = -1623236.61638, newton_decrement = 0.00000, seconds_since_start = 5.4\n",
      "Convergence completed after 34 iterations.\n"
     ]
    },
    {
     "data": {
      "text/plain": [
       "<lifelines.CoxPHFitter: fitted with 150470 observations, 148556 censored>"
      ]
     },
     "execution_count": 71,
     "metadata": {},
     "output_type": "execute_result"
    }
   ],
   "source": [
    "cph = CoxPHFitter(penalizer=0.2)\n",
    "cph.fit(X_train_cph, duration_col='t', event_col='s', weights_col='w', step_size=0.070, show_progress=True, robust=False)"
   ]
  },
  {
   "cell_type": "code",
   "execution_count": 72,
   "metadata": {},
   "outputs": [
    {
     "name": "stdout",
     "output_type": "stream",
     "text": [
      "<lifelines.CoxPHFitter: fitted with 150470 observations, 148556 censored>\n",
      "      duration col = 't'\n",
      "         event col = 's'\n",
      "       weights col = 'w'\n",
      "         penalizer = 0.2\n",
      "number of subjects = 150470\n",
      "  number of events = 1914\n",
      "    log-likelihood = -1623236.62\n",
      "  time fit was run = 2019-04-04 06:44:44 UTC\n",
      "\n",
      "---\n",
      "                  coef  exp(coef)  se(coef)      z      p  -log2(p)  lower 0.95  upper 0.95\n",
      "HR                0.01       1.01      0.00  72.18 <0.005       inf        0.01        0.01\n",
      "O2Sat             0.01       1.01      0.00   7.72 <0.005     46.28        0.01        0.01\n",
      "Temp              0.18       1.20      0.00  48.58 <0.005       inf        0.17        0.19\n",
      "SBP              -0.00       1.00      0.00 -18.82 <0.005    260.08       -0.00       -0.00\n",
      "MAP               0.00       1.00      0.00   2.22   0.03      5.26        0.00        0.00\n",
      "DBP              -0.01       0.99      0.00 -15.53 <0.005    178.26       -0.01       -0.01\n",
      "Resp              0.00       1.00      0.00   5.55 <0.005     25.03        0.00        0.00\n",
      "EtCO2            -0.01       0.99      0.00 -17.96 <0.005    237.06       -0.01       -0.01\n",
      "BaseExcess        0.08       1.09      0.00  28.18 <0.005    578.01        0.08        0.09\n",
      "HCO3             -0.06       0.94      0.00 -12.46 <0.005    115.96       -0.07       -0.05\n",
      "FiO2              0.78       2.18      0.02  41.67 <0.005       inf        0.74        0.81\n",
      "pH               -0.13       0.88      0.06  -2.05   0.04      4.63       -0.26       -0.01\n",
      "PaCO2            -0.00       1.00      0.00  -6.60 <0.005     34.52       -0.00       -0.00\n",
      "SaO2             -0.01       0.99      0.00  -9.35 <0.005     66.64       -0.01       -0.01\n",
      "AST               0.00       1.00      0.00  27.57 <0.005    553.54        0.00        0.00\n",
      "BUN               0.01       1.02      0.00  86.55 <0.005       inf        0.01        0.02\n",
      "Alkalinephos     -0.00       1.00      0.00  -2.12   0.03      4.89       -0.00       -0.00\n",
      "Calcium          -0.06       0.95      0.00 -53.08 <0.005       inf       -0.06       -0.05\n",
      "Chloride          0.01       1.01      0.00   8.05 <0.005     50.07        0.01        0.01\n",
      "Creatinine       -0.03       0.97      0.00 -13.40 <0.005    133.68       -0.03       -0.02\n",
      "Bilirubin_direct -0.04       0.96      0.01  -7.10 <0.005     39.53       -0.05       -0.03\n",
      "Glucose           0.00       1.00      0.00   5.04 <0.005     21.00        0.00        0.00\n",
      "Lactate          -0.01       0.99      0.00  -5.39 <0.005     23.76       -0.02       -0.01\n",
      "Magnesium         0.08       1.08      0.01   8.43 <0.005     54.74        0.06        0.10\n",
      "Phosphate        -0.08       0.93      0.00 -23.66 <0.005    408.75       -0.08       -0.07\n",
      "Potassium        -0.09       0.91      0.01 -17.35 <0.005    221.68       -0.10       -0.08\n",
      "Bilirubin_total   0.02       1.02      0.00  10.73 <0.005     86.87        0.01        0.02\n",
      "TroponinI         0.00       1.00      0.00  20.72 <0.005    314.42        0.00        0.00\n",
      "Hct               0.06       1.06      0.00  27.96 <0.005    569.05        0.05        0.06\n",
      "Hgb              -0.19       0.82      0.01 -32.91 <0.005    786.50       -0.21       -0.18\n",
      "PTT               0.00       1.00      0.00  11.76 <0.005    103.61        0.00        0.00\n",
      "WBC               0.01       1.01      0.00  45.05 <0.005       inf        0.01        0.01\n",
      "Fibrinogen        0.00       1.00      0.00  17.41 <0.005    223.15        0.00        0.00\n",
      "Platelets         0.00       1.00      0.00   8.74 <0.005     58.64        0.00        0.00\n",
      "Age              -0.00       1.00      0.00  -5.56 <0.005     25.13       -0.00       -0.00\n",
      "Gender            0.01       1.01      0.01   1.71   0.09      3.52       -0.00        0.02\n",
      "HospAdmTime       0.00       1.00      0.00  17.68 <0.005    229.90        0.00        0.00\n",
      "---\n",
      "Concordance = 0.71\n",
      "Log-likelihood ratio test = 39924.78 on 37 df, -log2(p)=inf\n"
     ]
    }
   ],
   "source": [
    "#cph.check_assumptions(X_train_cph,show_plots=False,plot_n_bootstraps=0)\n",
    "cph.print_summary()"
   ]
  },
  {
   "cell_type": "code",
   "execution_count": 73,
   "metadata": {},
   "outputs": [],
   "source": [
    "train_preds = 1-cph.predict_survival_function(X_train_cph.drop(columns=[\"s\",\"t\"]),times=[6])"
   ]
  },
  {
   "cell_type": "code",
   "execution_count": 74,
   "metadata": {},
   "outputs": [
    {
     "data": {
      "text/plain": [
       "82.07682594537117"
      ]
     },
     "execution_count": 74,
     "metadata": {},
     "output_type": "execute_result"
    },
    {
     "data": {
      "text/plain": [
       "0.7061080007484359"
      ]
     },
     "execution_count": 74,
     "metadata": {},
     "output_type": "execute_result"
    }
   ],
   "source": [
    "lst = [1 if i >=0.5 else 0 for i in train_preds]\n",
    "((lst == y_train).sum() / y_train.shape[0]) * 100\n",
    "roc_auc_score(y_train, train_preds)"
   ]
  },
  {
   "cell_type": "code",
   "execution_count": 75,
   "metadata": {},
   "outputs": [],
   "source": [
    "train_preds2 = cph.predict_cumulative_hazard(X_train_cph.drop(columns=[\"s\",\"t\"]),times=[6])"
   ]
  },
  {
   "cell_type": "code",
   "execution_count": 76,
   "metadata": {},
   "outputs": [
    {
     "data": {
      "text/plain": [
       "59.18920715092709"
      ]
     },
     "execution_count": 76,
     "metadata": {},
     "output_type": "execute_result"
    },
    {
     "data": {
      "text/plain": [
       "0.7061080007484359"
      ]
     },
     "execution_count": 76,
     "metadata": {},
     "output_type": "execute_result"
    }
   ],
   "source": [
    "lst = [1 if i >=0.5 else 0 for i in train_preds2]\n",
    "((lst == y_train).sum() / y_train.shape[0]) * 100\n",
    "roc_auc_score(y_train, train_preds2)"
   ]
  },
  {
   "cell_type": "code",
   "execution_count": 77,
   "metadata": {},
   "outputs": [
    {
     "data": {
      "text/plain": [
       "98.57646042400478"
      ]
     },
     "execution_count": 77,
     "metadata": {},
     "output_type": "execute_result"
    },
    {
     "data": {
      "text/plain": [
       "0.7061080007484359"
      ]
     },
     "execution_count": 77,
     "metadata": {},
     "output_type": "execute_result"
    }
   ],
   "source": [
    "train_preds3 = cph.predict_partial_hazard(X_train_cph.drop(columns=[\"s\",\"t\"]))\n",
    "lst = [1 if i >=0.5 else 0 for i in train_preds3]\n",
    "((lst == y_train).sum() / y_train.shape[0]) * 100\n",
    "roc_auc_score(y_train, train_preds3)"
   ]
  },
  {
   "cell_type": "code",
   "execution_count": 79,
   "metadata": {},
   "outputs": [],
   "source": [
    "X_test_cph = pd.DataFrame(X_test.x.values.tolist(), columns=patient_df.columns[1:-2])"
   ]
  },
  {
   "cell_type": "code",
   "execution_count": 80,
   "metadata": {},
   "outputs": [
    {
     "data": {
      "text/plain": [
       "80.01737619461338"
      ]
     },
     "execution_count": 80,
     "metadata": {},
     "output_type": "execute_result"
    },
    {
     "data": {
      "text/plain": [
       "0.673"
      ]
     },
     "execution_count": 80,
     "metadata": {},
     "output_type": "execute_result"
    }
   ],
   "source": [
    "test_preds = 1-cph.predict_survival_function(X_test_cph,times=[6])\n",
    "lst = [1 if i >=0.5 else 0 for i in test_preds]\n",
    "((lst == y_test).sum() / y_test.shape[0]) * 100\n",
    "round(roc_auc_score(y_test, test_preds), 3)"
   ]
  },
  {
   "cell_type": "code",
   "execution_count": 81,
   "metadata": {},
   "outputs": [],
   "source": [
    "def get_metrics(ty, py, threshold=0.5):\n",
    "    print('-'*20)\n",
    "    auc = roc_auc_score(ty, py)\n",
    "    print(f\"AUC = {auc}\")\n",
    "    c_m = confusion_matrix(ty, np.array(py > threshold).astype(int))\n",
    "    print(c_m)\n",
    "    PPV = c_m[1,1] / (c_m[1,1] + c_m[0,1])\n",
    "    print(f\"PPV/Precision = {PPV}\")\n",
    "    TPR = c_m[1,1] / c_m[1].sum()\n",
    "    print(f\"TPR/Sensitivity/Recall = {TPR}\")\n",
    "    TNR = c_m[0,0] / c_m[0].sum()\n",
    "    print(f\"TNR/Specificity = {TNR}\")"
   ]
  },
  {
   "cell_type": "code",
   "execution_count": 83,
   "metadata": {},
   "outputs": [
    {
     "name": "stdout",
     "output_type": "stream",
     "text": [
      "--------------------\n",
      "AUC = 0.6725981960102807\n",
      "[[30171  7331]\n",
      " [  259   222]]\n",
      "PPV/Precision = 0.029392294452535415\n",
      "TPR/Sensitivity/Recall = 0.46153846153846156\n",
      "TNR/Specificity = 0.8045170924217375\n"
     ]
    }
   ],
   "source": [
    "get_metrics(y_test, test_preds, threshold=0.5)"
   ]
  },
  {
   "cell_type": "code",
   "execution_count": 445,
   "metadata": {},
   "outputs": [],
   "source": [
    "# test simple cphfitter from lifelines\n",
    "\n",
    "# implement actual cox-weibull from \"scratch\"?"
   ]
  },
  {
   "cell_type": "raw",
   "metadata": {},
   "source": [
    "Mean Imputation:\n",
    "--------------------\n",
    "AUC = 0.6975819347308856\n",
    "[[30682  6691]\n",
    " [  380   271]]\n",
    "PPV/Precision = 0.0389255960930767\n",
    "TPR/Sensitivity/Recall = 0.4162826420890937\n",
    "TNR/Specificity = 0.820967008268001"
   ]
  },
  {
   "cell_type": "raw",
   "metadata": {},
   "source": [
    "Forward Imputation:\n",
    "--------------------\n",
    "AUC = 0.6725981960102807\n",
    "[[30171  7331]\n",
    " [  259   222]]\n",
    "PPV/Precision = 0.029392294452535415\n",
    "TPR/Sensitivity/Recall = 0.46153846153846156\n",
    "TNR/Specificity = 0.8045170924217375"
   ]
  }
 ],
 "metadata": {
  "kernelspec": {
   "display_name": "Python 3",
   "language": "python",
   "name": "python3"
  },
  "language_info": {
   "codemirror_mode": {
    "name": "ipython",
    "version": 3
   },
   "file_extension": ".py",
   "mimetype": "text/x-python",
   "name": "python",
   "nbconvert_exporter": "python",
   "pygments_lexer": "ipython3",
   "version": "3.7.1"
  }
 },
 "nbformat": 4,
 "nbformat_minor": 2
}
